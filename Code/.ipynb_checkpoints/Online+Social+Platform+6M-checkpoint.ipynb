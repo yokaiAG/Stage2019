{
 "cells": [
  {
   "cell_type": "markdown",
   "metadata": {},
   "source": [
    "# Online Social Platform"
   ]
  },
  {
   "cell_type": "markdown",
   "metadata": {},
   "source": [
    "### November 2018 - Update for large Data Sets"
   ]
  },
  {
   "cell_type": "markdown",
   "metadata": {},
   "source": [
    "### Code related to the INFOCOM submission: \"Performance Analysis of Online Social Platforms\""
   ]
  },
  {
   "cell_type": "markdown",
   "metadata": {},
   "source": [
    "We analyse the influence of users in a generic online social platform. \n",
    "\n",
    "In such platform, there are $N$ users in total. Each user $n$ is considered as a virtual node and has a Newsfeed and a Wall. Suppose the Newsfeed of size $M$ and the Wall of size $K$. Furthermore, each user has a set of leaders, $L^{(n)}$, and he/she can be the leader of others. The Newsfeed of $n$ is refreshed instantaneously with posts published on the Walls of his Leaders. The user visits his Newsfeed and chooses among the currently available posts to re-post on his own Wall with rate $\\mu^{(n)}\\geq 0$ [posts/unit-time]. Additionally, he produces own posts on his Wall with rate $\\lambda^{(n)}\\geq 0$. These posts are marked on their production by the user-author index $(n)$."
   ]
  },
  {
   "cell_type": "markdown",
   "metadata": {},
   "source": [
    "**Assumptions:** The choice of which post to share on one's Wall and which post to evict when a new post arrives is uniformly random, among the present posts on the Wall and the Newsfeed. Also, both post-feed processes per user are assumed Poisson."
   ]
  },
  {
   "cell_type": "markdown",
   "metadata": {},
   "source": [
    "Consider a particular user $i$. The steady-state probability to find posts from user $i$ on the Newsfeed and Wall of user $n$ is the tuple $(p_i^{(n)},q_i^{(n)})$. With this, we form the steady state column-vectors\n",
    "\n",
    "$Pvec(i):=(Pvec(1,i),\\ldots,Pvec(N,i))=(p_i^{(1)},\\ldots,p_i^{(n)})$, and\n",
    "\n",
    "$Qvec(i):=(Qvec(1,i),\\ldots,Qvec(N,i))=(q_i^{(1)},\\ldots,q_i^{(n)})$.\n",
    "\n",
    "These are the steady-state vectors for posts of origin $(i)$ on all the Newsfeeds and Walls of users. "
   ]
  },
  {
   "cell_type": "markdown",
   "metadata": {},
   "source": [
    "### Linear System solution"
   ]
  },
  {
   "cell_type": "markdown",
   "metadata": {},
   "source": [
    "To find the values of the steady-state vectors $Pvec(i)$ and Qvec(i), one needs to solve the following linear system:\n",
    "\n",
    "    (1) Pvec(i) = A.Pvec(i) + b(i)\n",
    "\n",
    "    (2) Qvec(i) = C.Pvec(i) + d(i).\n",
    "\n",
    "In the above $A$, $C$ are $N\\times N$ matrices and $b(i)$, $d(i)$ are $N\\times 1$ column vectors."
   ]
  },
  {
   "cell_type": "markdown",
   "metadata": {
    "collapsed": true
   },
   "source": [
    "$A(j,k) = \\frac{\\mu^{(k)}}{\\sum_{\\ell\\in L^{(j)}}\\lambda^{(\\ell)}+\\mu^{(\\ell)}}\\mathbf{1}(k\\in L^{(j)})$,\n",
    "\n",
    "$b(j,i) = \\frac{\\lambda^{(i)}}{\\sum_{\\ell\\in L^{(j)}}\\lambda^{(\\ell)}+\\mu^{(\\ell)}}\\mathbf{1}(i\\in L^{(j)})$,\n",
    "\n",
    "$C(j,i) = \\frac{\\mu^{(j)}}{\\lambda^{(j)}+\\mu^{(j)}}\\mathbf{1}(j==i)$,\n",
    "\n",
    "$d(j,i) = \\frac{\\lambda^{(i)}}{\\lambda^{(i)}+\\mu^{(i)}}\\mathbf{1}(j==i)$."
   ]
  },
  {
   "cell_type": "markdown",
   "metadata": {},
   "source": [
    "## Implementation"
   ]
  },
  {
   "cell_type": "code",
   "execution_count": 1,
   "metadata": {},
   "outputs": [
    {
     "name": "stdout",
     "output_type": "stream",
     "text": [
      "Populating the interactive namespace from numpy and matplotlib\n"
     ]
    }
   ],
   "source": [
    "%pylab inline\n",
    "import math\n",
    "import numpy as np"
   ]
  },
  {
   "cell_type": "markdown",
   "metadata": {},
   "source": [
    "## 1. Example Input Graphs"
   ]
  },
  {
   "cell_type": "markdown",
   "metadata": {},
   "source": [
    "### A. Ring Graph"
   ]
  },
  {
   "cell_type": "markdown",
   "metadata": {},
   "source": [
    "First we determine the symmetric ring graph. Each node follows $R$ users at his right and left, so that in total he has $2R$ leaders. Obviously, $2R<N$."
   ]
  },
  {
   "cell_type": "code",
   "execution_count": 2,
   "metadata": {},
   "outputs": [
    {
     "name": "stdout",
     "output_type": "stream",
     "text": [
      "Rvec1= [1 4 1 3 3 2 4 3 2] \n",
      "\n",
      "Rvec2= [1 1 1 1 1 1 1 1 1] \n",
      "\n",
      "Rvec3= [2 1 1 1 1 1 1 1 1] \n",
      "\n"
     ]
    }
   ],
   "source": [
    "# INPUT RADIUS\n",
    "# defines radius in ring for each user\n",
    "# Radius scenario 1: random with maximum 2R < N\n",
    "N = 9\n",
    "Rhigh = int(N/2)\n",
    "Rvec1 = np.random.randint(0,Rhigh+1,N)\n",
    "R = 1\n",
    "Rvec2 = R*np.ones(N)\n",
    "Rvec2 = Rvec2.astype(int)\n",
    "Rvec3 = list(Rvec2)\n",
    "Rvec3[0] = 2\n",
    "Rvec3 = np.asarray(Rvec3)\n",
    "Rvec3 = Rvec3.astype(int)\n",
    "#\n",
    "print(\"Rvec1=\",Rvec1,\"\\n\")\n",
    "print(\"Rvec2=\",Rvec2,\"\\n\")\n",
    "print(\"Rvec3=\",Rvec3,\"\\n\")"
   ]
  },
  {
   "cell_type": "code",
   "execution_count": 3,
   "metadata": {},
   "outputs": [],
   "source": [
    "def ring_graph(N, Rvec, lead=1, sym=1):\n",
    "    # Produces a list of Leaders, i.e. Lead[j] is the list of leaders for node j.\n",
    "    #\n",
    "    # Option lead =1: Vector Rvec is for leaders (Rvec[n] is the list of leaders for node n)\n",
    "    # Option lead =0: Vector Rvec is for followers (Rvec[n]) is the list of followers for node n)\n",
    "    #\n",
    "    # Option sym =1: case of symmetric leaders R right and R left of a user\n",
    "    # Option sym =0: non-symmetric leaders 2R at the right only.\n",
    "    #\n",
    "    Lead = list()\n",
    "    #\n",
    "    if lead==1 and sym==1:\n",
    "        for j in range(0,N):\n",
    "            f = list()\n",
    "            f.extend((j+(np.arange(Rvec[j])+1))%N)\n",
    "            f.extend((j-(np.arange(Rvec[j])+1))%N)\n",
    "            Lead.append(f)\n",
    "    elif lead==1 and sym==0:\n",
    "        for j in range(0,N):\n",
    "            f = list()\n",
    "            f.extend((j+(np.arange(Rvec[j])+1))%N)\n",
    "            Lead.append(f)\n",
    "    elif lead==0 and sym==1:\n",
    "        for j in range(0,N):\n",
    "            f = list()\n",
    "            Lead.append(f)\n",
    "        for j in range(0,N):\n",
    "            f = list()\n",
    "            f.extend((j+(np.arange(Rvec[j])+1))%N)\n",
    "            f.extend((j-(np.arange(Rvec[j])+1))%N)\n",
    "            for n in range(len(f)):\n",
    "                Lead[f[n]].append(j)\n",
    "    elif lead==0 and sym==0:\n",
    "        for j in range(0,N):\n",
    "            f = list()\n",
    "            Lead.append(f)\n",
    "        for j in range(0,N):\n",
    "            f = list()\n",
    "            f.extend((j+(np.arange(Rvec[j])+1))%N)\n",
    "            for n in range(len(f)):\n",
    "                Lead[f[n]].append(j)\n",
    "            \n",
    "    return Lead"
   ]
  },
  {
   "cell_type": "code",
   "execution_count": 4,
   "metadata": {},
   "outputs": [
    {
     "name": "stdout",
     "output_type": "stream",
     "text": [
      "[1 1 1 1 1 1 1 1 1]\n",
      "[[1, 8], [2, 0], [3, 1], [4, 2], [5, 3], [6, 4], [7, 5], [8, 6], [0, 7]]\n"
     ]
    }
   ],
   "source": [
    "LeadRing = ring_graph(N,Rvec2,lead=1,sym=1)\n",
    "print(Rvec2)\n",
    "print(LeadRing)"
   ]
  },
  {
   "cell_type": "markdown",
   "metadata": {},
   "source": [
    "We will now draw the produced directed Leader Graph."
   ]
  },
  {
   "cell_type": "code",
   "execution_count": 5,
   "metadata": {},
   "outputs": [
    {
     "data": {
      "image/png": "[encoded data removed]",
      "text/plain": [
       "<Figure size 432x288 with 1 Axes>"
      ]
     },
     "metadata": {
      "needs_background": "light"
     },
     "output_type": "display_data"
    }
   ],
   "source": [
    "import networkx as nx\n",
    "Gring=nx.DiGraph()\n",
    "for n in range(N):\n",
    "    ln = list()\n",
    "    ln = LeadRing[n]\n",
    "    for j in range(len(ln)):\n",
    "        Gring.add_edge(ln[j],n)\n",
    "        \n",
    "nx.draw_networkx(Gring,arrows=True,with_labels=True,node_size=600,node_color='r')"
   ]
  },
  {
   "cell_type": "markdown",
   "metadata": {},
   "source": [
    "### B. Grid Graph"
   ]
  },
  {
   "cell_type": "markdown",
   "metadata": {},
   "source": [
    "In the Grid graph, every node has 4 leaders, except the nodes on the 4 vertices of the Grid who have 2 leaders and the nodes on the edges who have 3.\n",
    "\n",
    "The size of the grid graph should be such that $\\sqrt{N}$ is a postive integer."
   ]
  },
  {
   "cell_type": "code",
   "execution_count": 6,
   "metadata": {},
   "outputs": [],
   "source": [
    "def grid_graph(N):\n",
    "    #\n",
    "    dim1 = math.sqrt(N)\n",
    "    #\n",
    "    # Check validity of Grid size\n",
    "    if np.abs(dim1-int(dim1))>0:\n",
    "        return print(\"not valid graph size N\\n\")\n",
    "    #\n",
    "    dim1 = int(dim1)\n",
    "    #\n",
    "    # If size is correct, then produce a list of Leaders.\n",
    "    # Nodes are indexed from top-left (\"0\") to bottom-right (\"N-1\")\n",
    "    # and in each row the indexing increased from left to right.\n",
    "    #\n",
    "    Lead = [list() for j in range(N)]\n",
    "    #\n",
    "    # Internal nodes with 4 leaders each.\n",
    "    for n in range(1,dim1-1):\n",
    "        for m in range(1,dim1-1):\n",
    "            indx = dim1*n+m\n",
    "            Lead[indx].extend([dim1*(n+1)+m, dim1*(n-1)+m, dim1*n+m+1, dim1*n+m-1 ])\n",
    "    # Four vertices with 2 leaders each.\n",
    "    Lead[0].extend([1, dim1])\n",
    "    Lead[dim1-1].extend([dim1-2,dim1*2-1])\n",
    "    Lead[dim1*(dim1-1)].extend([dim1*(dim1-1)+1,dim1*(dim1-2)])\n",
    "    Lead[N-1].extend([N-2,dim1*(dim1-1)-1])\n",
    "    # Remaining nodes on the four edges, not vertices.\n",
    "    # Top\n",
    "    for m in range(1,dim1-1):\n",
    "        Lead[m].extend([m-1,m+1,dim1+m])\n",
    "    # Bottom\n",
    "    for m in range(1,dim1-1):\n",
    "        Lead[dim1*(dim1-1)+m].extend([dim1*(dim1-1)+m-1,dim1*(dim1-1)+m+1,dim1*(dim1-2)+m])\n",
    "    # Left\n",
    "    for n in range(1,dim1-1):\n",
    "        Lead[dim1*n].extend([dim1*n+1,dim1*(n-1),dim1*(n+1)])\n",
    "    # Right\n",
    "    for n in range(1,dim1-1):\n",
    "        Lead[dim1*(n+1)-1].extend([dim1*(n+1)-2,dim1*(n)-1,dim1*(n+2)-1])\n",
    "\n",
    "    return Lead"
   ]
  },
  {
   "cell_type": "code",
   "execution_count": 7,
   "metadata": {},
   "outputs": [
    {
     "name": "stdout",
     "output_type": "stream",
     "text": [
      "[[1, 3], [0, 2, 4], [1, 5], [4, 0, 6], [7, 1, 5, 3], [4, 2, 8], [7, 3], [6, 8, 4], [7, 5]]\n"
     ]
    }
   ],
   "source": [
    "LeadGrid = grid_graph(N)\n",
    "print(LeadGrid)"
   ]
  },
  {
   "cell_type": "code",
   "execution_count": 8,
   "metadata": {},
   "outputs": [
    {
     "data": {
      "image/png": "[encoded data removed]",
      "text/plain": [
       "<Figure size 432x288 with 1 Axes>"
      ]
     },
     "metadata": {
      "needs_background": "light"
     },
     "output_type": "display_data"
    }
   ],
   "source": [
    "Ggrid=nx.DiGraph()\n",
    "for n in range(N):\n",
    "    ln = list()\n",
    "    ln = LeadGrid[n]\n",
    "    for j in range(len(ln)):\n",
    "        Ggrid.add_edge(ln[j],n)\n",
    "\n",
    "pos=nx.spring_layout(Ggrid,iterations=100)\n",
    "nx.draw_networkx(Ggrid,pos,arrows=True,with_labels=True,node_size=600,node_color='r')"
   ]
  },
  {
   "cell_type": "code",
   "execution_count": 9,
   "metadata": {},
   "outputs": [],
   "source": [
    "lam = 1.\n",
    "mu = 1\n",
    "Lvec2 = lam*np.ones(N, np.float64)\n",
    "Mvec2 = mu*np.ones(N, np.float64)\n",
    "lam1 = 10\n",
    "mu1 = 0.5\n",
    "Lvec3 = list(Lvec2)\n",
    "Mvec3 = list(Mvec2)\n",
    "Lvec3[0] = lam1\n",
    "Mvec3[0] = mu1\n",
    "Lvec3 = np.asarray(Lvec3)\n",
    "Mvec3 = np.asarray(Mvec3)"
   ]
  },
  {
   "cell_type": "code",
   "execution_count": 10,
   "metadata": {},
   "outputs": [
    {
     "name": "stdout",
     "output_type": "stream",
     "text": [
      "UserlistS {0: 0, 1: 1, 2: 2, 3: 3, 4: 4, 5: 5, 6: 6, 7: 7, 8: 8} \n",
      "\n",
      "LeadGraphS {0: {1, 3}, 1: {0, 2, 4}, 2: {1, 5}, 3: {0, 4, 6}, 4: {1, 3, 5, 7}, 5: {8, 2, 4}, 6: {3, 7}, 7: {8, 4, 6}, 8: {5, 7}} \n",
      "\n",
      "FollowGraphS {1: {0, 2, 4}, 3: {0, 4, 6}, 0: {1, 3}, 2: {1, 5}, 4: {1, 3, 5, 7}, 5: {8, 2, 4}, 6: {3, 7}, 7: {8, 4, 6}, 8: {5, 7}} \n",
      "\n",
      "RtweetS {0: 10.0, 1: 1.0, 2: 1.0, 3: 1.0, 4: 1.0, 5: 1.0, 6: 1.0, 7: 1.0, 8: 1.0} \n",
      "\n",
      "RrtweetS {0: 0.5, 1: 1.0, 2: 1.0, 3: 1.0, 4: 1.0, 5: 1.0, 6: 1.0, 7: 1.0, 8: 1.0} \n",
      "\n"
     ]
    }
   ],
   "source": [
    "LeadGraphS = {}\n",
    "FollowGraphS = {}\n",
    "RtweetS = {}\n",
    "RrtweetS = {}\n",
    "UserlistS = {}\n",
    "NS = 9\n",
    "for j in range(NS):\n",
    "    RtweetS[j] = Lvec3[j]\n",
    "    RrtweetS[j] = Mvec3[j]\n",
    "    LeadGraphS[j] = set(LeadGrid[j])\n",
    "    UserlistS[j] = j\n",
    "for j in LeadGraphS:\n",
    "    for i in LeadGraphS[j]:\n",
    "        if i not in FollowGraphS:\n",
    "            FollowGraphS[i] = set()\n",
    "        FollowGraphS[i].add(j)\n",
    "#\n",
    "print(\"UserlistS\",UserlistS,'\\n')\n",
    "print(\"LeadGraphS\", LeadGraphS,'\\n')\n",
    "print(\"FollowGraphS\", FollowGraphS,'\\n')\n",
    "print(\"RtweetS\", RtweetS,'\\n')\n",
    "print(\"RrtweetS\", RrtweetS,'\\n')"
   ]
  },
  {
   "cell_type": "markdown",
   "metadata": {},
   "source": [
    "### Emulator Input"
   ]
  },
  {
   "cell_type": "markdown",
   "metadata": {},
   "source": [
    "Extract Author List"
   ]
  },
  {
   "cell_type": "code",
   "execution_count": 11,
   "metadata": {},
   "outputs": [],
   "source": [
    "directory = \"../Datasets/test/\"\n",
    "f = open(directory+\"test_rtid_2.txt\")\n",
    "Author = {}\n",
    "for lign in f:\n",
    "    lign = lign.split()\n",
    "    tweetid = int(lign[0])\n",
    "    userid = int(lign[2])\n",
    "    Author[tweetid] = userid\n",
    "f.close()"
   ]
  },
  {
   "cell_type": "code",
   "execution_count": 12,
   "metadata": {},
   "outputs": [],
   "source": [
    "Ntweet = {}\n",
    "Nrtweet = {}\n",
    "LeadGraph = {}\n",
    "FollowGraph = {}\n",
    "FirstT = None\n",
    "LastT = None\n",
    "f = open(directory+\"test_rtid_2.txt\")\n",
    "for lign in f:\n",
    "    lign = lign.split()\n",
    "    tstamp = int(lign[1])\n",
    "    userid = int(lign[2])\n",
    "    rtid = int(lign[3])\n",
    "    if FirstT == None:\n",
    "        FirstT = tstamp\n",
    "    if userid not in Ntweet:\n",
    "        Ntweet[userid] = 0\n",
    "        Nrtweet[userid] = 0\n",
    "        LeadGraph[userid] = set()\n",
    "        \n",
    "    if rtid == -1:\n",
    "        Ntweet[userid] += 1\n",
    "    else: \n",
    "        Nrtweet[userid] += 1\n",
    "        if rtid in Author:\n",
    "            LeadGraph[userid].add(Author[rtid])\n",
    "            if Author[rtid] not in FollowGraph:\n",
    "                FollowGraph[Author[rtid]] = set()\n",
    "            FollowGraph[Author[rtid]].add(userid)\n",
    "LastT = tstamp\n",
    "f.close()\n",
    "#\n",
    "Rtweet = {}\n",
    "Rrtweet = {}\n",
    "for user in Ntweet:\n",
    "    Rtweet[user] = Ntweet[user]/(LastT-FirstT)\n",
    "    Rrtweet[user] = Nrtweet[user]/(LastT-FirstT)"
   ]
  },
  {
   "cell_type": "code",
   "execution_count": 13,
   "metadata": {},
   "outputs": [],
   "source": [
    "Rtweet = {}\n",
    "Rrtweet = {}\n",
    "for user in Ntweet:\n",
    "    Rtweet[user] = Ntweet[user]/(LastT-FirstT)\n",
    "    Rrtweet[user] = Nrtweet[user]/(LastT-FirstT)"
   ]
  },
  {
   "cell_type": "markdown",
   "metadata": {},
   "source": [
    "Map user to a list for Reference:"
   ]
  },
  {
   "cell_type": "code",
   "execution_count": 14,
   "metadata": {},
   "outputs": [],
   "source": [
    "Userlist = {}\n",
    "k=0\n",
    "for user in Rtweet:\n",
    "    Userlist[k] = user\n",
    "    k+=1"
   ]
  },
  {
   "cell_type": "code",
   "execution_count": 15,
   "metadata": {},
   "outputs": [
    {
     "ename": "KeyError",
     "evalue": "10010",
     "output_type": "error",
     "traceback": [
      "\u001b[1;31m---------------------------------------------------------------------------\u001b[0m",
      "\u001b[1;31mKeyError\u001b[0m                                  Traceback (most recent call last)",
      "\u001b[1;32m<ipython-input-15-c3b82b4d32a1>\u001b[0m in \u001b[0;36m<module>\u001b[1;34m\u001b[0m\n\u001b[1;32m----> 1\u001b[1;33m \u001b[0mprint\u001b[0m\u001b[1;33m(\u001b[0m\u001b[0mUserlist\u001b[0m\u001b[1;33m[\u001b[0m\u001b[1;36m10010\u001b[0m\u001b[1;33m]\u001b[0m\u001b[1;33m)\u001b[0m\u001b[1;33m\u001b[0m\u001b[1;33m\u001b[0m\u001b[0m\n\u001b[0m",
      "\u001b[1;31mKeyError\u001b[0m: 10010"
     ]
    }
   ],
   "source": [
    "print(Userlist[10010])"
   ]
  },
  {
   "cell_type": "code",
   "execution_count": null,
   "metadata": {},
   "outputs": [],
   "source": [
    "N = len(Userlist)\n",
    "print(N)"
   ]
  },
  {
   "cell_type": "code",
   "execution_count": 16,
   "metadata": {},
   "outputs": [
    {
     "ename": "KeyError",
     "evalue": "10010",
     "output_type": "error",
     "traceback": [
      "\u001b[1;31m---------------------------------------------------------------------------\u001b[0m",
      "\u001b[1;31mKeyError\u001b[0m                                  Traceback (most recent call last)",
      "\u001b[1;32m<ipython-input-16-1aa13f1def3f>\u001b[0m in \u001b[0;36m<module>\u001b[1;34m\u001b[0m\n\u001b[1;32m----> 1\u001b[1;33m \u001b[0mprint\u001b[0m\u001b[1;33m(\u001b[0m\u001b[0mLeadGraph\u001b[0m\u001b[1;33m[\u001b[0m\u001b[0mUserlist\u001b[0m\u001b[1;33m[\u001b[0m\u001b[1;36m10010\u001b[0m\u001b[1;33m]\u001b[0m\u001b[1;33m]\u001b[0m\u001b[1;33m)\u001b[0m\u001b[1;33m\u001b[0m\u001b[1;33m\u001b[0m\u001b[0m\n\u001b[0m",
      "\u001b[1;31mKeyError\u001b[0m: 10010"
     ]
    }
   ],
   "source": [
    "print(LeadGraph[Userlist[10010]])"
   ]
  },
  {
   "cell_type": "code",
   "execution_count": 17,
   "metadata": {},
   "outputs": [
    {
     "name": "stdout",
     "output_type": "stream",
     "text": [
      "0\n",
      "1\n",
      "2\n"
     ]
    },
    {
     "ename": "KeyError",
     "evalue": "3",
     "output_type": "error",
     "traceback": [
      "\u001b[1;31m---------------------------------------------------------------------------\u001b[0m",
      "\u001b[1;31mKeyError\u001b[0m                                  Traceback (most recent call last)",
      "\u001b[1;32m<ipython-input-17-5bac8ed9f6af>\u001b[0m in \u001b[0;36m<module>\u001b[1;34m\u001b[0m\n\u001b[0;32m      1\u001b[0m \u001b[1;32mfor\u001b[0m \u001b[0mk\u001b[0m \u001b[1;32min\u001b[0m \u001b[0mrange\u001b[0m\u001b[1;33m(\u001b[0m\u001b[1;36m10\u001b[0m\u001b[1;33m)\u001b[0m\u001b[1;33m:\u001b[0m\u001b[1;33m\u001b[0m\u001b[1;33m\u001b[0m\u001b[0m\n\u001b[1;32m----> 2\u001b[1;33m     \u001b[0mprint\u001b[0m\u001b[1;33m(\u001b[0m\u001b[0mUserlist\u001b[0m\u001b[1;33m[\u001b[0m\u001b[0mk\u001b[0m\u001b[1;33m]\u001b[0m\u001b[1;33m)\u001b[0m\u001b[1;33m\u001b[0m\u001b[1;33m\u001b[0m\u001b[0m\n\u001b[0m",
      "\u001b[1;31mKeyError\u001b[0m: 3"
     ]
    }
   ],
   "source": [
    "for k in range(10):\n",
    "    print(Userlist[k])"
   ]
  },
  {
   "cell_type": "code",
   "execution_count": 18,
   "metadata": {},
   "outputs": [
    {
     "ename": "KeyError",
     "evalue": "790",
     "output_type": "error",
     "traceback": [
      "\u001b[1;31m---------------------------------------------------------------------------\u001b[0m",
      "\u001b[1;31mKeyError\u001b[0m                                  Traceback (most recent call last)",
      "\u001b[1;32m<ipython-input-18-603e2d1b75e9>\u001b[0m in \u001b[0;36m<module>\u001b[1;34m\u001b[0m\n\u001b[1;32m----> 1\u001b[1;33m \u001b[0mprint\u001b[0m\u001b[1;33m(\u001b[0m\u001b[0mRtweet\u001b[0m\u001b[1;33m[\u001b[0m\u001b[1;36m790\u001b[0m\u001b[1;33m]\u001b[0m\u001b[1;33m)\u001b[0m\u001b[1;33m\u001b[0m\u001b[1;33m\u001b[0m\u001b[0m\n\u001b[0m\u001b[0;32m      2\u001b[0m \u001b[0mprint\u001b[0m\u001b[1;33m(\u001b[0m\u001b[0mRtweet\u001b[0m\u001b[1;33m[\u001b[0m\u001b[0mUserlist\u001b[0m\u001b[1;33m[\u001b[0m\u001b[1;36m1\u001b[0m\u001b[1;33m]\u001b[0m\u001b[1;33m]\u001b[0m\u001b[1;33m)\u001b[0m\u001b[1;33m\u001b[0m\u001b[1;33m\u001b[0m\u001b[0m\n\u001b[0;32m      3\u001b[0m \u001b[0mprint\u001b[0m\u001b[1;33m(\u001b[0m\u001b[0mUserlist\u001b[0m\u001b[1;33m[\u001b[0m\u001b[1;36m1\u001b[0m\u001b[1;33m]\u001b[0m\u001b[1;33m)\u001b[0m\u001b[1;33m\u001b[0m\u001b[1;33m\u001b[0m\u001b[0m\n",
      "\u001b[1;31mKeyError\u001b[0m: 790"
     ]
    }
   ],
   "source": [
    "print(Rtweet[790])\n",
    "print(Rtweet[Userlist[1]])\n",
    "print(Userlist[1])"
   ]
  },
  {
   "cell_type": "code",
   "execution_count": 19,
   "metadata": {},
   "outputs": [
    {
     "ename": "KeyError",
     "evalue": "10010",
     "output_type": "error",
     "traceback": [
      "\u001b[1;31m---------------------------------------------------------------------------\u001b[0m",
      "\u001b[1;31mKeyError\u001b[0m                                  Traceback (most recent call last)",
      "\u001b[1;32m<ipython-input-19-163597d6e86d>\u001b[0m in \u001b[0;36m<module>\u001b[1;34m\u001b[0m\n\u001b[1;32m----> 1\u001b[1;33m \u001b[0mprint\u001b[0m\u001b[1;33m(\u001b[0m\u001b[0mUserlist\u001b[0m\u001b[1;33m[\u001b[0m\u001b[1;36m10010\u001b[0m\u001b[1;33m]\u001b[0m\u001b[1;33m)\u001b[0m\u001b[1;33m\u001b[0m\u001b[1;33m\u001b[0m\u001b[0m\n\u001b[0m\u001b[0;32m      2\u001b[0m \u001b[0mprint\u001b[0m\u001b[1;33m(\u001b[0m\u001b[0mLeadGraph\u001b[0m\u001b[1;33m[\u001b[0m\u001b[0mUserlist\u001b[0m\u001b[1;33m[\u001b[0m\u001b[1;36m10010\u001b[0m\u001b[1;33m]\u001b[0m\u001b[1;33m]\u001b[0m\u001b[1;33m)\u001b[0m\u001b[1;33m\u001b[0m\u001b[1;33m\u001b[0m\u001b[0m\n\u001b[0;32m      3\u001b[0m \u001b[0mprint\u001b[0m\u001b[1;33m(\u001b[0m\u001b[0mUserlist\u001b[0m\u001b[1;33m[\u001b[0m\u001b[1;36m10010\u001b[0m\u001b[1;33m]\u001b[0m \u001b[1;32min\u001b[0m \u001b[0mFollowGraph\u001b[0m\u001b[1;33m[\u001b[0m\u001b[1;36m1280\u001b[0m\u001b[1;33m]\u001b[0m\u001b[1;33m)\u001b[0m\u001b[1;33m\u001b[0m\u001b[1;33m\u001b[0m\u001b[0m\n",
      "\u001b[1;31mKeyError\u001b[0m: 10010"
     ]
    }
   ],
   "source": [
    "print(Userlist[10010])\n",
    "print(LeadGraph[Userlist[10010]])\n",
    "print(Userlist[10010] in FollowGraph[1280])"
   ]
  },
  {
   "cell_type": "code",
   "execution_count": 20,
   "metadata": {},
   "outputs": [],
   "source": [
    "#FollowGraph[205]"
   ]
  },
  {
   "cell_type": "code",
   "execution_count": 21,
   "metadata": {},
   "outputs": [],
   "source": [
    "#FollowGraph[5234901]"
   ]
  },
  {
   "cell_type": "markdown",
   "metadata": {},
   "source": [
    "## 2. Performance evaluation"
   ]
  },
  {
   "cell_type": "markdown",
   "metadata": {},
   "source": [
    "From the Linear System solution, one realises that it is necessary to first populate the matrices $A$ and $C$, which are relevant for any solution process of the system. \n",
    "\n",
    "**Note** We will keep in memory Dictionaries, with Key the userid and value the list of positive matrix entries."
   ]
  },
  {
   "cell_type": "markdown",
   "metadata": {},
   "source": [
    "### Build matrix A in sparse format"
   ]
  },
  {
   "cell_type": "code",
   "execution_count": 22,
   "metadata": {},
   "outputs": [],
   "source": [
    "def som_sparse(Lvec,Mvec,Lead):\n",
    "    Som = {} \n",
    "    for user in Lvec:\n",
    "        Som[user] = 0\n",
    "        #if len(Lead[user])!=0:\n",
    "        for leader in Lead[user]:\n",
    "            Som[user]+=Lvec[leader]+Mvec[leader]\n",
    "    return Som"
   ]
  },
  {
   "cell_type": "code",
   "execution_count": 23,
   "metadata": {},
   "outputs": [],
   "source": [
    "SomS = som_sparse(RtweetS,RrtweetS,LeadGraphS)"
   ]
  },
  {
   "cell_type": "code",
   "execution_count": 24,
   "metadata": {},
   "outputs": [],
   "source": [
    "def fill_A_sparse(Lvec,Mvec,Lead,Som):\n",
    "    A = {}\n",
    "    # We consider that Lead[j] contains the set of leaders of node j.\n",
    "    #\n",
    "    for user in Lvec:\n",
    "        # A[user] = list()\n",
    "        A[user] = {}\n",
    "        #if len(Lead[user])!=0:\n",
    "        for leader in Lead[user]:\n",
    "            #A[user].append(Mvec[leader]/Som[user])\n",
    "            A[user][leader] = Mvec[leader]/Som[user]\n",
    "    return A"
   ]
  },
  {
   "cell_type": "code",
   "execution_count": 25,
   "metadata": {},
   "outputs": [],
   "source": [
    "AS = fill_A_sparse(RtweetS,RrtweetS,LeadGraphS,SomS)"
   ]
  },
  {
   "cell_type": "code",
   "execution_count": 26,
   "metadata": {},
   "outputs": [
    {
     "name": "stdout",
     "output_type": "stream",
     "text": [
      "0 {1: 0.25, 3: 0.25}\n",
      "1 {0: 0.034482758620689655, 2: 0.06896551724137931, 4: 0.06896551724137931}\n",
      "2 {1: 0.25, 5: 0.25}\n",
      "3 {0: 0.034482758620689655, 4: 0.06896551724137931, 6: 0.06896551724137931}\n",
      "4 {1: 0.125, 3: 0.125, 5: 0.125, 7: 0.125}\n",
      "5 {8: 0.16666666666666666, 2: 0.16666666666666666, 4: 0.16666666666666666}\n",
      "6 {3: 0.25, 7: 0.25}\n",
      "7 {8: 0.16666666666666666, 4: 0.16666666666666666, 6: 0.16666666666666666}\n",
      "8 {5: 0.25, 7: 0.25}\n"
     ]
    }
   ],
   "source": [
    "#for j in range(NS):\n",
    "#    k = UserlistS[j]\n",
    "#    print(k, AS[k], LeadGraphS[k])\n",
    "for user in RtweetS:\n",
    "    print(user, AS[user])"
   ]
  },
  {
   "cell_type": "code",
   "execution_count": 27,
   "metadata": {},
   "outputs": [],
   "source": [
    "def fill_A_trans_sparse(Lvec,Mvec,Lead,Som):\n",
    "    A_trans = {}\n",
    "    # A_trans is a dictionary. The keys are the columns of matrix form A. \n",
    "    # Each key shows the non-zero elements of A for this column.\n",
    "    # We consider that Lead[j] contains the set of leaders of node j.\n",
    "    #\n",
    "    for user in Lvec:\n",
    "        A_trans[user] = {}\n",
    "    for user in Lvec:\n",
    "        #if len(Lead[user])!=0:\n",
    "        for leader in Lead[user]:\n",
    "            #A[user].append(Mvec[leader]/Som[user])\n",
    "            A_trans[leader][user] = Mvec[leader]/Som[user]\n",
    "    return A_trans"
   ]
  },
  {
   "cell_type": "code",
   "execution_count": 28,
   "metadata": {},
   "outputs": [],
   "source": [
    "A_transS = fill_A_trans_sparse(RtweetS,RrtweetS,LeadGraphS,SomS)"
   ]
  },
  {
   "cell_type": "code",
   "execution_count": 29,
   "metadata": {},
   "outputs": [
    {
     "name": "stdout",
     "output_type": "stream",
     "text": [
      "0 {1: 0.034482758620689655, 3: 0.034482758620689655}\n",
      "1 {0: 0.25, 2: 0.25, 4: 0.125}\n",
      "2 {1: 0.06896551724137931, 5: 0.16666666666666666}\n",
      "3 {0: 0.25, 4: 0.125, 6: 0.25}\n",
      "4 {1: 0.06896551724137931, 3: 0.06896551724137931, 5: 0.16666666666666666, 7: 0.16666666666666666}\n",
      "5 {2: 0.25, 4: 0.125, 8: 0.25}\n",
      "6 {3: 0.06896551724137931, 7: 0.16666666666666666}\n",
      "7 {4: 0.125, 6: 0.25, 8: 0.25}\n",
      "8 {5: 0.16666666666666666, 7: 0.16666666666666666}\n"
     ]
    }
   ],
   "source": [
    "for user in RtweetS:\n",
    "    print(user, A_transS[user])"
   ]
  },
  {
   "cell_type": "markdown",
   "metadata": {},
   "source": [
    "### Build matrix C in sparse format"
   ]
  },
  {
   "cell_type": "code",
   "execution_count": 30,
   "metadata": {},
   "outputs": [],
   "source": [
    "def fill_C_sparse(Lvec,Mvec):\n",
    "    C = {}\n",
    "    for user in Lvec:\n",
    "        C[user] = 0\n",
    "        if Lvec[user]+Mvec[user]>0:\n",
    "            C[user] = Mvec[user]/(Lvec[user]+Mvec[user])\n",
    "    return C"
   ]
  },
  {
   "cell_type": "code",
   "execution_count": 31,
   "metadata": {},
   "outputs": [
    {
     "name": "stdout",
     "output_type": "stream",
     "text": [
      "{0: 0.047619047619047616, 1: 0.5, 2: 0.5, 3: 0.5, 4: 0.5, 5: 0.5, 6: 0.5, 7: 0.5, 8: 0.5}\n"
     ]
    }
   ],
   "source": [
    "CS = fill_C_sparse(RtweetS,RrtweetS)\n",
    "print(CS)"
   ]
  },
  {
   "cell_type": "code",
   "execution_count": 32,
   "metadata": {},
   "outputs": [
    {
     "name": "stdout",
     "output_type": "stream",
     "text": [
      "0 0.047619047619047616\n",
      "1 0.5\n",
      "2 0.5\n",
      "3 0.5\n",
      "4 0.5\n",
      "5 0.5\n",
      "6 0.5\n",
      "7 0.5\n",
      "8 0.5\n"
     ]
    }
   ],
   "source": [
    "for j in range(NS):\n",
    "    k = UserlistS[j]\n",
    "    print(k, CS[k])"
   ]
  },
  {
   "cell_type": "markdown",
   "metadata": {},
   "source": [
    "### Build vectors b and d in sparse format"
   ]
  },
  {
   "cell_type": "markdown",
   "metadata": {},
   "source": [
    "We continue by including the column vectors $b_i$ and $d_i$, for a specific label $i$."
   ]
  },
  {
   "cell_type": "code",
   "execution_count": 33,
   "metadata": {},
   "outputs": [],
   "source": [
    "def fill_bi_sparse(useri,Lvec,Som,Follow):\n",
    "    b = {}\n",
    "    for user in Lvec:\n",
    "        b[user] = 0\n",
    "    #    if useri in Lead[user]:\n",
    "    #        b[user] = Lvec[useri]/Som[user]\n",
    "    for user in Follow[useri]:\n",
    "        b[user] = Lvec[useri]/Som[user]\n",
    "    return b"
   ]
  },
  {
   "cell_type": "markdown",
   "metadata": {},
   "source": [
    "**Note:** maybe keep only values non-zero in bi."
   ]
  },
  {
   "cell_type": "code",
   "execution_count": 34,
   "metadata": {},
   "outputs": [
    {
     "name": "stdout",
     "output_type": "stream",
     "text": [
      "{0: 0, 1: 0.6896551724137931, 2: 0, 3: 0.6896551724137931, 4: 0, 5: 0, 6: 0, 7: 0, 8: 0}\n"
     ]
    }
   ],
   "source": [
    "biS = fill_bi_sparse(UserlistS[0],RtweetS,SomS,FollowGraphS)\n",
    "print(biS)"
   ]
  },
  {
   "cell_type": "code",
   "execution_count": 35,
   "metadata": {},
   "outputs": [
    {
     "name": "stdout",
     "output_type": "stream",
     "text": [
      "0 0\n",
      "1 0.6896551724137931\n",
      "2 0\n",
      "3 0.6896551724137931\n",
      "4 0\n",
      "5 0\n",
      "6 0\n",
      "7 0\n",
      "8 0\n"
     ]
    }
   ],
   "source": [
    "for user in RtweetS:\n",
    "    print(user, biS[user])"
   ]
  },
  {
   "cell_type": "code",
   "execution_count": 36,
   "metadata": {},
   "outputs": [],
   "source": [
    "def fill_bi_sparse_v2(useri,Lvec,Som,Follow):\n",
    "    b = {}\n",
    "    if useri not in Follow:\n",
    "        b[useri] = 0\n",
    "        return b\n",
    "    for user in Follow[useri]:\n",
    "        b[user] = Lvec[useri]/Som[user]\n",
    "    return b"
   ]
  },
  {
   "cell_type": "code",
   "execution_count": 37,
   "metadata": {},
   "outputs": [
    {
     "name": "stdout",
     "output_type": "stream",
     "text": [
      "{1: 0.6896551724137931, 3: 0.6896551724137931}\n"
     ]
    }
   ],
   "source": [
    "biS_v2 = fill_bi_sparse_v2(UserlistS[0],RtweetS,SomS,FollowGraphS)\n",
    "print(biS_v2)"
   ]
  },
  {
   "cell_type": "code",
   "execution_count": 38,
   "metadata": {},
   "outputs": [],
   "source": [
    "def fill_di_sparse(useri,Lvec,Mvec):\n",
    "    d = {}\n",
    "    for user in Lvec:\n",
    "        d[user]=0\n",
    "    d[useri] = Lvec[useri]/(Lvec[useri]+Mvec[useri])\n",
    "    return d"
   ]
  },
  {
   "cell_type": "markdown",
   "metadata": {},
   "source": [
    "**Note:** maybe keep only values non-zero in di."
   ]
  },
  {
   "cell_type": "code",
   "execution_count": 39,
   "metadata": {},
   "outputs": [],
   "source": [
    "diS = fill_di_sparse(UserlistS[0],RtweetS,RrtweetS)"
   ]
  },
  {
   "cell_type": "code",
   "execution_count": 40,
   "metadata": {},
   "outputs": [
    {
     "name": "stdout",
     "output_type": "stream",
     "text": [
      "0 0.9523809523809523\n",
      "1 0\n",
      "2 0\n",
      "3 0\n",
      "4 0\n",
      "5 0\n",
      "6 0\n",
      "7 0\n",
      "8 0\n"
     ]
    }
   ],
   "source": [
    "for user in RtweetS:\n",
    "    print(user, diS[user])"
   ]
  },
  {
   "cell_type": "code",
   "execution_count": 41,
   "metadata": {},
   "outputs": [],
   "source": [
    "def fill_di_sparse_v2(useri,Lvec,Mvec):\n",
    "    d = Lvec[useri]/(Lvec[useri]+Mvec[useri])\n",
    "    return d"
   ]
  },
  {
   "cell_type": "code",
   "execution_count": 42,
   "metadata": {},
   "outputs": [
    {
     "name": "stdout",
     "output_type": "stream",
     "text": [
      "0 0.9523809523809523\n"
     ]
    }
   ],
   "source": [
    "diS_v2 = fill_di_sparse_v2(UserlistS[0],RtweetS,RrtweetS)\n",
    "print(UserlistS[0], diS_v2)"
   ]
  },
  {
   "cell_type": "markdown",
   "metadata": {},
   "source": [
    "## Solution"
   ]
  },
  {
   "cell_type": "markdown",
   "metadata": {},
   "source": [
    "After defining all matrices $A$, $C$ and vectors $b_i$, $d_i$ per label $i$ we can write down the main routine to find the fixed point."
   ]
  },
  {
   "cell_type": "markdown",
   "metadata": {
    "collapsed": true
   },
   "source": [
    "** The method is based on the fixed point convergence**\n",
    "\n",
    "$p_i(t+1) = A.p_i(t) + b_i$, for $t\\rightarrow\\infty$.\n",
    "\n",
    "This should converge to $p_i$. Once it is found, the Wall steady-state can be calculated\n",
    "\n",
    "$q_i = C.p_i + d_i$.\n",
    "\n",
    "We first solve the fixed point for a specific label $i$."
   ]
  },
  {
   "cell_type": "code",
   "execution_count": 43,
   "metadata": {},
   "outputs": [],
   "source": [
    "def pi_method_sparse(N,useri,A,Lvec,Lead,Follow,Som,it = 1000, eps = .001):\n",
    "    # This method resolves the fixed-point.\n",
    "    #\n",
    "    bi = fill_bi_sparse(useri,Lvec,Som,Follow)\n",
    "    #\n",
    "    # Initialisation (the result should be independent)\n",
    "    #\n",
    "    p_new = {}\n",
    "    for user in Lvec:\n",
    "        p_new[user] = 1/N\n",
    "    #p_new = bi\n",
    "    p_old = {}\n",
    "    #\n",
    "    normdiff = 2*eps\n",
    "    #\n",
    "    t = 0\n",
    "    while (t<it) & (normdiff>eps):\n",
    "        normdiff = 0\n",
    "        #p_old = {}\n",
    "        #for user in Lvec:\n",
    "        #    p_old[user] = p_new[user]\n",
    "        p_old = p_new.copy()\n",
    "        p_new = {}\n",
    "        # Maybe one can search only the followers of i.\n",
    "        for user in Lvec:\n",
    "            p_new[user] = 0\n",
    "            # Maybe improve with dict of dicts for A.\n",
    "            #lista = list(Lead[user])\n",
    "            #for n in range(len(lista)):\n",
    "            for leader in Lead[user]:\n",
    "                p_new[user] += A[user][leader]*p_old[leader]\n",
    "            p_new[user]+=bi[user]\n",
    "            # Norm 1 criterion:\n",
    "            #normdiff += abs(p_old[user]-p_new[user])\n",
    "            # Norm INF criterion:\n",
    "            if abs(p_old[user]-p_new[user])>normdiff:\n",
    "                normdiff = abs(p_old[user]-p_new[user])\n",
    "        t += 1\n",
    "    #\n",
    "    #print(\"t=\",t,\"\\n\")\n",
    "    #print(\"diff_last=\",normdiff)\n",
    "    return p_new"
   ]
  },
  {
   "cell_type": "code",
   "execution_count": 44,
   "metadata": {},
   "outputs": [
    {
     "name": "stdout",
     "output_type": "stream",
     "text": [
      "{0: 0.36494123705630405, 1: 0.7298335343029272, 2: 0.20067533606339652, 3: 0.7298335343029272, 4: 0.20067533606339652, 5: 0.07262605063640137, 6: 0.20067533606339652, 7: 0.07262605063640137, 8: 0.03640943507048901}\n"
     ]
    }
   ],
   "source": [
    "pi_end = pi_method_sparse(NS,UserlistS[0],AS,RtweetS,LeadGraphS,FollowGraphS,SomS)\n",
    "print(pi_end)"
   ]
  },
  {
   "cell_type": "code",
   "execution_count": 45,
   "metadata": {},
   "outputs": [
    {
     "name": "stdout",
     "output_type": "stream",
     "text": [
      "2.60829585019564\n"
     ]
    }
   ],
   "source": [
    "sum1 = 0\n",
    "for user in RtweetS:\n",
    "    sum1 += pi_end[user]\n",
    "print(sum1)"
   ]
  },
  {
   "cell_type": "markdown",
   "metadata": {},
   "source": [
    "**Note:** V2 improves on the speed due to extra sparsity on bi_sparse_v2, and on the column/line multiplication."
   ]
  },
  {
   "cell_type": "code",
   "execution_count": 46,
   "metadata": {},
   "outputs": [],
   "source": [
    "def pi_method_sparse_v2(N,useri,A,A_trans,Lvec,Lead,Follow,Som,it = 1000, eps = .001):\n",
    "    # V2: This method resolves the fixed-point exploiting vector sparsity further.\n",
    "    #\n",
    "    bi = fill_bi_sparse_v2(useri,Lvec,Som,Follow)\n",
    "    #bi = {}\n",
    "    #bi[useri] =1\n",
    "    #\n",
    "    # Initialisation (the result should be independent)\n",
    "    #\n",
    "    p_new = bi\n",
    "    p_old = {}\n",
    "    #\n",
    "    normdiff = 2*eps\n",
    "    #\n",
    "    t = 0\n",
    "    while (t<it) & (normdiff>eps):\n",
    "        normdiff = 0\n",
    "        p_old = p_new.copy()\n",
    "        p_new = {}\n",
    "        # We search the lines of A which contain non-zero entries coinciding with the non-zero\n",
    "        # entries of p_old.\n",
    "        mlines = set()\n",
    "        for key in p_old:\n",
    "            mlines = mlines.union(set(A_trans[key].keys()))\n",
    "        #print(\"p_old\",p_old)\n",
    "        mlines = mlines.union(set(bi.keys()))\n",
    "        #print(\"mlines\",mlines)\n",
    "        for user in mlines:\n",
    "            p_new[user] = 0\n",
    "            for leader in Lead[user].intersection(p_old.keys()):\n",
    "                p_new[user] += A[user][leader]*p_old[leader]\n",
    "            if user in bi.keys():\n",
    "                p_new[user]+=bi[user]\n",
    "            # Norm 1 criterion:\n",
    "            #normdiff += abs(p_old[user]-p_new[user])\n",
    "            # Norm INF criterion:\n",
    "            if user in p_old.keys():\n",
    "                if abs(p_old[user]-p_new[user])>normdiff:\n",
    "                    normdiff = abs(p_old[user]-p_new[user])\n",
    "            else:\n",
    "                if abs(0-p_new[user])>normdiff:\n",
    "                    normdiff = abs(0-p_new[user])\n",
    "        t += 1\n",
    "        #print(\"p_new\",p_new)\n",
    "    #\n",
    "    print(\"t=\",t,\"\\n\")\n",
    "    #print(\"diff_last=\",normdiff,\"\\n\")\n",
    "    return p_new"
   ]
  },
  {
   "cell_type": "code",
   "execution_count": 47,
   "metadata": {},
   "outputs": [
    {
     "name": "stdout",
     "output_type": "stream",
     "text": [
      "t= 8 \n",
      "\n",
      "{0: 0.3648922972466232, 1: 0.7299003490645413, 2: 0.2005544564062678, 3: 0.7299003490645413, 4: 0.2005544564062678, 5: 0.07288758806307466, 6: 0.2005544564062678, 7: 0.07288758806307466, 8: 0.03621661556591238}\n"
     ]
    }
   ],
   "source": [
    "pi_end_v2 = pi_method_sparse_v2(NS,UserlistS[0],AS,A_transS,RtweetS,LeadGraphS,FollowGraphS,SomS)\n",
    "print(pi_end_v2)"
   ]
  },
  {
   "cell_type": "code",
   "execution_count": 48,
   "metadata": {},
   "outputs": [
    {
     "name": "stdout",
     "output_type": "stream",
     "text": [
      "2.6083481562865716\n"
     ]
    }
   ],
   "source": [
    "sum2 = 0\n",
    "for user in RtweetS:\n",
    "    sum2 += pi_end_v2[user]\n",
    "print(sum2)"
   ]
  },
  {
   "cell_type": "code",
   "execution_count": 49,
   "metadata": {},
   "outputs": [],
   "source": [
    "def solution_sparse(N,A,C,Lvec,Mvec,Lead,Follow,Som,it = 1000, eps = .001):\n",
    "    # The fixed point solution is slow because the fixed point needs to be \n",
    "    # calculated for each label i separately.\n",
    "    #\n",
    "    # Newsfeed & Wall\n",
    "    pNews = {}\n",
    "    qWall = {}\n",
    "    # Influence metric\n",
    "    Psi = {}\n",
    "    for user in Lvec:\n",
    "        pNews[user] = pi_method_sparse(N,user,A,Lvec,Lead,Follow,Som)\n",
    "        #\n",
    "        di = fill_di_sparse(user,Lvec,Mvec)\n",
    "        qWall[user]={}\n",
    "        Psi[user] =0\n",
    "        for userj in Lvec:\n",
    "            qWall[user][userj] = C[userj]*pNews[user][userj]+di[userj]\n",
    "            Psi[user] += qWall[user][userj]\n",
    "        Psi[user] = (Psi[user]-qWall[user][user])/(N-1)\n",
    "    #\n",
    "    return (pNews,qWall,Psi)"
   ]
  },
  {
   "cell_type": "code",
   "execution_count": 50,
   "metadata": {},
   "outputs": [
    {
     "name": "stdout",
     "output_type": "stream",
     "text": [
      "{0: 0.1402096633212085, 1: 0.0384363815639262, 2: 0.023998693319975214, 3: 0.03843638156392622, 4: 0.05177527273580437, 5: 0.05588550097929458, 6: 0.023998693319975214, 7: 0.05588550097929458, 8: 0.035793759826952834}\n"
     ]
    }
   ],
   "source": [
    "(pNews,qWall,Psi) = solution_sparse(NS,AS,CS,RtweetS,RrtweetS,LeadGraphS,FollowGraphS,SomS)\n",
    "print(Psi)"
   ]
  },
  {
   "cell_type": "code",
   "execution_count": 51,
   "metadata": {},
   "outputs": [],
   "source": [
    "def solution_sparse_v2(N,A,A_trans,C,Lvec,Mvec,Lead,Follow,Som,it = 1000, eps = .001):\n",
    "    # The fixed point solution is slow because the fixed point needs to be \n",
    "    # calculated for each label i separately.\n",
    "    #\n",
    "    # Newsfeed & Wall\n",
    "    pNews = {}\n",
    "    qWall = {}\n",
    "    # Influence metric\n",
    "    Psi = {}\n",
    "    l=0\n",
    "    for user in Lvec:\n",
    "        print(l)\n",
    "        pNews[user] = pi_method_sparse_v2(N,user,A,A_trans,Lvec,Lead,Follow,Som)\n",
    "        #\n",
    "        di = fill_di_sparse_v2(user,Lvec,Mvec)\n",
    "        qWall[user]={}\n",
    "        Psi[user] =0\n",
    "        for userj in pNews[user]:\n",
    "            qWall[user][userj] = C[userj]*pNews[user][userj]\n",
    "            if userj==user:\n",
    "                qWall[user][userj]+=di\n",
    "            Psi[user] += qWall[user][userj]\n",
    "        if user not in pNews[user]:\n",
    "            qWall[user][user] = di\n",
    "            Psi[user] += qWall[user][user]\n",
    "        Psi[user] = (Psi[user]-qWall[user][user])/(N-1)\n",
    "        l+=1\n",
    "        if l == 1000:\n",
    "            return (pNews,qWall,Psi)\n",
    "    #\n",
    "    #return (pNews,qWall,Psi)"
   ]
  },
  {
   "cell_type": "code",
   "execution_count": 52,
   "metadata": {},
   "outputs": [
    {
     "name": "stdout",
     "output_type": "stream",
     "text": [
      "0\n",
      "t= 8 \n",
      "\n",
      "1\n",
      "t= 6 \n",
      "\n",
      "2\n",
      "t= 6 \n",
      "\n",
      "3\n",
      "t= 6 \n",
      "\n",
      "4\n",
      "t= 7 \n",
      "\n",
      "5\n",
      "t= 7 \n",
      "\n",
      "6\n",
      "t= 6 \n",
      "\n",
      "7\n",
      "t= 7 \n",
      "\n",
      "8\n",
      "t= 6 \n",
      "\n"
     ]
    },
    {
     "ename": "TypeError",
     "evalue": "cannot unpack non-iterable NoneType object",
     "output_type": "error",
     "traceback": [
      "\u001b[1;31m---------------------------------------------------------------------------\u001b[0m",
      "\u001b[1;31mTypeError\u001b[0m                                 Traceback (most recent call last)",
      "\u001b[1;32m<ipython-input-52-475f3efb731c>\u001b[0m in \u001b[0;36m<module>\u001b[1;34m\u001b[0m\n\u001b[1;32m----> 1\u001b[1;33m \u001b[1;33m(\u001b[0m\u001b[0mpNewsS_v2\u001b[0m\u001b[1;33m,\u001b[0m\u001b[0mqWallS_v2\u001b[0m\u001b[1;33m,\u001b[0m\u001b[0mPsiS_v2\u001b[0m\u001b[1;33m)\u001b[0m \u001b[1;33m=\u001b[0m \u001b[0msolution_sparse_v2\u001b[0m\u001b[1;33m(\u001b[0m\u001b[0mNS\u001b[0m\u001b[1;33m,\u001b[0m\u001b[0mAS\u001b[0m\u001b[1;33m,\u001b[0m\u001b[0mA_transS\u001b[0m\u001b[1;33m,\u001b[0m\u001b[0mCS\u001b[0m\u001b[1;33m,\u001b[0m\u001b[0mRtweetS\u001b[0m\u001b[1;33m,\u001b[0m\u001b[0mRrtweetS\u001b[0m\u001b[1;33m,\u001b[0m\u001b[0mLeadGraphS\u001b[0m\u001b[1;33m,\u001b[0m\u001b[0mFollowGraphS\u001b[0m\u001b[1;33m,\u001b[0m\u001b[0mSomS\u001b[0m\u001b[1;33m)\u001b[0m\u001b[1;33m\u001b[0m\u001b[1;33m\u001b[0m\u001b[0m\n\u001b[0m\u001b[0;32m      2\u001b[0m \u001b[0mprint\u001b[0m\u001b[1;33m(\u001b[0m\u001b[0mPsiS_v2\u001b[0m\u001b[1;33m)\u001b[0m\u001b[1;33m\u001b[0m\u001b[1;33m\u001b[0m\u001b[0m\n",
      "\u001b[1;31mTypeError\u001b[0m: cannot unpack non-iterable NoneType object"
     ]
    }
   ],
   "source": [
    "(pNewsS_v2,qWallS_v2,PsiS_v2) = solution_sparse_v2(NS,AS,A_transS,CS,RtweetS,RrtweetS,LeadGraphS,FollowGraphS,SomS)\n",
    "print(PsiS_v2)"
   ]
  },
  {
   "cell_type": "markdown",
   "metadata": {},
   "source": [
    "## Evaluation for big matrix"
   ]
  },
  {
   "cell_type": "code",
   "execution_count": 53,
   "metadata": {},
   "outputs": [
    {
     "name": "stdout",
     "output_type": "stream",
     "text": [
      "9\n"
     ]
    }
   ],
   "source": [
    "print(N)"
   ]
  },
  {
   "cell_type": "code",
   "execution_count": 54,
   "metadata": {},
   "outputs": [],
   "source": [
    "Som = som_sparse(Rtweet,Rrtweet,LeadGraph)\n",
    "A = fill_A_sparse(Rtweet,Rrtweet,LeadGraph,Som)\n",
    "A_trans = fill_A_trans_sparse(Rtweet,Rrtweet,LeadGraph,Som)\n",
    "C = fill_C_sparse(Rtweet,Rrtweet)"
   ]
  },
  {
   "cell_type": "code",
   "execution_count": 55,
   "metadata": {},
   "outputs": [
    {
     "ename": "KeyError",
     "evalue": "158410",
     "output_type": "error",
     "traceback": [
      "\u001b[1;31m---------------------------------------------------------------------------\u001b[0m",
      "\u001b[1;31mKeyError\u001b[0m                                  Traceback (most recent call last)",
      "\u001b[1;32m<ipython-input-55-9f71a09a3135>\u001b[0m in \u001b[0;36m<module>\u001b[1;34m\u001b[0m\n\u001b[1;32m----> 1\u001b[1;33m \u001b[0mpi_end\u001b[0m \u001b[1;33m=\u001b[0m \u001b[0mpi_method_sparse\u001b[0m\u001b[1;33m(\u001b[0m\u001b[0mN\u001b[0m\u001b[1;33m,\u001b[0m\u001b[1;36m158410\u001b[0m\u001b[1;33m,\u001b[0m\u001b[0mA\u001b[0m\u001b[1;33m,\u001b[0m\u001b[0mRtweet\u001b[0m\u001b[1;33m,\u001b[0m\u001b[0mLeadGraph\u001b[0m\u001b[1;33m,\u001b[0m\u001b[0mFollowGraph\u001b[0m\u001b[1;33m,\u001b[0m\u001b[0mSom\u001b[0m\u001b[1;33m,\u001b[0m\u001b[0mit\u001b[0m\u001b[1;33m=\u001b[0m\u001b[1;36m10\u001b[0m\u001b[1;33m,\u001b[0m\u001b[0meps\u001b[0m\u001b[1;33m=\u001b[0m\u001b[1;36m0.001\u001b[0m\u001b[1;33m)\u001b[0m\u001b[1;33m\u001b[0m\u001b[1;33m\u001b[0m\u001b[0m\n\u001b[0m",
      "\u001b[1;32m<ipython-input-43-8f833b78a7f3>\u001b[0m in \u001b[0;36mpi_method_sparse\u001b[1;34m(N, useri, A, Lvec, Lead, Follow, Som, it, eps)\u001b[0m\n\u001b[0;32m      2\u001b[0m     \u001b[1;31m# This method resolves the fixed-point.\u001b[0m\u001b[1;33m\u001b[0m\u001b[1;33m\u001b[0m\u001b[1;33m\u001b[0m\u001b[0m\n\u001b[0;32m      3\u001b[0m     \u001b[1;31m#\u001b[0m\u001b[1;33m\u001b[0m\u001b[1;33m\u001b[0m\u001b[1;33m\u001b[0m\u001b[0m\n\u001b[1;32m----> 4\u001b[1;33m     \u001b[0mbi\u001b[0m \u001b[1;33m=\u001b[0m \u001b[0mfill_bi_sparse\u001b[0m\u001b[1;33m(\u001b[0m\u001b[0museri\u001b[0m\u001b[1;33m,\u001b[0m\u001b[0mLvec\u001b[0m\u001b[1;33m,\u001b[0m\u001b[0mSom\u001b[0m\u001b[1;33m,\u001b[0m\u001b[0mFollow\u001b[0m\u001b[1;33m)\u001b[0m\u001b[1;33m\u001b[0m\u001b[1;33m\u001b[0m\u001b[0m\n\u001b[0m\u001b[0;32m      5\u001b[0m     \u001b[1;31m#\u001b[0m\u001b[1;33m\u001b[0m\u001b[1;33m\u001b[0m\u001b[1;33m\u001b[0m\u001b[0m\n\u001b[0;32m      6\u001b[0m     \u001b[1;31m# Initialisation (the result should be independent)\u001b[0m\u001b[1;33m\u001b[0m\u001b[1;33m\u001b[0m\u001b[1;33m\u001b[0m\u001b[0m\n",
      "\u001b[1;32m<ipython-input-33-26899aeea94b>\u001b[0m in \u001b[0;36mfill_bi_sparse\u001b[1;34m(useri, Lvec, Som, Follow)\u001b[0m\n\u001b[0;32m      5\u001b[0m     \u001b[1;31m#    if useri in Lead[user]:\u001b[0m\u001b[1;33m\u001b[0m\u001b[1;33m\u001b[0m\u001b[1;33m\u001b[0m\u001b[0m\n\u001b[0;32m      6\u001b[0m     \u001b[1;31m#        b[user] = Lvec[useri]/Som[user]\u001b[0m\u001b[1;33m\u001b[0m\u001b[1;33m\u001b[0m\u001b[1;33m\u001b[0m\u001b[0m\n\u001b[1;32m----> 7\u001b[1;33m     \u001b[1;32mfor\u001b[0m \u001b[0muser\u001b[0m \u001b[1;32min\u001b[0m \u001b[0mFollow\u001b[0m\u001b[1;33m[\u001b[0m\u001b[0museri\u001b[0m\u001b[1;33m]\u001b[0m\u001b[1;33m:\u001b[0m\u001b[1;33m\u001b[0m\u001b[1;33m\u001b[0m\u001b[0m\n\u001b[0m\u001b[0;32m      8\u001b[0m         \u001b[0mb\u001b[0m\u001b[1;33m[\u001b[0m\u001b[0muser\u001b[0m\u001b[1;33m]\u001b[0m \u001b[1;33m=\u001b[0m \u001b[0mLvec\u001b[0m\u001b[1;33m[\u001b[0m\u001b[0museri\u001b[0m\u001b[1;33m]\u001b[0m\u001b[1;33m/\u001b[0m\u001b[0mSom\u001b[0m\u001b[1;33m[\u001b[0m\u001b[0muser\u001b[0m\u001b[1;33m]\u001b[0m\u001b[1;33m\u001b[0m\u001b[1;33m\u001b[0m\u001b[0m\n\u001b[0;32m      9\u001b[0m     \u001b[1;32mreturn\u001b[0m \u001b[0mb\u001b[0m\u001b[1;33m\u001b[0m\u001b[1;33m\u001b[0m\u001b[0m\n",
      "\u001b[1;31mKeyError\u001b[0m: 158410"
     ]
    }
   ],
   "source": [
    "pi_end = pi_method_sparse(N,158410,A,Rtweet,LeadGraph,FollowGraph,Som,it=10,eps=0.001)"
   ]
  },
  {
   "cell_type": "code",
   "execution_count": 56,
   "metadata": {},
   "outputs": [
    {
     "name": "stdout",
     "output_type": "stream",
     "text": [
      "9\n"
     ]
    }
   ],
   "source": [
    "print(len(pi_end))"
   ]
  },
  {
   "cell_type": "code",
   "execution_count": 57,
   "metadata": {},
   "outputs": [
    {
     "ename": "KeyError",
     "evalue": "158410",
     "output_type": "error",
     "traceback": [
      "\u001b[1;31m---------------------------------------------------------------------------\u001b[0m",
      "\u001b[1;31mKeyError\u001b[0m                                  Traceback (most recent call last)",
      "\u001b[1;32m<ipython-input-57-302bc7f04b71>\u001b[0m in \u001b[0;36m<module>\u001b[1;34m\u001b[0m\n\u001b[1;32m----> 1\u001b[1;33m \u001b[0mpi_end_v2\u001b[0m \u001b[1;33m=\u001b[0m \u001b[0mpi_method_sparse_v2\u001b[0m\u001b[1;33m(\u001b[0m\u001b[0mN\u001b[0m\u001b[1;33m,\u001b[0m\u001b[1;36m158410\u001b[0m\u001b[1;33m,\u001b[0m\u001b[0mA\u001b[0m\u001b[1;33m,\u001b[0m\u001b[0mA_trans\u001b[0m\u001b[1;33m,\u001b[0m\u001b[0mRtweet\u001b[0m\u001b[1;33m,\u001b[0m\u001b[0mLeadGraph\u001b[0m\u001b[1;33m,\u001b[0m\u001b[0mFollowGraph\u001b[0m\u001b[1;33m,\u001b[0m\u001b[0mSom\u001b[0m\u001b[1;33m,\u001b[0m\u001b[0mit\u001b[0m\u001b[1;33m=\u001b[0m\u001b[1;36m10\u001b[0m\u001b[1;33m,\u001b[0m\u001b[0meps\u001b[0m\u001b[1;33m=\u001b[0m\u001b[1;36m0.001\u001b[0m\u001b[1;33m)\u001b[0m\u001b[1;33m\u001b[0m\u001b[1;33m\u001b[0m\u001b[0m\n\u001b[0m",
      "\u001b[1;32m<ipython-input-46-db0c44ac6d67>\u001b[0m in \u001b[0;36mpi_method_sparse_v2\u001b[1;34m(N, useri, A, A_trans, Lvec, Lead, Follow, Som, it, eps)\u001b[0m\n\u001b[0;32m     22\u001b[0m         \u001b[0mmlines\u001b[0m \u001b[1;33m=\u001b[0m \u001b[0mset\u001b[0m\u001b[1;33m(\u001b[0m\u001b[1;33m)\u001b[0m\u001b[1;33m\u001b[0m\u001b[1;33m\u001b[0m\u001b[0m\n\u001b[0;32m     23\u001b[0m         \u001b[1;32mfor\u001b[0m \u001b[0mkey\u001b[0m \u001b[1;32min\u001b[0m \u001b[0mp_old\u001b[0m\u001b[1;33m:\u001b[0m\u001b[1;33m\u001b[0m\u001b[1;33m\u001b[0m\u001b[0m\n\u001b[1;32m---> 24\u001b[1;33m             \u001b[0mmlines\u001b[0m \u001b[1;33m=\u001b[0m \u001b[0mmlines\u001b[0m\u001b[1;33m.\u001b[0m\u001b[0munion\u001b[0m\u001b[1;33m(\u001b[0m\u001b[0mset\u001b[0m\u001b[1;33m(\u001b[0m\u001b[0mA_trans\u001b[0m\u001b[1;33m[\u001b[0m\u001b[0mkey\u001b[0m\u001b[1;33m]\u001b[0m\u001b[1;33m.\u001b[0m\u001b[0mkeys\u001b[0m\u001b[1;33m(\u001b[0m\u001b[1;33m)\u001b[0m\u001b[1;33m)\u001b[0m\u001b[1;33m)\u001b[0m\u001b[1;33m\u001b[0m\u001b[1;33m\u001b[0m\u001b[0m\n\u001b[0m\u001b[0;32m     25\u001b[0m         \u001b[1;31m#print(\"p_old\",p_old)\u001b[0m\u001b[1;33m\u001b[0m\u001b[1;33m\u001b[0m\u001b[1;33m\u001b[0m\u001b[0m\n\u001b[0;32m     26\u001b[0m         \u001b[0mmlines\u001b[0m \u001b[1;33m=\u001b[0m \u001b[0mmlines\u001b[0m\u001b[1;33m.\u001b[0m\u001b[0munion\u001b[0m\u001b[1;33m(\u001b[0m\u001b[0mset\u001b[0m\u001b[1;33m(\u001b[0m\u001b[0mbi\u001b[0m\u001b[1;33m.\u001b[0m\u001b[0mkeys\u001b[0m\u001b[1;33m(\u001b[0m\u001b[1;33m)\u001b[0m\u001b[1;33m)\u001b[0m\u001b[1;33m)\u001b[0m\u001b[1;33m\u001b[0m\u001b[1;33m\u001b[0m\u001b[0m\n",
      "\u001b[1;31mKeyError\u001b[0m: 158410"
     ]
    }
   ],
   "source": [
    "pi_end_v2 = pi_method_sparse_v2(N,158410,A,A_trans,Rtweet,LeadGraph,FollowGraph,Som,it=10,eps=0.001)"
   ]
  },
  {
   "cell_type": "code",
   "execution_count": 58,
   "metadata": {},
   "outputs": [
    {
     "name": "stdout",
     "output_type": "stream",
     "text": [
      "9\n"
     ]
    }
   ],
   "source": [
    "print(len(pi_end_v2))"
   ]
  },
  {
   "cell_type": "markdown",
   "metadata": {},
   "source": [
    "**Individual influence calculation**"
   ]
  },
  {
   "cell_type": "code",
   "execution_count": 59,
   "metadata": {},
   "outputs": [],
   "source": [
    "def user_influence(user,N,A,C,Lvec,Mvec,Lead,Follow,Som,it = 100, eps = .001):\n",
    "    #\n",
    "    pNews = pi_method_sparse(N,user,A,Lvec,Lead,Follow,Som,it,eps)\n",
    "    #\n",
    "    di = fill_di_sparse(user,Lvec,Mvec)\n",
    "    qWall={}\n",
    "    PsiU =0\n",
    "    for userj in Lvec:\n",
    "        qWall[userj] = C[userj]*pNews[userj]+di[userj]\n",
    "        PsiU += qWall[userj]\n",
    "    PsiU = (PsiU-qWall[user])/(N-1)\n",
    "\n",
    "    return (qWall,PsiU)"
   ]
  },
  {
   "cell_type": "code",
   "execution_count": 60,
   "metadata": {},
   "outputs": [
    {
     "ename": "KeyError",
     "evalue": "158410",
     "output_type": "error",
     "traceback": [
      "\u001b[1;31m---------------------------------------------------------------------------\u001b[0m",
      "\u001b[1;31mKeyError\u001b[0m                                  Traceback (most recent call last)",
      "\u001b[1;32m<ipython-input-60-2aee74e6a0bd>\u001b[0m in \u001b[0;36m<module>\u001b[1;34m\u001b[0m\n\u001b[1;32m----> 1\u001b[1;33m \u001b[1;33m(\u001b[0m\u001b[0mInflu0\u001b[0m\u001b[1;33m,\u001b[0m\u001b[0mPsiU\u001b[0m\u001b[1;33m)\u001b[0m \u001b[1;33m=\u001b[0m \u001b[0muser_influence\u001b[0m\u001b[1;33m(\u001b[0m\u001b[1;36m158410\u001b[0m\u001b[1;33m,\u001b[0m\u001b[0mN\u001b[0m\u001b[1;33m,\u001b[0m\u001b[0mA\u001b[0m\u001b[1;33m,\u001b[0m\u001b[0mC\u001b[0m\u001b[1;33m,\u001b[0m\u001b[0mRtweet\u001b[0m\u001b[1;33m,\u001b[0m\u001b[0mRrtweet\u001b[0m\u001b[1;33m,\u001b[0m\u001b[0mLeadGraph\u001b[0m\u001b[1;33m,\u001b[0m\u001b[0mFollowGraph\u001b[0m\u001b[1;33m,\u001b[0m\u001b[0mSom\u001b[0m\u001b[1;33m,\u001b[0m\u001b[0mit\u001b[0m \u001b[1;33m=\u001b[0m \u001b[1;36m10\u001b[0m\u001b[1;33m,\u001b[0m \u001b[0meps\u001b[0m \u001b[1;33m=\u001b[0m \u001b[1;36m.001\u001b[0m\u001b[1;33m)\u001b[0m\u001b[1;33m\u001b[0m\u001b[1;33m\u001b[0m\u001b[0m\n\u001b[0m\u001b[0;32m      2\u001b[0m \u001b[0mprint\u001b[0m\u001b[1;33m(\u001b[0m\u001b[0mPsiU\u001b[0m\u001b[1;33m)\u001b[0m\u001b[1;33m\u001b[0m\u001b[1;33m\u001b[0m\u001b[0m\n",
      "\u001b[1;32m<ipython-input-59-973effa9ffc3>\u001b[0m in \u001b[0;36muser_influence\u001b[1;34m(user, N, A, C, Lvec, Mvec, Lead, Follow, Som, it, eps)\u001b[0m\n\u001b[0;32m      1\u001b[0m \u001b[1;32mdef\u001b[0m \u001b[0muser_influence\u001b[0m\u001b[1;33m(\u001b[0m\u001b[0muser\u001b[0m\u001b[1;33m,\u001b[0m\u001b[0mN\u001b[0m\u001b[1;33m,\u001b[0m\u001b[0mA\u001b[0m\u001b[1;33m,\u001b[0m\u001b[0mC\u001b[0m\u001b[1;33m,\u001b[0m\u001b[0mLvec\u001b[0m\u001b[1;33m,\u001b[0m\u001b[0mMvec\u001b[0m\u001b[1;33m,\u001b[0m\u001b[0mLead\u001b[0m\u001b[1;33m,\u001b[0m\u001b[0mFollow\u001b[0m\u001b[1;33m,\u001b[0m\u001b[0mSom\u001b[0m\u001b[1;33m,\u001b[0m\u001b[0mit\u001b[0m \u001b[1;33m=\u001b[0m \u001b[1;36m100\u001b[0m\u001b[1;33m,\u001b[0m \u001b[0meps\u001b[0m \u001b[1;33m=\u001b[0m \u001b[1;36m.001\u001b[0m\u001b[1;33m)\u001b[0m\u001b[1;33m:\u001b[0m\u001b[1;33m\u001b[0m\u001b[1;33m\u001b[0m\u001b[0m\n\u001b[0;32m      2\u001b[0m     \u001b[1;31m#\u001b[0m\u001b[1;33m\u001b[0m\u001b[1;33m\u001b[0m\u001b[1;33m\u001b[0m\u001b[0m\n\u001b[1;32m----> 3\u001b[1;33m     \u001b[0mpNews\u001b[0m \u001b[1;33m=\u001b[0m \u001b[0mpi_method_sparse\u001b[0m\u001b[1;33m(\u001b[0m\u001b[0mN\u001b[0m\u001b[1;33m,\u001b[0m\u001b[0muser\u001b[0m\u001b[1;33m,\u001b[0m\u001b[0mA\u001b[0m\u001b[1;33m,\u001b[0m\u001b[0mLvec\u001b[0m\u001b[1;33m,\u001b[0m\u001b[0mLead\u001b[0m\u001b[1;33m,\u001b[0m\u001b[0mFollow\u001b[0m\u001b[1;33m,\u001b[0m\u001b[0mSom\u001b[0m\u001b[1;33m,\u001b[0m\u001b[0mit\u001b[0m\u001b[1;33m,\u001b[0m\u001b[0meps\u001b[0m\u001b[1;33m)\u001b[0m\u001b[1;33m\u001b[0m\u001b[1;33m\u001b[0m\u001b[0m\n\u001b[0m\u001b[0;32m      4\u001b[0m     \u001b[1;31m#\u001b[0m\u001b[1;33m\u001b[0m\u001b[1;33m\u001b[0m\u001b[1;33m\u001b[0m\u001b[0m\n\u001b[0;32m      5\u001b[0m     \u001b[0mdi\u001b[0m \u001b[1;33m=\u001b[0m \u001b[0mfill_di_sparse\u001b[0m\u001b[1;33m(\u001b[0m\u001b[0muser\u001b[0m\u001b[1;33m,\u001b[0m\u001b[0mLvec\u001b[0m\u001b[1;33m,\u001b[0m\u001b[0mMvec\u001b[0m\u001b[1;33m)\u001b[0m\u001b[1;33m\u001b[0m\u001b[1;33m\u001b[0m\u001b[0m\n",
      "\u001b[1;32m<ipython-input-43-8f833b78a7f3>\u001b[0m in \u001b[0;36mpi_method_sparse\u001b[1;34m(N, useri, A, Lvec, Lead, Follow, Som, it, eps)\u001b[0m\n\u001b[0;32m      2\u001b[0m     \u001b[1;31m# This method resolves the fixed-point.\u001b[0m\u001b[1;33m\u001b[0m\u001b[1;33m\u001b[0m\u001b[1;33m\u001b[0m\u001b[0m\n\u001b[0;32m      3\u001b[0m     \u001b[1;31m#\u001b[0m\u001b[1;33m\u001b[0m\u001b[1;33m\u001b[0m\u001b[1;33m\u001b[0m\u001b[0m\n\u001b[1;32m----> 4\u001b[1;33m     \u001b[0mbi\u001b[0m \u001b[1;33m=\u001b[0m \u001b[0mfill_bi_sparse\u001b[0m\u001b[1;33m(\u001b[0m\u001b[0museri\u001b[0m\u001b[1;33m,\u001b[0m\u001b[0mLvec\u001b[0m\u001b[1;33m,\u001b[0m\u001b[0mSom\u001b[0m\u001b[1;33m,\u001b[0m\u001b[0mFollow\u001b[0m\u001b[1;33m)\u001b[0m\u001b[1;33m\u001b[0m\u001b[1;33m\u001b[0m\u001b[0m\n\u001b[0m\u001b[0;32m      5\u001b[0m     \u001b[1;31m#\u001b[0m\u001b[1;33m\u001b[0m\u001b[1;33m\u001b[0m\u001b[1;33m\u001b[0m\u001b[0m\n\u001b[0;32m      6\u001b[0m     \u001b[1;31m# Initialisation (the result should be independent)\u001b[0m\u001b[1;33m\u001b[0m\u001b[1;33m\u001b[0m\u001b[1;33m\u001b[0m\u001b[0m\n",
      "\u001b[1;32m<ipython-input-33-26899aeea94b>\u001b[0m in \u001b[0;36mfill_bi_sparse\u001b[1;34m(useri, Lvec, Som, Follow)\u001b[0m\n\u001b[0;32m      5\u001b[0m     \u001b[1;31m#    if useri in Lead[user]:\u001b[0m\u001b[1;33m\u001b[0m\u001b[1;33m\u001b[0m\u001b[1;33m\u001b[0m\u001b[0m\n\u001b[0;32m      6\u001b[0m     \u001b[1;31m#        b[user] = Lvec[useri]/Som[user]\u001b[0m\u001b[1;33m\u001b[0m\u001b[1;33m\u001b[0m\u001b[1;33m\u001b[0m\u001b[0m\n\u001b[1;32m----> 7\u001b[1;33m     \u001b[1;32mfor\u001b[0m \u001b[0muser\u001b[0m \u001b[1;32min\u001b[0m \u001b[0mFollow\u001b[0m\u001b[1;33m[\u001b[0m\u001b[0museri\u001b[0m\u001b[1;33m]\u001b[0m\u001b[1;33m:\u001b[0m\u001b[1;33m\u001b[0m\u001b[1;33m\u001b[0m\u001b[0m\n\u001b[0m\u001b[0;32m      8\u001b[0m         \u001b[0mb\u001b[0m\u001b[1;33m[\u001b[0m\u001b[0muser\u001b[0m\u001b[1;33m]\u001b[0m \u001b[1;33m=\u001b[0m \u001b[0mLvec\u001b[0m\u001b[1;33m[\u001b[0m\u001b[0museri\u001b[0m\u001b[1;33m]\u001b[0m\u001b[1;33m/\u001b[0m\u001b[0mSom\u001b[0m\u001b[1;33m[\u001b[0m\u001b[0muser\u001b[0m\u001b[1;33m]\u001b[0m\u001b[1;33m\u001b[0m\u001b[1;33m\u001b[0m\u001b[0m\n\u001b[0;32m      9\u001b[0m     \u001b[1;32mreturn\u001b[0m \u001b[0mb\u001b[0m\u001b[1;33m\u001b[0m\u001b[1;33m\u001b[0m\u001b[0m\n",
      "\u001b[1;31mKeyError\u001b[0m: 158410"
     ]
    }
   ],
   "source": [
    "(Influ0,PsiU) = user_influence(158410,N,A,C,Rtweet,Rrtweet,LeadGraph,FollowGraph,Som,it = 10, eps = .001)\n",
    "print(PsiU)"
   ]
  },
  {
   "cell_type": "code",
   "execution_count": 61,
   "metadata": {},
   "outputs": [
    {
     "ename": "NameError",
     "evalue": "name 'Influ0' is not defined",
     "output_type": "error",
     "traceback": [
      "\u001b[1;31m---------------------------------------------------------------------------\u001b[0m",
      "\u001b[1;31mNameError\u001b[0m                                 Traceback (most recent call last)",
      "\u001b[1;32m<ipython-input-61-64917a41d0f6>\u001b[0m in \u001b[0;36m<module>\u001b[1;34m\u001b[0m\n\u001b[1;32m----> 1\u001b[1;33m \u001b[0mprint\u001b[0m\u001b[1;33m(\u001b[0m\u001b[0mInflu0\u001b[0m\u001b[1;33m[\u001b[0m\u001b[1;36m17700\u001b[0m\u001b[1;33m]\u001b[0m\u001b[1;33m)\u001b[0m\u001b[1;33m\u001b[0m\u001b[1;33m\u001b[0m\u001b[0m\n\u001b[0m\u001b[0;32m      2\u001b[0m \u001b[0mprint\u001b[0m\u001b[1;33m(\u001b[0m\u001b[0mInflu0\u001b[0m\u001b[1;33m[\u001b[0m\u001b[1;36m158410\u001b[0m\u001b[1;33m]\u001b[0m\u001b[1;33m)\u001b[0m\u001b[1;33m\u001b[0m\u001b[1;33m\u001b[0m\u001b[0m\n\u001b[0;32m      3\u001b[0m \u001b[0mprint\u001b[0m\u001b[1;33m(\u001b[0m\u001b[0mInflu0\u001b[0m\u001b[1;33m[\u001b[0m\u001b[1;36m172286\u001b[0m\u001b[1;33m]\u001b[0m\u001b[1;33m)\u001b[0m\u001b[1;33m\u001b[0m\u001b[1;33m\u001b[0m\u001b[0m\n\u001b[0;32m      4\u001b[0m \u001b[0mprint\u001b[0m\u001b[1;33m(\u001b[0m\u001b[0mInflu0\u001b[0m\u001b[1;33m[\u001b[0m\u001b[1;36m444382\u001b[0m\u001b[1;33m]\u001b[0m\u001b[1;33m)\u001b[0m\u001b[1;33m\u001b[0m\u001b[1;33m\u001b[0m\u001b[0m\n\u001b[0;32m      5\u001b[0m \u001b[0mprint\u001b[0m\u001b[1;33m(\u001b[0m\u001b[0mInflu0\u001b[0m\u001b[1;33m[\u001b[0m\u001b[1;36m1876907\u001b[0m\u001b[1;33m]\u001b[0m\u001b[1;33m)\u001b[0m\u001b[1;33m\u001b[0m\u001b[1;33m\u001b[0m\u001b[0m\n",
      "\u001b[1;31mNameError\u001b[0m: name 'Influ0' is not defined"
     ]
    }
   ],
   "source": [
    "print(Influ0[17700])\n",
    "print(Influ0[158410])\n",
    "print(Influ0[172286])\n",
    "print(Influ0[444382])\n",
    "print(Influ0[1876907])"
   ]
  },
  {
   "cell_type": "code",
   "execution_count": 62,
   "metadata": {},
   "outputs": [],
   "source": [
    "def user_influence_v2(user,N,A,A_trans,C,Lvec,Mvec,Lead,Follow,Som,it = 100, eps = .001):\n",
    "    #\n",
    "    pNews = pi_method_sparse_v2(N,user,A,A_trans,Lvec,Lead,Follow,Som,it,eps)\n",
    "    #\n",
    "    di = fill_di_sparse_v2(user,Lvec,Mvec)\n",
    "    qWall={}\n",
    "    PsiU =0\n",
    "    for userj in pNews:\n",
    "        qWall[userj] = C[userj]*pNews[userj]\n",
    "        if userj==user:\n",
    "            qWall[userj]+=di\n",
    "        PsiU += qWall[userj]\n",
    "    if user not in pNews:\n",
    "        qWall[user] = di\n",
    "        PsiU += qWall[user]\n",
    "    PsiU = (PsiU-qWall[user])/(N-1)\n",
    "\n",
    "    return (qWall,PsiU)"
   ]
  },
  {
   "cell_type": "code",
   "execution_count": 63,
   "metadata": {},
   "outputs": [],
   "source": [
    "import time"
   ]
  },
  {
   "cell_type": "code",
   "execution_count": 64,
   "metadata": {},
   "outputs": [
    {
     "ename": "KeyError",
     "evalue": "12",
     "output_type": "error",
     "traceback": [
      "\u001b[1;31m---------------------------------------------------------------------------\u001b[0m",
      "\u001b[1;31mKeyError\u001b[0m                                  Traceback (most recent call last)",
      "\u001b[1;32m<ipython-input-64-5d68a4a4a171>\u001b[0m in \u001b[0;36m<module>\u001b[1;34m\u001b[0m\n\u001b[0;32m      1\u001b[0m \u001b[0mstartT\u001b[0m \u001b[1;33m=\u001b[0m \u001b[0mtime\u001b[0m\u001b[1;33m.\u001b[0m\u001b[0mtime\u001b[0m\u001b[1;33m(\u001b[0m\u001b[1;33m)\u001b[0m\u001b[1;33m\u001b[0m\u001b[1;33m\u001b[0m\u001b[0m\n\u001b[1;32m----> 2\u001b[1;33m \u001b[1;33m(\u001b[0m\u001b[0mInflu0_v2\u001b[0m\u001b[1;33m,\u001b[0m\u001b[0mPsiU_v2\u001b[0m\u001b[1;33m)\u001b[0m \u001b[1;33m=\u001b[0m \u001b[0muser_influence_v2\u001b[0m\u001b[1;33m(\u001b[0m\u001b[0mUserlist\u001b[0m\u001b[1;33m[\u001b[0m\u001b[1;36m12\u001b[0m\u001b[1;33m]\u001b[0m\u001b[1;33m,\u001b[0m\u001b[0mN\u001b[0m\u001b[1;33m,\u001b[0m\u001b[0mA\u001b[0m\u001b[1;33m,\u001b[0m\u001b[0mA_trans\u001b[0m\u001b[1;33m,\u001b[0m\u001b[0mC\u001b[0m\u001b[1;33m,\u001b[0m\u001b[0mRtweet\u001b[0m\u001b[1;33m,\u001b[0m\u001b[0mRrtweet\u001b[0m\u001b[1;33m,\u001b[0m\u001b[0mLeadGraph\u001b[0m\u001b[1;33m,\u001b[0m\u001b[0mFollowGraph\u001b[0m\u001b[1;33m,\u001b[0m\u001b[0mSom\u001b[0m\u001b[1;33m,\u001b[0m \u001b[0meps\u001b[0m \u001b[1;33m=\u001b[0m \u001b[1;36m.001\u001b[0m\u001b[1;33m)\u001b[0m\u001b[1;33m\u001b[0m\u001b[1;33m\u001b[0m\u001b[0m\n\u001b[0m\u001b[0;32m      3\u001b[0m \u001b[0mprint\u001b[0m\u001b[1;33m(\u001b[0m\u001b[0mPsiU_v2\u001b[0m\u001b[1;33m)\u001b[0m\u001b[1;33m\u001b[0m\u001b[1;33m\u001b[0m\u001b[0m\n\u001b[0;32m      4\u001b[0m \u001b[0mendT\u001b[0m \u001b[1;33m=\u001b[0m \u001b[0mtime\u001b[0m\u001b[1;33m.\u001b[0m\u001b[0mtime\u001b[0m\u001b[1;33m(\u001b[0m\u001b[1;33m)\u001b[0m\u001b[1;33m\u001b[0m\u001b[1;33m\u001b[0m\u001b[0m\n\u001b[0;32m      5\u001b[0m \u001b[0mprint\u001b[0m\u001b[1;33m(\u001b[0m\u001b[1;34m\"Dt=\"\u001b[0m\u001b[1;33m,\u001b[0m\u001b[0mendT\u001b[0m\u001b[1;33m-\u001b[0m\u001b[0mstartT\u001b[0m\u001b[1;33m)\u001b[0m\u001b[1;33m\u001b[0m\u001b[1;33m\u001b[0m\u001b[0m\n",
      "\u001b[1;31mKeyError\u001b[0m: 12"
     ]
    }
   ],
   "source": [
    "startT = time.time()\n",
    "(Influ0_v2,PsiU_v2) = user_influence_v2(Userlist[12],N,A,A_trans,C,Rtweet,Rrtweet,LeadGraph,FollowGraph,Som, eps = .001)\n",
    "print(PsiU_v2)\n",
    "endT = time.time()\n",
    "print(\"Dt=\",endT-startT)"
   ]
  },
  {
   "cell_type": "code",
   "execution_count": 65,
   "metadata": {},
   "outputs": [
    {
     "ename": "NameError",
     "evalue": "name 'Influ0_v2' is not defined",
     "output_type": "error",
     "traceback": [
      "\u001b[1;31m---------------------------------------------------------------------------\u001b[0m",
      "\u001b[1;31mNameError\u001b[0m                                 Traceback (most recent call last)",
      "\u001b[1;32m<ipython-input-65-64cdb95a1004>\u001b[0m in \u001b[0;36m<module>\u001b[1;34m\u001b[0m\n\u001b[1;32m----> 1\u001b[1;33m \u001b[0mprint\u001b[0m\u001b[1;33m(\u001b[0m\u001b[0mInflu0_v2\u001b[0m\u001b[1;33m[\u001b[0m\u001b[1;36m17700\u001b[0m\u001b[1;33m]\u001b[0m\u001b[1;33m)\u001b[0m\u001b[1;33m\u001b[0m\u001b[1;33m\u001b[0m\u001b[0m\n\u001b[0m\u001b[0;32m      2\u001b[0m \u001b[0mprint\u001b[0m\u001b[1;33m(\u001b[0m\u001b[0mInflu0_v2\u001b[0m\u001b[1;33m[\u001b[0m\u001b[1;36m158410\u001b[0m\u001b[1;33m]\u001b[0m\u001b[1;33m)\u001b[0m\u001b[1;33m\u001b[0m\u001b[1;33m\u001b[0m\u001b[0m\n\u001b[0;32m      3\u001b[0m \u001b[0mprint\u001b[0m\u001b[1;33m(\u001b[0m\u001b[0mInflu0_v2\u001b[0m\u001b[1;33m[\u001b[0m\u001b[1;36m172286\u001b[0m\u001b[1;33m]\u001b[0m\u001b[1;33m)\u001b[0m\u001b[1;33m\u001b[0m\u001b[1;33m\u001b[0m\u001b[0m\n\u001b[0;32m      4\u001b[0m \u001b[0mprint\u001b[0m\u001b[1;33m(\u001b[0m\u001b[0mInflu0_v2\u001b[0m\u001b[1;33m[\u001b[0m\u001b[1;36m444382\u001b[0m\u001b[1;33m]\u001b[0m\u001b[1;33m)\u001b[0m\u001b[1;33m\u001b[0m\u001b[1;33m\u001b[0m\u001b[0m\n\u001b[0;32m      5\u001b[0m \u001b[0mprint\u001b[0m\u001b[1;33m(\u001b[0m\u001b[0mInflu0_v2\u001b[0m\u001b[1;33m[\u001b[0m\u001b[1;36m1876907\u001b[0m\u001b[1;33m]\u001b[0m\u001b[1;33m)\u001b[0m\u001b[1;33m\u001b[0m\u001b[1;33m\u001b[0m\u001b[0m\n",
      "\u001b[1;31mNameError\u001b[0m: name 'Influ0_v2' is not defined"
     ]
    }
   ],
   "source": [
    "print(Influ0_v2[17700])\n",
    "print(Influ0_v2[158410])\n",
    "print(Influ0_v2[172286])\n",
    "print(Influ0_v2[444382])\n",
    "print(Influ0_v2[1876907])"
   ]
  },
  {
   "cell_type": "code",
   "execution_count": 66,
   "metadata": {},
   "outputs": [
    {
     "ename": "NameError",
     "evalue": "name 'endT' is not defined",
     "output_type": "error",
     "traceback": [
      "\u001b[1;31m---------------------------------------------------------------------------\u001b[0m",
      "\u001b[1;31mNameError\u001b[0m                                 Traceback (most recent call last)",
      "\u001b[1;32m<ipython-input-66-0d838eb94a9c>\u001b[0m in \u001b[0;36m<module>\u001b[1;34m\u001b[0m\n\u001b[1;32m----> 1\u001b[1;33m \u001b[0mprint\u001b[0m\u001b[1;33m(\u001b[0m\u001b[1;34m\"TotalT=\"\u001b[0m\u001b[1;33m,\u001b[0m\u001b[0mN\u001b[0m\u001b[1;33m*\u001b[0m\u001b[1;33m(\u001b[0m\u001b[0mendT\u001b[0m\u001b[1;33m-\u001b[0m\u001b[0mstartT\u001b[0m\u001b[1;33m)\u001b[0m\u001b[1;33m)\u001b[0m\u001b[1;33m\u001b[0m\u001b[1;33m\u001b[0m\u001b[0m\n\u001b[0m",
      "\u001b[1;31mNameError\u001b[0m: name 'endT' is not defined"
     ]
    }
   ],
   "source": [
    "print(\"TotalT=\",N*(endT-startT))"
   ]
  },
  {
   "cell_type": "code",
   "execution_count": 67,
   "metadata": {},
   "outputs": [
    {
     "ename": "FileNotFoundError",
     "evalue": "[Errno 2] No such file or directory: '/Users/Fishbone/Desktop/NEWSFEEDfresh/PYTHON/Analysis/test.txt'",
     "output_type": "error",
     "traceback": [
      "\u001b[1;31m---------------------------------------------------------------------------\u001b[0m",
      "\u001b[1;31mFileNotFoundError\u001b[0m                         Traceback (most recent call last)",
      "\u001b[1;32m<ipython-input-67-5fd607c38e04>\u001b[0m in \u001b[0;36m<module>\u001b[1;34m\u001b[0m\n\u001b[1;32m----> 1\u001b[1;33m \u001b[0mf2\u001b[0m\u001b[1;33m=\u001b[0m\u001b[0mopen\u001b[0m\u001b[1;33m(\u001b[0m\u001b[1;34m\"/Users/Fishbone/Desktop/NEWSFEEDfresh/PYTHON/Analysis/test.txt\"\u001b[0m\u001b[1;33m,\u001b[0m\u001b[1;34m\"w\"\u001b[0m\u001b[1;33m)\u001b[0m\u001b[1;33m\u001b[0m\u001b[1;33m\u001b[0m\u001b[0m\n\u001b[0m\u001b[0;32m      2\u001b[0m \u001b[0mprint\u001b[0m\u001b[1;33m(\u001b[0m\u001b[1;34m\"TotalT=\"\u001b[0m\u001b[1;33m,\u001b[0m\u001b[0mN\u001b[0m\u001b[1;33m*\u001b[0m\u001b[1;33m(\u001b[0m\u001b[0mendT\u001b[0m\u001b[1;33m-\u001b[0m\u001b[0mstartT\u001b[0m\u001b[1;33m)\u001b[0m\u001b[1;33m)\u001b[0m\u001b[1;33m\u001b[0m\u001b[1;33m\u001b[0m\u001b[0m\n\u001b[0;32m      3\u001b[0m \u001b[0mprint\u001b[0m\u001b[1;33m(\u001b[0m\u001b[1;34m\"Influence q of '158410' on other:\"\u001b[0m\u001b[1;33m,\u001b[0m \u001b[0mInflu0_v2\u001b[0m\u001b[1;33m,\u001b[0m\u001b[1;34m\"\\n\"\u001b[0m\u001b[1;33m,\u001b[0m\u001b[0mfile\u001b[0m\u001b[1;33m=\u001b[0m\u001b[0mf2\u001b[0m\u001b[1;33m)\u001b[0m\u001b[1;33m\u001b[0m\u001b[1;33m\u001b[0m\u001b[0m\n\u001b[0;32m      4\u001b[0m \u001b[0mprint\u001b[0m\u001b[1;33m(\u001b[0m\u001b[1;34m\"Influence \\Psy of '158410' on network\"\u001b[0m\u001b[1;33m,\u001b[0m \u001b[0mPsiU_v2\u001b[0m\u001b[1;33m,\u001b[0m\u001b[0mfile\u001b[0m\u001b[1;33m=\u001b[0m\u001b[0mf2\u001b[0m\u001b[1;33m)\u001b[0m\u001b[1;33m\u001b[0m\u001b[1;33m\u001b[0m\u001b[0m\n\u001b[0;32m      5\u001b[0m \u001b[0mf2\u001b[0m\u001b[1;33m.\u001b[0m\u001b[0mclose\u001b[0m\u001b[1;33m(\u001b[0m\u001b[1;33m)\u001b[0m\u001b[1;33m\u001b[0m\u001b[1;33m\u001b[0m\u001b[0m\n",
      "\u001b[1;31mFileNotFoundError\u001b[0m: [Errno 2] No such file or directory: '/Users/Fishbone/Desktop/NEWSFEEDfresh/PYTHON/Analysis/test.txt'"
     ]
    }
   ],
   "source": [
    "f2=open(\"/Users/Fishbone/Desktop/NEWSFEEDfresh/PYTHON/Analysis/test.txt\",\"w\")\n",
    "print(\"TotalT=\",N*(endT-startT))\n",
    "print(\"Influence q of '158410' on other:\", Influ0_v2,\"\\n\",file=f2)\n",
    "print(\"Influence \\Psy of '158410' on network\", PsiU_v2,file=f2)\n",
    "f2.close()"
   ]
  },
  {
   "cell_type": "code",
   "execution_count": 68,
   "metadata": {},
   "outputs": [
    {
     "name": "stdout",
     "output_type": "stream",
     "text": [
      "{2}\n",
      "{1}\n"
     ]
    }
   ],
   "source": [
    "print(FollowGraph[Userlist[0]])\n",
    "print(LeadGraph[Userlist[0]])"
   ]
  },
  {
   "cell_type": "code",
   "execution_count": 69,
   "metadata": {},
   "outputs": [
    {
     "name": "stdout",
     "output_type": "stream",
     "text": [
      "0\n",
      "t= 9 \n",
      "\n",
      "1\n",
      "t= 10 \n",
      "\n",
      "2\n",
      "t= 9 \n",
      "\n"
     ]
    },
    {
     "ename": "TypeError",
     "evalue": "cannot unpack non-iterable NoneType object",
     "output_type": "error",
     "traceback": [
      "\u001b[1;31m---------------------------------------------------------------------------\u001b[0m",
      "\u001b[1;31mTypeError\u001b[0m                                 Traceback (most recent call last)",
      "\u001b[1;32m<ipython-input-69-e1c62880fc3a>\u001b[0m in \u001b[0;36m<module>\u001b[1;34m\u001b[0m\n\u001b[0;32m      1\u001b[0m \u001b[0mstartT_big\u001b[0m \u001b[1;33m=\u001b[0m \u001b[0mtime\u001b[0m\u001b[1;33m.\u001b[0m\u001b[0mtime\u001b[0m\u001b[1;33m(\u001b[0m\u001b[1;33m)\u001b[0m\u001b[1;33m\u001b[0m\u001b[1;33m\u001b[0m\u001b[0m\n\u001b[1;32m----> 2\u001b[1;33m \u001b[1;33m(\u001b[0m\u001b[0mpNews_v2\u001b[0m\u001b[1;33m,\u001b[0m\u001b[0mqWall_v2\u001b[0m\u001b[1;33m,\u001b[0m\u001b[0mPsi_v2\u001b[0m\u001b[1;33m)\u001b[0m \u001b[1;33m=\u001b[0m \u001b[0msolution_sparse_v2\u001b[0m\u001b[1;33m(\u001b[0m\u001b[0mN\u001b[0m\u001b[1;33m,\u001b[0m\u001b[0mA\u001b[0m\u001b[1;33m,\u001b[0m\u001b[0mA_trans\u001b[0m\u001b[1;33m,\u001b[0m\u001b[0mC\u001b[0m\u001b[1;33m,\u001b[0m\u001b[0mRtweet\u001b[0m\u001b[1;33m,\u001b[0m\u001b[0mRrtweet\u001b[0m\u001b[1;33m,\u001b[0m\u001b[0mLeadGraph\u001b[0m\u001b[1;33m,\u001b[0m\u001b[0mFollowGraph\u001b[0m\u001b[1;33m,\u001b[0m\u001b[0mSom\u001b[0m\u001b[1;33m)\u001b[0m\u001b[1;33m\u001b[0m\u001b[1;33m\u001b[0m\u001b[0m\n\u001b[0m\u001b[0;32m      3\u001b[0m \u001b[0mendT_big\u001b[0m \u001b[1;33m=\u001b[0m \u001b[0mtime\u001b[0m\u001b[1;33m.\u001b[0m\u001b[0mtime\u001b[0m\u001b[1;33m(\u001b[0m\u001b[1;33m)\u001b[0m\u001b[1;33m\u001b[0m\u001b[1;33m\u001b[0m\u001b[0m\n\u001b[0;32m      4\u001b[0m \u001b[0mfres\u001b[0m\u001b[1;33m=\u001b[0m\u001b[0mopen\u001b[0m\u001b[1;33m(\u001b[0m\u001b[1;34m\"/Users/Fishbone/Desktop/NEWSFEEDfresh/PYTHON/Analysis/RESULT.txt\"\u001b[0m\u001b[1;33m,\u001b[0m\u001b[1;34m\"w\"\u001b[0m\u001b[1;33m)\u001b[0m\u001b[1;33m\u001b[0m\u001b[1;33m\u001b[0m\u001b[0m\n\u001b[0;32m      5\u001b[0m \u001b[0mprint\u001b[0m\u001b[1;33m(\u001b[0m\u001b[0mendT_big\u001b[0m\u001b[1;33m-\u001b[0m\u001b[0mstartT_big\u001b[0m\u001b[1;33m,\u001b[0m\u001b[1;34m'\\n'\u001b[0m\u001b[1;33m,\u001b[0m\u001b[0mfile\u001b[0m\u001b[1;33m=\u001b[0m\u001b[0mfres\u001b[0m\u001b[1;33m)\u001b[0m\u001b[1;33m\u001b[0m\u001b[1;33m\u001b[0m\u001b[0m\n",
      "\u001b[1;31mTypeError\u001b[0m: cannot unpack non-iterable NoneType object"
     ]
    }
   ],
   "source": [
    "startT_big = time.time()\n",
    "(pNews_v2,qWall_v2,Psi_v2) = solution_sparse_v2(N,A,A_trans,C,Rtweet,Rrtweet,LeadGraph,FollowGraph,Som)\n",
    "endT_big = time.time()\n",
    "fres=open(\"/Users/Fishbone/Desktop/NEWSFEEDfresh/PYTHON/Analysis/RESULT.txt\",\"w\")\n",
    "print(endT_big-startT_big,'\\n',file=fres)\n",
    "print(pNews_v2,\"\\n\",file=fres)\n",
    "print(qWall_v2,\"\\n\",file=fres)\n",
    "print(Psi_v2,file=fres)\n",
    "fres.close()\n",
    "print(endT_big-startT_big)"
   ]
  },
  {
   "cell_type": "code",
   "execution_count": 70,
   "metadata": {},
   "outputs": [
    {
     "name": "stdout",
     "output_type": "stream",
     "text": [
      "0\n",
      "t= 9 \n",
      "\n",
      "1\n",
      "t= 10 \n",
      "\n",
      "2\n",
      "t= 9 \n",
      "\n"
     ]
    },
    {
     "ename": "TypeError",
     "evalue": "cannot unpack non-iterable NoneType object",
     "output_type": "error",
     "traceback": [
      "\u001b[1;31m---------------------------------------------------------------------------\u001b[0m",
      "\u001b[1;31mTypeError\u001b[0m                                 Traceback (most recent call last)",
      "\u001b[1;32m<ipython-input-70-d23801d1182a>\u001b[0m in \u001b[0;36m<module>\u001b[1;34m\u001b[0m\n\u001b[0;32m      1\u001b[0m \u001b[0mstartT_big\u001b[0m \u001b[1;33m=\u001b[0m \u001b[0mtime\u001b[0m\u001b[1;33m.\u001b[0m\u001b[0mtime\u001b[0m\u001b[1;33m(\u001b[0m\u001b[1;33m)\u001b[0m\u001b[1;33m\u001b[0m\u001b[1;33m\u001b[0m\u001b[0m\n\u001b[1;32m----> 2\u001b[1;33m \u001b[1;33m(\u001b[0m\u001b[0mpNews_v2\u001b[0m\u001b[1;33m,\u001b[0m\u001b[0mqWall_v2\u001b[0m\u001b[1;33m,\u001b[0m\u001b[0mPsi_v2\u001b[0m\u001b[1;33m)\u001b[0m \u001b[1;33m=\u001b[0m \u001b[0msolution_sparse_v2\u001b[0m\u001b[1;33m(\u001b[0m\u001b[0mN\u001b[0m\u001b[1;33m,\u001b[0m\u001b[0mA\u001b[0m\u001b[1;33m,\u001b[0m\u001b[0mA_trans\u001b[0m\u001b[1;33m,\u001b[0m\u001b[0mC\u001b[0m\u001b[1;33m,\u001b[0m\u001b[0mRtweet\u001b[0m\u001b[1;33m,\u001b[0m\u001b[0mRrtweet\u001b[0m\u001b[1;33m,\u001b[0m\u001b[0mLeadGraph\u001b[0m\u001b[1;33m,\u001b[0m\u001b[0mFollowGraph\u001b[0m\u001b[1;33m,\u001b[0m\u001b[0mSom\u001b[0m\u001b[1;33m)\u001b[0m\u001b[1;33m\u001b[0m\u001b[1;33m\u001b[0m\u001b[0m\n\u001b[0m\u001b[0;32m      3\u001b[0m \u001b[0mendT_big\u001b[0m \u001b[1;33m=\u001b[0m \u001b[0mtime\u001b[0m\u001b[1;33m.\u001b[0m\u001b[0mtime\u001b[0m\u001b[1;33m(\u001b[0m\u001b[1;33m)\u001b[0m\u001b[1;33m\u001b[0m\u001b[1;33m\u001b[0m\u001b[0m\n",
      "\u001b[1;31mTypeError\u001b[0m: cannot unpack non-iterable NoneType object"
     ]
    }
   ],
   "source": [
    "startT_big = time.time()\n",
    "(pNews_v2,qWall_v2,Psi_v2) = solution_sparse_v2(N,A,A_trans,C,Rtweet,Rrtweet,LeadGraph,FollowGraph,Som)\n",
    "endT_big = time.time()"
   ]
  },
  {
   "cell_type": "code",
   "execution_count": 71,
   "metadata": {},
   "outputs": [
    {
     "ename": "NameError",
     "evalue": "name 'endT_big' is not defined",
     "output_type": "error",
     "traceback": [
      "\u001b[1;31m---------------------------------------------------------------------------\u001b[0m",
      "\u001b[1;31mNameError\u001b[0m                                 Traceback (most recent call last)",
      "\u001b[1;32m<ipython-input-71-243070e7a1b7>\u001b[0m in \u001b[0;36m<module>\u001b[1;34m\u001b[0m\n\u001b[1;32m----> 1\u001b[1;33m \u001b[0mendT_big\u001b[0m\u001b[1;33m-\u001b[0m\u001b[0mstartT_big\u001b[0m\u001b[1;33m\u001b[0m\u001b[1;33m\u001b[0m\u001b[0m\n\u001b[0m",
      "\u001b[1;31mNameError\u001b[0m: name 'endT_big' is not defined"
     ]
    }
   ],
   "source": [
    "endT_big-startT_big"
   ]
  },
  {
   "cell_type": "code",
   "execution_count": 72,
   "metadata": {},
   "outputs": [
    {
     "ename": "NameError",
     "evalue": "name 'Psi_v2' is not defined",
     "output_type": "error",
     "traceback": [
      "\u001b[1;31m---------------------------------------------------------------------------\u001b[0m",
      "\u001b[1;31mNameError\u001b[0m                                 Traceback (most recent call last)",
      "\u001b[1;32m<ipython-input-72-e4a4fa26d886>\u001b[0m in \u001b[0;36m<module>\u001b[1;34m\u001b[0m\n\u001b[0;32m      1\u001b[0m \u001b[0mL\u001b[0m \u001b[1;33m=\u001b[0m \u001b[1;33m[\u001b[0m\u001b[1;33m]\u001b[0m\u001b[1;33m\u001b[0m\u001b[1;33m\u001b[0m\u001b[0m\n\u001b[1;32m----> 2\u001b[1;33m \u001b[1;32mfor\u001b[0m \u001b[0mk\u001b[0m \u001b[1;32min\u001b[0m \u001b[0mPsi_v2\u001b[0m\u001b[1;33m:\u001b[0m\u001b[1;33m\u001b[0m\u001b[1;33m\u001b[0m\u001b[0m\n\u001b[0m\u001b[0;32m      3\u001b[0m     \u001b[0mL\u001b[0m\u001b[1;33m.\u001b[0m\u001b[0mappend\u001b[0m\u001b[1;33m(\u001b[0m\u001b[1;33m(\u001b[0m\u001b[0mPsi_v2\u001b[0m\u001b[1;33m[\u001b[0m\u001b[0mk\u001b[0m\u001b[1;33m]\u001b[0m\u001b[1;33m)\u001b[0m\u001b[1;33m)\u001b[0m\u001b[1;33m\u001b[0m\u001b[1;33m\u001b[0m\u001b[0m\n",
      "\u001b[1;31mNameError\u001b[0m: name 'Psi_v2' is not defined"
     ]
    }
   ],
   "source": [
    "L = []\n",
    "for k in Psi_v2:\n",
    "    L.append((Psi_v2[k]))"
   ]
  },
  {
   "cell_type": "code",
   "execution_count": 73,
   "metadata": {},
   "outputs": [
    {
     "name": "stdout",
     "output_type": "stream",
     "text": [
      "[]\n",
      "[]\n"
     ]
    }
   ],
   "source": [
    "sortL = np.sort(L)\n",
    "print(sortL)\n",
    "argsortL = np.argsort(L)\n",
    "print(argsortL)"
   ]
  },
  {
   "cell_type": "code",
   "execution_count": 74,
   "metadata": {},
   "outputs": [
    {
     "ename": "NameError",
     "evalue": "name 'Psi_v2' is not defined",
     "output_type": "error",
     "traceback": [
      "\u001b[1;31m---------------------------------------------------------------------------\u001b[0m",
      "\u001b[1;31mNameError\u001b[0m                                 Traceback (most recent call last)",
      "\u001b[1;32m<ipython-input-74-37e96fab841b>\u001b[0m in \u001b[0;36m<module>\u001b[1;34m\u001b[0m\n\u001b[1;32m----> 1\u001b[1;33m \u001b[0mPsi_v2\u001b[0m\u001b[1;33m[\u001b[0m\u001b[0mUserlist\u001b[0m\u001b[1;33m[\u001b[0m\u001b[1;36m723\u001b[0m\u001b[1;33m]\u001b[0m\u001b[1;33m]\u001b[0m\u001b[1;33m\u001b[0m\u001b[1;33m\u001b[0m\u001b[0m\n\u001b[0m",
      "\u001b[1;31mNameError\u001b[0m: name 'Psi_v2' is not defined"
     ]
    }
   ],
   "source": [
    "Psi_v2[Userlist[723]]"
   ]
  },
  {
   "cell_type": "code",
   "execution_count": 75,
   "metadata": {},
   "outputs": [
    {
     "name": "stdout",
     "output_type": "stream",
     "text": [
      "[]\n"
     ]
    }
   ],
   "source": [
    "keysortL = []\n",
    "for key in argsortL:\n",
    "    keysortL.append(Userlist[key])\n",
    "print(keysortL)"
   ]
  },
  {
   "cell_type": "code",
   "execution_count": 94,
   "metadata": {},
   "outputs": [
    {
     "data": {
      "text/plain": [
       "0.00031982138319566555"
      ]
     },
     "execution_count": 94,
     "metadata": {},
     "output_type": "execute_result"
    }
   ],
   "source": [
    "Psi_v2[5363]"
   ]
  },
  {
   "cell_type": "code",
   "execution_count": 76,
   "metadata": {},
   "outputs": [
    {
     "ename": "NameError",
     "evalue": "name 'Psi_v2' is not defined",
     "output_type": "error",
     "traceback": [
      "\u001b[1;31m---------------------------------------------------------------------------\u001b[0m",
      "\u001b[1;31mNameError\u001b[0m                                 Traceback (most recent call last)",
      "\u001b[1;32m<ipython-input-76-c1e6131b6eb8>\u001b[0m in \u001b[0;36m<module>\u001b[1;34m\u001b[0m\n\u001b[1;32m----> 1\u001b[1;33m \u001b[0mPsi_v2\u001b[0m\u001b[1;33m\u001b[0m\u001b[1;33m\u001b[0m\u001b[0m\n\u001b[0m",
      "\u001b[1;31mNameError\u001b[0m: name 'Psi_v2' is not defined"
     ]
    }
   ],
   "source": [
    "Psi_v2"
   ]
  }
 ],
 "metadata": {
  "kernelspec": {
   "display_name": "Python 3",
   "language": "python",
   "name": "python3"
  },
  "language_info": {
   "codemirror_mode": {
    "name": "ipython",
    "version": 3
   },
   "file_extension": ".py",
   "mimetype": "text/x-python",
   "name": "python",
   "nbconvert_exporter": "python",
   "pygments_lexer": "ipython3",
   "version": "3.7.2"
  }
 },
 "nbformat": 4,
 "nbformat_minor": 2
}
