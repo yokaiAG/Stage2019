{
 "cells": [
  {
   "cell_type": "markdown",
   "metadata": {},
   "source": [
    "## Imports et preprocessing"
   ]
  },
  {
   "cell_type": "code",
   "execution_count": 37,
   "metadata": {},
   "outputs": [],
   "source": [
    "import sys\n",
    "from time import time\n",
    "import pandas as pd\n",
    "import numpy as np\n",
    "from operator import itemgetter\n",
    "from scipy.stats import kendalltau\n",
    "import matplotlib.pyplot as plt\n",
    "from sklearn.linear_model import LinearRegression"
   ]
  },
  {
   "cell_type": "markdown",
   "metadata": {},
   "source": [
    "Où sont les listes de psis ? Elles doivent s'appeler `Psi_emul.txt` et `Psi_model.txt`."
   ]
  },
  {
   "cell_type": "code",
   "execution_count": 22,
   "metadata": {},
   "outputs": [],
   "source": [
    "path = \"../Datasets/wcano/results/\""
   ]
  },
  {
   "cell_type": "markdown",
   "metadata": {},
   "source": [
    "On construit\n",
    "- `Psi` : dictionnaire des influences. Clés : users id, valeurs : [psi_emul, psi_model]\n",
    "- `emul` : les influences données par l'émulateur, par ordre décroissant\n",
    "- `model_sortby_emul` : les influences données par le modèle, triées selon l'ordre de `psi_emul`\n",
    "- `model` : les influences données par le modèle, par ordre décroissant."
   ]
  },
  {
   "cell_type": "code",
   "execution_count": 24,
   "metadata": {},
   "outputs": [
    {
     "name": "stdout",
     "output_type": "stream",
     "text": [
      "Chargement des Psis...\n",
      "Tps ex :  8.007072925567627\n"
     ]
    }
   ],
   "source": [
    "print(\"Chargement des Psis...\")\n",
    "Psi = dict()\n",
    "\n",
    "start = time()\n",
    "\n",
    "# emul\n",
    "with open(path + \"Psi_emul.txt\") as psi_list:\n",
    "    for i,line in enumerate(psi_list):\n",
    "        line = line.split()\n",
    "        current_user = int(line[0])\n",
    "        current_psi = float(line[1])\n",
    "        if current_psi==0:\n",
    "            break\n",
    "        Psi[current_user] = [current_psi, 0]\n",
    "\n",
    "# model\n",
    "with open(path + \"Psi_model.txt\") as psi_list:\n",
    "    for i,line in enumerate(psi_list):\n",
    "        line = line.split()\n",
    "        current_user = int(line[0])\n",
    "        current_psi = float(line[1])\n",
    "        if current_psi==0:\n",
    "            break\n",
    "        if current_user in Psi.keys():\n",
    "            Psi[current_user][-1] = current_psi\n",
    "        else:\n",
    "            Psi[current_user] = [0, current_psi]\n",
    "            \n",
    "# to arrays\n",
    "emul = np.array([p[0] for p in Psi.values()])\n",
    "model_sortby_emul = np.array([p[1] for p in Psi.values()])\n",
    "model = - np.sort(-model_sortby_emul)\n",
    "\n",
    "        \n",
    "print(\"Tps ex : \", time()-start)"
   ]
  },
  {
   "cell_type": "code",
   "execution_count": 8,
   "metadata": {},
   "outputs": [],
   "source": [
    "del line, current_user, current_psi, psi_list"
   ]
  },
  {
   "cell_type": "markdown",
   "metadata": {},
   "source": [
    "save len emul"
   ]
  },
  {
   "cell_type": "code",
   "execution_count": 28,
   "metadata": {},
   "outputs": [],
   "source": [
    "N = len(emul)"
   ]
  },
  {
   "cell_type": "markdown",
   "metadata": {},
   "source": [
    "## $\\Psi_{model}$ en fonction de $\\Psi_{emul}$\n",
    "Exceptionnellement on prend tous les utilisateurs. On fait une régression."
   ]
  },
  {
   "cell_type": "code",
   "execution_count": 9,
   "metadata": {},
   "outputs": [
    {
     "name": "stdout",
     "output_type": "stream",
     "text": [
      "Psimodel en fct de Psiemul\n",
      "Droite de régression : y = 1.15615*x - e-09\n",
      "Tps ex :  1.1170728206634521\n"
     ]
    }
   ],
   "source": [
    "print(\"Psimodel en fct de Psiemul\")\n",
    "start = time()\n",
    "\n",
    "# cut extreme values\n",
    "emul_to_plot = emul[:N][np.where(emul[:N]<0.01)]\n",
    "model_to_plot = model_sortby_emul[:N][np.where(emul[:N]<0.01)]\n",
    "\n",
    "# regression\n",
    "reg = LinearRegression().fit(emul_to_plot.reshape(-1,1), model_to_plot.reshape(-1,1))\n",
    "\n",
    "# print regression coeffs\n",
    "intercept_str = str(np.abs(reg.intercept_[0]))[-4:]\n",
    "if reg.intercept_[0] > 0:\n",
    "    title = \"Droite de régression : y = {:.5f}*x + {}\".format(reg.coef_[0][0], intercept_str)\n",
    "else:\n",
    "    title = \"Droite de régression : y = {:.5f}*x - {}\".format(reg.coef_[0][0], intercept_str)\n",
    "print(title)\n",
    "\n",
    "# regression function for plot\n",
    "def regression(x):\n",
    "    return x*reg.coef_[0][0] + reg.intercept_[0]\n",
    "\n",
    "print(\"Tps ex : \", time()-start)"
   ]
  },
  {
   "cell_type": "code",
   "execution_count": 10,
   "metadata": {},
   "outputs": [
    {
     "data": {
      "image/png": "[encoded data removed]",
      "text/plain": [
       "<Figure size 432x288 with 1 Axes>"
      ]
     },
     "metadata": {
      "needs_background": "light"
     },
     "output_type": "display_data"
    },
    {
     "name": "stdout",
     "output_type": "stream",
     "text": [
      "Tps ex :  226.81902194023132\n"
     ]
    }
   ],
   "source": [
    "start = time()\n",
    "\n",
    "plt.scatter(emul_to_plot, model_to_plot, marker='.', alpha=0.1, label=\"measured values\")\n",
    "plt.plot(emul_to_plot, regression(emul_to_plot), c='r', ls=':', label=\"regression line\")\n",
    "plt.xlim(0, 0.001)\n",
    "plt.ylim(0, 0.005)\n",
    "# plt.xticks([k/10000 for k in range(0,21,5)])\n",
    "plt.xlabel(\"Psi emul\")\n",
    "plt.ylabel(\"Psi model\")\n",
    "plt.legend(loc='best', shadow=True)\n",
    "plt.title(title)\n",
    "plt.savefig(path + \"Psi_model_fct_psi_emul_zoom.png\")\n",
    "plt.show()\n",
    "plt.close()\n",
    "\n",
    "print(\"Tps ex : \", time()-start)"
   ]
  },
  {
   "cell_type": "markdown",
   "metadata": {},
   "source": [
    "## Dataframe pour comparaison"
   ]
  },
  {
   "cell_type": "markdown",
   "metadata": {},
   "source": [
    "On va comparer l'ordre des 2 listes : kendall tau, distance moyenne, proportion d'utilisateurs communs. On crée un dataframe pour enregistrer les résultats."
   ]
  },
  {
   "cell_type": "code",
   "execution_count": 34,
   "metadata": {},
   "outputs": [
    {
     "name": "stdout",
     "output_type": "stream",
     "text": [
      "Creation dataframe...\n"
     ]
    }
   ],
   "source": [
    "print(\"Creation dataframe...\")\n",
    "\n",
    "df = pd.DataFrame(columns=['N', 'min_psi_emul', 'min_psi_model', 'kendall', 'mean_dist', 'common_users_prop'])\n",
    "df['N'] = range(2, N+1)\n",
    "df['min_psi_emul'] = emul[1:N]\n",
    "df['min_psi_model'] = model[1:N]"
   ]
  },
  {
   "cell_type": "code",
   "execution_count": 35,
   "metadata": {},
   "outputs": [
    {
     "data": {
      "text/html": [
       "<div>\n",
       "<style scoped>\n",
       "    .dataframe tbody tr th:only-of-type {\n",
       "        vertical-align: middle;\n",
       "    }\n",
       "\n",
       "    .dataframe tbody tr th {\n",
       "        vertical-align: top;\n",
       "    }\n",
       "\n",
       "    .dataframe thead th {\n",
       "        text-align: right;\n",
       "    }\n",
       "</style>\n",
       "<table border=\"1\" class=\"dataframe\">\n",
       "  <thead>\n",
       "    <tr style=\"text-align: right;\">\n",
       "      <th></th>\n",
       "      <th>N</th>\n",
       "      <th>min_psi_emul</th>\n",
       "      <th>min_psi_model</th>\n",
       "      <th>kendall</th>\n",
       "      <th>mean_dist</th>\n",
       "      <th>common_users_prop</th>\n",
       "    </tr>\n",
       "  </thead>\n",
       "  <tbody>\n",
       "    <tr>\n",
       "      <th>0</th>\n",
       "      <td>2</td>\n",
       "      <td>0.007922</td>\n",
       "      <td>0.010367</td>\n",
       "      <td>NaN</td>\n",
       "      <td>NaN</td>\n",
       "      <td>NaN</td>\n",
       "    </tr>\n",
       "    <tr>\n",
       "      <th>1</th>\n",
       "      <td>3</td>\n",
       "      <td>0.006430</td>\n",
       "      <td>0.007884</td>\n",
       "      <td>NaN</td>\n",
       "      <td>NaN</td>\n",
       "      <td>NaN</td>\n",
       "    </tr>\n",
       "    <tr>\n",
       "      <th>2</th>\n",
       "      <td>4</td>\n",
       "      <td>0.006418</td>\n",
       "      <td>0.006774</td>\n",
       "      <td>NaN</td>\n",
       "      <td>NaN</td>\n",
       "      <td>NaN</td>\n",
       "    </tr>\n",
       "    <tr>\n",
       "      <th>3</th>\n",
       "      <td>5</td>\n",
       "      <td>0.006025</td>\n",
       "      <td>0.006212</td>\n",
       "      <td>NaN</td>\n",
       "      <td>NaN</td>\n",
       "      <td>NaN</td>\n",
       "    </tr>\n",
       "    <tr>\n",
       "      <th>4</th>\n",
       "      <td>6</td>\n",
       "      <td>0.004151</td>\n",
       "      <td>0.004977</td>\n",
       "      <td>NaN</td>\n",
       "      <td>NaN</td>\n",
       "      <td>NaN</td>\n",
       "    </tr>\n",
       "  </tbody>\n",
       "</table>\n",
       "</div>"
      ],
      "text/plain": [
       "   N  min_psi_emul  min_psi_model kendall mean_dist common_users_prop\n",
       "0  2      0.007922       0.010367     NaN       NaN               NaN\n",
       "1  3      0.006430       0.007884     NaN       NaN               NaN\n",
       "2  4      0.006418       0.006774     NaN       NaN               NaN\n",
       "3  5      0.006025       0.006212     NaN       NaN               NaN\n",
       "4  6      0.004151       0.004977     NaN       NaN               NaN"
      ]
     },
     "execution_count": 35,
     "metadata": {},
     "output_type": "execute_result"
    }
   ],
   "source": [
    "df.head()"
   ]
  },
  {
   "cell_type": "markdown",
   "metadata": {},
   "source": [
    "## Kendall $\\tau$"
   ]
  },
  {
   "cell_type": "markdown",
   "metadata": {},
   "source": [
    "On calcule maintenant les kendall tau."
   ]
  },
  {
   "cell_type": "code",
   "execution_count": 38,
   "metadata": {},
   "outputs": [
    {
     "name": "stdout",
     "output_type": "stream",
     "text": [
      "Kendall tau...\n",
      "step 52028... elapsed time 746.097\r"
     ]
    },
    {
     "ename": "KeyboardInterrupt",
     "evalue": "",
     "output_type": "error",
     "traceback": [
      "\u001b[1;31m---------------------------------------------------------------------------\u001b[0m",
      "\u001b[1;31mKeyboardInterrupt\u001b[0m                         Traceback (most recent call last)",
      "\u001b[1;32m<ipython-input-38-aeda14d39c9d>\u001b[0m in \u001b[0;36m<module>\u001b[1;34m\u001b[0m\n\u001b[0;32m      6\u001b[0m     \u001b[0msys\u001b[0m\u001b[1;33m.\u001b[0m\u001b[0mstdout\u001b[0m\u001b[1;33m.\u001b[0m\u001b[0mflush\u001b[0m\u001b[1;33m(\u001b[0m\u001b[1;33m)\u001b[0m\u001b[1;33m\u001b[0m\u001b[1;33m\u001b[0m\u001b[0m\n\u001b[0;32m      7\u001b[0m     \u001b[0msys\u001b[0m\u001b[1;33m.\u001b[0m\u001b[0mstdout\u001b[0m\u001b[1;33m.\u001b[0m\u001b[0mwrite\u001b[0m\u001b[1;33m(\u001b[0m\u001b[1;34m\"step {}... elapsed time {:.3f}\\r\"\u001b[0m\u001b[1;33m.\u001b[0m\u001b[0mformat\u001b[0m\u001b[1;33m(\u001b[0m\u001b[0mi\u001b[0m\u001b[1;33m,\u001b[0m \u001b[0mtime\u001b[0m\u001b[1;33m(\u001b[0m\u001b[1;33m)\u001b[0m\u001b[1;33m-\u001b[0m\u001b[0mstart\u001b[0m\u001b[1;33m)\u001b[0m\u001b[1;33m)\u001b[0m\u001b[1;33m\u001b[0m\u001b[1;33m\u001b[0m\u001b[0m\n\u001b[1;32m----> 8\u001b[1;33m     \u001b[0mkendall_tau\u001b[0m\u001b[1;33m.\u001b[0m\u001b[0mappend\u001b[0m\u001b[1;33m(\u001b[0m\u001b[0mkendalltau\u001b[0m\u001b[1;33m(\u001b[0m\u001b[0memul\u001b[0m\u001b[1;33m[\u001b[0m\u001b[1;33m:\u001b[0m\u001b[0mi\u001b[0m\u001b[1;33m]\u001b[0m\u001b[1;33m,\u001b[0m \u001b[0mmodel_sortby_emul\u001b[0m\u001b[1;33m[\u001b[0m\u001b[1;33m:\u001b[0m\u001b[0mi\u001b[0m\u001b[1;33m]\u001b[0m\u001b[1;33m)\u001b[0m\u001b[1;33m[\u001b[0m\u001b[1;36m0\u001b[0m\u001b[1;33m]\u001b[0m\u001b[1;33m)\u001b[0m\u001b[1;33m\u001b[0m\u001b[1;33m\u001b[0m\u001b[0m\n\u001b[0m\u001b[0;32m      9\u001b[0m \u001b[1;33m\u001b[0m\u001b[0m\n\u001b[0;32m     10\u001b[0m \u001b[0mdf\u001b[0m\u001b[1;33m[\u001b[0m\u001b[1;34m'kendall'\u001b[0m\u001b[1;33m]\u001b[0m \u001b[1;33m=\u001b[0m \u001b[0mkendall_tau\u001b[0m\u001b[1;33m\u001b[0m\u001b[1;33m\u001b[0m\u001b[0m\n",
      "\u001b[1;32mD:\\Anaconda\\lib\\site-packages\\scipy\\stats\\stats.py\u001b[0m in \u001b[0;36mkendalltau\u001b[1;34m(x, y, initial_lexsort, nan_policy, method)\u001b[0m\n\u001b[0;32m   3554\u001b[0m \u001b[1;33m\u001b[0m\u001b[0m\n\u001b[0;32m   3555\u001b[0m     \u001b[1;31m# check both x and y\u001b[0m\u001b[1;33m\u001b[0m\u001b[1;33m\u001b[0m\u001b[1;33m\u001b[0m\u001b[0m\n\u001b[1;32m-> 3556\u001b[1;33m     \u001b[0mcnx\u001b[0m\u001b[1;33m,\u001b[0m \u001b[0mnpx\u001b[0m \u001b[1;33m=\u001b[0m \u001b[0m_contains_nan\u001b[0m\u001b[1;33m(\u001b[0m\u001b[0mx\u001b[0m\u001b[1;33m,\u001b[0m \u001b[0mnan_policy\u001b[0m\u001b[1;33m)\u001b[0m\u001b[1;33m\u001b[0m\u001b[1;33m\u001b[0m\u001b[0m\n\u001b[0m\u001b[0;32m   3557\u001b[0m     \u001b[0mcny\u001b[0m\u001b[1;33m,\u001b[0m \u001b[0mnpy\u001b[0m \u001b[1;33m=\u001b[0m \u001b[0m_contains_nan\u001b[0m\u001b[1;33m(\u001b[0m\u001b[0my\u001b[0m\u001b[1;33m,\u001b[0m \u001b[0mnan_policy\u001b[0m\u001b[1;33m)\u001b[0m\u001b[1;33m\u001b[0m\u001b[1;33m\u001b[0m\u001b[0m\n\u001b[0;32m   3558\u001b[0m     \u001b[0mcontains_nan\u001b[0m \u001b[1;33m=\u001b[0m \u001b[0mcnx\u001b[0m \u001b[1;32mor\u001b[0m \u001b[0mcny\u001b[0m\u001b[1;33m\u001b[0m\u001b[1;33m\u001b[0m\u001b[0m\n",
      "\u001b[1;32mD:\\Anaconda\\lib\\site-packages\\scipy\\stats\\stats.py\u001b[0m in \u001b[0;36m_contains_nan\u001b[1;34m(a, nan_policy)\u001b[0m\n\u001b[0;32m    238\u001b[0m         \u001b[1;31m# e.g. np.isnan(a).any()\u001b[0m\u001b[1;33m\u001b[0m\u001b[1;33m\u001b[0m\u001b[1;33m\u001b[0m\u001b[0m\n\u001b[0;32m    239\u001b[0m         \u001b[1;32mwith\u001b[0m \u001b[0mnp\u001b[0m\u001b[1;33m.\u001b[0m\u001b[0merrstate\u001b[0m\u001b[1;33m(\u001b[0m\u001b[0minvalid\u001b[0m\u001b[1;33m=\u001b[0m\u001b[1;34m'ignore'\u001b[0m\u001b[1;33m)\u001b[0m\u001b[1;33m:\u001b[0m\u001b[1;33m\u001b[0m\u001b[1;33m\u001b[0m\u001b[0m\n\u001b[1;32m--> 240\u001b[1;33m             \u001b[0mcontains_nan\u001b[0m \u001b[1;33m=\u001b[0m \u001b[0mnp\u001b[0m\u001b[1;33m.\u001b[0m\u001b[0misnan\u001b[0m\u001b[1;33m(\u001b[0m\u001b[0mnp\u001b[0m\u001b[1;33m.\u001b[0m\u001b[0msum\u001b[0m\u001b[1;33m(\u001b[0m\u001b[0ma\u001b[0m\u001b[1;33m)\u001b[0m\u001b[1;33m)\u001b[0m\u001b[1;33m\u001b[0m\u001b[1;33m\u001b[0m\u001b[0m\n\u001b[0m\u001b[0;32m    241\u001b[0m     \u001b[1;32mexcept\u001b[0m \u001b[0mTypeError\u001b[0m\u001b[1;33m:\u001b[0m\u001b[1;33m\u001b[0m\u001b[1;33m\u001b[0m\u001b[0m\n\u001b[0;32m    242\u001b[0m         \u001b[1;31m# If the check cannot be properly performed we fallback to omitting\u001b[0m\u001b[1;33m\u001b[0m\u001b[1;33m\u001b[0m\u001b[1;33m\u001b[0m\u001b[0m\n",
      "\u001b[1;32mD:\\Anaconda\\lib\\site-packages\\numpy\\core\\fromnumeric.py\u001b[0m in \u001b[0;36msum\u001b[1;34m(a, axis, dtype, out, keepdims, initial)\u001b[0m\n\u001b[0;32m   2074\u001b[0m \u001b[1;33m\u001b[0m\u001b[0m\n\u001b[0;32m   2075\u001b[0m     return _wrapreduction(a, np.add, 'sum', axis, dtype, out, keepdims=keepdims,\n\u001b[1;32m-> 2076\u001b[1;33m                           initial=initial)\n\u001b[0m\u001b[0;32m   2077\u001b[0m \u001b[1;33m\u001b[0m\u001b[0m\n\u001b[0;32m   2078\u001b[0m \u001b[1;33m\u001b[0m\u001b[0m\n",
      "\u001b[1;32mD:\\Anaconda\\lib\\site-packages\\numpy\\core\\fromnumeric.py\u001b[0m in \u001b[0;36m_wrapreduction\u001b[1;34m(obj, ufunc, method, axis, dtype, out, **kwargs)\u001b[0m\n\u001b[0;32m     84\u001b[0m                 \u001b[1;32mreturn\u001b[0m \u001b[0mreduction\u001b[0m\u001b[1;33m(\u001b[0m\u001b[0maxis\u001b[0m\u001b[1;33m=\u001b[0m\u001b[0maxis\u001b[0m\u001b[1;33m,\u001b[0m \u001b[0mout\u001b[0m\u001b[1;33m=\u001b[0m\u001b[0mout\u001b[0m\u001b[1;33m,\u001b[0m \u001b[1;33m**\u001b[0m\u001b[0mpasskwargs\u001b[0m\u001b[1;33m)\u001b[0m\u001b[1;33m\u001b[0m\u001b[1;33m\u001b[0m\u001b[0m\n\u001b[0;32m     85\u001b[0m \u001b[1;33m\u001b[0m\u001b[0m\n\u001b[1;32m---> 86\u001b[1;33m     \u001b[1;32mreturn\u001b[0m \u001b[0mufunc\u001b[0m\u001b[1;33m.\u001b[0m\u001b[0mreduce\u001b[0m\u001b[1;33m(\u001b[0m\u001b[0mobj\u001b[0m\u001b[1;33m,\u001b[0m \u001b[0maxis\u001b[0m\u001b[1;33m,\u001b[0m \u001b[0mdtype\u001b[0m\u001b[1;33m,\u001b[0m \u001b[0mout\u001b[0m\u001b[1;33m,\u001b[0m \u001b[1;33m**\u001b[0m\u001b[0mpasskwargs\u001b[0m\u001b[1;33m)\u001b[0m\u001b[1;33m\u001b[0m\u001b[1;33m\u001b[0m\u001b[0m\n\u001b[0m\u001b[0;32m     87\u001b[0m \u001b[1;33m\u001b[0m\u001b[0m\n\u001b[0;32m     88\u001b[0m \u001b[1;33m\u001b[0m\u001b[0m\n",
      "\u001b[1;31mKeyboardInterrupt\u001b[0m: "
     ]
    }
   ],
   "source": [
    "print(\"Kendall tau...\")\n",
    "kendall_tau = list()\n",
    "\n",
    "start = time()\n",
    "for i in range(2, N+1):\n",
    "    sys.stdout.flush()\n",
    "    sys.stdout.write(\"step {}... elapsed time {:.3f}\\r\".format(i, time()-start))\n",
    "    kendall_tau.append(kendalltau(emul[:i], model_sortby_emul[:i])[0])\n",
    "\n",
    "df['kendall'] = kendall_tau\n",
    "\n",
    "print(\"Tps ex : \", time()-start)"
   ]
  },
  {
   "cell_type": "code",
   "execution_count": null,
   "metadata": {},
   "outputs": [],
   "source": [
    "del i, kendall_tau"
   ]
  },
  {
   "cell_type": "markdown",
   "metadata": {},
   "source": [
    "Plot."
   ]
  },
  {
   "cell_type": "code",
   "execution_count": 33,
   "metadata": {},
   "outputs": [
    {
     "data": {
      "image/png": "[encoded data removed]",
      "text/plain": [
       "<Figure size 432x288 with 1 Axes>"
      ]
     },
     "metadata": {
      "needs_background": "light"
     },
     "output_type": "display_data"
    },
    {
     "data": {
      "image/png": "[encoded data removed]",
      "text/plain": [
       "<Figure size 432x288 with 1 Axes>"
      ]
     },
     "metadata": {
      "needs_background": "light"
     },
     "output_type": "display_data"
    }
   ],
   "source": [
    "print(\"Plot kendall tau...\")\n",
    "\n",
    "plt.semilogx(range(2, N+1), df['kendall'], label=\"Kendall tau\")\n",
    "# plt.plot(range(2, N+1), [0.7]*(N-1), ls='-.', label=\"y = 0.7\")\n",
    "plt.title(\"Kendall tau sur les N premiers users\")\n",
    "plt.legend(loc='best', shadow=True)\n",
    "plt.xlabel(\"log(N)\")\n",
    "plt.savefig(path + \"kendall_tau_log.pdf\")\n",
    "plt.show()\n",
    "plt.close()\n",
    "\n",
    "plt.plot(range(2, N+1), df['kendall'], label=\"Kendall tau\")\n",
    "# plt.plot(range(2, N+1), [0.7]*(N-1), ls='-.', label=\"y = 0.7\")\n",
    "plt.title(\"Kendall tau sur les N premiers users\")\n",
    "plt.legend(loc='best', shadow=True)\n",
    "plt.xlabel(\"N\")\n",
    "plt.savefig(path + \"kendall_tau.pdf\")\n",
    "plt.show()\n",
    "plt.close()"
   ]
  },
  {
   "cell_type": "markdown",
   "metadata": {},
   "source": [
    "## Mean distance"
   ]
  },
  {
   "cell_type": "markdown",
   "metadata": {},
   "source": [
    "Compute ranks for emul."
   ]
  },
  {
   "cell_type": "code",
   "execution_count": 24,
   "metadata": {},
   "outputs": [],
   "source": [
    "print(\"Mean distance...\")\n",
    "\n",
    "rank_emul = dict()\n",
    "current_rank = 0\n",
    "current_psi = 0\n",
    "\n",
    "# pour chaque user on compare psi emul avec current psi et on update current rank si >\n",
    "# ensuite on ajoute current rank à rank emul\n",
    "for user, psi in sorted(Psi.items(), key=lambda x: x[1][0]):\n",
    "    psi = psi[0] # car psi=[psi_emul,psi model]\n",
    "    if psi > current_psi:\n",
    "        current_rank += 1\n",
    "    rank_emul[user] = current_rank\n",
    "    current_psi = psi"
   ]
  },
  {
   "cell_type": "markdown",
   "metadata": {},
   "source": [
    "Compute ranks for model."
   ]
  },
  {
   "cell_type": "code",
   "execution_count": 25,
   "metadata": {},
   "outputs": [],
   "source": [
    "rank_model = dict()\n",
    "current_rank = 0\n",
    "current_psi = 0\n",
    "\n",
    "# pour chaque user on compare psi model avec current psi et on update current rank si >\n",
    "# ensuite on ajoute current rank à rank model\n",
    "for user, psi in sorted(Psi.items(), key=lambda x: x[1][1]):\n",
    "    psi = psi[1] # car psi=[psi_emul,psi model]\n",
    "    if psi > current_psi:\n",
    "        current_rank += 1\n",
    "    rank_model[user] = current_rank\n",
    "    current_psi = psi"
   ]
  },
  {
   "cell_type": "code",
   "execution_count": 26,
   "metadata": {},
   "outputs": [],
   "source": [
    "del psi, current_rank, current_psi"
   ]
  },
  {
   "cell_type": "markdown",
   "metadata": {},
   "source": [
    "Compute mean distance."
   ]
  },
  {
   "cell_type": "code",
   "execution_count": 27,
   "metadata": {},
   "outputs": [],
   "source": [
    "# first compute distance per user\n",
    "dist = list()\n",
    "for user, rank in sorted(rank_emul.items(), key=itemgetter(1), reverse=True)[:N]:\n",
    "    dist.append(np.abs(rank - rank_model[user]))\n",
    "    \n",
    "# then sums of distances\n",
    "mean_dist = [ dist[0] + dist[1] ]\n",
    "for d in dist[2:]:\n",
    "    mean_dist.append(mean_dist[-1] + d)\n",
    "    \n",
    "# finally divide for mean distances\n",
    "for k in range(len(mean_dist)):\n",
    "    mean_dist[k] /= k+2\n",
    "\n",
    "# add to df\n",
    "df['mean_dist'] = mean_dist"
   ]
  },
  {
   "cell_type": "code",
   "execution_count": 28,
   "metadata": {},
   "outputs": [],
   "source": [
    "del user, rank, d, k, dist, mean_dist"
   ]
  },
  {
   "cell_type": "markdown",
   "metadata": {},
   "source": [
    "Plot."
   ]
  },
  {
   "cell_type": "code",
   "execution_count": 31,
   "metadata": {},
   "outputs": [
    {
     "data": {
      "image/png": "[encoded data removed]",
      "text/plain": [
       "<Figure size 432x288 with 1 Axes>"
      ]
     },
     "metadata": {
      "needs_background": "light"
     },
     "output_type": "display_data"
    },
    {
     "data": {
      "image/png": "[encoded data removed]",
      "text/plain": [
       "<Figure size 432x288 with 1 Axes>"
      ]
     },
     "metadata": {
      "needs_background": "light"
     },
     "output_type": "display_data"
    }
   ],
   "source": [
    "print(\"Plot mean distance...\")\n",
    "\n",
    "plt.plot(range(2, N+1), df['mean_dist'])\n",
    "plt.title(\"Mean distance between emul_rank and model_rank\")\n",
    "plt.xlabel(\"N\")\n",
    "plt.savefig(path + \"mean_dist.pdf\")\n",
    "plt.show()\n",
    "plt.close()\n",
    "\n",
    "plt.semilogx(range(2, N+1), df['mean_dist'])\n",
    "plt.title(\"Mean distance between emul_rank and model_rank\")\n",
    "plt.xlabel(\"log(N)\")\n",
    "plt.savefig(path + \"mean_dist_log.pdf\")\n",
    "plt.show()\n",
    "plt.close()"
   ]
  },
  {
   "cell_type": "markdown",
   "metadata": {},
   "source": [
    "## Common users proportion"
   ]
  },
  {
   "cell_type": "code",
   "execution_count": 39,
   "metadata": {},
   "outputs": [
    {
     "name": "stdout",
     "output_type": "stream",
     "text": [
      "Tps ex :  2.0309085845947266\n"
     ]
    }
   ],
   "source": [
    "print(\"Common users proportion...\")\n",
    "\n",
    "start = time()\n",
    "\n",
    "# les liste d'utilisateurs triés par psi décroissant (emul ou model) \n",
    "# /!\\ pas le même ordre\n",
    "users_emul = [ user for user,psi in sorted(rank_emul.items(), key=itemgetter(1), reverse=True) ]\n",
    "users_model = [ user for user,psi in sorted(rank_model.items(), key=itemgetter(1), reverse=True) ]\n",
    "\n",
    "# les users qu'on a vu (on commence avec les 2 premiers), emul et model\n",
    "seen_users_emul = set(users_emul[:2])\n",
    "seen_users_model = set(users_model[:2])\n",
    "\n",
    "# le nombre courant d'utilisateurs (uniques) qu'on a vu\n",
    "nb_users_seen = len(seen_users_emul.union(seen_users_model))\n",
    "\n",
    "# la taille de l'intersection courante et liste des proportions d'users communs\n",
    "current_intersect = len(seen_users_emul.intersection(seen_users_model))\n",
    "common_users_prop = [ current_intersect / nb_users_seen ]\n",
    "\n",
    "\n",
    "# on parcourt les users\n",
    "for n in range(2, N):\n",
    "    \n",
    "    # le psi emul et model\n",
    "    current_user_emul = users_emul[n]\n",
    "    current_user_model = users_model[n]\n",
    "    \n",
    "    # si les 2 users sont les mêmes alors ils sont jamais vu et intersect+1 et users_seen+1\n",
    "    if current_user_emul == current_user_model:\n",
    "        current_intersect += 1\n",
    "        nb_users_seen += 1\n",
    "        \n",
    "    # sinon\n",
    "    else:\n",
    "        \n",
    "        # si le user_emul a déjà été vu dans model ou pas\n",
    "        if current_user_emul in seen_users_model:\n",
    "            current_intersect += 1\n",
    "        else:\n",
    "            nb_users_seen += 1\n",
    "        \n",
    "        # si le user model a déjà été vu dans emul ou pas\n",
    "        if current_user_model in seen_users_emul:\n",
    "            current_intersect += 1\n",
    "        else:\n",
    "            nb_users_seen += 1\n",
    "    \n",
    "    # on update les listes\n",
    "    common_users_prop.append(current_intersect / n)\n",
    "    seen_users_emul.add(current_user_emul)\n",
    "    seen_users_model.add(current_user_model)\n",
    "\n",
    "    \n",
    "print(\"Tps ex : \", time()-start)\n",
    "\n",
    "# update df and del vars\n",
    "df['common_users_prop'] = common_users_prop"
   ]
  },
  {
   "cell_type": "code",
   "execution_count": 40,
   "metadata": {},
   "outputs": [],
   "source": [
    "del n, common_users_prop, seen_users_emul, seen_users_model, current_intersect, nb_users_seen"
   ]
  },
  {
   "cell_type": "code",
   "execution_count": 41,
   "metadata": {},
   "outputs": [
    {
     "data": {
      "text/html": [
       "<div>\n",
       "<style scoped>\n",
       "    .dataframe tbody tr th:only-of-type {\n",
       "        vertical-align: middle;\n",
       "    }\n",
       "\n",
       "    .dataframe tbody tr th {\n",
       "        vertical-align: top;\n",
       "    }\n",
       "\n",
       "    .dataframe thead th {\n",
       "        text-align: right;\n",
       "    }\n",
       "</style>\n",
       "<table border=\"1\" class=\"dataframe\">\n",
       "  <thead>\n",
       "    <tr style=\"text-align: right;\">\n",
       "      <th></th>\n",
       "      <th>N</th>\n",
       "      <th>last_psi_emul</th>\n",
       "      <th>last_psi_model</th>\n",
       "      <th>kendall</th>\n",
       "      <th>mean_dist</th>\n",
       "      <th>common_users_prop</th>\n",
       "    </tr>\n",
       "  </thead>\n",
       "  <tbody>\n",
       "    <tr>\n",
       "      <th>0</th>\n",
       "      <td>2</td>\n",
       "      <td>0.007922</td>\n",
       "      <td>0.010367</td>\n",
       "      <td>1.000000</td>\n",
       "      <td>3894.000000</td>\n",
       "      <td>0.333333</td>\n",
       "    </tr>\n",
       "    <tr>\n",
       "      <th>1</th>\n",
       "      <td>3</td>\n",
       "      <td>0.006430</td>\n",
       "      <td>0.007884</td>\n",
       "      <td>1.000000</td>\n",
       "      <td>3894.333333</td>\n",
       "      <td>0.200000</td>\n",
       "    </tr>\n",
       "    <tr>\n",
       "      <th>2</th>\n",
       "      <td>4</td>\n",
       "      <td>0.006418</td>\n",
       "      <td>0.006774</td>\n",
       "      <td>0.333333</td>\n",
       "      <td>3893.750000</td>\n",
       "      <td>0.600000</td>\n",
       "    </tr>\n",
       "    <tr>\n",
       "      <th>3</th>\n",
       "      <td>5</td>\n",
       "      <td>0.006025</td>\n",
       "      <td>0.006212</td>\n",
       "      <td>0.000000</td>\n",
       "      <td>3893.000000</td>\n",
       "      <td>1.000000</td>\n",
       "    </tr>\n",
       "    <tr>\n",
       "      <th>4</th>\n",
       "      <td>6</td>\n",
       "      <td>0.004151</td>\n",
       "      <td>0.004977</td>\n",
       "      <td>0.333333</td>\n",
       "      <td>3893.166667</td>\n",
       "      <td>0.714286</td>\n",
       "    </tr>\n",
       "  </tbody>\n",
       "</table>\n",
       "</div>"
      ],
      "text/plain": [
       "   N  last_psi_emul  last_psi_model   kendall    mean_dist  common_users_prop\n",
       "0  2       0.007922        0.010367  1.000000  3894.000000           0.333333\n",
       "1  3       0.006430        0.007884  1.000000  3894.333333           0.200000\n",
       "2  4       0.006418        0.006774  0.333333  3893.750000           0.600000\n",
       "3  5       0.006025        0.006212  0.000000  3893.000000           1.000000\n",
       "4  6       0.004151        0.004977  0.333333  3893.166667           0.714286"
      ]
     },
     "execution_count": 41,
     "metadata": {},
     "output_type": "execute_result"
    }
   ],
   "source": [
    "df.head()"
   ]
  },
  {
   "cell_type": "markdown",
   "metadata": {},
   "source": [
    "Plot."
   ]
  },
  {
   "cell_type": "code",
   "execution_count": 42,
   "metadata": {},
   "outputs": [
    {
     "data": {
      "image/png": "[encoded data removed]",
      "text/plain": [
       "<Figure size 432x288 with 1 Axes>"
      ]
     },
     "metadata": {
      "needs_background": "light"
     },
     "output_type": "display_data"
    },
    {
     "data": {
      "image/png": "[encoded data removed]",
      "text/plain": [
       "<Figure size 432x288 with 1 Axes>"
      ]
     },
     "metadata": {
      "needs_background": "light"
     },
     "output_type": "display_data"
    }
   ],
   "source": [
    "print(\"Plot common users proportion...\")\n",
    "\n",
    "plt.plot(range(2, N+1), df['common_users_prop'], label=\"common users prop.\")\n",
    "# plt.plot(range(2, N+1), [0.75]*(N-1), ls='-.', label=\"y = 0.75\")\n",
    "plt.title(\"Proportion of common users between emul and model psi lists\")\n",
    "plt.legend(loc='best', shadow=True)\n",
    "plt.xlabel(\"N\")\n",
    "plt.savefig(path + \"common_users_prop.pdf\")\n",
    "plt.show()\n",
    "plt.close()\n",
    "\n",
    "plt.semilogx(range(2, N+1), df['common_users_prop'], label=\"common users prop.\")\n",
    "# plt.plot(range(2, N+1), [0.75]*(N-1), ls='-.', label=\"y = 0.75\")\n",
    "plt.title(\"Proportion of common users between emul and model psi lists\")\n",
    "plt.legend(loc='best', shadow=True)\n",
    "plt.xlabel(\"log(N)\")\n",
    "plt.savefig(path + \"common_users_prop_log.pdf\")\n",
    "plt.show()\n",
    "plt.close()"
   ]
  },
  {
   "cell_type": "markdown",
   "metadata": {},
   "source": [
    "## Export dataframe"
   ]
  },
  {
   "cell_type": "code",
   "execution_count": 43,
   "metadata": {},
   "outputs": [],
   "source": [
    "print(\"Export dataframe...\")\n",
    "df.to_csv(path + \"compare_lists_df.txt\", sep=\",\", index=False)"
   ]
  }
 ],
 "metadata": {
  "kernelspec": {
   "display_name": "Python 3",
   "language": "python",
   "name": "python3"
  },
  "language_info": {
   "codemirror_mode": {
    "name": "ipython",
    "version": 3
   },
   "file_extension": ".py",
   "mimetype": "text/x-python",
   "name": "python",
   "nbconvert_exporter": "python",
   "pygments_lexer": "ipython3",
   "version": "3.7.2"
  }
 },
 "nbformat": 4,
 "nbformat_minor": 2
}
