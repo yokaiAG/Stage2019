{
 "cells": [
  {
   "cell_type": "markdown",
   "metadata": {},
   "source": [
    "# <center>COMPUTE PSI MODEL</center>"
   ]
  },
  {
   "cell_type": "code",
   "execution_count": 29,
   "metadata": {},
   "outputs": [],
   "source": [
    "import sys\n",
    "import numpy as np\n",
    "from operator import itemgetter\n",
    "from scipy.sparse.linalg import norm\n",
    "from scipy.sparse import dok_matrix, csr_matrix, dia_matrix\n",
    "from time import time"
   ]
  },
  {
   "cell_type": "markdown",
   "metadata": {},
   "source": [
    "Load data and outpath."
   ]
  },
  {
   "cell_type": "code",
   "execution_count": 47,
   "metadata": {},
   "outputs": [],
   "source": [
    "# datafile = str(sys.argv[1])\n",
    "# outdir = str(sys.argv[2])\n",
    "# eps = float(sys.argv[3])\n",
    "# maxiter = float(sys.argv[4])\n",
    "# datafile = \"../Datasets/wcano/wcano_tronc.txt\"\n",
    "\n",
    "eps = 0.001\n",
    "maxiter = 1000\n",
    "datafile = \"../Datasets/test/test_rtid_2.txt\""
   ]
  },
  {
   "cell_type": "markdown",
   "metadata": {},
   "source": [
    "## 1. Get graph and activity"
   ]
  },
  {
   "cell_type": "markdown",
   "metadata": {},
   "source": [
    "Create author and newid dict (We want the users ids to be 0, 1, 2, ..., N. Create dict `newid` where old ids are keys and new ids are values.)"
   ]
  },
  {
   "cell_type": "code",
   "execution_count": 48,
   "metadata": {},
   "outputs": [
    {
     "name": "stdout",
     "output_type": "stream",
     "text": [
      "Creating author and newid dict..."
     ]
    }
   ],
   "source": [
    "sys.stdout.write(\"Creating author and newid dict...\")\n",
    "\n",
    "Author, newid = dict(), dict()\n",
    "\n",
    "for line in open(datafile):\n",
    "    line = line.split()\n",
    "    twid, uid = int(line[0]), int(line[2])\n",
    "    Author[twid] = uid\n",
    "    if uid not in newid:\n",
    "        newid[uid] = -1\n",
    "        \n",
    "# create new ids as values of newid dict \n",
    "# using enumerate over sorted lsit of old ids\n",
    "for i,u in enumerate(sorted(newid.keys())):\n",
    "    newid[u] = i"
   ]
  },
  {
   "cell_type": "markdown",
   "metadata": {},
   "source": [
    "Get graph and activity."
   ]
  },
  {
   "cell_type": "code",
   "execution_count": 49,
   "metadata": {},
   "outputs": [
    {
     "name": "stdout",
     "output_type": "stream",
     "text": [
      "Getting graph and activity infos..."
     ]
    }
   ],
   "source": [
    "Lambda, Mu, Leaders, Followers = dict(), dict(), dict(), dict()\n",
    "FirstT = None\n",
    "\n",
    "sys.stdout.write(\"Getting graph and activity infos...\")\n",
    "# iterate\n",
    "for line in open(datafile):\n",
    "    \n",
    "    # split\n",
    "    line = line.split()\n",
    "    tstamp, uid, rtid = float(line[1]), newid[int(line[2])], int(line[3])\n",
    "    \n",
    "    # first timestamp\n",
    "    if FirstT == None:\n",
    "        FirstT = tstamp\n",
    "        \n",
    "    # new user ? add key to dicts\n",
    "    if uid not in Lambda:\n",
    "        Lambda[uid], Mu[uid], Leaders[uid], Followers[uid] = 0.0, 0.0, set(), set()\n",
    "    \n",
    "    # treat rtid\n",
    "    if rtid == -1:\n",
    "        Lambda[uid] += 1.0\n",
    "    else: \n",
    "        Mu[uid] += 1.0\n",
    "        if rtid in Author:\n",
    "            auth = newid[Author[rtid]]\n",
    "            Leaders[uid].add(auth)\n",
    "            if auth not in Lambda:\n",
    "                Lambda[auth], Mu[auth], Leaders[auth], Followers[auth] = 0.0, 0.0, set(), {uid}\n",
    "            else:\n",
    "                Followers[auth].add(uid)\n",
    "                \n",
    "# last timestamp        \n",
    "LastT = tstamp"
   ]
  },
  {
   "cell_type": "markdown",
   "metadata": {},
   "source": [
    "Divide lambdas and mus by total time."
   ]
  },
  {
   "cell_type": "code",
   "execution_count": 50,
   "metadata": {},
   "outputs": [],
   "source": [
    "T = float(LastT - FirstT)\n",
    "for u in Lambda:\n",
    "    Lambda[u] /= T\n",
    "    Mu[u] /= T"
   ]
  },
  {
   "cell_type": "markdown",
   "metadata": {},
   "source": [
    "Get nb of users."
   ]
  },
  {
   "cell_type": "code",
   "execution_count": 51,
   "metadata": {},
   "outputs": [],
   "source": [
    "N = len(Lambda)"
   ]
  },
  {
   "cell_type": "markdown",
   "metadata": {},
   "source": [
    "Del useless variables to save RAM."
   ]
  },
  {
   "cell_type": "code",
   "execution_count": 52,
   "metadata": {},
   "outputs": [],
   "source": [
    "del Author, FirstT, LastT, auth, i, line, rtid, tstamp, twid, u, uid"
   ]
  },
  {
   "cell_type": "markdown",
   "metadata": {},
   "source": [
    "## 2. Computing $\\mathbf{p_i}$"
   ]
  },
  {
   "cell_type": "markdown",
   "metadata": {},
   "source": [
    "We do not compute matrix $\\mathbf{C}$ and vectors $\\mathbf{d_i}$ yet. We generate vectors $\\mathbf{b_i}$ on the fly for each user."
   ]
  },
  {
   "cell_type": "markdown",
   "metadata": {},
   "source": [
    "### 2.1 Create $\\mathbf{A}$"
   ]
  },
  {
   "cell_type": "code",
   "execution_count": 53,
   "metadata": {},
   "outputs": [
    {
     "name": "stdout",
     "output_type": "stream",
     "text": [
      "Create matrix A...\n"
     ]
    }
   ],
   "source": [
    "print(\"Create matrix A...\")\n",
    "A = dok_matrix((N, N))\n",
    "for j in Lambda:\n",
    "    denominator = np.sum([Lambda[l] + Mu[l] for l in Leaders[j]])\n",
    "    for k in Leaders[j]:\n",
    "        A[j,k] =  Mu[k] / denominator\n",
    "A = csr_matrix(A) # convert to csr matrix for faster arithmetic operations"
   ]
  },
  {
   "cell_type": "markdown",
   "metadata": {},
   "source": [
    "### 2.2 Fixed point iterations"
   ]
  },
  {
   "cell_type": "code",
   "execution_count": 54,
   "metadata": {},
   "outputs": [
    {
     "name": "stdout",
     "output_type": "stream",
     "text": [
      "Fixed point iteration nb 8 for user 2... eps=0.001, elapsed time=0.053\r"
     ]
    }
   ],
   "source": [
    "p = dict()\n",
    "start = time()\n",
    "\n",
    "# loop over users\n",
    "for i in Lambda:\n",
    "    \n",
    "    # create vector b_i\n",
    "    bi = dok_matrix((N,1))\n",
    "    for j in Followers[i]:\n",
    "        denominator = np.sum([Lambda[l] + Mu[l] for l in Leaders[j]])\n",
    "        bi[j,0] = Lambda[i] / denominator\n",
    "    bi = csr_matrix(bi) # convert\n",
    "\n",
    "    # initialize p_i\n",
    "    pi_0 = bi\n",
    "    pi_1 = A.dot(pi_0) + bi\n",
    "    nb_iter = 0\n",
    "    \n",
    "    # update p_i\n",
    "    while norm(pi_0 - pi_1) > eps and nb_iter < maxiter:\n",
    "        sys.stdout.flush()\n",
    "        sys.stdout.write(\"Fixed point iteration nb {} for user {}... eps={}, elapsed time={:.3f}\\r\".format(nb_iter, i, eps, time()-start))\n",
    "        pi_0 = pi_1\n",
    "        pi_1 = A.dot(pi_0) + bi\n",
    "        nb_iter += 1\n",
    "    \n",
    "    # add result to p dict\n",
    "    p[i] = pi_1"
   ]
  },
  {
   "cell_type": "markdown",
   "metadata": {},
   "source": [
    "Del useless variables to save RAM."
   ]
  },
  {
   "cell_type": "code",
   "execution_count": 55,
   "metadata": {},
   "outputs": [],
   "source": [
    "del A, Followers, Leaders, T, bi, denominator, i, j, k, nb_iter, pi_0, pi_1, start, maxiter, eps"
   ]
  },
  {
   "cell_type": "markdown",
   "metadata": {},
   "source": [
    "## 2. Computing $\\mathbf{q_i}$"
   ]
  },
  {
   "cell_type": "markdown",
   "metadata": {},
   "source": [
    "Now we can easily get the $\\mathbf{q_i}$ using Eq (13) of Thm 2."
   ]
  },
  {
   "cell_type": "markdown",
   "metadata": {},
   "source": [
    "### 2.1 Create $\\mathbf{C}$"
   ]
  },
  {
   "cell_type": "code",
   "execution_count": 56,
   "metadata": {},
   "outputs": [
    {
     "name": "stdout",
     "output_type": "stream",
     "text": [
      "Create matrix C...\n"
     ]
    }
   ],
   "source": [
    "print(\"Create matrix C...\")\n",
    "C = dok_matrix((N, N))\n",
    "for j in Lambda:\n",
    "    C[j,j] = Mu[j] / (Lambda[j] + Mu[j])\n",
    "C = dia_matrix(C) # convert to csr matrix for faster arithmetic operations"
   ]
  },
  {
   "cell_type": "markdown",
   "metadata": {},
   "source": [
    "### 2.2 Compute q from C, p and d"
   ]
  },
  {
   "cell_type": "code",
   "execution_count": 57,
   "metadata": {},
   "outputs": [
    {
     "name": "stdout",
     "output_type": "stream",
     "text": [
      "Computing q_2... elapsed time=0.004\r"
     ]
    }
   ],
   "source": [
    "q = dict()\n",
    "start = time()\n",
    "\n",
    "# loop over users\n",
    "for i in Lambda:\n",
    "    \n",
    "    sys.stdout.flush()\n",
    "    sys.stdout.write(\"Computing q_{}... elapsed time={:.3f}\\r\".format(i, time()-start))\n",
    "    \n",
    "    # create vector d_i\n",
    "    di = dok_matrix((N,1))\n",
    "    di[i,0] = Lambda[i] / (Lambda[i] + Mu[i])\n",
    "    di = csr_matrix(di) # convert\n",
    "\n",
    "    # compute q_i\n",
    "    q[i] = C.dot(p[i]) + di\n",
    "    q[i][i,0] = 0 # force 0 on index i for pis computing"
   ]
  },
  {
   "cell_type": "markdown",
   "metadata": {},
   "source": [
    "Del useless variables."
   ]
  },
  {
   "cell_type": "code",
   "execution_count": 60,
   "metadata": {},
   "outputs": [],
   "source": [
    "del C, Lambda, Mu, di, i, j, start, p"
   ]
  },
  {
   "cell_type": "markdown",
   "metadata": {},
   "source": [
    "## 3. Compute $\\Psi$ and write to out"
   ]
  },
  {
   "cell_type": "markdown",
   "metadata": {},
   "source": [
    "Compute Psi."
   ]
  },
  {
   "cell_type": "code",
   "execution_count": 61,
   "metadata": {
    "scrolled": true
   },
   "outputs": [
    {
     "name": "stdout",
     "output_type": "stream",
     "text": [
      "Computing Psi...\n",
      "\n"
     ]
    }
   ],
   "source": [
    "print(\"Computing Psi...\\n\")\n",
    "Psi = { i: (N/(N-1))*q[i].mean() for i in q }"
   ]
  },
  {
   "cell_type": "markdown",
   "metadata": {},
   "source": [
    "Del useless variables."
   ]
  },
  {
   "cell_type": "code",
   "execution_count": 28,
   "metadata": {},
   "outputs": [],
   "source": [
    "del csr_matrix, dia_matrix, dok_matrix, q, time"
   ]
  },
  {
   "cell_type": "markdown",
   "metadata": {},
   "source": [
    "Sorts psis and create `oldid` dict to retrieve original ids."
   ]
  },
  {
   "cell_type": "code",
   "execution_count": 234,
   "metadata": {},
   "outputs": [
    {
     "name": "stdout",
     "output_type": "stream",
     "text": [
      "Sorting results..."
     ]
    }
   ],
   "source": [
    "sys.stdout.write(\"Sorting results...\")\n",
    "sorted_psis = sorted(Psi.items(), key=itemgetter(1), reverse=True)\n",
    "del Psi\n",
    "\n",
    "sys.stdout.write(\"Creating oldid dict...\")\n",
    "oldid = { u:v for v,u in newid.items() }\n",
    "del newid"
   ]
  },
  {
   "cell_type": "markdown",
   "metadata": {},
   "source": [
    "Write results on outfile."
   ]
  },
  {
   "cell_type": "code",
   "execution_count": null,
   "metadata": {},
   "outputs": [],
   "source": [
    "sys.stdout.write(\"Writing results...\")\n",
    "out = open(outdir + \"PsiModel.txt\")\n",
    "for user,psi in sorted_psis:\n",
    "    out.write(oldid[user], psi)\n",
    "out.close()"
   ]
  }
 ],
 "metadata": {
  "kernelspec": {
   "display_name": "Python 3",
   "language": "python",
   "name": "python3"
  },
  "language_info": {
   "codemirror_mode": {
    "name": "ipython",
    "version": 3
   },
   "file_extension": ".py",
   "mimetype": "text/x-python",
   "name": "python",
   "nbconvert_exporter": "python",
   "pygments_lexer": "ipython3",
   "version": "3.7.2"
  }
 },
 "nbformat": 4,
 "nbformat_minor": 2
}
