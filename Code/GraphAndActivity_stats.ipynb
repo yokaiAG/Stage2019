{
 "cells": [
  {
   "cell_type": "markdown",
   "metadata": {},
   "source": [
    "# <center> Graph and Activity stats from dataset"
   ]
  },
  {
   "cell_type": "markdown",
   "metadata": {},
   "source": [
    "Imports."
   ]
  },
  {
   "cell_type": "code",
   "execution_count": 24,
   "metadata": {},
   "outputs": [],
   "source": [
    "import os\n",
    "import util\n",
    "from time import time\n",
    "import numpy as np\n",
    "import networkx as nx\n",
    "import matplotlib.pyplot as plt"
   ]
  },
  {
   "cell_type": "markdown",
   "metadata": {},
   "source": [
    "Choose dataset and edit `out_path`. <b> Attention ! </b> Si `truegraph` la liste d'adjacence doit être au format $leader follower$."
   ]
  },
  {
   "cell_type": "code",
   "execution_count": 25,
   "metadata": {},
   "outputs": [],
   "source": [
    "dataset = 'wcano'\n",
    "cascade = False\n",
    "\n",
    "data_path, out_path, RTU, truegraph = util.load_data(dataset)\n",
    "\n",
    "if truegraph:\n",
    "    out_path += \"truegraph/\"\n",
    "elif RTU:\n",
    "    out_path += \"rtu/\"\n",
    "elif cascade:\n",
    "    out_path += \"cascade/\"\n",
    "else:\n",
    "    out_path += \"rtid/\""
   ]
  },
  {
   "cell_type": "markdown",
   "metadata": {},
   "source": [
    "Open outfile (and create out folder if necessary)."
   ]
  },
  {
   "cell_type": "code",
   "execution_count": 26,
   "metadata": {},
   "outputs": [],
   "source": [
    "try:\n",
    "    graph_stats = open(out_path + \"graph_stats.txt\", 'w')\n",
    "except FileNotFoundError:\n",
    "    os.mkdir(out_path)\n",
    "    graph_stats = open(out_path + \"graph_stats.txt\", 'w')"
   ]
  },
  {
   "cell_type": "markdown",
   "metadata": {},
   "source": [
    "### Graph construction\n",
    "Construit un graphe nx à partir du dataset."
   ]
  },
  {
   "cell_type": "code",
   "execution_count": 27,
   "metadata": {},
   "outputs": [],
   "source": [
    "G = util.get_nx_graph(data_path, RTU, cascade, truegraph)"
   ]
  },
  {
   "cell_type": "markdown",
   "metadata": {},
   "source": [
    "### Basic stats"
   ]
  },
  {
   "cell_type": "code",
   "execution_count": 28,
   "metadata": {},
   "outputs": [],
   "source": [
    "%%capture cap\n",
    "print(\"Number of nodes: {}\".format(G.number_of_nodes()))\n",
    "print(\"Number of edges: {}\".format(G.number_of_edges()))"
   ]
  },
  {
   "cell_type": "code",
   "execution_count": 29,
   "metadata": {},
   "outputs": [
    {
     "name": "stdout",
     "output_type": "stream",
     "text": [
      "Number of nodes: 3768028\n",
      "Number of edges: 7721713\n",
      "\n"
     ]
    },
    {
     "data": {
      "text/plain": [
       "51"
      ]
     },
     "execution_count": 29,
     "metadata": {},
     "output_type": "execute_result"
    }
   ],
   "source": [
    "print(cap)\n",
    "graph_stats.write(cap.stdout+'\\n')"
   ]
  },
  {
   "cell_type": "markdown",
   "metadata": {},
   "source": [
    "### Degrees stats"
   ]
  },
  {
   "cell_type": "markdown",
   "metadata": {},
   "source": [
    "Les degrés."
   ]
  },
  {
   "cell_type": "code",
   "execution_count": 30,
   "metadata": {},
   "outputs": [],
   "source": [
    "deg = {'degrees': [x[1] for x in G.degree()], \n",
    "       'in_degrees': [x[1] for x in G.in_degree()],\n",
    "       'out_degrees': [x[1] for x in G.out_degree()]}"
   ]
  },
  {
   "cell_type": "markdown",
   "metadata": {},
   "source": [
    "Calcul des stats."
   ]
  },
  {
   "cell_type": "code",
   "execution_count": 31,
   "metadata": {},
   "outputs": [],
   "source": [
    "%%capture cap\n",
    "\n",
    "for d_type in deg.keys():\n",
    "    d = deg[d_type]\n",
    "    print(\"----- Stats for {} -----\".format(d_type))\n",
    "    print(\"Mean: \", np.mean(d))\n",
    "    print(\"Median: \", np.median(d))\n",
    "    print(\"Min: \", np.min(d))\n",
    "    print(\"Max: \", np.max(d))\n",
    "    for percent in [25, 75, 90, 95, 99]:\n",
    "        print(\"{}% <= {}\".format(percent, np.percentile(d, percent)))\n",
    "    print()"
   ]
  },
  {
   "cell_type": "markdown",
   "metadata": {},
   "source": [
    "Print and save."
   ]
  },
  {
   "cell_type": "code",
   "execution_count": 32,
   "metadata": {
    "scrolled": true
   },
   "outputs": [
    {
     "name": "stdout",
     "output_type": "stream",
     "text": [
      "----- Stats for degrees -----\n",
      "Mean:  4.098543322926475\n",
      "Median:  1.0\n",
      "Min:  1\n",
      "Max:  264518\n",
      "25% <= 1.0\n",
      "75% <= 2.0\n",
      "90% <= 5.0\n",
      "95% <= 8.0\n",
      "99% <= 24.0\n",
      "\n",
      "----- Stats for in_degrees -----\n",
      "Mean:  2.0492716614632376\n",
      "Median:  1.0\n",
      "Min:  0\n",
      "Max:  5587\n",
      "25% <= 1.0\n",
      "75% <= 2.0\n",
      "90% <= 4.0\n",
      "95% <= 6.0\n",
      "99% <= 15.0\n",
      "\n",
      "----- Stats for out_degrees -----\n",
      "Mean:  2.0492716614632376\n",
      "Median:  0.0\n",
      "Min:  0\n",
      "Max:  264512\n",
      "25% <= 0.0\n",
      "75% <= 0.0\n",
      "90% <= 1.0\n",
      "95% <= 2.0\n",
      "99% <= 11.0\n",
      "\n",
      "\n"
     ]
    },
    {
     "data": {
      "text/plain": [
       "446"
      ]
     },
     "execution_count": 32,
     "metadata": {},
     "output_type": "execute_result"
    }
   ],
   "source": [
    "print(cap)\n",
    "graph_stats.write(cap.stdout+'\\n')"
   ]
  },
  {
   "cell_type": "markdown",
   "metadata": {},
   "source": [
    "### Degrees distribution\n",
    "On affiche et on enregistre la distribution des degrés."
   ]
  },
  {
   "cell_type": "code",
   "execution_count": 33,
   "metadata": {
    "scrolled": true
   },
   "outputs": [
    {
     "data": {
      "image/png": "[encoded data removed]",
      "text/plain": [
       "<Figure size 432x288 with 1 Axes>"
      ]
     },
     "metadata": {
      "needs_background": "light"
     },
     "output_type": "display_data"
    },
    {
     "data": {
      "image/png": "[encoded data removed]",
      "text/plain": [
       "<Figure size 432x288 with 1 Axes>"
      ]
     },
     "metadata": {
      "needs_background": "light"
     },
     "output_type": "display_data"
    },
    {
     "data": {
      "image/png": "[encoded data removed]",
      "text/plain": [
       "<Figure size 432x288 with 1 Axes>"
      ]
     },
     "metadata": {
      "needs_background": "light"
     },
     "output_type": "display_data"
    }
   ],
   "source": [
    "for d_type in deg.keys():\n",
    "    \n",
    "    # on récupère les degrés\n",
    "    d = np.array(sorted(deg[d_type]))\n",
    "    \n",
    "    # on compte les occurences\n",
    "    nb_occ = np.bincount(d)\n",
    "    nb_occ = nb_occ[nb_occ > 0]\n",
    "\n",
    "    # on récupère les valeurs uniques de d\n",
    "    d = np.unique(d)\n",
    "\n",
    "    # plot\n",
    "    plt.loglog(d, nb_occ, color='blue')\n",
    "    \n",
    "    # save & show\n",
    "    plt.savefig(out_path + d_type + \"_distrib_log.pdf\")\n",
    "    plt.show()\n",
    "    plt.close()"
   ]
  },
  {
   "cell_type": "markdown",
   "metadata": {},
   "source": [
    "### Connected components basic stats"
   ]
  },
  {
   "cell_type": "code",
   "execution_count": 34,
   "metadata": {},
   "outputs": [
    {
     "ename": "NameError",
     "evalue": "name 'start' is not defined",
     "output_type": "error",
     "traceback": [
      "\u001b[1;31m---------------------------------------------------------------------------\u001b[0m",
      "\u001b[1;31mNameError\u001b[0m                                 Traceback (most recent call last)",
      "\u001b[1;32m<ipython-input-34-ac2698249561>\u001b[0m in \u001b[0;36m<module>\u001b[1;34m\u001b[0m\n\u001b[0;32m      4\u001b[0m \u001b[1;33m\u001b[0m\u001b[0m\n\u001b[0;32m      5\u001b[0m print(\"Number of weakly connected components: {} (calculated in {})\"\n\u001b[1;32m----> 6\u001b[1;33m       .format(len(cc_sizes['weakly']), time()-start))\n\u001b[0m\u001b[0;32m      7\u001b[0m print(\"Number of strongly connected components: {} (calculated in {})\"\n\u001b[0;32m      8\u001b[0m       .format(len(cc_sizes['strongly']), time()-start))\n",
      "\u001b[1;31mNameError\u001b[0m: name 'start' is not defined"
     ]
    }
   ],
   "source": [
    "%%capture cap\n",
    "\n",
    "start = time()\n",
    "cc_sizes = {'weakly': [len(c) for c in nx.weakly_connected_components(G)],\n",
    "            'strongly': [len(c) for c in nx.strongly_connected_components(G)]}\n",
    "\n",
    "print(\"Number of weakly connected components: {} (calculated in {})\"\n",
    "      .format(len(cc_sizes['weakly']), time()-start))\n",
    "print(\"Number of strongly connected components: {} (calculated in {})\"\n",
    "      .format(len(cc_sizes['strongly']), time()-start))"
   ]
  },
  {
   "cell_type": "code",
   "execution_count": 35,
   "metadata": {},
   "outputs": [
    {
     "name": "stdout",
     "output_type": "stream",
     "text": [
      "\n"
     ]
    },
    {
     "data": {
      "text/plain": [
       "1"
      ]
     },
     "execution_count": 35,
     "metadata": {},
     "output_type": "execute_result"
    }
   ],
   "source": [
    "print(cap)\n",
    "graph_stats.write(cap.stdout+'\\n')"
   ]
  },
  {
   "cell_type": "markdown",
   "metadata": {},
   "source": [
    "### Connected components sizes stats"
   ]
  },
  {
   "cell_type": "code",
   "execution_count": 36,
   "metadata": {},
   "outputs": [],
   "source": [
    "%%capture cap\n",
    "\n",
    "for s_type in cc_sizes.keys():\n",
    "    s = cc_sizes[s_type]\n",
    "    print(\"----- Stats for {} connected components sizes -----\".format(s_type))\n",
    "    print(\"Mean: \", np.mean(s))\n",
    "    print(\"Median: \", np.median(s))\n",
    "    print(\"Min: \", np.min(s))\n",
    "    print(\"Max: \", np.max(s))\n",
    "    for percent in [25, 75, 90, 95, 99]:\n",
    "        print(\"{}% <= {}\".format(percent, np.percentile(s, percent)))\n",
    "    print()"
   ]
  },
  {
   "cell_type": "code",
   "execution_count": 37,
   "metadata": {
    "scrolled": true
   },
   "outputs": [
    {
     "name": "stdout",
     "output_type": "stream",
     "text": [
      "----- Stats for weakly connected components sizes -----\n",
      "Mean:  68.60314974965863\n",
      "Median:  2.0\n",
      "Min:  2\n",
      "Max:  3638104\n",
      "25% <= 2.0\n",
      "75% <= 2.0\n",
      "90% <= 3.0\n",
      "95% <= 4.0\n",
      "99% <= 6.0\n",
      "\n",
      "----- Stats for strongly connected components sizes -----\n",
      "Mean:  1.017468299536337\n",
      "Median:  1.0\n",
      "Min:  1\n",
      "Max:  58913\n",
      "25% <= 1.0\n",
      "75% <= 1.0\n",
      "90% <= 1.0\n",
      "95% <= 1.0\n",
      "99% <= 1.0\n",
      "\n",
      "\n"
     ]
    },
    {
     "data": {
      "text/plain": [
       "345"
      ]
     },
     "execution_count": 37,
     "metadata": {},
     "output_type": "execute_result"
    }
   ],
   "source": [
    "print(cap)\n",
    "graph_stats.write(cap.stdout+'\\n')"
   ]
  },
  {
   "cell_type": "markdown",
   "metadata": {},
   "source": [
    "### Connected components sizes distrib\n",
    "Encore une fois on ne garde que les valeurs <p%tile."
   ]
  },
  {
   "cell_type": "code",
   "execution_count": 38,
   "metadata": {
    "scrolled": true
   },
   "outputs": [
    {
     "data": {
      "image/png": "[encoded data removed]",
      "text/plain": [
       "<Figure size 432x288 with 1 Axes>"
      ]
     },
     "metadata": {
      "needs_background": "light"
     },
     "output_type": "display_data"
    },
    {
     "data": {
      "image/png": "[encoded data removed]",
      "text/plain": [
       "<Figure size 432x288 with 1 Axes>"
      ]
     },
     "metadata": {
      "needs_background": "light"
     },
     "output_type": "display_data"
    }
   ],
   "source": [
    "for s_type in cc_sizes.keys():\n",
    "\n",
    "    # on récupère les valeurs\n",
    "    d = np.array(sorted(cc_sizes[s_type]))\n",
    "    \n",
    "    # on compte les occurences\n",
    "    nb_occ = np.bincount(d)\n",
    "    nb_occ = nb_occ[nb_occ > 0]\n",
    "\n",
    "    # on récupère les valeurs uniques de d\n",
    "    d = np.unique(d)\n",
    "\n",
    "    # plot\n",
    "    plt.loglog(d, nb_occ, color='blue')\n",
    "    \n",
    "    # save & show\n",
    "    plt.savefig(out_path + \"{}_connected_components_sizes_distrib_log.pdf\".format(s_type))\n",
    "    plt.show()\n",
    "    plt.close()"
   ]
  },
  {
   "cell_type": "markdown",
   "metadata": {},
   "source": [
    "### Close graph_stats"
   ]
  },
  {
   "cell_type": "code",
   "execution_count": 39,
   "metadata": {},
   "outputs": [],
   "source": [
    "graph_stats.close()"
   ]
  },
  {
   "cell_type": "markdown",
   "metadata": {},
   "source": [
    "# Activity"
   ]
  },
  {
   "cell_type": "markdown",
   "metadata": {},
   "source": [
    "### Nb tweets/retweets/retweeted stats"
   ]
  },
  {
   "cell_type": "markdown",
   "metadata": {},
   "source": [
    "On compte le nb de tweets, retweets et retweeted par utilisateur."
   ]
  },
  {
   "cell_type": "code",
   "execution_count": 40,
   "metadata": {},
   "outputs": [],
   "source": [
    "count = dict()\n",
    "count['tweets'], count['retweets'], count['retweeted'], total_time = util.get_activity(\n",
    "    data_path, RTU, cascade, divide_by_time=False, retweeted=True)"
   ]
  },
  {
   "cell_type": "markdown",
   "metadata": {},
   "source": [
    "On affiche et on enregistre."
   ]
  },
  {
   "cell_type": "code",
   "execution_count": 41,
   "metadata": {},
   "outputs": [],
   "source": [
    "%%capture cap\n",
    "\n",
    "for count_type in count.keys():\n",
    "    c = np.array([*count[count_type].values()])\n",
    "    print(\"----- Stats for {} per user -----\".format(count_type))\n",
    "    print(\"Total: \", c.sum())\n",
    "    print(\"Mean: \", np.mean(c))\n",
    "    print(\"Median: \", np.median(c))\n",
    "    print(\"Min: \", np.min(c))\n",
    "    maximum = np.max(c)\n",
    "    print(\"Max: {} (user {})\".format(maximum, [u for u in count['tweets'] if count[count_type][u]==maximum]))\n",
    "    for percent in [25, 75, 90, 95, 99]:\n",
    "        print(\"{}% <= {}\".format(percent, np.percentile(c, percent)))\n",
    "    print(\"Nb users with at least 1: \", c[c>0].shape[0])\n",
    "    print(\"Nb users with 0: \", c[c==0].shape[0])\n",
    "    print()"
   ]
  },
  {
   "cell_type": "code",
   "execution_count": 42,
   "metadata": {
    "scrolled": true
   },
   "outputs": [
    {
     "name": "stdout",
     "output_type": "stream",
     "text": [
      "----- Stats for tweets per user -----\n",
      "Total:  10428275\n",
      "Mean:  1.7965180030371861\n",
      "Median:  0.0\n",
      "Min:  0\n",
      "Max: 23777 (user [682613])\n",
      "25% <= 0.0\n",
      "75% <= 1.0\n",
      "90% <= 3.0\n",
      "95% <= 6.0\n",
      "99% <= 22.0\n",
      "Nb users with at least 1:  2317293\n",
      "Nb users with 0:  3487422\n",
      "\n",
      "----- Stats for retweets per user -----\n",
      "Total:  15249762\n",
      "Mean:  2.6271336318837357\n",
      "Median:  1.0\n",
      "Min:  0\n",
      "Max: 12769 (user [119928])\n",
      "25% <= 1.0\n",
      "75% <= 2.0\n",
      "90% <= 5.0\n",
      "95% <= 9.0\n",
      "99% <= 30.0\n",
      "Nb users with at least 1:  4482857\n",
      "Nb users with 0:  1321858\n",
      "\n",
      "----- Stats for retweeted per user -----\n",
      "Total:  11339937\n",
      "Mean:  1.9535734312537307\n",
      "Median:  0.0\n",
      "Min:  0\n",
      "Max: 735009 (user [11604])\n",
      "25% <= 0.0\n",
      "75% <= 0.0\n",
      "90% <= 0.0\n",
      "95% <= 1.0\n",
      "99% <= 7.0\n",
      "Nb users with at least 1:  405236\n",
      "Nb users with 0:  5399479\n",
      "\n",
      "\n"
     ]
    }
   ],
   "source": [
    "print(cap)\n",
    "with open(out_path + \"tweetsRetweets_stats.txt\", 'w') as out:\n",
    "    out.write(cap.stdout)\n",
    "out.close()"
   ]
  },
  {
   "cell_type": "markdown",
   "metadata": {},
   "source": [
    "### Nb tweets/retweets/retweeted distrib"
   ]
  },
  {
   "cell_type": "code",
   "execution_count": 43,
   "metadata": {
    "scrolled": true
   },
   "outputs": [
    {
     "data": {
      "image/png": "[encoded data removed]",
      "text/plain": [
       "<Figure size 432x288 with 1 Axes>"
      ]
     },
     "metadata": {
      "needs_background": "light"
     },
     "output_type": "display_data"
    },
    {
     "data": {
      "image/png": "[encoded data removed]",
      "text/plain": [
       "<Figure size 432x288 with 1 Axes>"
      ]
     },
     "metadata": {
      "needs_background": "light"
     },
     "output_type": "display_data"
    },
    {
     "data": {
      "image/png": "[encoded data removed]",
      "text/plain": [
       "<Figure size 432x288 with 1 Axes>"
      ]
     },
     "metadata": {
      "needs_background": "light"
     },
     "output_type": "display_data"
    }
   ],
   "source": [
    "for count_type in count.keys():\n",
    "   \n",
    "    # on récupère les valeurs\n",
    "    d = np.array(sorted([*count[count_type].values()]))\n",
    "    \n",
    "    # on compte les occurences\n",
    "    nb_occ = np.bincount(d)\n",
    "    nb_occ = nb_occ[nb_occ > 0]\n",
    "\n",
    "    # on récupère les valeurs uniques de d\n",
    "    d = np.unique(d)\n",
    "\n",
    "    # plot\n",
    "    plt.loglog(d, nb_occ, color='blue')\n",
    "    \n",
    "    # save & show\n",
    "    plt.savefig(out_path + \"number_of_{}_distrib_log.pdf\".format(count_type))\n",
    "    plt.show()\n",
    "    plt.close()"
   ]
  },
  {
   "cell_type": "markdown",
   "metadata": {},
   "source": [
    "### $\\lambda, \\mu, \\nu$ stats"
   ]
  },
  {
   "cell_type": "code",
   "execution_count": 44,
   "metadata": {},
   "outputs": [],
   "source": [
    "activity = {'lambda': np.array([*count['tweets'].values()]) / total_time, \n",
    "            'mu': np.array([*count['retweets'].values()]) / total_time, \n",
    "            'nu': np.array([*count['retweeted'].values()]) / total_time}"
   ]
  },
  {
   "cell_type": "code",
   "execution_count": 45,
   "metadata": {},
   "outputs": [],
   "source": [
    "%%capture cap\n",
    "\n",
    "for act_type in activity.keys():\n",
    "    c = activity[act_type]\n",
    "    print(\"----- Stats for {} -----\".format(act_type))\n",
    "    print(\"Mean: \", np.mean(c))\n",
    "    print(\"Median: \", np.median(c))\n",
    "    print(\"Min: \", np.min(c))\n",
    "    maximum = np.max(c)\n",
    "    print(\"Max: \", np.max(c))\n",
    "    for percent in [25, 75, 90, 95, 99]:\n",
    "        print(\"{}% <= {}\".format(percent, np.percentile(c, percent)))\n",
    "    print(\"Nb users with >0: \", c[c>0].shape[0])\n",
    "    print(\"Nb users with 0: \", c[c==0].shape[0])\n",
    "    print()"
   ]
  },
  {
   "cell_type": "code",
   "execution_count": 46,
   "metadata": {
    "scrolled": true
   },
   "outputs": [
    {
     "name": "stdout",
     "output_type": "stream",
     "text": [
      "----- Stats for lambda -----\n",
      "Mean:  2.903280913793351e-07\n",
      "Median:  0.0\n",
      "Min:  0.0\n",
      "Max:  0.0038425059014471656\n",
      "25% <= 0.0\n",
      "75% <= 1.6160600165904722e-07\n",
      "90% <= 4.848180049771416e-07\n",
      "95% <= 9.696360099542833e-07\n",
      "99% <= 3.5553320364990386e-06\n",
      "Nb users with >0:  2317293\n",
      "Nb users with 0:  3487422\n",
      "\n",
      "----- Stats for mu -----\n",
      "Mean:  4.245605620727427e-07\n",
      "Median:  1.6160600165904722e-07\n",
      "Min:  0.0\n",
      "Max:  0.002063547035184374\n",
      "25% <= 1.6160600165904722e-07\n",
      "75% <= 3.2321200331809444e-07\n",
      "90% <= 8.08030008295236e-07\n",
      "95% <= 1.454454014931425e-06\n",
      "99% <= 4.848180049771416e-06\n",
      "Nb users with >0:  4482857\n",
      "Nb users with 0:  1321858\n",
      "\n",
      "----- Stats for nu -----\n",
      "Mean:  3.157091911722603e-07\n",
      "Median:  0.0\n",
      "Min:  0.0\n",
      "Max:  0.11878186567341463\n",
      "25% <= 0.0\n",
      "75% <= 0.0\n",
      "90% <= 0.0\n",
      "95% <= 1.6160600165904722e-07\n",
      "99% <= 1.1312420116133305e-06\n",
      "Nb users with >0:  405236\n",
      "Nb users with 0:  5399479\n",
      "\n",
      "\n"
     ]
    }
   ],
   "source": [
    "print(cap)\n",
    "with open(out_path + \"activity_stats.txt\", 'w') as out:\n",
    "    out.write(cap.stdout)\n",
    "out.close()"
   ]
  },
  {
   "cell_type": "code",
   "execution_count": null,
   "metadata": {},
   "outputs": [],
   "source": []
  }
 ],
 "metadata": {
  "kernelspec": {
   "display_name": "Python 3",
   "language": "python",
   "name": "python3"
  },
  "language_info": {
   "codemirror_mode": {
    "name": "ipython",
    "version": 3
   },
   "file_extension": ".py",
   "mimetype": "text/x-python",
   "name": "python",
   "nbconvert_exporter": "python",
   "pygments_lexer": "ipython3",
   "version": "3.7.2"
  }
 },
 "nbformat": 4,
 "nbformat_minor": 2
}
