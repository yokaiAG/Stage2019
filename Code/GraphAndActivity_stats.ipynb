{
 "cells": [
  {
   "cell_type": "markdown",
   "metadata": {},
   "source": [
    "# <center> Graph and Activity stats from dataset"
   ]
  },
  {
   "cell_type": "markdown",
   "metadata": {},
   "source": [
    "Imports."
   ]
  },
  {
   "cell_type": "code",
   "execution_count": 1,
   "metadata": {},
   "outputs": [],
   "source": [
    "import os\n",
    "import util\n",
    "from time import time\n",
    "import numpy as np\n",
    "import networkx as nx\n",
    "import matplotlib.pyplot as plt"
   ]
  },
  {
   "cell_type": "markdown",
   "metadata": {},
   "source": [
    "Choose dataset and edit `out_path`. <b> Attention ! </b> Si `truegraph` la liste d'adjacence doit être au format $leader follower$."
   ]
  },
  {
   "cell_type": "code",
   "execution_count": 2,
   "metadata": {},
   "outputs": [],
   "source": [
    "data_path = \"../Datasets/weibo_rtid.txt\"\n",
    "out_path = \"../DataAnalysis/weibo_cascade/\"\n",
    "cascade = True\n",
    "truegraph = False"
   ]
  },
  {
   "cell_type": "markdown",
   "metadata": {},
   "source": [
    "Open outfile (and create out folder if necessary)."
   ]
  },
  {
   "cell_type": "code",
   "execution_count": 3,
   "metadata": {},
   "outputs": [],
   "source": [
    "graph_stats = open(out_path + \"graph_stats.txt\", 'w')"
   ]
  },
  {
   "cell_type": "markdown",
   "metadata": {},
   "source": [
    "Author dict creation."
   ]
  },
  {
   "cell_type": "code",
   "execution_count": 4,
   "metadata": {},
   "outputs": [],
   "source": [
    "if truegraph:\n",
    "    Author = None\n",
    "else:\n",
    "    Author = util.get_authors(data_path)"
   ]
  },
  {
   "cell_type": "markdown",
   "metadata": {},
   "source": [
    "### Graph construction\n",
    "Construit un graphe nx à partir du dataset."
   ]
  },
  {
   "cell_type": "code",
   "execution_count": 5,
   "metadata": {},
   "outputs": [],
   "source": [
    "if truegraph:\n",
    "    G = util.nxgraph_from_adjList(data_path)\n",
    "else:\n",
    "    G = util.nxgraph_from_trace(data_path, cascade, Author)"
   ]
  },
  {
   "cell_type": "markdown",
   "metadata": {},
   "source": [
    "### Basic stats"
   ]
  },
  {
   "cell_type": "code",
   "execution_count": 6,
   "metadata": {},
   "outputs": [],
   "source": [
    "%%capture cap\n",
    "print(\"Number of nodes: {}\".format(G.number_of_nodes()))\n",
    "print(\"Number of edges: {}\".format(G.number_of_edges()))"
   ]
  },
  {
   "cell_type": "code",
   "execution_count": 7,
   "metadata": {},
   "outputs": [
    {
     "name": "stdout",
     "output_type": "stream",
     "text": [
      "Number of nodes: 1340816\n",
      "Number of edges: 32448742\n",
      "\n"
     ]
    },
    {
     "data": {
      "text/plain": [
       "52"
      ]
     },
     "execution_count": 7,
     "metadata": {},
     "output_type": "execute_result"
    }
   ],
   "source": [
    "print(cap)\n",
    "graph_stats.write(cap.stdout+'\\n')"
   ]
  },
  {
   "cell_type": "markdown",
   "metadata": {},
   "source": [
    "### Degrees stats"
   ]
  },
  {
   "cell_type": "markdown",
   "metadata": {},
   "source": [
    "Les degrés."
   ]
  },
  {
   "cell_type": "code",
   "execution_count": 8,
   "metadata": {},
   "outputs": [],
   "source": [
    "deg = {'degrees': [x[1] for x in G.degree()], \n",
    "       'in_degrees': [x[1] for x in G.in_degree()],\n",
    "       'out_degrees': [x[1] for x in G.out_degree()]}"
   ]
  },
  {
   "cell_type": "markdown",
   "metadata": {},
   "source": [
    "Calcul des stats."
   ]
  },
  {
   "cell_type": "code",
   "execution_count": 9,
   "metadata": {},
   "outputs": [],
   "source": [
    "%%capture cap\n",
    "\n",
    "for d_type in deg.keys():\n",
    "    d = deg[d_type]\n",
    "    print(\"----- Stats for {} -----\".format(d_type))\n",
    "    print(\"Mean: \", np.mean(d))\n",
    "    print(\"Median: \", np.median(d))\n",
    "    print(\"Min: \", np.min(d))\n",
    "    print(\"Max: \", np.max(d))\n",
    "    for percent in [25, 75, 90, 95, 99]:\n",
    "        print(\"{}% <= {}\".format(percent, np.percentile(d, percent)))\n",
    "    print()"
   ]
  },
  {
   "cell_type": "markdown",
   "metadata": {},
   "source": [
    "Print and save."
   ]
  },
  {
   "cell_type": "code",
   "execution_count": 10,
   "metadata": {
    "scrolled": true
   },
   "outputs": [
    {
     "name": "stdout",
     "output_type": "stream",
     "text": [
      "----- Stats for degrees -----\n",
      "Mean:  48.40148387250749\n",
      "Median:  34.0\n",
      "Min:  1\n",
      "Max:  3626\n",
      "25% <= 12.0\n",
      "75% <= 70.0\n",
      "90% <= 112.0\n",
      "95% <= 142.0\n",
      "99% <= 216.0\n",
      "\n",
      "----- Stats for in_degrees -----\n",
      "Mean:  24.200741936253745\n",
      "Median:  17.0\n",
      "Min:  0\n",
      "Max:  452\n",
      "25% <= 6.0\n",
      "75% <= 35.0\n",
      "90% <= 56.0\n",
      "95% <= 71.0\n",
      "99% <= 108.0\n",
      "\n",
      "----- Stats for out_degrees -----\n",
      "Mean:  24.200741936253745\n",
      "Median:  17.0\n",
      "Min:  0\n",
      "Max:  3626\n",
      "25% <= 6.0\n",
      "75% <= 35.0\n",
      "90% <= 56.0\n",
      "95% <= 71.0\n",
      "99% <= 108.0\n",
      "\n",
      "\n"
     ]
    },
    {
     "data": {
      "text/plain": [
       "459"
      ]
     },
     "execution_count": 10,
     "metadata": {},
     "output_type": "execute_result"
    }
   ],
   "source": [
    "print(cap)\n",
    "graph_stats.write(cap.stdout+'\\n')"
   ]
  },
  {
   "cell_type": "markdown",
   "metadata": {},
   "source": [
    "### Degrees distribution\n",
    "On affiche et on enregistre la distribution des degrés."
   ]
  },
  {
   "cell_type": "code",
   "execution_count": 11,
   "metadata": {
    "scrolled": true
   },
   "outputs": [
    {
     "data": {
      "image/png": "[encoded data removed]",
      "text/plain": [
       "<Figure size 432x288 with 1 Axes>"
      ]
     },
     "metadata": {
      "needs_background": "light"
     },
     "output_type": "display_data"
    },
    {
     "data": {
      "image/png": "[encoded data removed]",
      "text/plain": [
       "<Figure size 432x288 with 1 Axes>"
      ]
     },
     "metadata": {
      "needs_background": "light"
     },
     "output_type": "display_data"
    },
    {
     "data": {
      "image/png": "[encoded data removed]",
      "text/plain": [
       "<Figure size 432x288 with 1 Axes>"
      ]
     },
     "metadata": {
      "needs_background": "light"
     },
     "output_type": "display_data"
    }
   ],
   "source": [
    "for d_type in deg.keys():\n",
    "    \n",
    "    # on récupère les degrés\n",
    "    d = np.array(sorted(deg[d_type]))\n",
    "    \n",
    "    # on compte les occurences\n",
    "    nb_occ = np.bincount(d)\n",
    "    nb_occ = nb_occ[nb_occ > 0]\n",
    "\n",
    "    # on récupère les valeurs uniques de d\n",
    "    d = np.unique(d)\n",
    "\n",
    "    # plot\n",
    "    plt.loglog(d, nb_occ, color='blue')\n",
    "    \n",
    "    # save & show\n",
    "    plt.savefig(out_path + d_type + \"_distrib_log.pdf\")\n",
    "    plt.show()\n",
    "    plt.close()"
   ]
  },
  {
   "cell_type": "markdown",
   "metadata": {},
   "source": [
    "### Connected components basic stats"
   ]
  },
  {
   "cell_type": "code",
   "execution_count": 12,
   "metadata": {},
   "outputs": [],
   "source": [
    "%%capture cap\n",
    "\n",
    "start = time()\n",
    "cc_sizes = {'weakly': [len(c) for c in nx.weakly_connected_components(G)],\n",
    "            'strongly': [len(c) for c in nx.strongly_connected_components(G)]}\n",
    "\n",
    "print(\"Number of weakly connected components: {} (calculated in {})\"\n",
    "      .format(len(cc_sizes['weakly']), time()-start))\n",
    "print(\"Number of strongly connected components: {} (calculated in {})\"\n",
    "      .format(len(cc_sizes['strongly']), time()-start))"
   ]
  },
  {
   "cell_type": "code",
   "execution_count": 13,
   "metadata": {},
   "outputs": [
    {
     "name": "stdout",
     "output_type": "stream",
     "text": [
      "Number of weakly connected components: 38 (calculated in 83.21484684944153)\n",
      "Number of strongly connected components: 8066 (calculated in 83.21484684944153)\n",
      "\n"
     ]
    },
    {
     "data": {
      "text/plain": [
       "157"
      ]
     },
     "execution_count": 13,
     "metadata": {},
     "output_type": "execute_result"
    }
   ],
   "source": [
    "print(cap)\n",
    "graph_stats.write(cap.stdout+'\\n')"
   ]
  },
  {
   "cell_type": "markdown",
   "metadata": {},
   "source": [
    "### Connected components sizes stats"
   ]
  },
  {
   "cell_type": "code",
   "execution_count": 14,
   "metadata": {},
   "outputs": [],
   "source": [
    "%%capture cap\n",
    "\n",
    "for s_type in cc_sizes.keys():\n",
    "    s = cc_sizes[s_type]\n",
    "    print(\"----- Stats for {} connected components sizes -----\".format(s_type))\n",
    "    print(\"Mean: \", np.mean(s))\n",
    "    print(\"Median: \", np.median(s))\n",
    "    print(\"Min: \", np.min(s))\n",
    "    print(\"Max: \", np.max(s))\n",
    "    for percent in [25, 75, 90, 95, 99]:\n",
    "        print(\"{}% <= {}\".format(percent, np.percentile(s, percent)))\n",
    "    print()"
   ]
  },
  {
   "cell_type": "code",
   "execution_count": 15,
   "metadata": {
    "scrolled": true
   },
   "outputs": [
    {
     "name": "stdout",
     "output_type": "stream",
     "text": [
      "----- Stats for weakly connected components sizes -----\n",
      "Mean:  35284.63157894737\n",
      "Median:  1.0\n",
      "Min:  1\n",
      "Max:  1340768\n",
      "25% <= 1.0\n",
      "75% <= 2.0\n",
      "90% <= 2.0\n",
      "95% <= 2.1499999999999986\n",
      "99% <= 844684.9500000034\n",
      "\n",
      "----- Stats for strongly connected components sizes -----\n",
      "Mean:  166.2305975700471\n",
      "Median:  1.0\n",
      "Min:  1\n",
      "Max:  1332743\n",
      "25% <= 1.0\n",
      "75% <= 1.0\n",
      "90% <= 1.0\n",
      "95% <= 1.0\n",
      "99% <= 1.0\n",
      "\n",
      "\n"
     ]
    },
    {
     "data": {
      "text/plain": [
       "376"
      ]
     },
     "execution_count": 15,
     "metadata": {},
     "output_type": "execute_result"
    }
   ],
   "source": [
    "print(cap)\n",
    "graph_stats.write(cap.stdout+'\\n')"
   ]
  },
  {
   "cell_type": "markdown",
   "metadata": {},
   "source": [
    "### Connected components sizes distrib\n",
    "Encore une fois on ne garde que les valeurs <p%tile."
   ]
  },
  {
   "cell_type": "code",
   "execution_count": 16,
   "metadata": {
    "scrolled": true
   },
   "outputs": [
    {
     "data": {
      "image/png": "[encoded data removed]",
      "text/plain": [
       "<Figure size 432x288 with 1 Axes>"
      ]
     },
     "metadata": {
      "needs_background": "light"
     },
     "output_type": "display_data"
    },
    {
     "data": {
      "image/png": "[encoded data removed]",
      "text/plain": [
       "<Figure size 432x288 with 1 Axes>"
      ]
     },
     "metadata": {
      "needs_background": "light"
     },
     "output_type": "display_data"
    }
   ],
   "source": [
    "for s_type in cc_sizes.keys():\n",
    "\n",
    "    # on récupère les valeurs\n",
    "    d = np.array(sorted(cc_sizes[s_type]))\n",
    "    \n",
    "    # on compte les occurences\n",
    "    nb_occ = np.bincount(d)\n",
    "    nb_occ = nb_occ[nb_occ > 0]\n",
    "\n",
    "    # on récupère les valeurs uniques de d\n",
    "    d = np.unique(d)\n",
    "\n",
    "    # plot\n",
    "    plt.loglog(d, nb_occ, color='blue')\n",
    "    \n",
    "    # save & show\n",
    "    plt.savefig(out_path + \"{}_connected_components_sizes_distrib_log.pdf\".format(s_type))\n",
    "    plt.show()\n",
    "    plt.close()"
   ]
  },
  {
   "cell_type": "markdown",
   "metadata": {},
   "source": [
    "### Custom wedge metric"
   ]
  },
  {
   "cell_type": "markdown",
   "metadata": {},
   "source": [
    "<center>\n",
    "$\\frac{\\sum_{\\text{user }i}LF - L \\cap F}{\\sum_{\\text{user }i}LF - L \\cap F + \\frac{1}{2}(L(L-1) + F(F-1))} = \\frac{2\\sum_{\\text{user }i}LF - L \\cap F}{\\sum_{\\text{user }i}(L+F)^2-L-F-2L \\cap F}$\n",
    "</center>"
   ]
  },
  {
   "cell_type": "code",
   "execution_count": 17,
   "metadata": {},
   "outputs": [],
   "source": [
    "numerator = 0\n",
    "denominator = 0\n",
    "\n",
    "for i in G.nodes:\n",
    "    leaders = set(G.predecessors(i))\n",
    "    followers = set(G.successors(i))\n",
    "    friends = leaders.intersection(followers)\n",
    "    if len(leaders) + len(followers) < 2:\n",
    "        continue\n",
    "    if leaders==followers and len(leaders)==1:\n",
    "        continue\n",
    "    L = len(leaders)\n",
    "    F = len(followers)\n",
    "    LintF = len(friends)\n",
    "    numerator += L*F - LintF\n",
    "    denominator += (L+F)**2 - L - F - 2*LintF\n",
    "\n",
    "if denominator != 0:\n",
    "    wedge_metric = 2 * numerator / denominator\n",
    "else:\n",
    "    wedge_metric = 0"
   ]
  },
  {
   "cell_type": "code",
   "execution_count": 18,
   "metadata": {},
   "outputs": [
    {
     "name": "stdout",
     "output_type": "stream",
     "text": [
      "Wedge_metric :  0.5006313559087983\n"
     ]
    },
    {
     "data": {
      "text/plain": [
       "33"
      ]
     },
     "execution_count": 18,
     "metadata": {},
     "output_type": "execute_result"
    }
   ],
   "source": [
    "print(\"Wedge_metric : \", wedge_metric)\n",
    "graph_stats.write(\"Wedge_metric : {}\".format(wedge_metric))"
   ]
  },
  {
   "cell_type": "markdown",
   "metadata": {},
   "source": [
    "### Close graph_stats"
   ]
  },
  {
   "cell_type": "code",
   "execution_count": 19,
   "metadata": {},
   "outputs": [],
   "source": [
    "graph_stats.close()"
   ]
  },
  {
   "cell_type": "markdown",
   "metadata": {},
   "source": [
    "# Activity"
   ]
  },
  {
   "cell_type": "markdown",
   "metadata": {},
   "source": [
    "### Nb tweets/retweets/retweeted stats"
   ]
  },
  {
   "cell_type": "markdown",
   "metadata": {},
   "source": [
    "On compte le nb de tweets, retweets et retweeted par utilisateur."
   ]
  },
  {
   "cell_type": "code",
   "execution_count": 20,
   "metadata": {},
   "outputs": [],
   "source": [
    "count = dict()\n",
    "count['tweets'], count['retweets'], count['retweeted'], total_time = util.get_activity(\n",
    "    data_path, cascade, Author, divide_by_time=False, retweeted=True)"
   ]
  },
  {
   "cell_type": "markdown",
   "metadata": {},
   "source": [
    "On affiche et on enregistre."
   ]
  },
  {
   "cell_type": "code",
   "execution_count": 21,
   "metadata": {},
   "outputs": [],
   "source": [
    "%%capture cap\n",
    "\n",
    "for count_type in count.keys():\n",
    "    c = np.array([*count[count_type].values()])\n",
    "    print(\"----- Stats for {} per user -----\".format(count_type))\n",
    "    print(\"Total: \", c.sum())\n",
    "    print(\"Mean: \", np.mean(c))\n",
    "    print(\"Median: \", np.median(c))\n",
    "    print(\"Min: \", np.min(c))\n",
    "    maximum = np.max(c)\n",
    "    print(\"Max: {} (user {})\".format(maximum, [u for u in count['tweets'] if count[count_type][u]==maximum]))\n",
    "    for percent in [25, 75, 90, 95, 99]:\n",
    "        print(\"{}% <= {}\".format(percent, np.percentile(c, percent)))\n",
    "    print(\"Nb users with at least 1: \", c[c>0].shape[0])\n",
    "    print(\"Nb users with 0: \", c[c==0].shape[0])\n",
    "    print()"
   ]
  },
  {
   "cell_type": "code",
   "execution_count": 22,
   "metadata": {
    "scrolled": true
   },
   "outputs": [
    {
     "name": "stdout",
     "output_type": "stream",
     "text": [
      "----- Stats for tweets per user -----\n",
      "Total:  232978\n",
      "Mean:  0.17375836803856756\n",
      "Median:  0.0\n",
      "Min:  0\n",
      "Max: 3718 (user [490872])\n",
      "25% <= 0.0\n",
      "75% <= 0.0\n",
      "90% <= 0.0\n",
      "95% <= 0.0\n",
      "99% <= 2.0\n",
      "Nb users with at least 1:  47555\n",
      "Nb users with 0:  1293261\n",
      "\n",
      "----- Stats for retweets per user -----\n",
      "Total:  33307189\n",
      "Mean:  24.84098414696722\n",
      "Median:  17.0\n",
      "Min:  0\n",
      "Max: 1032 (user [1009966])\n",
      "25% <= 6.0\n",
      "75% <= 36.0\n",
      "90% <= 57.0\n",
      "95% <= 73.0\n",
      "99% <= 114.0\n",
      "Nb users with at least 1:  1334887\n",
      "Nb users with 0:  5929\n",
      "\n",
      "----- Stats for retweeted per user -----\n",
      "Total:  33307189\n",
      "Mean:  24.84098414696722\n",
      "Median:  17.0\n",
      "Min:  0\n",
      "Max: 3718 (user [490872])\n",
      "25% <= 6.0\n",
      "75% <= 36.0\n",
      "90% <= 57.0\n",
      "95% <= 73.0\n",
      "99% <= 114.0\n",
      "Nb users with at least 1:  1339190\n",
      "Nb users with 0:  1626\n",
      "\n",
      "\n"
     ]
    }
   ],
   "source": [
    "print(cap)\n",
    "with open(out_path + \"tweetsRetweets_stats.txt\", 'w') as out:\n",
    "    out.write(cap.stdout)\n",
    "out.close()"
   ]
  },
  {
   "cell_type": "markdown",
   "metadata": {},
   "source": [
    "### Nb tweets/retweets/retweeted distrib"
   ]
  },
  {
   "cell_type": "code",
   "execution_count": 23,
   "metadata": {
    "scrolled": true
   },
   "outputs": [
    {
     "data": {
      "image/png": "[encoded data removed]",
      "text/plain": [
       "<Figure size 432x288 with 1 Axes>"
      ]
     },
     "metadata": {
      "needs_background": "light"
     },
     "output_type": "display_data"
    },
    {
     "data": {
      "image/png": "[encoded data removed]",
      "text/plain": [
       "<Figure size 432x288 with 1 Axes>"
      ]
     },
     "metadata": {
      "needs_background": "light"
     },
     "output_type": "display_data"
    },
    {
     "data": {
      "image/png": "[encoded data removed]",
      "text/plain": [
       "<Figure size 432x288 with 1 Axes>"
      ]
     },
     "metadata": {
      "needs_background": "light"
     },
     "output_type": "display_data"
    }
   ],
   "source": [
    "for count_type in count.keys():\n",
    "   \n",
    "    # on récupère les valeurs\n",
    "    d = np.array(sorted([*count[count_type].values()]))\n",
    "    \n",
    "    # on compte les occurences\n",
    "    nb_occ = np.bincount(d)\n",
    "    nb_occ = nb_occ[nb_occ > 0]\n",
    "\n",
    "    # on récupère les valeurs uniques de d\n",
    "    d = np.unique(d)\n",
    "\n",
    "    # plot\n",
    "    plt.loglog(d, nb_occ, color='blue')\n",
    "    \n",
    "    # save & show\n",
    "    plt.savefig(out_path + \"number_of_{}_distrib_log.pdf\".format(count_type))\n",
    "    plt.show()\n",
    "    plt.close()"
   ]
  },
  {
   "cell_type": "markdown",
   "metadata": {},
   "source": [
    "### $\\lambda, \\mu, \\nu$ stats"
   ]
  },
  {
   "cell_type": "code",
   "execution_count": 24,
   "metadata": {},
   "outputs": [],
   "source": [
    "activity = {'lambda': np.array([*count['tweets'].values()]) / total_time, \n",
    "            'mu': np.array([*count['retweets'].values()]) / total_time, \n",
    "            'nu': np.array([*count['retweeted'].values()]) / total_time}"
   ]
  },
  {
   "cell_type": "code",
   "execution_count": 25,
   "metadata": {},
   "outputs": [],
   "source": [
    "%%capture cap\n",
    "\n",
    "for act_type in activity.keys():\n",
    "    c = activity[act_type]\n",
    "    print(\"----- Stats for {} -----\".format(act_type))\n",
    "    print(\"Mean: \", np.mean(c))\n",
    "    print(\"Median: \", np.median(c))\n",
    "    print(\"Min: \", np.min(c))\n",
    "    maximum = np.max(c)\n",
    "    print(\"Max: \", np.max(c))\n",
    "    for percent in [25, 75, 90, 95, 99]:\n",
    "        print(\"{}% <= {}\".format(percent, np.percentile(c, percent)))\n",
    "    print(\"Nb users with >0: \", c[c>0].shape[0])\n",
    "    print(\"Nb users with 0: \", c[c==0].shape[0])\n",
    "    print()"
   ]
  },
  {
   "cell_type": "code",
   "execution_count": 26,
   "metadata": {
    "scrolled": true
   },
   "outputs": [
    {
     "name": "stdout",
     "output_type": "stream",
     "text": [
      "----- Stats for lambda -----\n",
      "Mean:  1.653994566121506e-09\n",
      "Median:  0.0\n",
      "Min:  0.0\n",
      "Max:  3.539139936831588e-05\n",
      "25% <= 0.0\n",
      "75% <= 0.0\n",
      "90% <= 0.0\n",
      "95% <= 0.0\n",
      "99% <= 1.90378694826874e-08\n",
      "Nb users with >0:  47555\n",
      "Nb users with 0:  1293261\n",
      "\n",
      "----- Stats for mu -----\n",
      "Mean:  2.3645970700573426e-07\n",
      "Median:  1.618218906028429e-07\n",
      "Min:  0.0\n",
      "Max:  9.823540653066698e-06\n",
      "25% <= 5.7113608448062197e-08\n",
      "75% <= 3.426816506883732e-07\n",
      "90% <= 5.425792802565909e-07\n",
      "95% <= 6.948822361180901e-07\n",
      "99% <= 1.0851585605131817e-06\n",
      "Nb users with >0:  1334887\n",
      "Nb users with 0:  5929\n",
      "\n",
      "----- Stats for nu -----\n",
      "Mean:  2.364597070057344e-07\n",
      "Median:  1.618218906028429e-07\n",
      "Min:  0.0\n",
      "Max:  3.539139936831588e-05\n",
      "25% <= 5.7113608448062197e-08\n",
      "75% <= 3.426816506883732e-07\n",
      "90% <= 5.425792802565909e-07\n",
      "95% <= 6.948822361180901e-07\n",
      "99% <= 1.0851585605131817e-06\n",
      "Nb users with >0:  1339190\n",
      "Nb users with 0:  1626\n",
      "\n",
      "\n"
     ]
    }
   ],
   "source": [
    "print(cap)\n",
    "with open(out_path + \"activity_stats.txt\", 'w') as out:\n",
    "    out.write(cap.stdout)\n",
    "out.close()"
   ]
  },
  {
   "cell_type": "code",
   "execution_count": null,
   "metadata": {},
   "outputs": [],
   "source": []
  },
  {
   "cell_type": "code",
   "execution_count": null,
   "metadata": {},
   "outputs": [],
   "source": []
  },
  {
   "cell_type": "code",
   "execution_count": null,
   "metadata": {},
   "outputs": [],
   "source": []
  },
  {
   "cell_type": "code",
   "execution_count": null,
   "metadata": {},
   "outputs": [],
   "source": []
  },
  {
   "cell_type": "code",
   "execution_count": null,
   "metadata": {},
   "outputs": [],
   "source": []
  },
  {
   "cell_type": "code",
   "execution_count": null,
   "metadata": {},
   "outputs": [],
   "source": []
  },
  {
   "cell_type": "code",
   "execution_count": null,
   "metadata": {},
   "outputs": [],
   "source": []
  },
  {
   "cell_type": "code",
   "execution_count": null,
   "metadata": {},
   "outputs": [],
   "source": []
  },
  {
   "cell_type": "code",
   "execution_count": null,
   "metadata": {},
   "outputs": [],
   "source": []
  },
  {
   "cell_type": "code",
   "execution_count": null,
   "metadata": {},
   "outputs": [],
   "source": []
  }
 ],
 "metadata": {
  "kernelspec": {
   "display_name": "Python 3",
   "language": "python",
   "name": "python3"
  },
  "language_info": {
   "codemirror_mode": {
    "name": "ipython",
    "version": 3
   },
   "file_extension": ".py",
   "mimetype": "text/x-python",
   "name": "python",
   "nbconvert_exporter": "python",
   "pygments_lexer": "ipython3",
   "version": "3.7.2"
  }
 },
 "nbformat": 4,
 "nbformat_minor": 2
}
