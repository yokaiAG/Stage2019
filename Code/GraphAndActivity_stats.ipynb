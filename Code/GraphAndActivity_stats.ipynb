{
 "cells": [
  {
   "cell_type": "markdown",
   "metadata": {},
   "source": [
    "# <center> Graph and Activity stats from dataset"
   ]
  },
  {
   "cell_type": "markdown",
   "metadata": {},
   "source": [
    "Imports."
   ]
  },
  {
   "cell_type": "code",
   "execution_count": 50,
   "metadata": {},
   "outputs": [],
   "source": [
    "import os\n",
    "import util\n",
    "from time import time\n",
    "import numpy as np\n",
    "import networkx as nx\n",
    "import matplotlib.pyplot as plt"
   ]
  },
  {
   "cell_type": "markdown",
   "metadata": {},
   "source": [
    "Choose dataset and edit `out_path`. <b> Attention ! </b> Si `truegraph` la liste d'adjacence doit être au format $leader follower$."
   ]
  },
  {
   "cell_type": "code",
   "execution_count": 153,
   "metadata": {},
   "outputs": [],
   "source": [
    "dataset = 'weibo_rtid'\n",
    "cascade = False\n",
    "\n",
    "data_path, RTU, truegraph = util.load_data(dataset)\n",
    "if RTU : \n",
    "    cascade = False # en cas d'erreur d'inattention\n",
    "out_path = \"../DataAnalysis/{}/\".format(dataset)\n",
    "if cascade:\n",
    "    out_path = out_path[:-1] + \"_cascade/\" "
   ]
  },
  {
   "cell_type": "markdown",
   "metadata": {},
   "source": [
    "Open outfile (and create out folder if necessary)."
   ]
  },
  {
   "cell_type": "code",
   "execution_count": 154,
   "metadata": {},
   "outputs": [],
   "source": [
    "try:\n",
    "    graph_stats = open(out_path + \"/graph_stats.txt\", 'w')\n",
    "except FileNotFoundError:\n",
    "    os.mkdir(out_path)\n",
    "    graph_stats = open(out_path + \"/graph_stats.txt\", 'w')"
   ]
  },
  {
   "cell_type": "markdown",
   "metadata": {},
   "source": [
    "Author dict creation."
   ]
  },
  {
   "cell_type": "code",
   "execution_count": 155,
   "metadata": {},
   "outputs": [],
   "source": [
    "Author = util.get_authors(data_path)"
   ]
  },
  {
   "cell_type": "markdown",
   "metadata": {},
   "source": [
    "### Graph construction\n",
    "Construit un graphe nx à partir du dataset."
   ]
  },
  {
   "cell_type": "code",
   "execution_count": 156,
   "metadata": {},
   "outputs": [],
   "source": [
    "G = util.get_nx_graph(data_path, RTU, cascade, truegraph, Author)"
   ]
  },
  {
   "cell_type": "markdown",
   "metadata": {},
   "source": [
    "### Basic stats"
   ]
  },
  {
   "cell_type": "code",
   "execution_count": 157,
   "metadata": {},
   "outputs": [],
   "source": [
    "%%capture cap\n",
    "print(\"Number of nodes: {}\".format(G.number_of_nodes()))\n",
    "print(\"Number of edges: {}\".format(G.number_of_edges()))"
   ]
  },
  {
   "cell_type": "code",
   "execution_count": 158,
   "metadata": {},
   "outputs": [
    {
     "name": "stdout",
     "output_type": "stream",
     "text": [
      "Number of nodes: 1340816\n",
      "Number of edges: 26294030\n",
      "\n"
     ]
    },
    {
     "data": {
      "text/plain": [
       "52"
      ]
     },
     "execution_count": 158,
     "metadata": {},
     "output_type": "execute_result"
    }
   ],
   "source": [
    "print(cap)\n",
    "graph_stats.write(cap.stdout+'\\n')"
   ]
  },
  {
   "cell_type": "markdown",
   "metadata": {},
   "source": [
    "### Degrees stats"
   ]
  },
  {
   "cell_type": "markdown",
   "metadata": {},
   "source": [
    "Les degrés."
   ]
  },
  {
   "cell_type": "code",
   "execution_count": 159,
   "metadata": {},
   "outputs": [],
   "source": [
    "deg = {'degrees': [x[1] for x in G.degree()], \n",
    "       'in_degrees': [x[1] for x in G.in_degree()],\n",
    "       'out_degrees': [x[1] for x in G.out_degree()]}"
   ]
  },
  {
   "cell_type": "markdown",
   "metadata": {},
   "source": [
    "Calcul des stats."
   ]
  },
  {
   "cell_type": "code",
   "execution_count": 160,
   "metadata": {},
   "outputs": [],
   "source": [
    "%%capture cap\n",
    "\n",
    "for d_type in deg.keys():\n",
    "    d = deg[d_type]\n",
    "    print(\"----- Stats for {} -----\".format(d_type))\n",
    "    print(\"Mean: \", np.mean(d))\n",
    "    print(\"Median: \", np.median(d))\n",
    "    print(\"Min: \", np.min(d))\n",
    "    print(\"Max: \", np.max(d))\n",
    "    for percent in [25, 75, 90, 95, 99]:\n",
    "        print(\"{}% <= {}\".format(percent, np.percentile(d, percent)))\n",
    "    print()"
   ]
  },
  {
   "cell_type": "markdown",
   "metadata": {},
   "source": [
    "Print and save."
   ]
  },
  {
   "cell_type": "code",
   "execution_count": 161,
   "metadata": {
    "scrolled": true
   },
   "outputs": [
    {
     "name": "stdout",
     "output_type": "stream",
     "text": [
      "----- Stats for degrees -----\n",
      "Mean:  39.22093710098925\n",
      "Median:  15.0\n",
      "Min:  1\n",
      "Max:  455506\n",
      "25% <= 5.0\n",
      "75% <= 29.0\n",
      "90% <= 46.0\n",
      "95% <= 60.0\n",
      "99% <= 108.0\n",
      "\n",
      "----- Stats for in_degrees -----\n",
      "Mean:  19.610468550494623\n",
      "Median:  14.0\n",
      "Min:  0\n",
      "Max:  291\n",
      "25% <= 5.0\n",
      "75% <= 29.0\n",
      "90% <= 44.0\n",
      "95% <= 56.0\n",
      "99% <= 83.0\n",
      "\n",
      "----- Stats for out_degrees -----\n",
      "Mean:  19.610468550494623\n",
      "Median:  0.0\n",
      "Min:  0\n",
      "Max:  455504\n",
      "25% <= 0.0\n",
      "75% <= 0.0\n",
      "90% <= 0.0\n",
      "95% <= 0.0\n",
      "99% <= 46.0\n",
      "\n",
      "\n"
     ]
    },
    {
     "data": {
      "text/plain": [
       "454"
      ]
     },
     "execution_count": 161,
     "metadata": {},
     "output_type": "execute_result"
    }
   ],
   "source": [
    "print(cap)\n",
    "graph_stats.write(cap.stdout+'\\n')"
   ]
  },
  {
   "cell_type": "markdown",
   "metadata": {},
   "source": [
    "### Degrees distribution\n",
    "On affiche et on enregistre la distribution des degrés."
   ]
  },
  {
   "cell_type": "code",
   "execution_count": 162,
   "metadata": {
    "scrolled": true
   },
   "outputs": [
    {
     "data": {
      "image/png": "[encoded data removed]",
      "text/plain": [
       "<Figure size 432x288 with 1 Axes>"
      ]
     },
     "metadata": {
      "needs_background": "light"
     },
     "output_type": "display_data"
    },
    {
     "data": {
      "image/png": "[encoded data removed]",
      "text/plain": [
       "<Figure size 432x288 with 1 Axes>"
      ]
     },
     "metadata": {
      "needs_background": "light"
     },
     "output_type": "display_data"
    },
    {
     "data": {
      "image/png": "[encoded data removed]",
      "text/plain": [
       "<Figure size 432x288 with 1 Axes>"
      ]
     },
     "metadata": {
      "needs_background": "light"
     },
     "output_type": "display_data"
    }
   ],
   "source": [
    "for d_type in deg.keys():\n",
    "    \n",
    "    # on récupère les degrés\n",
    "    d = np.array(sorted(deg[d_type]))\n",
    "    \n",
    "    # on compte les occurences\n",
    "    nb_occ = np.bincount(d)\n",
    "    nb_occ = nb_occ[nb_occ > 0]\n",
    "\n",
    "    # on récupère les valeurs uniques de d\n",
    "    d = np.unique(d)\n",
    "\n",
    "    # plot\n",
    "    plt.loglog(d, nb_occ, color='blue')\n",
    "    \n",
    "    # save & show\n",
    "    plt.savefig(out_path + d_type + \"_distrib_log.pdf\")\n",
    "    plt.show()\n",
    "    plt.close()"
   ]
  },
  {
   "cell_type": "markdown",
   "metadata": {},
   "source": [
    "### Connected components basic stats"
   ]
  },
  {
   "cell_type": "code",
   "execution_count": 163,
   "metadata": {},
   "outputs": [],
   "source": [
    "%%capture cap\n",
    "\n",
    "start = time()\n",
    "cc_sizes = {'weakly': [len(c) for c in nx.weakly_connected_components(G)],\n",
    "            'strongly': [len(c) for c in nx.strongly_connected_components(G)]}\n",
    "\n",
    "print(\"Number of weakly connected components: {} (calculated in {})\"\n",
    "      .format(len(cc_sizes['weakly']), time()-start))\n",
    "print(\"Number of strongly connected components: {} (calculated in {})\"\n",
    "      .format(len(cc_sizes['strongly']), time()-start))"
   ]
  },
  {
   "cell_type": "code",
   "execution_count": 164,
   "metadata": {},
   "outputs": [
    {
     "name": "stdout",
     "output_type": "stream",
     "text": [
      "Number of weakly connected components: 38 (calculated in 69.78534269332886)\n",
      "Number of strongly connected components: 1325415 (calculated in 69.78534269332886)\n",
      "\n"
     ]
    },
    {
     "data": {
      "text/plain": [
       "160"
      ]
     },
     "execution_count": 164,
     "metadata": {},
     "output_type": "execute_result"
    }
   ],
   "source": [
    "print(cap)\n",
    "graph_stats.write(cap.stdout+'\\n')"
   ]
  },
  {
   "cell_type": "markdown",
   "metadata": {},
   "source": [
    "### Connected components sizes stats"
   ]
  },
  {
   "cell_type": "code",
   "execution_count": 165,
   "metadata": {},
   "outputs": [],
   "source": [
    "%%capture cap\n",
    "\n",
    "for s_type in cc_sizes.keys():\n",
    "    s = cc_sizes[s_type]\n",
    "    print(\"----- Stats for {} connected components sizes -----\".format(s_type))\n",
    "    print(\"Mean: \", np.mean(s))\n",
    "    print(\"Median: \", np.median(s))\n",
    "    print(\"Min: \", np.min(s))\n",
    "    print(\"Max: \", np.max(s))\n",
    "    for percent in [25, 75, 90, 95, 99]:\n",
    "        print(\"{}% <= {}\".format(percent, np.percentile(s, percent)))\n",
    "    print()"
   ]
  },
  {
   "cell_type": "code",
   "execution_count": 166,
   "metadata": {
    "scrolled": true
   },
   "outputs": [
    {
     "name": "stdout",
     "output_type": "stream",
     "text": [
      "----- Stats for weakly connected components sizes -----\n",
      "Mean:  35284.63157894737\n",
      "Median:  1.0\n",
      "Min:  1\n",
      "Max:  1340768\n",
      "25% <= 1.0\n",
      "75% <= 2.0\n",
      "90% <= 2.0\n",
      "95% <= 2.1499999999999986\n",
      "99% <= 844684.9500000034\n",
      "\n",
      "----- Stats for strongly connected components sizes -----\n",
      "Mean:  1.0116197568308793\n",
      "Median:  1.0\n",
      "Min:  1\n",
      "Max:  14785\n",
      "25% <= 1.0\n",
      "75% <= 1.0\n",
      "90% <= 1.0\n",
      "95% <= 1.0\n",
      "99% <= 1.0\n",
      "\n",
      "\n"
     ]
    },
    {
     "data": {
      "text/plain": [
       "375"
      ]
     },
     "execution_count": 166,
     "metadata": {},
     "output_type": "execute_result"
    }
   ],
   "source": [
    "print(cap)\n",
    "graph_stats.write(cap.stdout+'\\n')"
   ]
  },
  {
   "cell_type": "markdown",
   "metadata": {},
   "source": [
    "### Connected components sizes distrib\n",
    "Encore une fois on ne garde que les valeurs <p%tile."
   ]
  },
  {
   "cell_type": "code",
   "execution_count": 167,
   "metadata": {
    "scrolled": true
   },
   "outputs": [
    {
     "data": {
      "image/png": "[encoded data removed]",
      "text/plain": [
       "<Figure size 432x288 with 1 Axes>"
      ]
     },
     "metadata": {
      "needs_background": "light"
     },
     "output_type": "display_data"
    },
    {
     "data": {
      "image/png": "[encoded data removed]",
      "text/plain": [
       "<Figure size 432x288 with 1 Axes>"
      ]
     },
     "metadata": {
      "needs_background": "light"
     },
     "output_type": "display_data"
    }
   ],
   "source": [
    "for s_type in cc_sizes.keys():\n",
    "\n",
    "    # on récupère les valeurs\n",
    "    d = np.array(sorted(cc_sizes[s_type]))\n",
    "    \n",
    "    # on compte les occurences\n",
    "    nb_occ = np.bincount(d)\n",
    "    nb_occ = nb_occ[nb_occ > 0]\n",
    "\n",
    "    # on récupère les valeurs uniques de d\n",
    "    d = np.unique(d)\n",
    "\n",
    "    # plot\n",
    "    plt.loglog(d, nb_occ, color='blue')\n",
    "    \n",
    "    # save & show\n",
    "    plt.savefig(out_path + \"{}_connected_components_sizes_distrib_log.pdf\".format(s_type))\n",
    "    plt.show()\n",
    "    plt.close()"
   ]
  },
  {
   "cell_type": "markdown",
   "metadata": {},
   "source": [
    "### Custom wedge metric"
   ]
  },
  {
   "cell_type": "markdown",
   "metadata": {},
   "source": [
    "For each user $i$ we compute \n",
    "<center>\n",
    "$\\frac{|\\mathcal{L}(i)| \\cdot |\\mathcal{F}(i)| - |\\mathcal{F}(i) \\cap \\mathcal{L}(i)|}{(|\\mathcal{L}(i)| + |\\mathcal{F}(i)|) (|\\mathcal{L}(i)| + |\\mathcal{F}(i)| - 1) - 2|\\mathcal{F}(i) \\cap \\mathcal{L}(i)|}$\n",
    "</center>"
   ]
  },
  {
   "cell_type": "code",
   "execution_count": 168,
   "metadata": {},
   "outputs": [],
   "source": [
    "wedge_metric = list()\n",
    "for i in G.nodes:\n",
    "    leaders = set(G.predecessors(i))\n",
    "    followers = set(G.successors(i))\n",
    "    friends = leaders.intersection(followers)\n",
    "    if len(leaders) + len(followers) < 2:\n",
    "        continue\n",
    "    if leaders == followers:\n",
    "        wedge_metric.append(0)\n",
    "        continue\n",
    "    numerator = len(leaders)*len(followers) - len(friends)\n",
    "    denominator = (len(leaders) + len(followers)) * (len(leaders) + len(followers) - 1) - 2*len(friends)\n",
    "    wedge_metric.append(numerator / denominator)"
   ]
  },
  {
   "cell_type": "code",
   "execution_count": 169,
   "metadata": {},
   "outputs": [],
   "source": [
    "%%capture cap\n",
    "\n",
    "wedge_metric = np.asarray(wedge_metric)\n",
    "print(\"----- Stats for wedge metric -----\")\n",
    "print(\"Mean: \", np.mean(wedge_metric))\n",
    "print(\"Median: \", np.median(wedge_metric))\n",
    "print(\"Min: \", np.min(wedge_metric))\n",
    "print(\"Max: \", np.max(wedge_metric))\n",
    "for percent in [25, 75, 90, 95, 99]:\n",
    "    print(\"{}% <= {}\".format(percent, np.percentile(wedge_metric, percent)))\n",
    "print()"
   ]
  },
  {
   "cell_type": "code",
   "execution_count": 170,
   "metadata": {},
   "outputs": [
    {
     "name": "stdout",
     "output_type": "stream",
     "text": [
      "----- Stats for wedge metric -----\n",
      "Mean:  0.004045504894664493\n",
      "Median:  0.0\n",
      "Min:  0.0\n",
      "Max:  0.5\n",
      "25% <= 0.0\n",
      "75% <= 0.0\n",
      "90% <= 0.0\n",
      "95% <= 0.0\n",
      "99% <= 0.17777777777777778\n",
      "\n",
      "\n"
     ]
    },
    {
     "data": {
      "text/plain": [
       "169"
      ]
     },
     "execution_count": 170,
     "metadata": {},
     "output_type": "execute_result"
    }
   ],
   "source": [
    "print(cap)\n",
    "graph_stats.write(cap.stdout+'\\n')"
   ]
  },
  {
   "cell_type": "markdown",
   "metadata": {},
   "source": [
    "### Close graph_stats"
   ]
  },
  {
   "cell_type": "code",
   "execution_count": 171,
   "metadata": {},
   "outputs": [],
   "source": [
    "graph_stats.close()"
   ]
  },
  {
   "cell_type": "markdown",
   "metadata": {},
   "source": [
    "# Activity"
   ]
  },
  {
   "cell_type": "markdown",
   "metadata": {},
   "source": [
    "### Nb tweets/retweets/retweeted stats"
   ]
  },
  {
   "cell_type": "markdown",
   "metadata": {},
   "source": [
    "On compte le nb de tweets, retweets et retweeted par utilisateur."
   ]
  },
  {
   "cell_type": "code",
   "execution_count": 17,
   "metadata": {},
   "outputs": [],
   "source": [
    "count = dict()\n",
    "count['tweets'], count['retweets'], count['retweeted'], total_time = util.get_activity(\n",
    "    data_path, RTU, cascade, divide_by_time=False, retweeted=True, Author=Author)"
   ]
  },
  {
   "cell_type": "markdown",
   "metadata": {},
   "source": [
    "On affiche et on enregistre."
   ]
  },
  {
   "cell_type": "code",
   "execution_count": 18,
   "metadata": {},
   "outputs": [],
   "source": [
    "%%capture cap\n",
    "\n",
    "for count_type in count.keys():\n",
    "    c = np.array([*count[count_type].values()])\n",
    "    print(\"----- Stats for {} per user -----\".format(count_type))\n",
    "    print(\"Total: \", c.sum())\n",
    "    print(\"Mean: \", np.mean(c))\n",
    "    print(\"Median: \", np.median(c))\n",
    "    print(\"Min: \", np.min(c))\n",
    "    maximum = np.max(c)\n",
    "    print(\"Max: {} (user {})\".format(maximum, [u for u in count['tweets'] if count[count_type][u]==maximum]))\n",
    "    for percent in [25, 75, 90, 95, 99]:\n",
    "        print(\"{}% <= {}\".format(percent, np.percentile(c, percent)))\n",
    "    print(\"Nb users with at least 1: \", c[c>0].shape[0])\n",
    "    print(\"Nb users with 0: \", c[c==0].shape[0])\n",
    "    print()"
   ]
  },
  {
   "cell_type": "code",
   "execution_count": 19,
   "metadata": {
    "scrolled": true
   },
   "outputs": [
    {
     "name": "stdout",
     "output_type": "stream",
     "text": [
      "----- Stats for tweets per user -----\n",
      "Total:  396899\n",
      "Mean:  0.7315881345653684\n",
      "Median:  1.0\n",
      "Min:  0\n",
      "Max: 10 (user [1292700477, 1293930643])\n",
      "25% <= 0.0\n",
      "75% <= 1.0\n",
      "90% <= 1.0\n",
      "95% <= 1.0\n",
      "99% <= 2.0\n",
      "Nb users with at least 1:  383151\n",
      "Nb users with 0:  159366\n",
      "\n",
      "----- Stats for retweets per user -----\n",
      "Total:  153183\n",
      "Mean:  0.2823561289323653\n",
      "Median:  0.0\n",
      "Min:  0\n",
      "Max: 14 (user [1291947964])\n",
      "25% <= 0.0\n",
      "75% <= 1.0\n",
      "90% <= 1.0\n",
      "95% <= 1.0\n",
      "99% <= 1.0\n",
      "Nb users with at least 1:  151118\n",
      "Nb users with 0:  391399\n",
      "\n",
      "----- Stats for retweeted per user -----\n",
      "Total:  153183\n",
      "Mean:  0.2823561289323653\n",
      "Median:  0.0\n",
      "Min:  0\n",
      "Max: 56007 (user [27])\n",
      "25% <= 0.0\n",
      "75% <= 0.0\n",
      "90% <= 0.0\n",
      "95% <= 0.0\n",
      "99% <= 2.0\n",
      "Nb users with at least 1:  16177\n",
      "Nb users with 0:  526340\n",
      "\n",
      "\n"
     ]
    }
   ],
   "source": [
    "print(cap)\n",
    "with open(out_path + \"tweetsRetweets_stats.txt\", 'w') as out:\n",
    "    out.write(cap.stdout)\n",
    "out.close()"
   ]
  },
  {
   "cell_type": "markdown",
   "metadata": {},
   "source": [
    "### Nb tweets/retweets/retweeted distrib"
   ]
  },
  {
   "cell_type": "code",
   "execution_count": 20,
   "metadata": {
    "scrolled": true
   },
   "outputs": [
    {
     "data": {
      "image/png": "[encoded data removed]",
      "text/plain": [
       "<Figure size 432x288 with 1 Axes>"
      ]
     },
     "metadata": {
      "needs_background": "light"
     },
     "output_type": "display_data"
    },
    {
     "data": {
      "image/png": "[encoded data removed]",
      "text/plain": [
       "<Figure size 432x288 with 1 Axes>"
      ]
     },
     "metadata": {
      "needs_background": "light"
     },
     "output_type": "display_data"
    },
    {
     "data": {
      "image/png": "[encoded data removed]",
      "text/plain": [
       "<Figure size 432x288 with 1 Axes>"
      ]
     },
     "metadata": {
      "needs_background": "light"
     },
     "output_type": "display_data"
    }
   ],
   "source": [
    "for count_type in count.keys():\n",
    "   \n",
    "    # on récupère les valeurs\n",
    "    d = np.array(sorted([*count[count_type].values()]))\n",
    "    \n",
    "    # on compte les occurences\n",
    "    nb_occ = np.bincount(d)\n",
    "    nb_occ = nb_occ[nb_occ > 0]\n",
    "\n",
    "    # on récupère les valeurs uniques de d\n",
    "    d = np.unique(d)\n",
    "\n",
    "    # plot\n",
    "    plt.loglog(d, nb_occ, color='blue')\n",
    "    \n",
    "    # save & show\n",
    "    plt.savefig(out_path + \"number_of_{}_distrib_log.pdf\".format(count_type))\n",
    "    plt.show()\n",
    "    plt.close()"
   ]
  },
  {
   "cell_type": "markdown",
   "metadata": {},
   "source": [
    "### $\\lambda, \\mu, \\nu$ stats"
   ]
  },
  {
   "cell_type": "code",
   "execution_count": 21,
   "metadata": {},
   "outputs": [],
   "source": [
    "activity = {'lambda': np.array([*count['tweets'].values()]) / total_time, \n",
    "            'mu': np.array([*count['retweets'].values()]) / total_time, \n",
    "            'nu': np.array([*count['retweeted'].values()]) / total_time}"
   ]
  },
  {
   "cell_type": "code",
   "execution_count": 22,
   "metadata": {},
   "outputs": [],
   "source": [
    "%%capture cap\n",
    "\n",
    "for act_type in activity.keys():\n",
    "    c = activity[act_type]\n",
    "    print(\"----- Stats for {} -----\".format(act_type))\n",
    "    print(\"Mean: \", np.mean(c))\n",
    "    print(\"Median: \", np.median(c))\n",
    "    print(\"Min: \", np.min(c))\n",
    "    maximum = np.max(c)\n",
    "    print(\"Max: \", np.max(c))\n",
    "    for percent in [25, 75, 90, 95, 99]:\n",
    "        print(\"{}% <= {}\".format(percent, np.percentile(c, percent)))\n",
    "    print(\"Nb users with >0: \", c[c>0].shape[0])\n",
    "    print(\"Nb users with 0: \", c[c==0].shape[0])\n",
    "    print()"
   ]
  },
  {
   "cell_type": "code",
   "execution_count": 23,
   "metadata": {
    "scrolled": true
   },
   "outputs": [
    {
     "name": "stdout",
     "output_type": "stream",
     "text": [
      "----- Stats for lambda -----\n",
      "Mean:  2.8991009889652015e-05\n",
      "Median:  3.962750148603131e-05\n",
      "Min:  0.0\n",
      "Max:  0.00039627501486031304\n",
      "25% <= 0.0\n",
      "75% <= 3.962750148603131e-05\n",
      "90% <= 3.962750148603131e-05\n",
      "95% <= 3.962750148603131e-05\n",
      "99% <= 7.925500297206262e-05\n",
      "Nb users with >0:  383151\n",
      "Nb users with 0:  159366\n",
      "\n",
      "----- Stats for mu -----\n",
      "Mean:  1.1189067918857346e-05\n",
      "Median:  0.0\n",
      "Min:  0.0\n",
      "Max:  0.0005547850208044383\n",
      "25% <= 0.0\n",
      "75% <= 3.962750148603131e-05\n",
      "90% <= 3.962750148603131e-05\n",
      "95% <= 3.962750148603131e-05\n",
      "99% <= 3.962750148603131e-05\n",
      "Nb users with >0:  151118\n",
      "Nb users with 0:  391399\n",
      "\n",
      "----- Stats for nu -----\n",
      "Mean:  1.1189067918857349e-05\n",
      "Median:  0.0\n",
      "Min:  0.0\n",
      "Max:  2.2194174757281555\n",
      "25% <= 0.0\n",
      "75% <= 0.0\n",
      "90% <= 0.0\n",
      "95% <= 0.0\n",
      "99% <= 7.925500297206262e-05\n",
      "Nb users with >0:  16177\n",
      "Nb users with 0:  526340\n",
      "\n",
      "\n"
     ]
    }
   ],
   "source": [
    "print(cap)\n",
    "with open(out_path + \"activity_stats.txt\", 'w') as out:\n",
    "    out.write(cap.stdout)\n",
    "out.close()"
   ]
  },
  {
   "cell_type": "code",
   "execution_count": null,
   "metadata": {},
   "outputs": [],
   "source": []
  }
 ],
 "metadata": {
  "kernelspec": {
   "display_name": "Python 3",
   "language": "python",
   "name": "python3"
  },
  "language_info": {
   "codemirror_mode": {
    "name": "ipython",
    "version": 3
   },
   "file_extension": ".py",
   "mimetype": "text/x-python",
   "name": "python",
   "nbconvert_exporter": "python",
   "pygments_lexer": "ipython3",
   "version": "3.7.2"
  }
 },
 "nbformat": 4,
 "nbformat_minor": 2
}
