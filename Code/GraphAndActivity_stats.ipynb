{
 "cells": [
  {
   "cell_type": "markdown",
   "metadata": {},
   "source": [
    "# <center> Graph and Activity stats from dataset"
   ]
  },
  {
   "cell_type": "markdown",
   "metadata": {},
   "source": [
    "Imports."
   ]
  },
  {
   "cell_type": "code",
   "execution_count": 1,
   "metadata": {},
   "outputs": [],
   "source": [
    "import os\n",
    "import util\n",
    "from time import time\n",
    "import numpy as np\n",
    "import networkx as nx\n",
    "import matplotlib.pyplot as plt"
   ]
  },
  {
   "cell_type": "markdown",
   "metadata": {},
   "source": [
    "Choose dataset and edit `out_path`. <b> Attention ! </b> Si `truegraph` la liste d'adjacence doit être au format $leader follower$."
   ]
  },
  {
   "cell_type": "code",
   "execution_count": 71,
   "metadata": {},
   "outputs": [],
   "source": [
    "dataset = 'weibo_T'\n",
    "cascade = False\n",
    "\n",
    "data_path, RTU, truegraph = util.load_data(dataset)\n",
    "if RTU : \n",
    "    cascade = False # en cas d'erreur d'inattention\n",
    "out_path = \"../DataAnalysis/{}/\".format(dataset)\n",
    "if cascade:\n",
    "    out_path = out_path[:-1] + \"_cascade/\" "
   ]
  },
  {
   "cell_type": "markdown",
   "metadata": {},
   "source": [
    "Open outfile (and create out folder if necessary)."
   ]
  },
  {
   "cell_type": "code",
   "execution_count": 73,
   "metadata": {},
   "outputs": [],
   "source": [
    "try:\n",
    "    graph_stats = open(out_path + \"/graph_stats.txt\", 'w')\n",
    "except FileNotFoundError:\n",
    "    os.mkdir(out_path)\n",
    "    graph_stats = open(out_path + \"/graph_stats.txt\", 'w')"
   ]
  },
  {
   "cell_type": "markdown",
   "metadata": {},
   "source": [
    "Author dict creation."
   ]
  },
  {
   "cell_type": "code",
   "execution_count": 76,
   "metadata": {},
   "outputs": [],
   "source": [
    "if truegraph:\n",
    "    Author = None\n",
    "else:\n",
    "    Author = util.get_authors(data_path)"
   ]
  },
  {
   "cell_type": "markdown",
   "metadata": {},
   "source": [
    "### Graph construction\n",
    "Construit un graphe nx à partir du dataset."
   ]
  },
  {
   "cell_type": "code",
   "execution_count": 77,
   "metadata": {},
   "outputs": [
    {
     "ename": "KeyboardInterrupt",
     "evalue": "",
     "output_type": "error",
     "traceback": [
      "\u001b[1;31m---------------------------------------------------------------------------\u001b[0m",
      "\u001b[1;31mKeyboardInterrupt\u001b[0m                         Traceback (most recent call last)",
      "\u001b[1;32m<ipython-input-77-e912c1d33645>\u001b[0m in \u001b[0;36m<module>\u001b[1;34m\u001b[0m\n\u001b[1;32m----> 1\u001b[1;33m \u001b[0mG\u001b[0m \u001b[1;33m=\u001b[0m \u001b[0mutil\u001b[0m\u001b[1;33m.\u001b[0m\u001b[0mget_nx_graph\u001b[0m\u001b[1;33m(\u001b[0m\u001b[0mdata_path\u001b[0m\u001b[1;33m,\u001b[0m \u001b[0mRTU\u001b[0m\u001b[1;33m,\u001b[0m \u001b[0mcascade\u001b[0m\u001b[1;33m,\u001b[0m \u001b[0mtruegraph\u001b[0m\u001b[1;33m,\u001b[0m \u001b[0mAuthor\u001b[0m\u001b[1;33m)\u001b[0m\u001b[1;33m\u001b[0m\u001b[1;33m\u001b[0m\u001b[0m\n\u001b[0m",
      "\u001b[1;32mD:\\PC de Antoine\\Documents - data drive\\Stage2019\\Code\\util.py\u001b[0m in \u001b[0;36mget_nx_graph\u001b[1;34m(data_path, RTU, cascade, truegraph, Author)\u001b[0m\n\u001b[0;32m    218\u001b[0m         \u001b[1;32mfor\u001b[0m \u001b[0mline\u001b[0m \u001b[1;32min\u001b[0m \u001b[0mopen\u001b[0m\u001b[1;33m(\u001b[0m\u001b[0mdata_path\u001b[0m\u001b[1;33m,\u001b[0m \u001b[1;34m'r'\u001b[0m\u001b[1;33m)\u001b[0m\u001b[1;33m:\u001b[0m\u001b[1;33m\u001b[0m\u001b[1;33m\u001b[0m\u001b[0m\n\u001b[0;32m    219\u001b[0m             \u001b[0mline\u001b[0m \u001b[1;33m=\u001b[0m \u001b[0mline\u001b[0m\u001b[1;33m.\u001b[0m\u001b[0msplit\u001b[0m\u001b[1;33m(\u001b[0m\u001b[1;33m)\u001b[0m\u001b[1;33m\u001b[0m\u001b[1;33m\u001b[0m\u001b[0m\n\u001b[1;32m--> 220\u001b[1;33m             \u001b[0mG\u001b[0m\u001b[1;33m.\u001b[0m\u001b[0madd_edge\u001b[0m\u001b[1;33m(\u001b[0m\u001b[0mint\u001b[0m\u001b[1;33m(\u001b[0m\u001b[0mline\u001b[0m\u001b[1;33m[\u001b[0m\u001b[1;36m0\u001b[0m\u001b[1;33m]\u001b[0m\u001b[1;33m)\u001b[0m\u001b[1;33m,\u001b[0m \u001b[0mint\u001b[0m\u001b[1;33m(\u001b[0m\u001b[0mline\u001b[0m\u001b[1;33m[\u001b[0m\u001b[1;36m1\u001b[0m\u001b[1;33m]\u001b[0m\u001b[1;33m)\u001b[0m\u001b[1;33m)\u001b[0m\u001b[1;33m\u001b[0m\u001b[1;33m\u001b[0m\u001b[0m\n\u001b[0m\u001b[0;32m    221\u001b[0m \u001b[1;33m\u001b[0m\u001b[0m\n\u001b[0;32m    222\u001b[0m     \u001b[1;31m# sinon on utilise une trace avec rtu, cascade ou rtid\u001b[0m\u001b[1;33m\u001b[0m\u001b[1;33m\u001b[0m\u001b[1;33m\u001b[0m\u001b[0m\n",
      "\u001b[1;32mD:\\Anaconda\\lib\\site-packages\\networkx\\classes\\digraph.py\u001b[0m in \u001b[0;36madd_edge\u001b[1;34m(self, u_of_edge, v_of_edge, **attr)\u001b[0m\n\u001b[0;32m    621\u001b[0m             \u001b[0mself\u001b[0m\u001b[1;33m.\u001b[0m\u001b[0m_node\u001b[0m\u001b[1;33m[\u001b[0m\u001b[0mv\u001b[0m\u001b[1;33m]\u001b[0m \u001b[1;33m=\u001b[0m \u001b[1;33m{\u001b[0m\u001b[1;33m}\u001b[0m\u001b[1;33m\u001b[0m\u001b[1;33m\u001b[0m\u001b[0m\n\u001b[0;32m    622\u001b[0m         \u001b[1;31m# add the edge\u001b[0m\u001b[1;33m\u001b[0m\u001b[1;33m\u001b[0m\u001b[1;33m\u001b[0m\u001b[0m\n\u001b[1;32m--> 623\u001b[1;33m         \u001b[0mdatadict\u001b[0m \u001b[1;33m=\u001b[0m \u001b[0mself\u001b[0m\u001b[1;33m.\u001b[0m\u001b[0m_adj\u001b[0m\u001b[1;33m[\u001b[0m\u001b[0mu\u001b[0m\u001b[1;33m]\u001b[0m\u001b[1;33m.\u001b[0m\u001b[0mget\u001b[0m\u001b[1;33m(\u001b[0m\u001b[0mv\u001b[0m\u001b[1;33m,\u001b[0m \u001b[0mself\u001b[0m\u001b[1;33m.\u001b[0m\u001b[0medge_attr_dict_factory\u001b[0m\u001b[1;33m(\u001b[0m\u001b[1;33m)\u001b[0m\u001b[1;33m)\u001b[0m\u001b[1;33m\u001b[0m\u001b[1;33m\u001b[0m\u001b[0m\n\u001b[0m\u001b[0;32m    624\u001b[0m         \u001b[0mdatadict\u001b[0m\u001b[1;33m.\u001b[0m\u001b[0mupdate\u001b[0m\u001b[1;33m(\u001b[0m\u001b[0mattr\u001b[0m\u001b[1;33m)\u001b[0m\u001b[1;33m\u001b[0m\u001b[1;33m\u001b[0m\u001b[0m\n\u001b[0;32m    625\u001b[0m         \u001b[0mself\u001b[0m\u001b[1;33m.\u001b[0m\u001b[0m_succ\u001b[0m\u001b[1;33m[\u001b[0m\u001b[0mu\u001b[0m\u001b[1;33m]\u001b[0m\u001b[1;33m[\u001b[0m\u001b[0mv\u001b[0m\u001b[1;33m]\u001b[0m \u001b[1;33m=\u001b[0m \u001b[0mdatadict\u001b[0m\u001b[1;33m\u001b[0m\u001b[1;33m\u001b[0m\u001b[0m\n",
      "\u001b[1;31mKeyboardInterrupt\u001b[0m: "
     ]
    }
   ],
   "source": [
    "G = util.get_nx_graph(data_path, RTU, cascade, truegraph, Author)"
   ]
  },
  {
   "cell_type": "markdown",
   "metadata": {},
   "source": [
    "### Basic stats"
   ]
  },
  {
   "cell_type": "code",
   "execution_count": 57,
   "metadata": {},
   "outputs": [],
   "source": [
    "%%capture cap\n",
    "print(\"Number of nodes: {}\".format(G.number_of_nodes()))\n",
    "print(\"Number of edges: {}\".format(G.number_of_edges()))"
   ]
  },
  {
   "cell_type": "code",
   "execution_count": 58,
   "metadata": {},
   "outputs": [
    {
     "name": "stdout",
     "output_type": "stream",
     "text": [
      "Number of nodes: 1340816\n",
      "Number of edges: 26294030\n",
      "\n"
     ]
    },
    {
     "data": {
      "text/plain": [
       "52"
      ]
     },
     "execution_count": 58,
     "metadata": {},
     "output_type": "execute_result"
    }
   ],
   "source": [
    "print(cap)\n",
    "graph_stats.write(cap.stdout+'\\n')"
   ]
  },
  {
   "cell_type": "markdown",
   "metadata": {},
   "source": [
    "### Degrees stats"
   ]
  },
  {
   "cell_type": "markdown",
   "metadata": {},
   "source": [
    "Les degrés."
   ]
  },
  {
   "cell_type": "code",
   "execution_count": 59,
   "metadata": {},
   "outputs": [],
   "source": [
    "deg = {'degrees': [x[1] for x in G.degree()], \n",
    "       'in_degrees': [x[1] for x in G.in_degree()],\n",
    "       'out_degrees': [x[1] for x in G.out_degree()]}"
   ]
  },
  {
   "cell_type": "markdown",
   "metadata": {},
   "source": [
    "Calcul des stats."
   ]
  },
  {
   "cell_type": "code",
   "execution_count": 60,
   "metadata": {},
   "outputs": [],
   "source": [
    "%%capture cap\n",
    "\n",
    "for d_type in deg.keys():\n",
    "    d = deg[d_type]\n",
    "    print(\"----- Stats for {} -----\".format(d_type))\n",
    "    print(\"Mean: \", np.mean(d))\n",
    "    print(\"Median: \", np.median(d))\n",
    "    print(\"Min: \", np.min(d))\n",
    "    print(\"Max: \", np.max(d))\n",
    "    for percent in [25, 75, 90, 95, 99]:\n",
    "        print(\"{}% <= {}\".format(percent, np.percentile(d, percent)))\n",
    "    print()"
   ]
  },
  {
   "cell_type": "markdown",
   "metadata": {},
   "source": [
    "Print and save."
   ]
  },
  {
   "cell_type": "code",
   "execution_count": 61,
   "metadata": {
    "scrolled": true
   },
   "outputs": [
    {
     "name": "stdout",
     "output_type": "stream",
     "text": [
      "----- Stats for degrees -----\n",
      "Mean:  39.22093710098925\n",
      "Median:  15.0\n",
      "Min:  1\n",
      "Max:  455506\n",
      "25% <= 5.0\n",
      "75% <= 29.0\n",
      "90% <= 46.0\n",
      "95% <= 60.0\n",
      "99% <= 108.0\n",
      "\n",
      "----- Stats for in_degrees -----\n",
      "Mean:  19.610468550494623\n",
      "Median:  14.0\n",
      "Min:  0\n",
      "Max:  291\n",
      "25% <= 5.0\n",
      "75% <= 29.0\n",
      "90% <= 44.0\n",
      "95% <= 56.0\n",
      "99% <= 83.0\n",
      "\n",
      "----- Stats for out_degrees -----\n",
      "Mean:  19.610468550494623\n",
      "Median:  0.0\n",
      "Min:  0\n",
      "Max:  455504\n",
      "25% <= 0.0\n",
      "75% <= 0.0\n",
      "90% <= 0.0\n",
      "95% <= 0.0\n",
      "99% <= 46.0\n",
      "\n",
      "\n"
     ]
    },
    {
     "data": {
      "text/plain": [
       "454"
      ]
     },
     "execution_count": 61,
     "metadata": {},
     "output_type": "execute_result"
    }
   ],
   "source": [
    "print(cap)\n",
    "graph_stats.write(cap.stdout+'\\n')"
   ]
  },
  {
   "cell_type": "markdown",
   "metadata": {},
   "source": [
    "### Degrees distribution\n",
    "On affiche et on enregistre la distribution des degrés."
   ]
  },
  {
   "cell_type": "code",
   "execution_count": 62,
   "metadata": {
    "scrolled": true
   },
   "outputs": [
    {
     "data": {
      "image/png": "[encoded data removed]",
      "text/plain": [
       "<Figure size 432x288 with 1 Axes>"
      ]
     },
     "metadata": {
      "needs_background": "light"
     },
     "output_type": "display_data"
    },
    {
     "data": {
      "image/png": "[encoded data removed]",
      "text/plain": [
       "<Figure size 432x288 with 1 Axes>"
      ]
     },
     "metadata": {
      "needs_background": "light"
     },
     "output_type": "display_data"
    },
    {
     "data": {
      "image/png": "[encoded data removed]",
      "text/plain": [
       "<Figure size 432x288 with 1 Axes>"
      ]
     },
     "metadata": {
      "needs_background": "light"
     },
     "output_type": "display_data"
    }
   ],
   "source": [
    "for d_type in deg.keys():\n",
    "    \n",
    "    # on récupère les degrés\n",
    "    d = np.array(sorted(deg[d_type]))\n",
    "    \n",
    "    # on compte les occurences\n",
    "    nb_occ = np.bincount(d)\n",
    "    nb_occ = nb_occ[nb_occ > 0]\n",
    "\n",
    "    # on récupère les valeurs uniques de d\n",
    "    d = np.unique(d)\n",
    "\n",
    "    # plot\n",
    "    plt.loglog(d, nb_occ, color='blue')\n",
    "    \n",
    "    # save & show\n",
    "    plt.savefig(out_path + d_type + \"_distrib_log.pdf\")\n",
    "    plt.show()\n",
    "    plt.close()"
   ]
  },
  {
   "cell_type": "markdown",
   "metadata": {},
   "source": [
    "### Connected components basic stats"
   ]
  },
  {
   "cell_type": "code",
   "execution_count": 63,
   "metadata": {},
   "outputs": [],
   "source": [
    "%%capture cap\n",
    "\n",
    "start = time()\n",
    "cc_sizes = {'weakly': [len(c) for c in nx.weakly_connected_components(G)],\n",
    "            'strongly': [len(c) for c in nx.strongly_connected_components(G)]}\n",
    "\n",
    "print(\"Number of weakly connected components: {} (calculated in {})\"\n",
    "      .format(len(cc_sizes['weakly']), time()-start))\n",
    "print(\"Number of strongly connected components: {} (calculated in {})\"\n",
    "      .format(len(cc_sizes['strongly']), time()-start))"
   ]
  },
  {
   "cell_type": "code",
   "execution_count": 64,
   "metadata": {},
   "outputs": [
    {
     "name": "stdout",
     "output_type": "stream",
     "text": [
      "Number of weakly connected components: 38 (calculated in 61.76626229286194)\n",
      "Number of strongly connected components: 1325415 (calculated in 61.76626229286194)\n",
      "\n"
     ]
    },
    {
     "data": {
      "text/plain": [
       "160"
      ]
     },
     "execution_count": 64,
     "metadata": {},
     "output_type": "execute_result"
    }
   ],
   "source": [
    "print(cap)\n",
    "graph_stats.write(cap.stdout+'\\n')"
   ]
  },
  {
   "cell_type": "markdown",
   "metadata": {},
   "source": [
    "### Connected components sizes stats"
   ]
  },
  {
   "cell_type": "code",
   "execution_count": 65,
   "metadata": {},
   "outputs": [],
   "source": [
    "%%capture cap\n",
    "\n",
    "for s_type in cc_sizes.keys():\n",
    "    s = cc_sizes[s_type]\n",
    "    print(\"----- Stats for {} connected components sizes -----\".format(s_type))\n",
    "    print(\"Mean: \", np.mean(s))\n",
    "    print(\"Median: \", np.median(s))\n",
    "    print(\"Min: \", np.min(s))\n",
    "    print(\"Max: \", np.max(s))\n",
    "    for percent in [25, 75, 90, 95, 99]:\n",
    "        print(\"{}% <= {}\".format(percent, np.percentile(s, percent)))\n",
    "    print()"
   ]
  },
  {
   "cell_type": "code",
   "execution_count": 66,
   "metadata": {
    "scrolled": true
   },
   "outputs": [
    {
     "name": "stdout",
     "output_type": "stream",
     "text": [
      "----- Stats for weakly connected components sizes -----\n",
      "Mean:  35284.63157894737\n",
      "Median:  1.0\n",
      "Min:  1\n",
      "Max:  1340768\n",
      "25% <= 1.0\n",
      "75% <= 2.0\n",
      "90% <= 2.0\n",
      "95% <= 2.1499999999999986\n",
      "99% <= 844684.9500000034\n",
      "\n",
      "----- Stats for strongly connected components sizes -----\n",
      "Mean:  1.0116197568308793\n",
      "Median:  1.0\n",
      "Min:  1\n",
      "Max:  14785\n",
      "25% <= 1.0\n",
      "75% <= 1.0\n",
      "90% <= 1.0\n",
      "95% <= 1.0\n",
      "99% <= 1.0\n",
      "\n",
      "\n"
     ]
    },
    {
     "data": {
      "text/plain": [
       "375"
      ]
     },
     "execution_count": 66,
     "metadata": {},
     "output_type": "execute_result"
    }
   ],
   "source": [
    "print(cap)\n",
    "graph_stats.write(cap.stdout+'\\n')"
   ]
  },
  {
   "cell_type": "markdown",
   "metadata": {},
   "source": [
    "### Connected components sizes distrib\n",
    "Encore une fois on ne garde que les valeurs <p%tile."
   ]
  },
  {
   "cell_type": "code",
   "execution_count": 67,
   "metadata": {
    "scrolled": true
   },
   "outputs": [
    {
     "data": {
      "image/png": "[encoded data removed]",
      "text/plain": [
       "<Figure size 432x288 with 1 Axes>"
      ]
     },
     "metadata": {
      "needs_background": "light"
     },
     "output_type": "display_data"
    },
    {
     "data": {
      "image/png": "[encoded data removed]",
      "text/plain": [
       "<Figure size 432x288 with 1 Axes>"
      ]
     },
     "metadata": {
      "needs_background": "light"
     },
     "output_type": "display_data"
    }
   ],
   "source": [
    "for s_type in cc_sizes.keys():\n",
    "\n",
    "    # on récupère les valeurs\n",
    "    d = np.array(sorted(cc_sizes[s_type]))\n",
    "    \n",
    "    # on compte les occurences\n",
    "    nb_occ = np.bincount(d)\n",
    "    nb_occ = nb_occ[nb_occ > 0]\n",
    "\n",
    "    # on récupère les valeurs uniques de d\n",
    "    d = np.unique(d)\n",
    "\n",
    "    # plot\n",
    "    plt.loglog(d, nb_occ, color='blue')\n",
    "    \n",
    "    # save & show\n",
    "    plt.savefig(out_path + \"{}_connected_components_sizes_distrib_log.pdf\".format(s_type))\n",
    "    plt.show()\n",
    "    plt.close()"
   ]
  },
  {
   "cell_type": "markdown",
   "metadata": {},
   "source": [
    "### Custom wedge metric"
   ]
  },
  {
   "cell_type": "markdown",
   "metadata": {},
   "source": [
    "<center>\n",
    "$\\frac{\\sum_{\\text{user }i}LF - L \\cap F}{\\sum_{\\text{user }i}LF - L \\cap F + \\frac{1}{2}(L(L-1) + F(F-1))} = \\frac{2\\sum_{\\text{user }i}LF - L \\cap F}{\\sum_{\\text{user }i}(L+F)^2-L-F-2L \\cap F}$\n",
    "</center>"
   ]
  },
  {
   "cell_type": "code",
   "execution_count": 68,
   "metadata": {},
   "outputs": [],
   "source": [
    "numerator = 0\n",
    "denominator = 0\n",
    "\n",
    "for i in G.nodes:\n",
    "    leaders = set(G.predecessors(i))\n",
    "    followers = set(G.successors(i))\n",
    "    friends = leaders.intersection(followers)\n",
    "    if len(leaders) + len(followers) < 2:\n",
    "        continue\n",
    "    if leaders==followers and len(leaders)==1:\n",
    "        continue\n",
    "    L = len(leaders)\n",
    "    F = len(followers)\n",
    "    LintF = len(friends)\n",
    "    numerator += L*F - LintF\n",
    "    denominator += (L+F)**2 - L - F - 2*LintF\n",
    "\n",
    "if denominator != 0:\n",
    "    wedge_metric = 2 * numerator / denominator\n",
    "else:\n",
    "    wedge_metric = 0"
   ]
  },
  {
   "cell_type": "code",
   "execution_count": 69,
   "metadata": {},
   "outputs": [
    {
     "name": "stdout",
     "output_type": "stream",
     "text": [
      "Wedge_metric :  0.0006678867139367776\n"
     ]
    },
    {
     "data": {
      "text/plain": [
       "36"
      ]
     },
     "execution_count": 69,
     "metadata": {},
     "output_type": "execute_result"
    }
   ],
   "source": [
    "print(\"Wedge_metric : \", wedge_metric)\n",
    "graph_stats.write(\"Wedge_metric : {}\".format(wedge_metric))"
   ]
  },
  {
   "cell_type": "markdown",
   "metadata": {},
   "source": [
    "### Close graph_stats"
   ]
  },
  {
   "cell_type": "code",
   "execution_count": 70,
   "metadata": {},
   "outputs": [],
   "source": [
    "graph_stats.close()"
   ]
  },
  {
   "cell_type": "markdown",
   "metadata": {},
   "source": [
    "# Activity"
   ]
  },
  {
   "cell_type": "markdown",
   "metadata": {},
   "source": [
    "### Nb tweets/retweets/retweeted stats"
   ]
  },
  {
   "cell_type": "markdown",
   "metadata": {},
   "source": [
    "On compte le nb de tweets, retweets et retweeted par utilisateur."
   ]
  },
  {
   "cell_type": "code",
   "execution_count": 20,
   "metadata": {},
   "outputs": [
    {
     "name": "stderr",
     "output_type": "stream",
     "text": [
      "ERROR:root:Internal Python error in the inspect module.\n",
      "Below is the traceback from this internal error.\n",
      "\n"
     ]
    },
    {
     "name": "stdout",
     "output_type": "stream",
     "text": [
      "Traceback (most recent call last):\n",
      "  File \"D:\\Anaconda\\lib\\site-packages\\IPython\\core\\interactiveshell.py\", line 3291, in run_code\n",
      "    exec(code_obj, self.user_global_ns, self.user_ns)\n",
      "  File \"<ipython-input-20-e6b42e692d46>\", line 3, in <module>\n",
      "    data_path, RTU, cascade, divide_by_time=False, retweeted=True, Author=Author)\n",
      "  File \"D:\\PC de Antoine\\Documents - data drive\\Stage2019\\Code\\util.py\", line 130, in get_activity\n",
      "    if rtu not in users:\n",
      "KeyboardInterrupt\n",
      "\n",
      "During handling of the above exception, another exception occurred:\n",
      "\n",
      "Traceback (most recent call last):\n",
      "  File \"D:\\Anaconda\\lib\\site-packages\\IPython\\core\\interactiveshell.py\", line 2033, in showtraceback\n",
      "    stb = value._render_traceback_()\n",
      "AttributeError: 'KeyboardInterrupt' object has no attribute '_render_traceback_'\n",
      "\n",
      "During handling of the above exception, another exception occurred:\n",
      "\n",
      "Traceback (most recent call last):\n",
      "  File \"D:\\Anaconda\\lib\\site-packages\\IPython\\core\\ultratb.py\", line 1095, in get_records\n",
      "    return _fixed_getinnerframes(etb, number_of_lines_of_context, tb_offset)\n",
      "  File \"D:\\Anaconda\\lib\\site-packages\\IPython\\core\\ultratb.py\", line 313, in wrapped\n",
      "    return f(*args, **kwargs)\n",
      "  File \"D:\\Anaconda\\lib\\site-packages\\IPython\\core\\ultratb.py\", line 347, in _fixed_getinnerframes\n",
      "    records = fix_frame_records_filenames(inspect.getinnerframes(etb, context))\n",
      "  File \"D:\\Anaconda\\lib\\inspect.py\", line 1502, in getinnerframes\n",
      "    frameinfo = (tb.tb_frame,) + getframeinfo(tb, context)\n",
      "  File \"D:\\Anaconda\\lib\\inspect.py\", line 1464, in getframeinfo\n",
      "    lines, lnum = findsource(frame)\n",
      "  File \"D:\\Anaconda\\lib\\site-packages\\IPython\\core\\ultratb.py\", line 179, in findsource\n",
      "    lines = linecache.getlines(file, globals_dict)\n",
      "  File \"D:\\Anaconda\\lib\\linecache.py\", line 47, in getlines\n",
      "    return updatecache(filename, module_globals)\n",
      "  File \"D:\\Anaconda\\lib\\linecache.py\", line 136, in updatecache\n",
      "    with tokenize.open(fullname) as fp:\n",
      "  File \"D:\\Anaconda\\lib\\tokenize.py\", line 447, in open\n",
      "    buffer = _builtin_open(filename, 'rb')\n",
      "KeyboardInterrupt\n"
     ]
    },
    {
     "ename": "KeyboardInterrupt",
     "evalue": "",
     "output_type": "error",
     "traceback": [
      "\u001b[1;31m---------------------------------------------------------------------------\u001b[0m"
     ]
    }
   ],
   "source": [
    "count = dict()\n",
    "count['tweets'], count['retweets'], count['retweeted'], total_time = util.get_activity(\n",
    "    data_path, RTU, cascade, divide_by_time=False, retweeted=True, Author=Author)"
   ]
  },
  {
   "cell_type": "code",
   "execution_count": null,
   "metadata": {},
   "outputs": [],
   "source": [
    "count"
   ]
  },
  {
   "cell_type": "markdown",
   "metadata": {},
   "source": [
    "On affiche et on enregistre."
   ]
  },
  {
   "cell_type": "code",
   "execution_count": null,
   "metadata": {},
   "outputs": [],
   "source": [
    "%%capture cap\n",
    "\n",
    "for count_type in count.keys():\n",
    "    c = np.array([*count[count_type].values()])\n",
    "    print(\"----- Stats for {} per user -----\".format(count_type))\n",
    "    print(\"Total: \", c.sum())\n",
    "    print(\"Mean: \", np.mean(c))\n",
    "    print(\"Median: \", np.median(c))\n",
    "    print(\"Min: \", np.min(c))\n",
    "    maximum = np.max(c)\n",
    "    print(\"Max: {} (user {})\".format(maximum, [u for u in count['tweets'] if count[count_type][u]==maximum]))\n",
    "    for percent in [25, 75, 90, 95, 99]:\n",
    "        print(\"{}% <= {}\".format(percent, np.percentile(c, percent)))\n",
    "    print(\"Nb users with at least 1: \", c[c>0].shape[0])\n",
    "    print(\"Nb users with 0: \", c[c==0].shape[0])\n",
    "    print()"
   ]
  },
  {
   "cell_type": "code",
   "execution_count": null,
   "metadata": {
    "scrolled": true
   },
   "outputs": [],
   "source": [
    "print(cap)\n",
    "with open(out_path + \"tweetsRetweets_stats.txt\", 'w') as out:\n",
    "    out.write(cap.stdout)\n",
    "out.close()"
   ]
  },
  {
   "cell_type": "markdown",
   "metadata": {},
   "source": [
    "### Nb tweets/retweets/retweeted distrib"
   ]
  },
  {
   "cell_type": "code",
   "execution_count": null,
   "metadata": {
    "scrolled": true
   },
   "outputs": [],
   "source": [
    "for count_type in count.keys():\n",
    "   \n",
    "    # on récupère les valeurs\n",
    "    d = np.array(sorted([*count[count_type].values()]))\n",
    "    \n",
    "    # on compte les occurences\n",
    "    nb_occ = np.bincount(d)\n",
    "    nb_occ = nb_occ[nb_occ > 0]\n",
    "\n",
    "    # on récupère les valeurs uniques de d\n",
    "    d = np.unique(d)\n",
    "\n",
    "    # plot\n",
    "    plt.loglog(d, nb_occ, color='blue')\n",
    "    \n",
    "    # save & show\n",
    "    plt.savefig(out_path + \"number_of_{}_distrib_log.pdf\".format(count_type))\n",
    "    plt.show()\n",
    "    plt.close()"
   ]
  },
  {
   "cell_type": "markdown",
   "metadata": {},
   "source": [
    "### $\\lambda, \\mu, \\nu$ stats"
   ]
  },
  {
   "cell_type": "code",
   "execution_count": null,
   "metadata": {},
   "outputs": [],
   "source": [
    "activity = {'lambda': np.array([*count['tweets'].values()]) / total_time, \n",
    "            'mu': np.array([*count['retweets'].values()]) / total_time, \n",
    "            'nu': np.array([*count['retweeted'].values()]) / total_time}"
   ]
  },
  {
   "cell_type": "code",
   "execution_count": null,
   "metadata": {},
   "outputs": [],
   "source": [
    "%%capture cap\n",
    "\n",
    "for act_type in activity.keys():\n",
    "    c = activity[act_type]\n",
    "    print(\"----- Stats for {} -----\".format(act_type))\n",
    "    print(\"Mean: \", np.mean(c))\n",
    "    print(\"Median: \", np.median(c))\n",
    "    print(\"Min: \", np.min(c))\n",
    "    maximum = np.max(c)\n",
    "    print(\"Max: \", np.max(c))\n",
    "    for percent in [25, 75, 90, 95, 99]:\n",
    "        print(\"{}% <= {}\".format(percent, np.percentile(c, percent)))\n",
    "    print(\"Nb users with >0: \", c[c>0].shape[0])\n",
    "    print(\"Nb users with 0: \", c[c==0].shape[0])\n",
    "    print()"
   ]
  },
  {
   "cell_type": "code",
   "execution_count": null,
   "metadata": {
    "scrolled": true
   },
   "outputs": [],
   "source": [
    "print(cap)\n",
    "with open(out_path + \"activity_stats.txt\", 'w') as out:\n",
    "    out.write(cap.stdout)\n",
    "out.close()"
   ]
  },
  {
   "cell_type": "code",
   "execution_count": null,
   "metadata": {},
   "outputs": [],
   "source": []
  }
 ],
 "metadata": {
  "kernelspec": {
   "display_name": "Python 3",
   "language": "python",
   "name": "python3"
  },
  "language_info": {
   "codemirror_mode": {
    "name": "ipython",
    "version": 3
   },
   "file_extension": ".py",
   "mimetype": "text/x-python",
   "name": "python",
   "nbconvert_exporter": "python",
   "pygments_lexer": "ipython3",
   "version": "3.7.2"
  }
 },
 "nbformat": 4,
 "nbformat_minor": 2
}
