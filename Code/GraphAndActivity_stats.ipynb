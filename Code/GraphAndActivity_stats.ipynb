{
 "cells": [
  {
   "cell_type": "markdown",
   "metadata": {},
   "source": [
    "# <center> Graph and Activity stats from dataset"
   ]
  },
  {
   "cell_type": "markdown",
   "metadata": {},
   "source": [
    "Imports."
   ]
  },
  {
   "cell_type": "code",
   "execution_count": 1,
   "metadata": {},
   "outputs": [],
   "source": [
    "import os\n",
    "import util\n",
    "from time import time\n",
    "import numpy as np\n",
    "import networkx as nx\n",
    "import matplotlib.pyplot as plt"
   ]
  },
  {
   "cell_type": "markdown",
   "metadata": {},
   "source": [
    "Choose dataset and edit `out_path`. <b> Attention ! </b> Si `truegraph` la liste d'adjacence doit être au format $leader follower$."
   ]
  },
  {
   "cell_type": "code",
   "execution_count": 2,
   "metadata": {},
   "outputs": [],
   "source": [
    "dataset = 'test_rtid'\n",
    "cascade = False\n",
    "\n",
    "data_path, RTU, truegraph = util.load_data(dataset)\n",
    "if RTU : \n",
    "    cascade = False # en cas d'erreur d'inattention\n",
    "out_path = \"../DataAnalysis/{}/\".format(dataset)\n",
    "if cascade:\n",
    "    out_path = out_path[:-1] + \"_cascade/\" "
   ]
  },
  {
   "cell_type": "markdown",
   "metadata": {},
   "source": [
    "Open outfile (and create out folder if necessary)."
   ]
  },
  {
   "cell_type": "code",
   "execution_count": 3,
   "metadata": {},
   "outputs": [],
   "source": [
    "try:\n",
    "    graph_stats = open(out_path + \"/graph_stats.txt\", 'w')\n",
    "except FileNotFoundError:\n",
    "    os.mkdir(out_path)\n",
    "    graph_stats = open(out_path + \"/graph_stats.txt\", 'w')"
   ]
  },
  {
   "cell_type": "markdown",
   "metadata": {},
   "source": [
    "Author dict creation."
   ]
  },
  {
   "cell_type": "code",
   "execution_count": 4,
   "metadata": {},
   "outputs": [],
   "source": [
    "Author = util.get_authors(data_path)"
   ]
  },
  {
   "cell_type": "markdown",
   "metadata": {},
   "source": [
    "### Graph construction\n",
    "Construit un graphe nx à partir du dataset."
   ]
  },
  {
   "cell_type": "code",
   "execution_count": 5,
   "metadata": {},
   "outputs": [],
   "source": [
    "G = util.get_nx_graph(data_path, RTU, cascade, truegraph, Author)"
   ]
  },
  {
   "cell_type": "markdown",
   "metadata": {},
   "source": [
    "### Basic stats"
   ]
  },
  {
   "cell_type": "code",
   "execution_count": 7,
   "metadata": {},
   "outputs": [],
   "source": [
    "%%capture cap\n",
    "print(\"Number of nodes: {}\".format(G.number_of_nodes()))\n",
    "print(\"Number of edges: {}\".format(G.number_of_edges()))"
   ]
  },
  {
   "cell_type": "code",
   "execution_count": 8,
   "metadata": {},
   "outputs": [
    {
     "name": "stdout",
     "output_type": "stream",
     "text": [
      "Number of nodes: 6\n",
      "Number of edges: 4\n",
      "\n"
     ]
    },
    {
     "data": {
      "text/plain": [
       "39"
      ]
     },
     "execution_count": 8,
     "metadata": {},
     "output_type": "execute_result"
    }
   ],
   "source": [
    "print(cap)\n",
    "graph_stats.write(cap.stdout+'\\n')"
   ]
  },
  {
   "cell_type": "markdown",
   "metadata": {},
   "source": [
    "### Degrees stats"
   ]
  },
  {
   "cell_type": "markdown",
   "metadata": {},
   "source": [
    "Les degrés."
   ]
  },
  {
   "cell_type": "code",
   "execution_count": 9,
   "metadata": {},
   "outputs": [],
   "source": [
    "deg = {'degrees': [x[1] for x in G.degree()], \n",
    "       'in_degrees': [x[1] for x in G.in_degree()],\n",
    "       'out_degrees': [x[1] for x in G.out_degree()]}"
   ]
  },
  {
   "cell_type": "markdown",
   "metadata": {},
   "source": [
    "Calcul des stats."
   ]
  },
  {
   "cell_type": "code",
   "execution_count": 10,
   "metadata": {},
   "outputs": [],
   "source": [
    "%%capture cap\n",
    "\n",
    "for d_type in deg.keys():\n",
    "    d = deg[d_type]\n",
    "    print(\"----- Stats for {} -----\".format(d_type))\n",
    "    print(\"Mean: \", np.mean(d))\n",
    "    print(\"Median: \", np.median(d))\n",
    "    print(\"Min: \", np.min(d))\n",
    "    print(\"Max: \", np.max(d))\n",
    "    for percent in [25, 75, 90, 95, 99]:\n",
    "        print(\"{}% <= {}\".format(percent, np.percentile(d, percent)))\n",
    "    print()"
   ]
  },
  {
   "cell_type": "markdown",
   "metadata": {},
   "source": [
    "Print and save."
   ]
  },
  {
   "cell_type": "code",
   "execution_count": 11,
   "metadata": {
    "scrolled": true
   },
   "outputs": [
    {
     "name": "stdout",
     "output_type": "stream",
     "text": [
      "----- Stats for degrees -----\n",
      "Mean:  1.3333333333333333\n",
      "Median:  1.0\n",
      "Min:  0\n",
      "Max:  3\n",
      "25% <= 1.0\n",
      "75% <= 1.75\n",
      "90% <= 2.5\n",
      "95% <= 2.75\n",
      "99% <= 2.95\n",
      "\n",
      "----- Stats for in_degrees -----\n",
      "Mean:  0.6666666666666666\n",
      "Median:  0.5\n",
      "Min:  0\n",
      "Max:  2\n",
      "25% <= 0.0\n",
      "75% <= 1.0\n",
      "90% <= 1.5\n",
      "95% <= 1.75\n",
      "99% <= 1.9500000000000002\n",
      "\n",
      "----- Stats for out_degrees -----\n",
      "Mean:  0.6666666666666666\n",
      "Median:  0.0\n",
      "Min:  0\n",
      "Max:  3\n",
      "25% <= 0.0\n",
      "75% <= 0.75\n",
      "90% <= 2.0\n",
      "95% <= 2.5\n",
      "99% <= 2.9000000000000004\n",
      "\n",
      "\n"
     ]
    },
    {
     "data": {
      "text/plain": [
       "466"
      ]
     },
     "execution_count": 11,
     "metadata": {},
     "output_type": "execute_result"
    }
   ],
   "source": [
    "print(cap)\n",
    "graph_stats.write(cap.stdout+'\\n')"
   ]
  },
  {
   "cell_type": "markdown",
   "metadata": {},
   "source": [
    "### Degrees distribution\n",
    "On affiche et on enregistre la distribution des degrés."
   ]
  },
  {
   "cell_type": "code",
   "execution_count": 12,
   "metadata": {
    "scrolled": true
   },
   "outputs": [
    {
     "data": {
      "image/png": "[encoded data removed]",
      "text/plain": [
       "<Figure size 432x288 with 1 Axes>"
      ]
     },
     "metadata": {
      "needs_background": "light"
     },
     "output_type": "display_data"
    },
    {
     "data": {
      "image/png": "[encoded data removed]",
      "text/plain": [
       "<Figure size 432x288 with 1 Axes>"
      ]
     },
     "metadata": {
      "needs_background": "light"
     },
     "output_type": "display_data"
    },
    {
     "data": {
      "image/png": "[encoded data removed]",
      "text/plain": [
       "<Figure size 432x288 with 1 Axes>"
      ]
     },
     "metadata": {
      "needs_background": "light"
     },
     "output_type": "display_data"
    }
   ],
   "source": [
    "for d_type in deg.keys():\n",
    "    \n",
    "    # on récupère les degrés\n",
    "    d = np.array(sorted(deg[d_type]))\n",
    "    \n",
    "    # on compte les occurences\n",
    "    nb_occ = np.bincount(d)\n",
    "    nb_occ = nb_occ[nb_occ > 0]\n",
    "\n",
    "    # on récupère les valeurs uniques de d\n",
    "    d = np.unique(d)\n",
    "\n",
    "    # plot\n",
    "    plt.loglog(d, nb_occ, color='blue')\n",
    "    \n",
    "    # save & show\n",
    "    plt.savefig(out_path + d_type + \"_distrib_log.pdf\")\n",
    "    plt.show()\n",
    "    plt.close()"
   ]
  },
  {
   "cell_type": "markdown",
   "metadata": {},
   "source": [
    "### Connected components basic stats"
   ]
  },
  {
   "cell_type": "code",
   "execution_count": 13,
   "metadata": {},
   "outputs": [],
   "source": [
    "%%capture cap\n",
    "\n",
    "start = time()\n",
    "cc_sizes = {'weakly': [len(c) for c in nx.weakly_connected_components(G)],\n",
    "            'strongly': [len(c) for c in nx.strongly_connected_components(G)]}\n",
    "\n",
    "print(\"Number of weakly connected components: {} (calculated in {})\"\n",
    "      .format(len(cc_sizes['weakly']), time()-start))\n",
    "print(\"Number of strongly connected components: {} (calculated in {})\"\n",
    "      .format(len(cc_sizes['strongly']), time()-start))"
   ]
  },
  {
   "cell_type": "code",
   "execution_count": 14,
   "metadata": {},
   "outputs": [
    {
     "name": "stdout",
     "output_type": "stream",
     "text": [
      "Number of weakly connected components: 2 (calculated in 0.0006430149078369141)\n",
      "Number of strongly connected components: 6 (calculated in 0.0006430149078369141)\n",
      "\n"
     ]
    },
    {
     "data": {
      "text/plain": [
       "161"
      ]
     },
     "execution_count": 14,
     "metadata": {},
     "output_type": "execute_result"
    }
   ],
   "source": [
    "print(cap)\n",
    "graph_stats.write(cap.stdout+'\\n')"
   ]
  },
  {
   "cell_type": "markdown",
   "metadata": {},
   "source": [
    "### Connected components sizes stats"
   ]
  },
  {
   "cell_type": "code",
   "execution_count": 15,
   "metadata": {},
   "outputs": [],
   "source": [
    "%%capture cap\n",
    "\n",
    "for s_type in cc_sizes.keys():\n",
    "    s = cc_sizes[s_type]\n",
    "    print(\"----- Stats for {} connected components sizes -----\".format(s_type))\n",
    "    print(\"Mean: \", np.mean(s))\n",
    "    print(\"Median: \", np.median(s))\n",
    "    print(\"Min: \", np.min(s))\n",
    "    print(\"Max: \", np.max(s))\n",
    "    for percent in [25, 75, 90, 95, 99]:\n",
    "        print(\"{}% <= {}\".format(percent, np.percentile(s, percent)))\n",
    "    print()"
   ]
  },
  {
   "cell_type": "code",
   "execution_count": 16,
   "metadata": {
    "scrolled": true
   },
   "outputs": [
    {
     "name": "stdout",
     "output_type": "stream",
     "text": [
      "----- Stats for weakly connected components sizes -----\n",
      "Mean:  3.0\n",
      "Median:  3.0\n",
      "Min:  1\n",
      "Max:  5\n",
      "25% <= 2.0\n",
      "75% <= 4.0\n",
      "90% <= 4.6\n",
      "95% <= 4.8\n",
      "99% <= 4.96\n",
      "\n",
      "----- Stats for strongly connected components sizes -----\n",
      "Mean:  1.0\n",
      "Median:  1.0\n",
      "Min:  1\n",
      "Max:  1\n",
      "25% <= 1.0\n",
      "75% <= 1.0\n",
      "90% <= 1.0\n",
      "95% <= 1.0\n",
      "99% <= 1.0\n",
      "\n",
      "\n"
     ]
    },
    {
     "data": {
      "text/plain": [
       "308"
      ]
     },
     "execution_count": 16,
     "metadata": {},
     "output_type": "execute_result"
    }
   ],
   "source": [
    "print(cap)\n",
    "graph_stats.write(cap.stdout+'\\n')"
   ]
  },
  {
   "cell_type": "markdown",
   "metadata": {},
   "source": [
    "### Connected components sizes distrib\n",
    "Encore une fois on ne garde que les valeurs <p%tile."
   ]
  },
  {
   "cell_type": "code",
   "execution_count": 17,
   "metadata": {
    "scrolled": true
   },
   "outputs": [
    {
     "name": "stderr",
     "output_type": "stream",
     "text": [
      "D:\\Anaconda\\lib\\site-packages\\matplotlib\\axes\\_base.py:3507: UserWarning: Attempting to set identical bottom==top results\n",
      "in singular transformations; automatically expanding.\n",
      "bottom=1.0, top=1.0\n",
      "  self.set_ylim(upper, lower, auto=None)\n"
     ]
    },
    {
     "data": {
      "image/png": "[encoded data removed]",
      "text/plain": [
       "<Figure size 432x288 with 1 Axes>"
      ]
     },
     "metadata": {
      "needs_background": "light"
     },
     "output_type": "display_data"
    },
    {
     "name": "stderr",
     "output_type": "stream",
     "text": [
      "D:\\Anaconda\\lib\\site-packages\\matplotlib\\axes\\_base.py:3099: UserWarning: Attempting to set identical left==right results\n",
      "in singular transformations; automatically expanding.\n",
      "left=1.0, right=1.0\n",
      "  self.set_xlim(upper, lower, auto=None)\n"
     ]
    },
    {
     "data": {
      "image/png": "[encoded data removed]",
      "text/plain": [
       "<Figure size 432x288 with 1 Axes>"
      ]
     },
     "metadata": {
      "needs_background": "light"
     },
     "output_type": "display_data"
    }
   ],
   "source": [
    "for s_type in cc_sizes.keys():\n",
    "\n",
    "    # on récupère les valeurs\n",
    "    d = np.array(sorted(cc_sizes[s_type]))\n",
    "    \n",
    "    # on compte les occurences\n",
    "    nb_occ = np.bincount(d)\n",
    "    nb_occ = nb_occ[nb_occ > 0]\n",
    "\n",
    "    # on récupère les valeurs uniques de d\n",
    "    d = np.unique(d)\n",
    "\n",
    "    # plot\n",
    "    plt.loglog(d, nb_occ, color='blue')\n",
    "    \n",
    "    # save & show\n",
    "    plt.savefig(out_path + \"{}_connected_components_sizes_distrib_log.pdf\".format(s_type))\n",
    "    plt.show()\n",
    "    plt.close()"
   ]
  },
  {
   "cell_type": "markdown",
   "metadata": {},
   "source": [
    "### Custom wedge metric"
   ]
  },
  {
   "cell_type": "markdown",
   "metadata": {},
   "source": [
    "<center>\n",
    "$\\frac{\\sum_{\\text{user }i}LF - L \\cap F}{\\sum_{\\text{user }i}LF - L \\cap F + \\frac{1}{2}(L(L-1) + F(F-1))} = \\frac{2\\sum_{\\text{user }i}LF - L \\cap F}{\\sum_{\\text{user }i}(L+F)^2-L-F-2L \\cap F}$\n",
    "</center>\n",
    "1/2 parce que les wedges sont toutes comptées 2 fois sinon."
   ]
  },
  {
   "cell_type": "markdown",
   "metadata": {},
   "source": [
    "# <center> /!\\ VERIF CODE /!\\"
   ]
  },
  {
   "cell_type": "code",
   "execution_count": 18,
   "metadata": {},
   "outputs": [],
   "source": [
    "numerator = 0\n",
    "denominator = 0\n",
    "\n",
    "for i in G.nodes:\n",
    "    leaders = set(G.predecessors(i))\n",
    "    followers = set(G.successors(i))\n",
    "    friends = leaders.intersection(followers)\n",
    "    if leaders == followers or len(leaders) + len(followers) < 2:\n",
    "        continue\n",
    "    L = len(leaders)\n",
    "    F = len(followers)\n",
    "    LintF = len(friends)\n",
    "    numerator += L*F - LintF\n",
    "    denominator += (L+F)**2 - L - F - 2*LintF\n",
    "\n",
    "wedge_metric = 2 * numerator / denominator"
   ]
  },
  {
   "cell_type": "code",
   "execution_count": 19,
   "metadata": {},
   "outputs": [
    {
     "name": "stdout",
     "output_type": "stream",
     "text": [
      "Wedge_metric :  0.0\n"
     ]
    },
    {
     "data": {
      "text/plain": [
       "18"
      ]
     },
     "execution_count": 19,
     "metadata": {},
     "output_type": "execute_result"
    }
   ],
   "source": [
    "print(\"Wedge_metric : \", wedge_metric)\n",
    "graph_stats.write(\"Wedge_metric : {}\".format(wedge_metric))"
   ]
  },
  {
   "cell_type": "markdown",
   "metadata": {},
   "source": [
    "### Close graph_stats"
   ]
  },
  {
   "cell_type": "code",
   "execution_count": 54,
   "metadata": {},
   "outputs": [],
   "source": [
    "graph_stats.close()"
   ]
  },
  {
   "cell_type": "markdown",
   "metadata": {},
   "source": [
    "# Activity"
   ]
  },
  {
   "cell_type": "markdown",
   "metadata": {},
   "source": [
    "### Nb tweets/retweets/retweeted stats"
   ]
  },
  {
   "cell_type": "markdown",
   "metadata": {},
   "source": [
    "On compte le nb de tweets, retweets et retweeted par utilisateur."
   ]
  },
  {
   "cell_type": "code",
   "execution_count": 63,
   "metadata": {},
   "outputs": [],
   "source": [
    "count = dict()\n",
    "count['tweets'], count['retweets'], count['retweeted'], total_time = util.get_activity(\n",
    "    data_path, RTU, cascade, divide_by_time=False, retweeted=True, Author=Author)"
   ]
  },
  {
   "cell_type": "code",
   "execution_count": 64,
   "metadata": {},
   "outputs": [
    {
     "data": {
      "text/plain": [
       "{'tweets': {3: 1, 0: 0, 1: 0, 5: 1, 4: 0, 2: 0},\n",
       " 'retweets': {3: 0, 0: 1, 1: 3, 5: 0, 4: 1, 2: 2},\n",
       " 'retweeted': {3: 3, 0: 0, 1: 0, 5: 1, 4: 0, 2: 0}}"
      ]
     },
     "execution_count": 64,
     "metadata": {},
     "output_type": "execute_result"
    }
   ],
   "source": [
    "count"
   ]
  },
  {
   "cell_type": "markdown",
   "metadata": {},
   "source": [
    "On affiche et on enregistre."
   ]
  },
  {
   "cell_type": "code",
   "execution_count": 18,
   "metadata": {},
   "outputs": [],
   "source": [
    "%%capture cap\n",
    "\n",
    "for count_type in count.keys():\n",
    "    c = np.array([*count[count_type].values()])\n",
    "    print(\"----- Stats for {} per user -----\".format(count_type))\n",
    "    print(\"Total: \", c.sum())\n",
    "    print(\"Mean: \", np.mean(c))\n",
    "    print(\"Median: \", np.median(c))\n",
    "    print(\"Min: \", np.min(c))\n",
    "    maximum = np.max(c)\n",
    "    print(\"Max: {} (user {})\".format(maximum, [u for u in count['tweets'] if count[count_type][u]==maximum]))\n",
    "    for percent in [25, 75, 90, 95, 99]:\n",
    "        print(\"{}% <= {}\".format(percent, np.percentile(c, percent)))\n",
    "    print(\"Nb users with at least 1: \", c[c>0].shape[0])\n",
    "    print(\"Nb users with 0: \", c[c==0].shape[0])\n",
    "    print()"
   ]
  },
  {
   "cell_type": "code",
   "execution_count": 19,
   "metadata": {
    "scrolled": true
   },
   "outputs": [
    {
     "name": "stdout",
     "output_type": "stream",
     "text": [
      "----- Stats for tweets per user -----\n",
      "Total:  396899\n",
      "Mean:  0.7315881345653684\n",
      "Median:  1.0\n",
      "Min:  0\n",
      "Max: 10 (user [1292700477, 1293930643])\n",
      "25% <= 0.0\n",
      "75% <= 1.0\n",
      "90% <= 1.0\n",
      "95% <= 1.0\n",
      "99% <= 2.0\n",
      "Nb users with at least 1:  383151\n",
      "Nb users with 0:  159366\n",
      "\n",
      "----- Stats for retweets per user -----\n",
      "Total:  153183\n",
      "Mean:  0.2823561289323653\n",
      "Median:  0.0\n",
      "Min:  0\n",
      "Max: 14 (user [1291947964])\n",
      "25% <= 0.0\n",
      "75% <= 1.0\n",
      "90% <= 1.0\n",
      "95% <= 1.0\n",
      "99% <= 1.0\n",
      "Nb users with at least 1:  151118\n",
      "Nb users with 0:  391399\n",
      "\n",
      "----- Stats for retweeted per user -----\n",
      "Total:  153183\n",
      "Mean:  0.2823561289323653\n",
      "Median:  0.0\n",
      "Min:  0\n",
      "Max: 56007 (user [27])\n",
      "25% <= 0.0\n",
      "75% <= 0.0\n",
      "90% <= 0.0\n",
      "95% <= 0.0\n",
      "99% <= 2.0\n",
      "Nb users with at least 1:  16177\n",
      "Nb users with 0:  526340\n",
      "\n",
      "\n"
     ]
    }
   ],
   "source": [
    "print(cap)\n",
    "with open(out_path + \"tweetsRetweets_stats.txt\", 'w') as out:\n",
    "    out.write(cap.stdout)\n",
    "out.close()"
   ]
  },
  {
   "cell_type": "markdown",
   "metadata": {},
   "source": [
    "### Nb tweets/retweets/retweeted distrib"
   ]
  },
  {
   "cell_type": "code",
   "execution_count": 20,
   "metadata": {
    "scrolled": true
   },
   "outputs": [
    {
     "data": {
      "image/png": "[encoded data removed]",
      "text/plain": [
       "<Figure size 432x288 with 1 Axes>"
      ]
     },
     "metadata": {
      "needs_background": "light"
     },
     "output_type": "display_data"
    },
    {
     "data": {
      "image/png": "[encoded data removed]",
      "text/plain": [
       "<Figure size 432x288 with 1 Axes>"
      ]
     },
     "metadata": {
      "needs_background": "light"
     },
     "output_type": "display_data"
    },
    {
     "data": {
      "image/png": "[encoded data removed]",
      "text/plain": [
       "<Figure size 432x288 with 1 Axes>"
      ]
     },
     "metadata": {
      "needs_background": "light"
     },
     "output_type": "display_data"
    }
   ],
   "source": [
    "for count_type in count.keys():\n",
    "   \n",
    "    # on récupère les valeurs\n",
    "    d = np.array(sorted([*count[count_type].values()]))\n",
    "    \n",
    "    # on compte les occurences\n",
    "    nb_occ = np.bincount(d)\n",
    "    nb_occ = nb_occ[nb_occ > 0]\n",
    "\n",
    "    # on récupère les valeurs uniques de d\n",
    "    d = np.unique(d)\n",
    "\n",
    "    # plot\n",
    "    plt.loglog(d, nb_occ, color='blue')\n",
    "    \n",
    "    # save & show\n",
    "    plt.savefig(out_path + \"number_of_{}_distrib_log.pdf\".format(count_type))\n",
    "    plt.show()\n",
    "    plt.close()"
   ]
  },
  {
   "cell_type": "markdown",
   "metadata": {},
   "source": [
    "### $\\lambda, \\mu, \\nu$ stats"
   ]
  },
  {
   "cell_type": "code",
   "execution_count": 21,
   "metadata": {},
   "outputs": [],
   "source": [
    "activity = {'lambda': np.array([*count['tweets'].values()]) / total_time, \n",
    "            'mu': np.array([*count['retweets'].values()]) / total_time, \n",
    "            'nu': np.array([*count['retweeted'].values()]) / total_time}"
   ]
  },
  {
   "cell_type": "code",
   "execution_count": 22,
   "metadata": {},
   "outputs": [],
   "source": [
    "%%capture cap\n",
    "\n",
    "for act_type in activity.keys():\n",
    "    c = activity[act_type]\n",
    "    print(\"----- Stats for {} -----\".format(act_type))\n",
    "    print(\"Mean: \", np.mean(c))\n",
    "    print(\"Median: \", np.median(c))\n",
    "    print(\"Min: \", np.min(c))\n",
    "    maximum = np.max(c)\n",
    "    print(\"Max: \", np.max(c))\n",
    "    for percent in [25, 75, 90, 95, 99]:\n",
    "        print(\"{}% <= {}\".format(percent, np.percentile(c, percent)))\n",
    "    print(\"Nb users with >0: \", c[c>0].shape[0])\n",
    "    print(\"Nb users with 0: \", c[c==0].shape[0])\n",
    "    print()"
   ]
  },
  {
   "cell_type": "code",
   "execution_count": 23,
   "metadata": {
    "scrolled": true
   },
   "outputs": [
    {
     "name": "stdout",
     "output_type": "stream",
     "text": [
      "----- Stats for lambda -----\n",
      "Mean:  2.8991009889652015e-05\n",
      "Median:  3.962750148603131e-05\n",
      "Min:  0.0\n",
      "Max:  0.00039627501486031304\n",
      "25% <= 0.0\n",
      "75% <= 3.962750148603131e-05\n",
      "90% <= 3.962750148603131e-05\n",
      "95% <= 3.962750148603131e-05\n",
      "99% <= 7.925500297206262e-05\n",
      "Nb users with >0:  383151\n",
      "Nb users with 0:  159366\n",
      "\n",
      "----- Stats for mu -----\n",
      "Mean:  1.1189067918857346e-05\n",
      "Median:  0.0\n",
      "Min:  0.0\n",
      "Max:  0.0005547850208044383\n",
      "25% <= 0.0\n",
      "75% <= 3.962750148603131e-05\n",
      "90% <= 3.962750148603131e-05\n",
      "95% <= 3.962750148603131e-05\n",
      "99% <= 3.962750148603131e-05\n",
      "Nb users with >0:  151118\n",
      "Nb users with 0:  391399\n",
      "\n",
      "----- Stats for nu -----\n",
      "Mean:  1.1189067918857349e-05\n",
      "Median:  0.0\n",
      "Min:  0.0\n",
      "Max:  2.2194174757281555\n",
      "25% <= 0.0\n",
      "75% <= 0.0\n",
      "90% <= 0.0\n",
      "95% <= 0.0\n",
      "99% <= 7.925500297206262e-05\n",
      "Nb users with >0:  16177\n",
      "Nb users with 0:  526340\n",
      "\n",
      "\n"
     ]
    }
   ],
   "source": [
    "print(cap)\n",
    "with open(out_path + \"activity_stats.txt\", 'w') as out:\n",
    "    out.write(cap.stdout)\n",
    "out.close()"
   ]
  },
  {
   "cell_type": "code",
   "execution_count": null,
   "metadata": {},
   "outputs": [],
   "source": []
  }
 ],
 "metadata": {
  "kernelspec": {
   "display_name": "Python 3",
   "language": "python",
   "name": "python3"
  },
  "language_info": {
   "codemirror_mode": {
    "name": "ipython",
    "version": 3
   },
   "file_extension": ".py",
   "mimetype": "text/x-python",
   "name": "python",
   "nbconvert_exporter": "python",
   "pygments_lexer": "ipython3",
   "version": "3.7.2"
  }
 },
 "nbformat": 4,
 "nbformat_minor": 2
}
