{
 "cells": [
  {
   "cell_type": "markdown",
   "metadata": {},
   "source": [
    "# <center> Plots for journal </center>"
   ]
  },
  {
   "cell_type": "code",
   "execution_count": 3,
   "metadata": {},
   "outputs": [],
   "source": [
    "import pandas as pd\n",
    "import matplotlib.pyplot as plt"
   ]
  },
  {
   "cell_type": "markdown",
   "metadata": {},
   "source": [
    "Load dataframes."
   ]
  },
  {
   "cell_type": "code",
   "execution_count": 4,
   "metadata": {},
   "outputs": [],
   "source": [
    "df_oursin = pd.read_csv(\"../PsiResults/ComparePsis/wcano_compare_emul_oursin/compare_lists_df.txt\")\n",
    "df_cascade = pd.read_csv(\"../PsiResults/ComparePsis/wcano_compare_emul_cascade_top335emulUsers/compare_lists_df.txt\")"
   ]
  },
  {
   "cell_type": "code",
   "execution_count": 5,
   "metadata": {},
   "outputs": [
    {
     "data": {
      "text/html": [
       "<div>\n",
       "<style scoped>\n",
       "    .dataframe tbody tr th:only-of-type {\n",
       "        vertical-align: middle;\n",
       "    }\n",
       "\n",
       "    .dataframe tbody tr th {\n",
       "        vertical-align: top;\n",
       "    }\n",
       "\n",
       "    .dataframe thead th {\n",
       "        text-align: right;\n",
       "    }\n",
       "</style>\n",
       "<table border=\"1\" class=\"dataframe\">\n",
       "  <thead>\n",
       "    <tr style=\"text-align: right;\">\n",
       "      <th></th>\n",
       "      <th>N</th>\n",
       "      <th>min_psi_emul</th>\n",
       "      <th>min_psi_model</th>\n",
       "      <th>kendall</th>\n",
       "      <th>mean_dist</th>\n",
       "      <th>common_users_prop</th>\n",
       "    </tr>\n",
       "  </thead>\n",
       "  <tbody>\n",
       "    <tr>\n",
       "      <th>0</th>\n",
       "      <td>2</td>\n",
       "      <td>0.007922</td>\n",
       "      <td>0.010367</td>\n",
       "      <td>1.000000</td>\n",
       "      <td>3894.000000</td>\n",
       "      <td>0.500000</td>\n",
       "    </tr>\n",
       "    <tr>\n",
       "      <th>1</th>\n",
       "      <td>3</td>\n",
       "      <td>0.006430</td>\n",
       "      <td>0.007884</td>\n",
       "      <td>1.000000</td>\n",
       "      <td>3894.333333</td>\n",
       "      <td>0.333333</td>\n",
       "    </tr>\n",
       "    <tr>\n",
       "      <th>2</th>\n",
       "      <td>4</td>\n",
       "      <td>0.006418</td>\n",
       "      <td>0.006774</td>\n",
       "      <td>0.333333</td>\n",
       "      <td>3893.750000</td>\n",
       "      <td>0.750000</td>\n",
       "    </tr>\n",
       "    <tr>\n",
       "      <th>3</th>\n",
       "      <td>5</td>\n",
       "      <td>0.006025</td>\n",
       "      <td>0.006212</td>\n",
       "      <td>0.000000</td>\n",
       "      <td>3893.000000</td>\n",
       "      <td>1.000000</td>\n",
       "    </tr>\n",
       "    <tr>\n",
       "      <th>4</th>\n",
       "      <td>6</td>\n",
       "      <td>0.004151</td>\n",
       "      <td>0.004977</td>\n",
       "      <td>0.333333</td>\n",
       "      <td>3893.166667</td>\n",
       "      <td>0.833333</td>\n",
       "    </tr>\n",
       "  </tbody>\n",
       "</table>\n",
       "</div>"
      ],
      "text/plain": [
       "   N  min_psi_emul  min_psi_model   kendall    mean_dist  common_users_prop\n",
       "0  2      0.007922       0.010367  1.000000  3894.000000           0.500000\n",
       "1  3      0.006430       0.007884  1.000000  3894.333333           0.333333\n",
       "2  4      0.006418       0.006774  0.333333  3893.750000           0.750000\n",
       "3  5      0.006025       0.006212  0.000000  3893.000000           1.000000\n",
       "4  6      0.004151       0.004977  0.333333  3893.166667           0.833333"
      ]
     },
     "execution_count": 5,
     "metadata": {},
     "output_type": "execute_result"
    }
   ],
   "source": [
    "df_oursin[:5]"
   ]
  },
  {
   "cell_type": "code",
   "execution_count": 6,
   "metadata": {},
   "outputs": [
    {
     "data": {
      "text/html": [
       "<div>\n",
       "<style scoped>\n",
       "    .dataframe tbody tr th:only-of-type {\n",
       "        vertical-align: middle;\n",
       "    }\n",
       "\n",
       "    .dataframe tbody tr th {\n",
       "        vertical-align: top;\n",
       "    }\n",
       "\n",
       "    .dataframe thead th {\n",
       "        text-align: right;\n",
       "    }\n",
       "</style>\n",
       "<table border=\"1\" class=\"dataframe\">\n",
       "  <thead>\n",
       "    <tr style=\"text-align: right;\">\n",
       "      <th></th>\n",
       "      <th>N</th>\n",
       "      <th>min_psi_emul</th>\n",
       "      <th>min_psi_model</th>\n",
       "      <th>kendall</th>\n",
       "      <th>mean_dist</th>\n",
       "      <th>common_users_prop</th>\n",
       "    </tr>\n",
       "  </thead>\n",
       "  <tbody>\n",
       "    <tr>\n",
       "      <th>0</th>\n",
       "      <td>2</td>\n",
       "      <td>0.006430</td>\n",
       "      <td>0.003020</td>\n",
       "      <td>1.000000</td>\n",
       "      <td>137.000000</td>\n",
       "      <td>0.500000</td>\n",
       "    </tr>\n",
       "    <tr>\n",
       "      <th>1</th>\n",
       "      <td>3</td>\n",
       "      <td>0.006418</td>\n",
       "      <td>0.003011</td>\n",
       "      <td>0.333333</td>\n",
       "      <td>121.000000</td>\n",
       "      <td>0.333333</td>\n",
       "    </tr>\n",
       "    <tr>\n",
       "      <th>2</th>\n",
       "      <td>4</td>\n",
       "      <td>0.006025</td>\n",
       "      <td>0.002637</td>\n",
       "      <td>-0.333333</td>\n",
       "      <td>91.500000</td>\n",
       "      <td>0.500000</td>\n",
       "    </tr>\n",
       "    <tr>\n",
       "      <th>3</th>\n",
       "      <td>5</td>\n",
       "      <td>0.004151</td>\n",
       "      <td>0.002210</td>\n",
       "      <td>-0.200000</td>\n",
       "      <td>83.000000</td>\n",
       "      <td>0.400000</td>\n",
       "    </tr>\n",
       "    <tr>\n",
       "      <th>4</th>\n",
       "      <td>6</td>\n",
       "      <td>0.003748</td>\n",
       "      <td>0.001340</td>\n",
       "      <td>0.066667</td>\n",
       "      <td>112.333333</td>\n",
       "      <td>0.333333</td>\n",
       "    </tr>\n",
       "  </tbody>\n",
       "</table>\n",
       "</div>"
      ],
      "text/plain": [
       "   N  min_psi_emul  min_psi_model   kendall   mean_dist  common_users_prop\n",
       "0  2      0.006430       0.003020  1.000000  137.000000           0.500000\n",
       "1  3      0.006418       0.003011  0.333333  121.000000           0.333333\n",
       "2  4      0.006025       0.002637 -0.333333   91.500000           0.500000\n",
       "3  5      0.004151       0.002210 -0.200000   83.000000           0.400000\n",
       "4  6      0.003748       0.001340  0.066667  112.333333           0.333333"
      ]
     },
     "execution_count": 6,
     "metadata": {},
     "output_type": "execute_result"
    }
   ],
   "source": [
    "df_cascade[:5]"
   ]
  }
 ],
 "metadata": {
  "kernelspec": {
   "display_name": "Python 3",
   "language": "python",
   "name": "python3"
  },
  "language_info": {
   "codemirror_mode": {
    "name": "ipython",
    "version": 3
   },
   "file_extension": ".py",
   "mimetype": "text/x-python",
   "name": "python",
   "nbconvert_exporter": "python",
   "pygments_lexer": "ipython3",
   "version": "3.7.2"
  }
 },
 "nbformat": 4,
 "nbformat_minor": 2
}
