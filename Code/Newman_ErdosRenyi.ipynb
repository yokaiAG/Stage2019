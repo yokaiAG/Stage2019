{
 "cells": [
  {
   "cell_type": "markdown",
   "metadata": {},
   "source": [
    "# <center>Estimating network structure from unreliable measurements</center>"
   ]
  },
  {
   "cell_type": "code",
   "execution_count": 1,
   "metadata": {},
   "outputs": [],
   "source": [
    "import numpy as np\n",
    "import networkx as nx\n",
    "import random as random\n",
    "from operator import itemgetter\n",
    "from scipy.special import binom\n",
    "import matplotlib.pyplot as plt"
   ]
  },
  {
   "cell_type": "markdown",
   "metadata": {},
   "source": [
    "## 1. Erdös-Rényi with independent edge measurements : undirected case"
   ]
  },
  {
   "cell_type": "markdown",
   "metadata": {},
   "source": [
    "### 1.1 Initialization"
   ]
  },
  {
   "cell_type": "markdown",
   "metadata": {},
   "source": [
    "Number of nodes n and list of all node pairs."
   ]
  },
  {
   "cell_type": "code",
   "execution_count": 2,
   "metadata": {},
   "outputs": [],
   "source": [
    "n = 20\n",
    "node_pairs = list()\n",
    "for i in range(n):\n",
    "    for j in range(i,n):\n",
    "        if i != j:\n",
    "            node_pairs.append((i,j))"
   ]
  },
  {
   "cell_type": "markdown",
   "metadata": {},
   "source": [
    "Graph parameters $\\gamma$."
   ]
  },
  {
   "cell_type": "code",
   "execution_count": 3,
   "metadata": {},
   "outputs": [
    {
     "name": "stdout",
     "output_type": "stream",
     "text": [
      "w = 0.14978661367769955\n"
     ]
    }
   ],
   "source": [
    "w = np.log(n)/n # prob of an edge between two nodes\n",
    "print(\"w = {}\".format(w))"
   ]
  },
  {
   "cell_type": "markdown",
   "metadata": {},
   "source": [
    "Generate graph."
   ]
  },
  {
   "cell_type": "code",
   "execution_count": 4,
   "metadata": {},
   "outputs": [
    {
     "name": "stdout",
     "output_type": "stream",
     "text": [
      "nb edges :  25\n"
     ]
    }
   ],
   "source": [
    "G = nx.gnp_random_graph(n,w)\n",
    "print(\"nb edges : \", G.number_of_edges())"
   ]
  },
  {
   "cell_type": "markdown",
   "metadata": {},
   "source": [
    "Data parameters $\\theta$."
   ]
  },
  {
   "cell_type": "code",
   "execution_count": 5,
   "metadata": {},
   "outputs": [],
   "source": [
    "a = 0.7 # true positive rate\n",
    "b = 0.3 # false positive rate"
   ]
  },
  {
   "cell_type": "markdown",
   "metadata": {},
   "source": [
    "Generate data."
   ]
  },
  {
   "cell_type": "code",
   "execution_count": 6,
   "metadata": {},
   "outputs": [],
   "source": [
    "n_obs = 5 # nb of times we observe each node pair\n",
    "N = {e:n_obs for e in node_pairs} # nb obs for each node pair\n",
    "E = {e:0 for e in node_pairs} # nb edges seen during observations for each node pair\n",
    "\n",
    "for k in range(n_obs):\n",
    "    for e in node_pairs:\n",
    "        dice = random.random()\n",
    "        # if true positive\n",
    "        if e in G.edges and dice < a:\n",
    "            E[e] += 1\n",
    "        # if false positive\n",
    "        elif e not in G.edges and dice < b:\n",
    "            E[e] += 1"
   ]
  },
  {
   "cell_type": "markdown",
   "metadata": {},
   "source": [
    "### 1.2 Iterations"
   ]
  },
  {
   "cell_type": "markdown",
   "metadata": {},
   "source": [
    "Choose number of repetitions of the whole algorithm and max iterations for each repetition."
   ]
  },
  {
   "cell_type": "code",
   "execution_count": 7,
   "metadata": {},
   "outputs": [],
   "source": [
    "repetitions = 100\n",
    "max_iter = 100"
   ]
  },
  {
   "cell_type": "markdown",
   "metadata": {},
   "source": [
    "Proceed."
   ]
  },
  {
   "cell_type": "code",
   "execution_count": 8,
   "metadata": {
    "scrolled": true
   },
   "outputs": [],
   "source": [
    "# at each repetition we save the values of w, a and b\n",
    "results = {'w':list(), 'a':list(), 'b':list()}\n",
    "\n",
    "# we do multiple repetitions and then take the mean\n",
    "for k in range(repetitions):\n",
    "    \n",
    "    try:\n",
    "        \n",
    "        # random initialization of the parameters\n",
    "        w = random.random()\n",
    "        a = random.random()\n",
    "        b = random.random()\n",
    "\n",
    "        # iter\n",
    "        for l in range(max_iter):\n",
    "\n",
    "            old_w, old_a, old_b = w, a, b\n",
    "\n",
    "            # compute Qij\n",
    "            Q = dict()\n",
    "            for (i,j) in N:\n",
    "                Q[i,j] = w * a**E[i,j] * (1-a)**(N[i,j]-E[i,j])\n",
    "                Q[i,j] /= w * a**E[i,j] * (1-a)**(N[i,j]-E[i,j]) + (1-w) * b**E[i,j] * (1-b)**(N[i,j]-E[i,j])\n",
    "\n",
    "            # update w,a,b\n",
    "            w = sum(Q.values()) / binom(n,2)\n",
    "            numerator_a, numerator_b = 0, 0\n",
    "            denominator_a, denominator_b = 0, 0\n",
    "            for (i,j) in N:\n",
    "                numerator_a += Q[i,j] * E[i,j]\n",
    "                numerator_b += (1-Q[i,j]) * E[i,j]\n",
    "                denominator_a += Q[i,j] * N[i,j]\n",
    "                denominator_b += (1-Q[i,j]) * N[i,j]\n",
    "            a = numerator_a / denominator_a\n",
    "            b = numerator_b / denominator_b\n",
    "\n",
    "            # break if no sufficient evolution\n",
    "            if np.all(np.abs([a-old_a, b-old_b, w-old_w]) < 0.001):\n",
    "                break\n",
    "\n",
    "        # add results to results dict\n",
    "        results['w'].append(w)\n",
    "        results['a'].append(a)\n",
    "        results['b'].append(b)\n",
    "    \n",
    "    except:\n",
    "        continue"
   ]
  },
  {
   "cell_type": "markdown",
   "metadata": {},
   "source": [
    "Print results."
   ]
  },
  {
   "cell_type": "code",
   "execution_count": 12,
   "metadata": {},
   "outputs": [
    {
     "data": {
      "image/png": "[encoded data removed]",
      "text/plain": [
       "<Figure size 720x144 with 3 Axes>"
      ]
     },
     "metadata": {
      "needs_background": "light"
     },
     "output_type": "display_data"
    },
    {
     "name": "stdout",
     "output_type": "stream",
     "text": [
      "values for w and proportion\n",
      "0.919 0.02\n",
      "0.946 0.11\n",
      "0.26 0.01\n",
      "0.638 0.01\n",
      "0.587 0.01\n",
      "0.951 0.07\n",
      "0.802 0.01\n",
      "0.636 0.01\n",
      "0.813 0.01\n",
      "0.945 0.05\n",
      "0.936 0.01\n",
      "0.058 0.01\n",
      "0.054 0.12\n",
      "0.055 0.07\n",
      "0.119 0.01\n",
      "0.651 0.01\n",
      "0.446 0.01\n",
      "0.917 0.01\n",
      "0.571 0.01\n",
      "0.305 0.01\n",
      "0.475 0.01\n",
      "0.491 0.01\n",
      "0.667 0.01\n",
      "0.757 0.01\n",
      "0.943 0.01\n",
      "0.523 0.01\n",
      "0.049 0.03\n",
      "0.581 0.01\n",
      "0.77 0.01\n",
      "0.05 0.01\n",
      "0.895 0.01\n",
      "0.642 0.01\n",
      "0.267 0.01\n",
      "0.61 0.01\n",
      "0.421 0.01\n",
      "0.514 0.01\n",
      "0.484 0.01\n",
      "0.277 0.01\n",
      "0.322 0.01\n",
      "0.155 0.01\n",
      "0.064 0.01\n",
      "0.178 0.01\n",
      "0.457 0.01\n",
      "0.595 0.01\n",
      "0.874 0.01\n",
      "0.515 0.01\n",
      "0.342 0.01\n",
      "0.083 0.01\n",
      "0.698 0.01\n",
      "0.262 0.01\n",
      "0.079 0.01\n",
      "0.509 0.01\n",
      "0.695 0.01\n",
      "0.052 0.01\n",
      "0.583 0.01\n",
      "0.913 0.01\n",
      "0.942 0.01\n",
      "0.458 0.01\n",
      "0.487 0.01\n",
      "0.282 0.01\n",
      "\n",
      "values for a and proportion\n",
      "0.311 0.01\n",
      "0.266 0.01\n",
      "0.521 0.01\n",
      "0.318 0.16\n",
      "0.408 0.01\n",
      "0.32 0.07\n",
      "0.291 0.01\n",
      "0.806 0.01\n",
      "0.348 0.01\n",
      "0.381 0.01\n",
      "0.279 0.01\n",
      "0.42 0.01\n",
      "0.497 0.01\n",
      "0.83 0.01\n",
      "0.25 0.01\n",
      "0.455 0.01\n",
      "0.446 0.01\n",
      "0.257 0.01\n",
      "0.302 0.01\n",
      "0.815 0.11\n",
      "0.786 0.01\n",
      "0.315 0.01\n",
      "0.267 0.01\n",
      "0.344 0.01\n",
      "0.437 0.01\n",
      "0.248 0.01\n",
      "0.812 0.01\n",
      "0.389 0.01\n",
      "0.825 0.01\n",
      "0.418 0.01\n",
      "0.309 0.01\n",
      "0.511 0.01\n",
      "0.227 0.01\n",
      "0.215 0.01\n",
      "0.214 0.01\n",
      "0.231 0.01\n",
      "0.258 0.01\n",
      "0.439 0.01\n",
      "0.128 0.01\n",
      "0.253 0.01\n",
      "0.816 0.07\n",
      "0.832 0.02\n",
      "0.582 0.01\n",
      "0.252 0.01\n",
      "0.659 0.01\n",
      "0.127 0.01\n",
      "0.265 0.01\n",
      "0.608 0.01\n",
      "0.406 0.01\n",
      "0.31 0.01\n",
      "0.278 0.01\n",
      "0.509 0.01\n",
      "0.275 0.01\n",
      "0.368 0.01\n",
      "0.413 0.01\n",
      "0.256 0.01\n",
      "0.833 0.01\n",
      "0.365 0.01\n",
      "0.317 0.02\n",
      "0.346 0.01\n",
      "0.407 0.01\n",
      "\n",
      "values for b and proportion\n",
      "0.739 0.01\n",
      "0.816 0.1\n",
      "0.284 0.01\n",
      "0.458 0.01\n",
      "0.235 0.01\n",
      "0.833 0.04\n",
      "0.564 0.01\n",
      "0.317 0.01\n",
      "0.815 0.06\n",
      "0.34 0.01\n",
      "0.343 0.01\n",
      "0.497 0.01\n",
      "0.125 0.01\n",
      "0.244 0.01\n",
      "0.401 0.01\n",
      "0.808 0.01\n",
      "0.43 0.01\n",
      "0.257 0.01\n",
      "0.318 0.19\n",
      "0.786 0.01\n",
      "0.347 0.01\n",
      "0.424 0.01\n",
      "0.315 0.01\n",
      "0.392 0.01\n",
      "0.485 0.01\n",
      "0.437 0.01\n",
      "0.405 0.01\n",
      "0.245 0.01\n",
      "0.261 0.01\n",
      "0.234 0.01\n",
      "0.232 0.01\n",
      "0.209 0.01\n",
      "0.147 0.01\n",
      "0.439 0.01\n",
      "0.46 0.01\n",
      "0.303 0.01\n",
      "0.319 0.01\n",
      "0.832 0.03\n",
      "0.239 0.01\n",
      "0.723 0.01\n",
      "0.364 0.01\n",
      "0.457 0.01\n",
      "0.441 0.01\n",
      "0.393 0.01\n",
      "0.297 0.01\n",
      "0.499 0.01\n",
      "0.281 0.01\n",
      "0.265 0.01\n",
      "0.733 0.01\n",
      "0.294 0.01\n",
      "0.278 0.01\n",
      "0.432 0.01\n",
      "0.32 0.04\n",
      "0.256 0.01\n",
      "0.365 0.01\n",
      "0.647 0.01\n",
      "0.804 0.01\n",
      "0.192 0.01\n",
      "0.426 0.01\n",
      "0.282 0.01\n",
      "\n",
      "values for (w,a,b) and proportion\n",
      "(0.058, 0.806, 0.317) 0.01\n",
      "(0.054, 0.816, 0.318) 0.07\n",
      "(0.055, 0.815, 0.318) 0.06\n",
      "(0.054, 0.815, 0.318) 0.05\n",
      "(0.055, 0.812, 0.318) 0.01\n",
      "(0.61, 0.413, 0.239) 0.01\n",
      "(0.052, 0.825, 0.319) 0.01\n",
      "(0.282, 0.509, 0.281) 0.01\n",
      "(0.484, 0.439, 0.257) 0.01\n",
      "(0.695, 0.278, 0.497) 0.01\n",
      "(0.064, 0.786, 0.315) 0.01\n",
      "(0.458, 0.25, 0.426) 0.01\n",
      "(0.514, 0.257, 0.439) 0.01\n",
      "(0.642, 0.407, 0.234) 0.01\n",
      "(0.322, 0.227, 0.401) 0.01\n",
      "(0.155, 0.608, 0.297) 0.01\n",
      "(0.651, 0.406, 0.232) 0.01\n",
      "(0.267, 0.215, 0.393) 0.01\n",
      "(0.262, 0.214, 0.392) 0.01\n",
      "(0.757, 0.389, 0.209) 0.01\n",
      "(0.895, 0.368, 0.147) 0.01\n",
      "(0.342, 0.231, 0.405) 0.01\n",
      "(0.523, 0.258, 0.441) 0.01\n",
      "(0.951, 0.32, 0.832) 0.03\n",
      "(0.874, 0.302, 0.647) 0.01\n",
      "(0.571, 0.42, 0.245) 0.01\n",
      "(0.515, 0.344, 0.347) 0.01\n",
      "(0.475, 0.252, 0.43) 0.01\n",
      "(0.049, 0.832, 0.32) 0.02\n",
      "(0.049, 0.833, 0.32) 0.01\n",
      "(0.05, 0.83, 0.32) 0.01\n",
      "(0.446, 0.248, 0.424) 0.01\n",
      "(0.457, 0.446, 0.261) 0.01\n",
      "(0.509, 0.256, 0.437) 0.01\n",
      "(0.119, 0.659, 0.303) 0.01\n",
      "(0.487, 0.253, 0.432) 0.01\n",
      "(0.942, 0.317, 0.804) 0.01\n",
      "(0.943, 0.317, 0.808) 0.01\n",
      "(0.919, 0.365, 0.125) 0.01\n",
      "(0.595, 0.267, 0.46) 0.01\n",
      "(0.945, 0.318, 0.815) 0.05\n",
      "(0.583, 0.265, 0.457) 0.01\n",
      "(0.587, 0.266, 0.458) 0.01\n",
      "(0.638, 0.408, 0.235) 0.01\n",
      "(0.946, 0.318, 0.816) 0.1\n",
      "(0.919, 0.311, 0.739) 0.01\n",
      "(0.26, 0.521, 0.284) 0.01\n",
      "(0.951, 0.32, 0.833) 0.04\n",
      "(0.802, 0.291, 0.564) 0.01\n",
      "(0.946, 0.318, 0.815) 0.01\n",
      "(0.491, 0.437, 0.256) 0.01\n",
      "(0.698, 0.279, 0.499) 0.01\n",
      "(0.178, 0.582, 0.294) 0.01\n",
      "(0.917, 0.31, 0.733) 0.01\n",
      "(0.667, 0.275, 0.485) 0.01\n",
      "(0.636, 0.348, 0.34) 0.01\n",
      "(0.936, 0.315, 0.786) 0.01\n",
      "(0.277, 0.511, 0.282) 0.01\n",
      "(0.813, 0.381, 0.192) 0.01\n",
      "(0.421, 0.455, 0.265) 0.01\n",
      "(0.77, 0.346, 0.343) 0.01\n",
      "(0.083, 0.128, 0.365) 0.01\n",
      "(0.913, 0.309, 0.723) 0.01\n",
      "(0.079, 0.127, 0.364) 0.01\n",
      "(0.305, 0.497, 0.278) 0.01\n",
      "(0.581, 0.418, 0.244) 0.01\n"
     ]
    }
   ],
   "source": [
    "# plot the results\n",
    "plt.rcParams[\"figure.figsize\"] = [10,2]\n",
    "fig, ax = plt.subplots(1, 3, sharey=True)\n",
    "for i,(key,values) in enumerate(results.items()):\n",
    "    values = sorted(values)\n",
    "    ax[i].scatter(values, [1]*len(values), marker='x', alpha=.5, linewidths=.01, color='blue', label=key)\n",
    "    ax[i].set_xlabel(key)\n",
    "    \n",
    "plt.show()\n",
    "plt.close()\n",
    "\n",
    "# print results\n",
    "for key,val in results.items():\n",
    "    print(\"values for {} and proportion\".format(key))\n",
    "    val = [round(v,3) for v in val]\n",
    "    for v in set(val):\n",
    "        print(v, val.count(v)/len(val))\n",
    "    print()\n",
    "    \n",
    "print(\"values for (w,a,b) and proportion\")\n",
    "val = list()\n",
    "for i in range(len(results['w'])):\n",
    "    val.append((round(results['w'][i],3), round(results['a'][i],3), round(results['b'][i],3)))\n",
    "for v in set(val):\n",
    "    print(v, val.count(v)/len(val))"
   ]
  },
  {
   "cell_type": "markdown",
   "metadata": {},
   "source": [
    "Set w,a,b to the most observed values and compute Q accordingly."
   ]
  },
  {
   "cell_type": "code",
   "execution_count": 13,
   "metadata": {},
   "outputs": [
    {
     "name": "stdout",
     "output_type": "stream",
     "text": [
      "0.946 0.318 0.816\n"
     ]
    }
   ],
   "source": [
    "w, a, b = max([(v, val.count(v)/len(val)) for v in set(val)], key=itemgetter(1))[0]\n",
    "for (i,j) in node_pairs:\n",
    "    Q[i,j] = w * a**E[i,j] * (1-a)**(N[i,j]-E[i,j])\n",
    "    Q[i,j] /= w * a**E[i,j] * (1-a)**(N[i,j]-E[i,j]) + (1-w) * b**E[i,j] * (1-b)**(N[i,j]-E[i,j])\n",
    "print(w,a,b)"
   ]
  },
  {
   "cell_type": "markdown",
   "metadata": {},
   "source": [
    "Plot E vs Q."
   ]
  },
  {
   "cell_type": "code",
   "execution_count": 25,
   "metadata": {},
   "outputs": [
    {
     "data": {
      "text/plain": [
       "Text(0, 0.5, 'a posteriori edge proba')"
      ]
     },
     "execution_count": 25,
     "metadata": {},
     "output_type": "execute_result"
    },
    {
     "data": {
      "image/png": "[encoded data removed]",
      "text/plain": [
       "<Figure size 432x288 with 1 Axes>"
      ]
     },
     "metadata": {
      "needs_background": "light"
     },
     "output_type": "display_data"
    }
   ],
   "source": [
    "plt.rcParams[\"figure.figsize\"] = [6,4]\n",
    "x2plot = [E[e] for e in node_pairs]\n",
    "y2plot = [Q[e] for e in node_pairs]\n",
    "plt.scatter(x2plot, y2plot)\n",
    "plt.xlabel(\"nb of times edge has been observed\")\n",
    "plt.ylabel(\"a posteriori edge proba\")"
   ]
  },
  {
   "cell_type": "markdown",
   "metadata": {},
   "source": [
    "Scatter plot Q vs real edges."
   ]
  },
  {
   "cell_type": "code",
   "execution_count": 27,
   "metadata": {},
   "outputs": [
    {
     "data": {
      "text/plain": [
       "<matplotlib.collections.PathCollection at 0x20115f89438>"
      ]
     },
     "execution_count": 27,
     "metadata": {},
     "output_type": "execute_result"
    },
    {
     "data": {
      "image/png": "[encoded data removed]",
      "text/plain": [
       "<Figure size 432x288 with 1 Axes>"
      ]
     },
     "metadata": {
      "needs_background": "light"
     },
     "output_type": "display_data"
    }
   ],
   "source": [
    "real = [int(e in G.edges) for e in Q]\n",
    "plt.scatter(Q.values(), real, marker='x')"
   ]
  },
  {
   "cell_type": "markdown",
   "metadata": {},
   "source": [
    "Compare edges in real graph vs their posterior probability."
   ]
  },
  {
   "cell_type": "code",
   "execution_count": 20,
   "metadata": {},
   "outputs": [
    {
     "data": {
      "text/plain": [
       "Text(0, 0.5, 'prob of actual existence')"
      ]
     },
     "execution_count": 20,
     "metadata": {},
     "output_type": "execute_result"
    },
    {
     "data": {
      "image/png": "[encoded data removed]",
      "text/plain": [
       "<Figure size 432x288 with 1 Axes>"
      ]
     },
     "metadata": {
      "needs_background": "light"
     },
     "output_type": "display_data"
    }
   ],
   "source": [
    "Qval = list(Q.values())\n",
    "Qval_unique = sorted(set(Qval))\n",
    "real_edge_prob = list()\n",
    "\n",
    "for q in Qval_unique:\n",
    "    real_edge_prob.append(len([e for e in G.edges if Q[e]==q]) / len([e for e in Q if Q[e]==q]))\n",
    "#     print(q, real_edge_prob[-1])\n",
    "    \n",
    "plt.scatter(Qval_unique, real_edge_prob, marker='x', color='blue')\n",
    "plt.xlabel(\"a posteriori proba of edge\")\n",
    "plt.ylabel(\"prob of actual existence\")"
   ]
  },
  {
   "cell_type": "code",
   "execution_count": 21,
   "metadata": {},
   "outputs": [
    {
     "data": {
      "text/plain": [
       "Text(0, 0.5, 'Normalized prop')"
      ]
     },
     "execution_count": 21,
     "metadata": {},
     "output_type": "execute_result"
    },
    {
     "data": {
      "image/png": "[encoded data removed]",
      "text/plain": [
       "<Figure size 432x288 with 2 Axes>"
      ]
     },
     "metadata": {
      "needs_background": "light"
     },
     "output_type": "display_data"
    }
   ],
   "source": [
    "fig, ax = plt.subplots(1,2, sharey=True)\n",
    "ax[0].hist([Q[e] for e in G.edges], density=True, facecolor='yellow', edgecolor='red')\n",
    "ax[0].set_xlabel(\"posteriori prob of existing edges\")\n",
    "ax[1].hist([Q[e] for e in node_pairs if e not in G.edges], density=True, facecolor='yellow', edgecolor='red')\n",
    "ax[1].set_xlabel(\"posteriori prob of non existing edges\")\n",
    "ax[0].set_ylabel(\"Normalized prop\")"
   ]
  },
  {
   "cell_type": "markdown",
   "metadata": {},
   "source": [
    "Compare expected degrees."
   ]
  },
  {
   "cell_type": "code",
   "execution_count": 22,
   "metadata": {},
   "outputs": [
    {
     "name": "stdout",
     "output_type": "stream",
     "text": [
      "Expected degree observed : 17.975115704010395 with variance =?\n",
      "Real expected degree :  6.0\n"
     ]
    }
   ],
   "source": [
    "print(\"Expected degree observed : {} with variance ={}\".format(2*sum(Q.values())/n, \"?\"))\n",
    "print(\"Real expected degree : \", np.mean(G.degree()))"
   ]
  }
 ],
 "metadata": {
  "kernelspec": {
   "display_name": "Python 3",
   "language": "python",
   "name": "python3"
  },
  "language_info": {
   "codemirror_mode": {
    "name": "ipython",
    "version": 3
   },
   "file_extension": ".py",
   "mimetype": "text/x-python",
   "name": "python",
   "nbconvert_exporter": "python",
   "pygments_lexer": "ipython3",
   "version": "3.7.2"
  }
 },
 "nbformat": 4,
 "nbformat_minor": 2
}
