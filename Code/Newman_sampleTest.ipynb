{
 "cells": [
  {
   "cell_type": "markdown",
   "metadata": {},
   "source": [
    "# <center> Newman on custom trace and user graph </center>"
   ]
  },
  {
   "cell_type": "code",
   "execution_count": 49,
   "metadata": {},
   "outputs": [],
   "source": [
    "import util\n",
    "import numpy as np\n",
    "import networkx as nx\n",
    "import random as random\n",
    "from operator import itemgetter\n",
    "from scipy.special import binom\n",
    "import matplotlib.pyplot as plt"
   ]
  },
  {
   "cell_type": "markdown",
   "metadata": {},
   "source": [
    "Load trace."
   ]
  },
  {
   "cell_type": "code",
   "execution_count": 119,
   "metadata": {},
   "outputs": [],
   "source": [
    "trace_path = \"../Datasets/trace_test.txt\""
   ]
  },
  {
   "cell_type": "markdown",
   "metadata": {},
   "source": [
    "Get authors."
   ]
  },
  {
   "cell_type": "code",
   "execution_count": 120,
   "metadata": {},
   "outputs": [],
   "source": [
    "Author = util.get_authors(trace_path)"
   ]
  },
  {
   "cell_type": "markdown",
   "metadata": {},
   "source": [
    "Get users."
   ]
  },
  {
   "cell_type": "code",
   "execution_count": 121,
   "metadata": {},
   "outputs": [
    {
     "name": "stdout",
     "output_type": "stream",
     "text": [
      "{0, 1, 2, 3, 4, 5, 6, 7, 8, 9, 10, 11, 12, 13, 14, 15, 16, 17, 18, 19, 20, 21, 22, 23, 24, 25, 26, 27, 28, 29, 30, 31, 32, 33, 34, 35, 36, 37, 38, 39, 40, 41, 42, 43, 44, 45, 46, 47, 48, 49}\n"
     ]
    }
   ],
   "source": [
    "users = set(Author.values())\n",
    "print(users)"
   ]
  },
  {
   "cell_type": "markdown",
   "metadata": {},
   "source": [
    "## 1. Initialization"
   ]
  },
  {
   "cell_type": "markdown",
   "metadata": {},
   "source": [
    "Number of nodes $n$ and list of all node pairs."
   ]
  },
  {
   "cell_type": "code",
   "execution_count": 122,
   "metadata": {},
   "outputs": [],
   "source": [
    "n = len(users)\n",
    "node_pairs = list()\n",
    "for i in range(n):\n",
    "    for j in range(n):\n",
    "        if i != j:\n",
    "            node_pairs.append((i,j))"
   ]
  },
  {
   "cell_type": "markdown",
   "metadata": {},
   "source": [
    "Compute E and N. We set the number of observation N[i,j] to the number of retweets by j.\n",
    "\n",
    "/!\\ N[i,j] : nb obs for j-->i /!\\\n",
    "\n",
    "/!\\ E[i,j] : nb edges observed for j-->i /!\\"
   ]
  },
  {
   "cell_type": "code",
   "execution_count": 145,
   "metadata": {},
   "outputs": [],
   "source": [
    "# init\n",
    "E = {e:0 for e in node_pairs}\n",
    "N = {e:0 for e in node_pairs}\n",
    "\n",
    "# read tweets\n",
    "for line in open(trace_path):\n",
    "    line = line.split()\n",
    "    uid, rtid = int(line[2]), int(line[3])\n",
    "    \n",
    "    # if retweet\n",
    "    if rtid != -1:\n",
    "        \n",
    "        # update N[.,uid]\n",
    "        for user in users.difference({uid}):\n",
    "            N[uid, user] += 1\n",
    "            \n",
    "        # if retweetd user known update E[rtu,uid]\n",
    "        if rtid in Author:\n",
    "            rtu = Author[rtid]\n",
    "            if rtu != uid: # no self-edges\n",
    "                E[uid, rtu] += 1"
   ]
  },
  {
   "cell_type": "markdown",
   "metadata": {},
   "source": [
    "Reduce the scale of N and E to avoid floats problems."
   ]
  },
  {
   "cell_type": "code",
   "execution_count": 146,
   "metadata": {},
   "outputs": [],
   "source": [
    "def scaling(x, I1, I2):\n",
    "    # scales x from interval I1=[A,B] to I2=[a,b]\n",
    "    A, B = I1[0], I1[1]\n",
    "    a, b = I2[0], I2[1]\n",
    "    return ((b-a)*x + a*B - A*b) / (B-A)\n",
    "\n",
    "I1 = (min(E.values()), max(N.values()))\n",
    "I2 = (0,1)\n",
    "for e in N:\n",
    "    N[e] = scaling(N[e], I1, I2)\n",
    "    E[e] = scaling(E[e], I1, I2)\n",
    "    \n",
    "# # old scaling\n",
    "# scaling_factor = min(E.values())\n",
    "# for e in N:\n",
    "#     N[e] /= scaling_factor\n",
    "#     E[e] /= scaling_factor"
   ]
  },
  {
   "cell_type": "code",
   "execution_count": 147,
   "metadata": {
    "scrolled": true
   },
   "outputs": [
    {
     "name": "stdout",
     "output_type": "stream",
     "text": [
      "min E, max N =  0.0 , 1.0\n"
     ]
    }
   ],
   "source": [
    "print(\"min E, max N = \", min(E.values()), \",\", max(N.values()))"
   ]
  },
  {
   "cell_type": "markdown",
   "metadata": {},
   "source": [
    "## 2. Iterations"
   ]
  },
  {
   "cell_type": "markdown",
   "metadata": {},
   "source": [
    "Choose nb of repetitions and max iterations."
   ]
  },
  {
   "cell_type": "code",
   "execution_count": 148,
   "metadata": {},
   "outputs": [],
   "source": [
    "repetitions = 100\n",
    "max_iter = 1000"
   ]
  },
  {
   "cell_type": "markdown",
   "metadata": {},
   "source": [
    "Proceed."
   ]
  },
  {
   "cell_type": "code",
   "execution_count": 149,
   "metadata": {
    "scrolled": true
   },
   "outputs": [
    {
     "data": {
      "image/png": "[encoded data removed]",
      "text/plain": [
       "<Figure size 720x144 with 3 Axes>"
      ]
     },
     "metadata": {
      "needs_background": "light"
     },
     "output_type": "display_data"
    },
    {
     "name": "stdout",
     "output_type": "stream",
     "text": [
      "mean value for w : 0.46380615021913696\n",
      "median value for w : 0.4497396299156923\n",
      "\n",
      "mean value for a : 0.007608256767484929\n",
      "median value for a : 0.007607909452884597\n",
      "\n",
      "mean value for b : 0.007607255634959112\n",
      "median value for b : 0.00760783499264011\n",
      "\n"
     ]
    }
   ],
   "source": [
    "# at each repetition we save the values of w, a and b\n",
    "results = {'w':list(), 'a':list(), 'b':list()}\n",
    "\n",
    "for k in range(repetitions):\n",
    "    \n",
    "    # we may have divisions by zero\n",
    "    try:\n",
    "    \n",
    "        # random initialization of the parameters\n",
    "        w = random.random()\n",
    "        a = random.random()\n",
    "        b = random.random()\n",
    "\n",
    "        # iter\n",
    "        for l in range(max_iter):\n",
    "\n",
    "            old_w, old_a, old_b = w, a, b\n",
    "\n",
    "            # compute Qij\n",
    "            Q = dict()\n",
    "            for (i,j) in N:\n",
    "                Q[i,j] = w * a**E[i,j] * (1-a)**(N[i,j]-E[i,j])\n",
    "                Q[i,j] /= w * a**E[i,j] * (1-a)**(N[i,j]-E[i,j]) + (1-w) * b**E[i,j] * (1-b)**(N[i,j]-E[i,j])\n",
    "\n",
    "            # update w,a,b\n",
    "            w = sum(Q.values()) / (n*(n-1))\n",
    "            numerator_a, numerator_b = 0, 0\n",
    "            denominator_a, denominator_b = 0, 0\n",
    "            for (i,j) in N:\n",
    "                numerator_a += Q[i,j] * E[i,j]\n",
    "                numerator_b += (1-Q[i,j]) * E[i,j]\n",
    "                denominator_a += Q[i,j] * N[i,j]\n",
    "                denominator_b += (1-Q[i,j]) * N[i,j]\n",
    "            a = numerator_a / denominator_a\n",
    "            b = numerator_b / denominator_b\n",
    "\n",
    "            # break if no sufficient evolution\n",
    "            if np.all(np.abs([a-old_a, b-old_b, w-old_w]) < 0.001):\n",
    "                break\n",
    "            \n",
    "        # add results to results dict\n",
    "        results['w'].append(w)\n",
    "        results['a'].append(a)\n",
    "        results['b'].append(b)\n",
    "        \n",
    "    except:\n",
    "        continue\n",
    "\n",
    "    \n",
    "# plot the results and compute mean,med\n",
    "mean = dict()\n",
    "med = dict()\n",
    "plt.rcParams[\"figure.figsize\"] = [10,2]\n",
    "fig, ax = plt.subplots(1, 3, sharey=True)\n",
    "for i,(key,values) in enumerate(results.items()):\n",
    "    values = sorted(values)\n",
    "    mean[key] = np.mean(values)\n",
    "    med[key] = np.median(values)\n",
    "    ax[i].scatter(values, [1]*len(values), marker='x', alpha=.5, linewidths=.01, color='blue', label=key)\n",
    "    ax[i].set_xlabel(key)\n",
    "    \n",
    "plt.show()\n",
    "plt.close()\n",
    "\n",
    "# print most probable\n",
    "for key in results:\n",
    "    print(\"mean value for {} : {}\".format(key, mean[key]))\n",
    "    print(\"median value for {} : {}\".format(key, med[key]))\n",
    "    print()"
   ]
  },
  {
   "cell_type": "markdown",
   "metadata": {},
   "source": [
    "## 3. Result analysis"
   ]
  },
  {
   "cell_type": "markdown",
   "metadata": {},
   "source": [
    "### 3.1 Sample generation"
   ]
  },
  {
   "cell_type": "markdown",
   "metadata": {},
   "source": [
    "We generate a sample graph according to the posterior distribution.\n",
    "\n",
    "Q[i,j] = proba of edge j-->i."
   ]
  },
  {
   "cell_type": "code",
   "execution_count": 150,
   "metadata": {},
   "outputs": [],
   "source": [
    "G_sample = nx.DiGraph()\n",
    "G_sample.add_nodes_from(users)\n",
    "\n",
    "for e in node_pairs:\n",
    "    if random.random() < Q[e]:\n",
    "        G_sample.add_edge(e[1], e[0])"
   ]
  },
  {
   "cell_type": "code",
   "execution_count": 129,
   "metadata": {},
   "outputs": [
    {
     "data": {
      "image/png": "[encoded data removed]",
      "text/plain": [
       "<Figure size 720x144 with 1 Axes>"
      ]
     },
     "metadata": {},
     "output_type": "display_data"
    }
   ],
   "source": [
    "nx.draw(G_sample, with_labels=True)"
   ]
  },
  {
   "cell_type": "markdown",
   "metadata": {},
   "source": [
    "Get real graph."
   ]
  },
  {
   "cell_type": "code",
   "execution_count": 151,
   "metadata": {},
   "outputs": [],
   "source": [
    "G_real = nx.DiGraph()\n",
    "G_real.add_nodes_from(users)\n",
    "\n",
    "for line in open(\"../Datasets/leadgraph_test.txt\"):\n",
    "    line = line.split()\n",
    "    user = int(line[0])\n",
    "    for leader in line[1:]:\n",
    "        leader = int(leader)\n",
    "        G_real.add_edge(leader, user)"
   ]
  },
  {
   "cell_type": "markdown",
   "metadata": {},
   "source": [
    "Compare real graph with sample."
   ]
  },
  {
   "cell_type": "code",
   "execution_count": 152,
   "metadata": {},
   "outputs": [
    {
     "name": "stdout",
     "output_type": "stream",
     "text": [
      "Proportion of edges from real graph in sample :  0.32432432432432434\n",
      "Proportion of edges from sample in real graph :  0.08683068017366136\n"
     ]
    }
   ],
   "source": [
    "sampled_edges_in_real = set()\n",
    "real_edges_in_sample = set()\n",
    "\n",
    "for e in G_sample.edges:\n",
    "    if e in G_real.edges:\n",
    "        sampled_edges_in_real.add(e)\n",
    "\n",
    "for e in G_real.edges:\n",
    "    if e in G_sample.edges:\n",
    "        real_edges_in_sample.add(e)\n",
    "        \n",
    "print(\"Proportion of edges from real graph in sample : \", len(real_edges_in_sample)/G_real.number_of_edges())\n",
    "print(\"Proportion of edges from sample in real graph : \", len(sampled_edges_in_real)/G_sample.number_of_edges())"
   ]
  },
  {
   "cell_type": "markdown",
   "metadata": {},
   "source": [
    "### 3.2 Other"
   ]
  },
  {
   "cell_type": "markdown",
   "metadata": {},
   "source": [
    "Compare edges in real graph vs their posterior probability."
   ]
  },
  {
   "cell_type": "code",
   "execution_count": 153,
   "metadata": {},
   "outputs": [
    {
     "data": {
      "text/plain": [
       "Text(0, 0.5, 'nb of edges in real graph')"
      ]
     },
     "execution_count": 153,
     "metadata": {},
     "output_type": "execute_result"
    },
    {
     "data": {
      "image/png": "[encoded data removed]",
      "text/plain": [
       "<Figure size 432x288 with 1 Axes>"
      ]
     },
     "metadata": {
      "needs_background": "light"
     },
     "output_type": "display_data"
    }
   ],
   "source": [
    "real_edges_count = list()\n",
    "for (e,q) in sorted(Q.items(), key=itemgetter(1)):\n",
    "    real_edges_count.append(0)\n",
    "    for e in G_real.edges:\n",
    "        if Q[e] <= q:\n",
    "            real_edges_count[-1] += 1\n",
    "\n",
    "plt.rcParams[\"figure.figsize\"] = [6,4]\n",
    "plt.plot(sorted(Q.values()), real_edges_count, marker='x', ls=':')\n",
    "plt.xlabel(\"a posteriori edge proba\")\n",
    "plt.ylabel(\"nb of edges in real graph\")"
   ]
  },
  {
   "cell_type": "markdown",
   "metadata": {},
   "source": [
    "Estimate $\\omega$ from real graph and get real values of $a,b$."
   ]
  },
  {
   "cell_type": "code",
   "execution_count": 154,
   "metadata": {},
   "outputs": [
    {
     "name": "stdout",
     "output_type": "stream",
     "text": [
      "estimated w from real graph =  0.07551020408163266\n",
      "real a =  0.008845533451109923\n",
      "real b =  0.00750185059507201\n"
     ]
    }
   ],
   "source": [
    "w_estimated_from_real_graph = G_real.number_of_edges() / (2*binom(n,2))\n",
    "print(\"estimated w from real graph = \", w_estimated_from_real_graph)\n",
    "\n",
    "a_numerator, a_denominator = 0, 0\n",
    "for e in G_real.edges:\n",
    "    a_numerator += E[e]\n",
    "    a_denominator += N[e]\n",
    "print(\"real a = \", a_numerator/a_denominator)\n",
    "\n",
    "b_numerator, b_denominator = 0, 0\n",
    "for e in node_pairs:\n",
    "    if e not in G_real.edges:\n",
    "        b_numerator += E[e]\n",
    "        b_denominator += N[e]\n",
    "print(\"real b = \", b_numerator/b_denominator)"
   ]
  },
  {
   "cell_type": "markdown",
   "metadata": {},
   "source": [
    "Compare expected degrees."
   ]
  },
  {
   "cell_type": "code",
   "execution_count": 139,
   "metadata": {},
   "outputs": [
    {
     "name": "stdout",
     "output_type": "stream",
     "text": [
      "Expected degree observed : 77.33517794769949 with variance =?\n",
      "Real expected degree :  15.95\n"
     ]
    }
   ],
   "source": [
    "print(\"Expected degree observed : {} with variance ={}\".format(2*sum(Q.values())/n, \"?\"))\n",
    "print(\"Real expected degree : \", np.mean(G_real.degree()))"
   ]
  },
  {
   "cell_type": "code",
   "execution_count": null,
   "metadata": {},
   "outputs": [],
   "source": []
  }
 ],
 "metadata": {
  "kernelspec": {
   "display_name": "Python 3",
   "language": "python",
   "name": "python3"
  },
  "language_info": {
   "codemirror_mode": {
    "name": "ipython",
    "version": 3
   },
   "file_extension": ".py",
   "mimetype": "text/x-python",
   "name": "python",
   "nbconvert_exporter": "python",
   "pygments_lexer": "ipython3",
   "version": "3.7.2"
  }
 },
 "nbformat": 4,
 "nbformat_minor": 2
}
