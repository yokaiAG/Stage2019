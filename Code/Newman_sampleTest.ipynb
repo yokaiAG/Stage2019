{
 "cells": [
  {
   "cell_type": "markdown",
   "metadata": {},
   "source": [
    "# <center> Newman on custom trace and user graph </center>"
   ]
  },
  {
   "cell_type": "code",
   "execution_count": 133,
   "metadata": {},
   "outputs": [],
   "source": [
    "import util\n",
    "import numpy as np\n",
    "import networkx as nx\n",
    "import random as random\n",
    "from operator import itemgetter\n",
    "from scipy.special import binom\n",
    "import matplotlib.pyplot as plt"
   ]
  },
  {
   "cell_type": "markdown",
   "metadata": {},
   "source": [
    "Load trace."
   ]
  },
  {
   "cell_type": "code",
   "execution_count": 260,
   "metadata": {},
   "outputs": [],
   "source": [
    "trace_path = \"../Datasets/trace_test.txt\""
   ]
  },
  {
   "cell_type": "markdown",
   "metadata": {},
   "source": [
    "Get authors."
   ]
  },
  {
   "cell_type": "code",
   "execution_count": 261,
   "metadata": {},
   "outputs": [],
   "source": [
    "Author = util.get_authors(trace_path)"
   ]
  },
  {
   "cell_type": "markdown",
   "metadata": {},
   "source": [
    "Get users."
   ]
  },
  {
   "cell_type": "code",
   "execution_count": 262,
   "metadata": {},
   "outputs": [
    {
     "name": "stdout",
     "output_type": "stream",
     "text": [
      "{0, 1, 2, 3, 4, 5, 6, 7, 8, 9}\n"
     ]
    }
   ],
   "source": [
    "users = set(Author.values())\n",
    "print(users)"
   ]
  },
  {
   "cell_type": "markdown",
   "metadata": {},
   "source": [
    "## 1. Initialization"
   ]
  },
  {
   "cell_type": "markdown",
   "metadata": {},
   "source": [
    "Number of nodes $n$ and list of all node pairs."
   ]
  },
  {
   "cell_type": "code",
   "execution_count": 263,
   "metadata": {},
   "outputs": [],
   "source": [
    "n = len(users)\n",
    "node_pairs = list()\n",
    "for i in range(n):\n",
    "    for j in range(n):\n",
    "        if i != j:\n",
    "            node_pairs.append((i,j))"
   ]
  },
  {
   "cell_type": "markdown",
   "metadata": {},
   "source": [
    "Compute E and N. We set the number of observation N[i,j] to the number of retweets by j.\n",
    "\n",
    "/!\\ N[i,j] : nb obs for j-->i /!\\\n",
    "\n",
    "/!\\ E[i,j] : nb edges observed for j-->i /!\\"
   ]
  },
  {
   "cell_type": "code",
   "execution_count": 338,
   "metadata": {},
   "outputs": [],
   "source": [
    "# init\n",
    "E = {e:0 for e in node_pairs}\n",
    "N = {e:0 for e in node_pairs}\n",
    "\n",
    "# read tweets\n",
    "for line in open(trace_path):\n",
    "    line = line.split()\n",
    "    uid, rtid = int(line[2]), int(line[3])\n",
    "    \n",
    "    # if retweet\n",
    "    if rtid != -1:\n",
    "        \n",
    "        # update N[.,uid]\n",
    "        for user in users.difference({uid}):\n",
    "            N[uid, user] += 1\n",
    "            \n",
    "        # if retweetd user known update E[rtu,uid]\n",
    "        if rtid in Author:\n",
    "            rtu = Author[rtid]\n",
    "            if rtu != uid: # no self-edges\n",
    "                E[uid, rtu] += 1"
   ]
  },
  {
   "cell_type": "markdown",
   "metadata": {},
   "source": [
    "Reduce the scale of N and E to avoid floats problems."
   ]
  },
  {
   "cell_type": "code",
   "execution_count": 339,
   "metadata": {},
   "outputs": [],
   "source": [
    "scaling_factor = min(E.values())\n",
    "for e in N:\n",
    "    N[e] /= scaling_factor\n",
    "    E[e] /= scaling_factor"
   ]
  },
  {
   "cell_type": "code",
   "execution_count": 340,
   "metadata": {
    "scrolled": true
   },
   "outputs": [
    {
     "data": {
      "text/plain": [
       "{(0, 1): 48.0,\n",
       " (0, 2): 88.0,\n",
       " (0, 3): 50.0,\n",
       " (0, 4): 65.0,\n",
       " (0, 5): 131.0,\n",
       " (0, 6): 77.0,\n",
       " (0, 7): 64.0,\n",
       " (0, 8): 42.0,\n",
       " (0, 9): 44.0,\n",
       " (1, 0): 11.0,\n",
       " (1, 2): 9.0,\n",
       " (1, 3): 5.0,\n",
       " (1, 4): 2.0,\n",
       " (1, 5): 18.0,\n",
       " (1, 6): 7.0,\n",
       " (1, 7): 12.0,\n",
       " (1, 8): 1.0,\n",
       " (1, 9): 5.0,\n",
       " (2, 0): 116.0,\n",
       " (2, 1): 56.0,\n",
       " (2, 3): 84.0,\n",
       " (2, 4): 69.0,\n",
       " (2, 5): 137.0,\n",
       " (2, 6): 87.0,\n",
       " (2, 7): 73.0,\n",
       " (2, 8): 43.0,\n",
       " (2, 9): 46.0,\n",
       " (3, 0): 77.0,\n",
       " (3, 1): 29.0,\n",
       " (3, 2): 42.0,\n",
       " (3, 4): 55.0,\n",
       " (3, 5): 105.0,\n",
       " (3, 6): 65.0,\n",
       " (3, 7): 70.0,\n",
       " (3, 8): 25.0,\n",
       " (3, 9): 33.0,\n",
       " (4, 0): 103.0,\n",
       " (4, 1): 48.0,\n",
       " (4, 2): 77.0,\n",
       " (4, 3): 64.0,\n",
       " (4, 5): 135.0,\n",
       " (4, 6): 100.0,\n",
       " (4, 7): 61.0,\n",
       " (4, 8): 52.0,\n",
       " (4, 9): 38.0,\n",
       " (5, 0): 138.0,\n",
       " (5, 1): 55.0,\n",
       " (5, 2): 98.0,\n",
       " (5, 3): 77.0,\n",
       " (5, 4): 76.0,\n",
       " (5, 6): 97.0,\n",
       " (5, 7): 65.0,\n",
       " (5, 8): 30.0,\n",
       " (5, 9): 48.0,\n",
       " (6, 0): 109.0,\n",
       " (6, 1): 55.0,\n",
       " (6, 2): 98.0,\n",
       " (6, 3): 87.0,\n",
       " (6, 4): 85.0,\n",
       " (6, 5): 152.0,\n",
       " (6, 7): 68.0,\n",
       " (6, 8): 35.0,\n",
       " (6, 9): 50.0,\n",
       " (7, 0): 18.0,\n",
       " (7, 1): 7.0,\n",
       " (7, 2): 12.0,\n",
       " (7, 3): 10.0,\n",
       " (7, 4): 12.0,\n",
       " (7, 5): 18.0,\n",
       " (7, 6): 16.0,\n",
       " (7, 8): 3.0,\n",
       " (7, 9): 10.0,\n",
       " (8, 0): 49.0,\n",
       " (8, 1): 25.0,\n",
       " (8, 2): 48.0,\n",
       " (8, 3): 38.0,\n",
       " (8, 4): 30.0,\n",
       " (8, 5): 61.0,\n",
       " (8, 6): 43.0,\n",
       " (8, 7): 31.0,\n",
       " (8, 9): 27.0,\n",
       " (9, 0): 2.0,\n",
       " (9, 1): 5.0,\n",
       " (9, 2): 4.0,\n",
       " (9, 3): 1.0,\n",
       " (9, 4): 3.0,\n",
       " (9, 5): 4.0,\n",
       " (9, 6): 10.0,\n",
       " (9, 7): 3.0,\n",
       " (9, 8): 2.0}"
      ]
     },
     "execution_count": 340,
     "metadata": {},
     "output_type": "execute_result"
    }
   ],
   "source": [
    "E"
   ]
  },
  {
   "cell_type": "markdown",
   "metadata": {},
   "source": [
    "## 2. Iterations"
   ]
  },
  {
   "cell_type": "markdown",
   "metadata": {},
   "source": [
    "Choose nb of repetitions and max iterations."
   ]
  },
  {
   "cell_type": "code",
   "execution_count": 341,
   "metadata": {},
   "outputs": [],
   "source": [
    "repetitions = 100\n",
    "max_iter = 1000"
   ]
  },
  {
   "cell_type": "markdown",
   "metadata": {},
   "source": [
    "Proceed."
   ]
  },
  {
   "cell_type": "code",
   "execution_count": 342,
   "metadata": {
    "scrolled": true
   },
   "outputs": [
    {
     "data": {
      "image/png": "[encoded data removed]",
      "text/plain": [
       "<Figure size 720x144 with 3 Axes>"
      ]
     },
     "metadata": {
      "needs_background": "light"
     },
     "output_type": "display_data"
    },
    {
     "name": "stdout",
     "output_type": "stream",
     "text": [
      "mean value for W : 0.4834972697600014\n",
      "median value for W : 0.4207885738483221\n",
      "\n",
      "mean value for A : 0.10578797443009554\n",
      "median value for A : 0.134089616707924\n",
      "\n",
      "mean value for B : 0.10045333516061168\n",
      "median value for B : 0.07016312496192553\n",
      "\n"
     ]
    }
   ],
   "source": [
    "# at each repetition we save the values of w, a and b\n",
    "results = {'W':list(), 'A':list(), 'B':list()}\n",
    "\n",
    "for k in range(repetitions):\n",
    "    \n",
    "    # we may have divisions by zero\n",
    "    try:\n",
    "    \n",
    "        # random initialization of the parameters\n",
    "        w = random.random()\n",
    "        a = random.random()\n",
    "        b = random.random()\n",
    "\n",
    "        # iter\n",
    "        for l in range(max_iter):\n",
    "\n",
    "            old_w, old_a, old_b = w, a, b\n",
    "\n",
    "            # compute Qij\n",
    "            Q = dict()\n",
    "            for (i,j) in N:\n",
    "                Q[i,j] = w * a**E[i,j] * (1-a)**(N[i,j]-E[i,j])\n",
    "                Q[i,j] /= w * a**E[i,j] * (1-a)**(N[i,j]-E[i,j]) + (1-w) * b**E[i,j] * (1-b)**(N[i,j]-E[i,j])\n",
    "\n",
    "            # update w,a,b\n",
    "            w = sum(Q.values()) / (n*(n-1))\n",
    "            numerator_a, numerator_b = 0, 0\n",
    "            denominator_a, denominator_b = 0, 0\n",
    "            for (i,j) in N:\n",
    "                numerator_a += Q[i,j] * E[i,j]\n",
    "                numerator_b += (1-Q[i,j]) * E[i,j]\n",
    "                denominator_a += Q[i,j] * N[i,j]\n",
    "                denominator_b += (1-Q[i,j]) * N[i,j]\n",
    "            a = numerator_a / denominator_a\n",
    "            b = numerator_b / denominator_b\n",
    "\n",
    "            # break if no sufficient evolution\n",
    "            if np.all(np.abs([a-old_a, b-old_b, w-old_w]) < 0.001):\n",
    "                break\n",
    "            \n",
    "        # add results to results dict\n",
    "        results['W'].append(w)\n",
    "        results['A'].append(a)\n",
    "        results['B'].append(b)\n",
    "        \n",
    "    except:\n",
    "        continue\n",
    "\n",
    "    \n",
    "# plot the results and compute mean,med\n",
    "mean = dict()\n",
    "med = dict()\n",
    "plt.rcParams[\"figure.figsize\"] = [10,2]\n",
    "fig, ax = plt.subplots(1, 3, sharey=True)\n",
    "for i,(key,values) in enumerate(results.items()):\n",
    "    values = sorted(values)\n",
    "    mean[key] = np.mean(values)\n",
    "    med[key] = np.median(values)\n",
    "    ax[i].scatter(values, [1]*len(values), marker='x', alpha=.5, color='blue', label=key)\n",
    "    ax[i].set_xlabel(key)\n",
    "    \n",
    "plt.show()\n",
    "plt.close()\n",
    "\n",
    "# print most probable\n",
    "for key in results:\n",
    "    print(\"mean value for {} : {}\".format(key, mean[key]))\n",
    "    print(\"median value for {} : {}\".format(key, med[key]))\n",
    "    print()"
   ]
  },
  {
   "cell_type": "markdown",
   "metadata": {},
   "source": [
    "## 3. Result analysis"
   ]
  },
  {
   "cell_type": "markdown",
   "metadata": {},
   "source": [
    "### 3.1 Sample generation"
   ]
  },
  {
   "cell_type": "markdown",
   "metadata": {},
   "source": [
    "We generate a sample graph according to the posterior distribution.\n",
    "\n",
    "Q[i,j] = proba of edge j-->i."
   ]
  },
  {
   "cell_type": "code",
   "execution_count": 363,
   "metadata": {},
   "outputs": [],
   "source": [
    "G = nx.DiGraph()\n",
    "G.add_nodes_from(users)\n",
    "\n",
    "for e in node_pairs:\n",
    "    if random.random() < Q[e]:\n",
    "        G.add_edge(e[1], e[0])"
   ]
  },
  {
   "cell_type": "code",
   "execution_count": 364,
   "metadata": {},
   "outputs": [
    {
     "data": {
      "image/png": "[encoded data removed]",
      "text/plain": [
       "<Figure size 720x144 with 1 Axes>"
      ]
     },
     "metadata": {},
     "output_type": "display_data"
    }
   ],
   "source": [
    "nx.draw(G, with_labels=True)"
   ]
  },
  {
   "cell_type": "markdown",
   "metadata": {},
   "source": [
    "Get real graph."
   ]
  },
  {
   "cell_type": "code",
   "execution_count": 365,
   "metadata": {},
   "outputs": [],
   "source": [
    "G_real = nx.DiGraph()\n",
    "G_real.add_nodes_from(users)\n",
    "\n",
    "for line in open(\"../Datasets/leadgraph_test.txt\"):\n",
    "    line = line.split()\n",
    "    user = int(line[0])\n",
    "    for leader in line[1:]:\n",
    "        leader = int(leader)\n",
    "        G_real.add_edge(leader, user)"
   ]
  },
  {
   "cell_type": "markdown",
   "metadata": {},
   "source": [
    "Compare real graph with sample."
   ]
  },
  {
   "cell_type": "code",
   "execution_count": 366,
   "metadata": {},
   "outputs": [
    {
     "name": "stdout",
     "output_type": "stream",
     "text": [
      "Proportion of edges from real graph in sample :  0.4\n",
      "Proportion of edges from sample in real graph :  0.4444444444444444\n"
     ]
    }
   ],
   "source": [
    "sampled_edges_in_real = set()\n",
    "real_edges_in_sample = set()\n",
    "\n",
    "for e in G.edges:\n",
    "    if e in G_real.edges:\n",
    "        sampled_edges_in_real.add(e)\n",
    "\n",
    "for e in G_real.edges:\n",
    "    if e in G.edges:\n",
    "        real_edges_in_sample.add(e)\n",
    "        \n",
    "print(\"Proportion of edges from real graph in sample : \", len(real_edges_in_sample)/G_real.number_of_edges())\n",
    "print(\"Proportion of edges from sample in real graph : \", len(sampled_edges_in_real)/G.number_of_edges())"
   ]
  },
  {
   "cell_type": "markdown",
   "metadata": {},
   "source": [
    "### 3.2 Other"
   ]
  },
  {
   "cell_type": "markdown",
   "metadata": {},
   "source": [
    "Compare edges in real graph vs their posterior probability."
   ]
  },
  {
   "cell_type": "code",
   "execution_count": 334,
   "metadata": {},
   "outputs": [
    {
     "data": {
      "text/plain": [
       "Text(0, 0.5, 'nb of actual edges')"
      ]
     },
     "execution_count": 334,
     "metadata": {},
     "output_type": "execute_result"
    },
    {
     "data": {
      "image/png": "[encoded data removed]",
      "text/plain": [
       "<Figure size 576x432 with 1 Axes>"
      ]
     },
     "metadata": {
      "needs_background": "light"
     },
     "output_type": "display_data"
    }
   ],
   "source": [
    "plt.rcParams[\"figure.figsize\"] = [8,6]\n",
    "real_edges_count = list()\n",
    "for (e,q) in sorted(Q.items(), key=itemgetter(1)):\n",
    "    real_edges_count.append(0)\n",
    "    for e in G.edges:\n",
    "        if Q[e] <= q:\n",
    "            real_edges_count[-1] += 1\n",
    "plt.plot(sorted(Q.values()), real_edges_count, marker='x', ls=':')\n",
    "plt.xlabel(\"a posteriori edge proba\")\n",
    "plt.ylabel(\"nb of actual edges\")"
   ]
  },
  {
   "cell_type": "markdown",
   "metadata": {},
   "source": [
    "Get real value of $\\omega,a,b$."
   ]
  },
  {
   "cell_type": "code",
   "execution_count": 45,
   "metadata": {},
   "outputs": [
    {
     "name": "stdout",
     "output_type": "stream",
     "text": [
      "real w =  0.27631578947368424\n",
      "real a =  0.2833862433862434\n",
      "real b =  0.3056161616161616\n"
     ]
    }
   ],
   "source": [
    "w_real = G.number_of_edges() / (2*binom(n,2))\n",
    "print(\"real w = \", w_real)\n",
    "\n",
    "a_numerator, a_denominator = 0, 0\n",
    "for e in G.edges:\n",
    "    a_numerator += E[e]\n",
    "    a_denominator += N[e]\n",
    "print(\"real a = \", a_numerator/a_denominator)\n",
    "\n",
    "b_numerator, b_denominator = 0, 0\n",
    "for e in node_pairs:\n",
    "    if e not in G.edges:\n",
    "        b_numerator += E[e]\n",
    "        b_denominator += N[e]\n",
    "print(\"real b = \", b_numerator/b_denominator)"
   ]
  },
  {
   "cell_type": "markdown",
   "metadata": {},
   "source": [
    "Compare expected degrees."
   ]
  },
  {
   "cell_type": "code",
   "execution_count": 107,
   "metadata": {},
   "outputs": [
    {
     "name": "stdout",
     "output_type": "stream",
     "text": [
      "Expected degree observed : 19.542491894406158 with variance -1\n",
      "Real expected degree :  10.0\n"
     ]
    }
   ],
   "source": [
    "print(\"Expected degree observed : {} with variance {}\".format(2*sum(Q.values())/n, -1))\n",
    "print(\"Real expected degree : \", np.mean(G.degree()))"
   ]
  }
 ],
 "metadata": {
  "kernelspec": {
   "display_name": "Python 3",
   "language": "python",
   "name": "python3"
  },
  "language_info": {
   "codemirror_mode": {
    "name": "ipython",
    "version": 3
   },
   "file_extension": ".py",
   "mimetype": "text/x-python",
   "name": "python",
   "nbconvert_exporter": "python",
   "pygments_lexer": "ipython3",
   "version": "3.7.2"
  }
 },
 "nbformat": 4,
 "nbformat_minor": 2
}
