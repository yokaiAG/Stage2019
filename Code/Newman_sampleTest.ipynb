{
 "cells": [
  {
   "cell_type": "markdown",
   "metadata": {},
   "source": [
    "# <center> Newman on custom trace and user graph </center>"
   ]
  },
  {
   "cell_type": "code",
   "execution_count": 33,
   "metadata": {},
   "outputs": [],
   "source": [
    "import util\n",
    "import numpy as np\n",
    "import networkx as nx\n",
    "import random as random\n",
    "from operator import itemgetter\n",
    "from scipy.special import binom\n",
    "import matplotlib.pyplot as plt"
   ]
  },
  {
   "cell_type": "markdown",
   "metadata": {},
   "source": [
    "Load trace."
   ]
  },
  {
   "cell_type": "code",
   "execution_count": 2,
   "metadata": {},
   "outputs": [],
   "source": [
    "trace_path = \"../Datasets/trace_test.txt\""
   ]
  },
  {
   "cell_type": "markdown",
   "metadata": {},
   "source": [
    "Get authors."
   ]
  },
  {
   "cell_type": "code",
   "execution_count": 3,
   "metadata": {},
   "outputs": [],
   "source": [
    "Author = util.get_authors(trace_path)"
   ]
  },
  {
   "cell_type": "markdown",
   "metadata": {},
   "source": [
    "Get users."
   ]
  },
  {
   "cell_type": "code",
   "execution_count": 4,
   "metadata": {},
   "outputs": [
    {
     "name": "stdout",
     "output_type": "stream",
     "text": [
      "{0, 1, 2, 3, 4, 5, 6, 7, 8, 9, 10, 11, 12, 13, 14, 15, 16, 17, 18, 19}\n"
     ]
    }
   ],
   "source": [
    "users = set(Author.values())\n",
    "print(users)"
   ]
  },
  {
   "cell_type": "markdown",
   "metadata": {},
   "source": [
    "## 1. Initialization"
   ]
  },
  {
   "cell_type": "markdown",
   "metadata": {},
   "source": [
    "Number of nodes $n$ and list of all node pairs."
   ]
  },
  {
   "cell_type": "code",
   "execution_count": 5,
   "metadata": {},
   "outputs": [],
   "source": [
    "n = len(users)\n",
    "node_pairs = list()\n",
    "for i in range(n):\n",
    "    for j in range(n):\n",
    "        if i != j:\n",
    "            node_pairs.append((i,j))"
   ]
  },
  {
   "cell_type": "markdown",
   "metadata": {},
   "source": [
    "Compute E and N. We set the number of observation N to the max of E."
   ]
  },
  {
   "cell_type": "code",
   "execution_count": 93,
   "metadata": {},
   "outputs": [],
   "source": [
    "# compute number of edges seen\n",
    "E = {e:0 for e in node_pairs}\n",
    "for line in open(trace_path):\n",
    "    line = line.split()\n",
    "    uid, rtid = int(line[2]), int(line[3])\n",
    "    # observe edge if retweet and retweeted user is known\n",
    "    if rtid != -1 and rtid in Author:\n",
    "        rtu = Author[rtid]\n",
    "        if rtu != uid: # no self-edges\n",
    "            E[rtu, uid] += 1\n",
    "\n",
    "# set number of observations\n",
    "N = {e: 2*max(E.values()) for e in node_pairs}"
   ]
  },
  {
   "cell_type": "markdown",
   "metadata": {},
   "source": [
    "## 2. Iterations"
   ]
  },
  {
   "cell_type": "markdown",
   "metadata": {},
   "source": [
    "Choose nb of repetitions and max iterations."
   ]
  },
  {
   "cell_type": "code",
   "execution_count": 94,
   "metadata": {},
   "outputs": [],
   "source": [
    "repetitions = 100\n",
    "max_iter = 1000"
   ]
  },
  {
   "cell_type": "markdown",
   "metadata": {},
   "source": [
    "Proceed."
   ]
  },
  {
   "cell_type": "code",
   "execution_count": 103,
   "metadata": {
    "scrolled": true
   },
   "outputs": [
    {
     "data": {
      "image/png": "[encoded data removed]",
      "text/plain": [
       "<Figure size 720x144 with 3 Axes>"
      ]
     },
     "metadata": {
      "needs_background": "light"
     },
     "output_type": "display_data"
    },
    {
     "name": "stdout",
     "output_type": "stream",
     "text": [
      "mean value for W : 0.47309543939507864\n",
      "median value for W : 0.48631145792753105\n",
      "\n",
      "mean value for A : 0.18300190928375087\n",
      "median value for A : 0.21950839132856453\n",
      "\n",
      "mean value for B : 0.16240402517840685\n",
      "median value for B : 0.14973684210468302\n",
      "\n"
     ]
    }
   ],
   "source": [
    "# at each repetition we save the values of w, a and b\n",
    "results = {'W':list(), 'A':list(), 'B':list()}\n",
    "\n",
    "for k in range(repetitions):\n",
    "    \n",
    "    # we may have divisions by zero\n",
    "    try:\n",
    "    \n",
    "        # random initialization of the parameters\n",
    "        w = random.random()\n",
    "        a = random.random()\n",
    "        b = random.random()\n",
    "\n",
    "        # iter\n",
    "        for l in range(max_iter):\n",
    "\n",
    "            old_w, old_a, old_b = w, a, b\n",
    "\n",
    "            # compute Qij\n",
    "            Q = dict()\n",
    "            for (i,j) in N:\n",
    "                Q[i,j] = w * a**E[i,j] * (1-a)**(N[i,j]-E[i,j])\n",
    "                Q[i,j] /= w * a**E[i,j] * (1-a)**(N[i,j]-E[i,j]) + (1-w) * b**E[i,j] * (1-b)**(N[i,j]-E[i,j])\n",
    "\n",
    "            # update w,a,b\n",
    "            w = sum(Q.values()) / (n*(n-1))\n",
    "            numerator_a, numerator_b = 0, 0\n",
    "            denominator_a, denominator_b = 0, 0\n",
    "            for (i,j) in N:\n",
    "                numerator_a += Q[i,j] * E[i,j]\n",
    "                numerator_b += (1-Q[i,j]) * E[i,j]\n",
    "                denominator_a += Q[i,j] * N[i,j]\n",
    "                denominator_b += (1-Q[i,j]) * N[i,j]\n",
    "            a = numerator_a / denominator_a\n",
    "            b = numerator_b / denominator_b\n",
    "\n",
    "            # break if no sufficient evolution\n",
    "            if np.all(np.abs([a-old_a, b-old_b, w-old_w]) < 0.001):\n",
    "                break\n",
    "            \n",
    "        # add results to results dict\n",
    "        results['W'].append(w)\n",
    "        results['A'].append(a)\n",
    "        results['B'].append(b)\n",
    "        \n",
    "    except:\n",
    "        continue\n",
    "\n",
    "    \n",
    "# plot the results and compute mean,med\n",
    "mean = dict()\n",
    "med = dict()\n",
    "plt.rcParams[\"figure.figsize\"] = [10,2]\n",
    "fig, ax = plt.subplots(1, 3, sharey=True)\n",
    "for i,(key,values) in enumerate(results.items()):\n",
    "    values = sorted(values)\n",
    "    mean[key] = np.mean(values)\n",
    "    med[key] = np.median(values)\n",
    "    ax[i].scatter(values, [1]*len(values), marker='x', alpha=.5, color='blue', label=key)\n",
    "    ax[i].set_xlabel(key)\n",
    "    \n",
    "plt.show()\n",
    "plt.close()\n",
    "\n",
    "# print most probable\n",
    "for key in results:\n",
    "    print(\"mean value for {} : {}\".format(key, mean[key]))\n",
    "    print(\"median value for {} : {}\".format(key, med[key]))\n",
    "    print()"
   ]
  },
  {
   "cell_type": "markdown",
   "metadata": {},
   "source": [
    "## 3. Sample generation"
   ]
  },
  {
   "cell_type": "markdown",
   "metadata": {},
   "source": [
    "We generate a sample graph according to the posterior distribution."
   ]
  },
  {
   "cell_type": "code",
   "execution_count": null,
   "metadata": {},
   "outputs": [],
   "source": [
    "G = nx.DiGraph()\n",
    "G.add_nodes_from(users)\n",
    "\n",
    "for (i,j) in node_pairs:\n",
    "    if random.random() < Q[i,j]:\n",
    "        G.add_edge(i,j)"
   ]
  },
  {
   "cell_type": "markdown",
   "metadata": {},
   "source": [
    "## 3. Results analysis"
   ]
  },
  {
   "cell_type": "markdown",
   "metadata": {},
   "source": [
    "Get real graph."
   ]
  },
  {
   "cell_type": "code",
   "execution_count": 11,
   "metadata": {},
   "outputs": [],
   "source": [
    "G = nx.DiGraph()\n",
    "G.add_nodes_from(users)\n",
    "\n",
    "for line in open(\"../Datasets/leadgraph_test.txt\"):\n",
    "    line = line.split()\n",
    "    user = int(line[0])\n",
    "    for leader in line[1:]:\n",
    "        leader = int(leader)\n",
    "        G.add_edge(leader, user)"
   ]
  },
  {
   "cell_type": "markdown",
   "metadata": {},
   "source": [
    "Compare edges in real graph vs their posterior probability."
   ]
  },
  {
   "cell_type": "code",
   "execution_count": 132,
   "metadata": {},
   "outputs": [
    {
     "data": {
      "text/plain": [
       "Text(0, 0.5, 'nb of actual edges')"
      ]
     },
     "execution_count": 132,
     "metadata": {},
     "output_type": "execute_result"
    },
    {
     "data": {
      "image/png": "[encoded data removed]",
      "text/plain": [
       "<Figure size 576x432 with 1 Axes>"
      ]
     },
     "metadata": {
      "needs_background": "light"
     },
     "output_type": "display_data"
    }
   ],
   "source": [
    "plt.rcParams[\"figure.figsize\"] = [8,6]\n",
    "real_edges_count = list()\n",
    "for (e,q) in sorted(Q.items(), key=itemgetter(1)):\n",
    "    real_edges_count.append(0)\n",
    "    for e in G.edges:\n",
    "        if Q[e] <= q:\n",
    "            real_edges_count[-1] += 1\n",
    "plt.plot(sorted(Q.values()), real_edges_count, marker='x', ls=':')\n",
    "plt.xlabel(\"a posteriori edge proba\")\n",
    "plt.ylabel(\"nb of actual edges\")"
   ]
  },
  {
   "cell_type": "markdown",
   "metadata": {},
   "source": [
    "Get real value of $\\omega,a,b$."
   ]
  },
  {
   "cell_type": "code",
   "execution_count": 45,
   "metadata": {},
   "outputs": [
    {
     "name": "stdout",
     "output_type": "stream",
     "text": [
      "real w =  0.27631578947368424\n",
      "real a =  0.2833862433862434\n",
      "real b =  0.3056161616161616\n"
     ]
    }
   ],
   "source": [
    "w_real = G.number_of_edges() / (2*binom(n,2))\n",
    "print(\"real w = \", w_real)\n",
    "\n",
    "a_numerator, a_denominator = 0, 0\n",
    "for e in G.edges:\n",
    "    a_numerator += E[e]\n",
    "    a_denominator += N[e]\n",
    "print(\"real a = \", a_numerator/a_denominator)\n",
    "\n",
    "b_numerator, b_denominator = 0, 0\n",
    "for e in node_pairs:\n",
    "    if e not in G.edges:\n",
    "        b_numerator += E[e]\n",
    "        b_denominator += N[e]\n",
    "print(\"real b = \", b_numerator/b_denominator)"
   ]
  },
  {
   "cell_type": "markdown",
   "metadata": {},
   "source": [
    "Compare expected degrees."
   ]
  },
  {
   "cell_type": "code",
   "execution_count": 107,
   "metadata": {},
   "outputs": [
    {
     "name": "stdout",
     "output_type": "stream",
     "text": [
      "Expected degree observed : 19.542491894406158 with variance -1\n",
      "Real expected degree :  10.0\n"
     ]
    }
   ],
   "source": [
    "print(\"Expected degree observed : {} with variance {}\".format(2*sum(Q.values())/n, -1))\n",
    "print(\"Real expected degree : \", np.mean(G.degree()))"
   ]
  }
 ],
 "metadata": {
  "kernelspec": {
   "display_name": "Python 3",
   "language": "python",
   "name": "python3"
  },
  "language_info": {
   "codemirror_mode": {
    "name": "ipython",
    "version": 3
   },
   "file_extension": ".py",
   "mimetype": "text/x-python",
   "name": "python",
   "nbconvert_exporter": "python",
   "pygments_lexer": "ipython3",
   "version": "3.7.2"
  }
 },
 "nbformat": 4,
 "nbformat_minor": 2
}
