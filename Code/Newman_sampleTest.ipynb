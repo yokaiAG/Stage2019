{
 "cells": [
  {
   "cell_type": "markdown",
   "metadata": {},
   "source": [
    "# <center> Newman on custom trace and user graph </center>"
   ]
  },
  {
   "cell_type": "code",
   "execution_count": 1,
   "metadata": {},
   "outputs": [],
   "source": [
    "import util\n",
    "import numpy as np\n",
    "import networkx as nx\n",
    "import random as random\n",
    "from operator import itemgetter\n",
    "from scipy.special import binom\n",
    "import matplotlib.pyplot as plt"
   ]
  },
  {
   "cell_type": "markdown",
   "metadata": {},
   "source": [
    "Load trace."
   ]
  },
  {
   "cell_type": "code",
   "execution_count": 2,
   "metadata": {},
   "outputs": [],
   "source": [
    "trace_path = \"../Datasets/trace_test.txt\""
   ]
  },
  {
   "cell_type": "markdown",
   "metadata": {},
   "source": [
    "Get authors."
   ]
  },
  {
   "cell_type": "code",
   "execution_count": 3,
   "metadata": {},
   "outputs": [],
   "source": [
    "Author = util.get_authors(trace_path)"
   ]
  },
  {
   "cell_type": "markdown",
   "metadata": {},
   "source": [
    "Get users."
   ]
  },
  {
   "cell_type": "code",
   "execution_count": 4,
   "metadata": {},
   "outputs": [
    {
     "name": "stdout",
     "output_type": "stream",
     "text": [
      "{0, 1, 2, 3, 4, 5, 6, 7, 8, 9, 10, 11, 12, 13, 14, 15, 16, 17, 18, 19, 20, 21, 22, 23, 24, 25, 26, 27, 28, 29, 30, 31, 32, 33, 34, 35, 36, 37, 38, 39, 40, 41, 42, 43, 44, 45, 46, 47, 48, 49}\n"
     ]
    }
   ],
   "source": [
    "users = set(Author.values())\n",
    "print(users)"
   ]
  },
  {
   "cell_type": "code",
   "execution_count": 5,
   "metadata": {},
   "outputs": [
    {
     "name": "stdout",
     "output_type": "stream",
     "text": [
      "0 0 9 -1\n",
      "1 0.19761178684143316 14 -1\n",
      "2 0.22897749303630008 9 -1\n",
      "3 0.27817540573473964 3 2\n",
      "4 0.5629811737376177 24 -1\n",
      "5 0.5680854304938732 40 -1\n"
     ]
    }
   ],
   "source": [
    "for i,line in enumerate(open(trace_path)):\n",
    "    print(line[:-1]) # [:-1] to remove \\n at end of line\n",
    "    if i==5:\n",
    "        break"
   ]
  },
  {
   "cell_type": "markdown",
   "metadata": {},
   "source": [
    "Useful function to flatten a list of lists or values from dict of dicts."
   ]
  },
  {
   "cell_type": "code",
   "execution_count": 342,
   "metadata": {},
   "outputs": [
    {
     "name": "stdout",
     "output_type": "stream",
     "text": [
      "Example on [[3, 5], [0, -7, 12], [45]] : [3, 5, 0, -7, 12, 45]\n",
      "Example on {1: {4: 56, 2: 45}, 3: {6: 32}} : [56, 45, 32]\n"
     ]
    }
   ],
   "source": [
    "def flatten(obj):\n",
    "    if type(obj) == list:\n",
    "        return [l for L in obj for l in L]\n",
    "    if type(obj) == dict:\n",
    "        return [l for i in obj for l in obj[i].values()]\n",
    "\n",
    "# example\n",
    "liste = [[3,5], [0,-7,12], [45]]\n",
    "print(\"Example on {} : {}\".format(liste, flatten(liste)))\n",
    "dico = {1: {4:56, 2:45}, 3: {6:32}}\n",
    "print(\"Example on {} : {}\".format(dico, flatten(dico)))"
   ]
  },
  {
   "cell_type": "markdown",
   "metadata": {},
   "source": [
    "## 1. Initialization"
   ]
  },
  {
   "cell_type": "markdown",
   "metadata": {},
   "source": [
    "Number of nodes $n$ and list of all node pairs."
   ]
  },
  {
   "cell_type": "code",
   "execution_count": 6,
   "metadata": {},
   "outputs": [],
   "source": [
    "n = len(users)\n",
    "node_pairs = list()\n",
    "for i in range(n):\n",
    "    for j in range(n):\n",
    "        if i != j:\n",
    "            node_pairs.append((i,j))"
   ]
  },
  {
   "cell_type": "markdown",
   "metadata": {},
   "source": [
    "Compute E and N. We set the number of observation N[i,j] to the max of E for each (i,j).\n",
    "\n",
    "/!\\ N[i,j] : nb obs for j-->i /!\\\n",
    "\n",
    "/!\\ E[i,j] : nb edges observed for j-->i /!\\"
   ]
  },
  {
   "cell_type": "code",
   "execution_count": 7,
   "metadata": {},
   "outputs": [],
   "source": [
    "# init\n",
    "N, E = dict(), dict()\n",
    "\n",
    "# read tweets\n",
    "for line in open(trace_path):\n",
    "    line = line.split()\n",
    "    uid, rtid = int(line[2]), int(line[3])\n",
    "    \n",
    "    # udpate N[uid]\n",
    "    if uid in N:\n",
    "        N[uid] += 1\n",
    "    else:\n",
    "        N[uid] = 1\n",
    "    \n",
    "    # if retweet of known author\n",
    "    if rtid != -1 and rtid in Author:\n",
    "        rtu = Author[rtid]\n",
    "        if rtu != uid: # no self-edges\n",
    "            if uid in E:\n",
    "                if rtu in E[uid]:\n",
    "                    E[uid][rtu] += 1\n",
    "                else:\n",
    "                    E[uid][rtu] = 1\n",
    "            else:\n",
    "                E[uid] = {rtu: 1}"
   ]
  },
  {
   "cell_type": "markdown",
   "metadata": {},
   "source": [
    "## 2. Iterations"
   ]
  },
  {
   "cell_type": "markdown",
   "metadata": {},
   "source": [
    "Choose parameters."
   ]
  },
  {
   "cell_type": "code",
   "execution_count": 377,
   "metadata": {},
   "outputs": [],
   "source": [
    "eps = 0.001\n",
    "repetitions = 1\n",
    "max_iter = 100\n",
    "verbose = False"
   ]
  },
  {
   "cell_type": "markdown",
   "metadata": {},
   "source": [
    "Proceed NEW VERSION SPARSE."
   ]
  },
  {
   "cell_type": "code",
   "execution_count": 378,
   "metadata": {
    "scrolled": true
   },
   "outputs": [],
   "source": [
    "# at each repetition we save the values of w, a and b\n",
    "results = {'w':list(), 'a':list(), 'b':list()}\n",
    "\n",
    "for k in range(repetitions):\n",
    "    \n",
    "    # we may have divisions by zero\n",
    "    try:\n",
    "    \n",
    "        # random initialization of the parameters\n",
    "#         w = random.uniform(0, 0.2)\n",
    "#         a = random.uniform(0.5, 1)\n",
    "#         b = random.uniform(0, 0.5)\n",
    "        w = 0.1\n",
    "        a = 0.9\n",
    "        b = 0.1\n",
    "        if verbose:\n",
    "            print(\"init values \", w, a, b)\n",
    "            print()\n",
    "\n",
    "        # iter\n",
    "        for l in range(max_iter):\n",
    "\n",
    "            old_w, old_a, old_b = w, a, b\n",
    "\n",
    "            # compute Qij\n",
    "            Q = dict()\n",
    "            for i in E:\n",
    "                ni = N[i]\n",
    "                Q[i] = dict()\n",
    "                for j in E[i]:\n",
    "                    eij = E[i][j]\n",
    "                    qij = w * a**eij * (1-a)**(ni-eij)\n",
    "                    qij /= w * a**eij * (1-a)**(ni-eij) + (1-w) * b**eij * (1-b)**(ni-eij)\n",
    "                    Q[i][j] = qij\n",
    "            \n",
    "            # update w,a,b\n",
    "            w = sum(flatten(Q)) / (n*(n-1))\n",
    "            numerator_a, numerator_b = 0, 0\n",
    "            denominator_a, denominator_b = 0, 0\n",
    "            for i in E:\n",
    "                ni = N[i]\n",
    "                for j in E[i]:\n",
    "                    eij = E[i][j]\n",
    "                    qij = Q[i][j]\n",
    "                    numerator_a += qij * eij\n",
    "                    numerator_b += (1-qij) * eij\n",
    "                    denominator_a += qij * ni\n",
    "                    denominator_b += (1-qij) * ni\n",
    "            a = numerator_a / denominator_a\n",
    "            b = numerator_b / denominator_b\n",
    "            if verbose:\n",
    "                print(w,a,b)\n",
    "                print()\n",
    "            \n",
    "            # break if no sufficient evolution after at least one iteration\n",
    "            # INCOMPLETE\n",
    "            new_q = np.array(flatten(Q))\n",
    "            if l>0 and np.linalg.norm(new_q - old_q) < eps:\n",
    "                if verbose:\n",
    "                    print(np.abs([a-old_a, b-old_b, w-old_w]))\n",
    "                break\n",
    "            \n",
    "            # register old_q\n",
    "            old_q = new_q\n",
    "            \n",
    "        # add results to results dict\n",
    "        results['w'].append(w)\n",
    "        results['a'].append(a)\n",
    "        results['b'].append(b)\n",
    "        \n",
    "    except e:\n",
    "        print(e)\n",
    "        continue"
   ]
  },
  {
   "cell_type": "markdown",
   "metadata": {},
   "source": [
    "Print results."
   ]
  },
  {
   "cell_type": "code",
   "execution_count": 379,
   "metadata": {},
   "outputs": [
    {
     "data": {
      "image/png": "[encoded data removed]",
      "text/plain": [
       "<Figure size 720x144 with 3 Axes>"
      ]
     },
     "metadata": {
      "needs_background": "light"
     },
     "output_type": "display_data"
    },
    {
     "name": "stdout",
     "output_type": "stream",
     "text": [
      "values for w and proportion\n",
      "0.0 1.0\n",
      "\n",
      "values for a and proportion\n",
      "0.337 1.0\n",
      "\n",
      "values for b and proportion\n",
      "0.018 1.0\n",
      "\n",
      "values for (w,a,b) and proportion\n",
      "(0.0, 0.337, 0.018) 1.0\n"
     ]
    }
   ],
   "source": [
    "# plot the results\n",
    "plt.rcParams[\"figure.figsize\"] = [10,2]\n",
    "fig, ax = plt.subplots(1, 3, sharey=True)\n",
    "for i,(key,values) in enumerate(results.items()):\n",
    "    values = sorted(values)\n",
    "    ax[i].hist(values, label=key, facecolor='yellow', edgecolor='red')\n",
    "    ax[i].set_xlabel(key)\n",
    "    \n",
    "plt.show()\n",
    "plt.close()\n",
    "\n",
    "# print results\n",
    "for key,val in results.items():\n",
    "    print(\"values for {} and proportion\".format(key))\n",
    "    val = [round(v,3) for v in val]\n",
    "    for v in set(val):\n",
    "        print(v, val.count(v)/len(val))\n",
    "    print()\n",
    "    \n",
    "print(\"values for (w,a,b) and proportion\")\n",
    "val = list()\n",
    "for i in range(len(results['w'])):\n",
    "    val.append((round(results['w'][i],3), round(results['a'][i],3), round(results['b'][i],3)))\n",
    "for v in set(val):\n",
    "    print(v, val.count(v)/len(val))"
   ]
  },
  {
   "cell_type": "markdown",
   "metadata": {},
   "source": [
    "Set w,a,b to the most observed values and compute Q accordingly."
   ]
  },
  {
   "cell_type": "code",
   "execution_count": 349,
   "metadata": {},
   "outputs": [
    {
     "name": "stdout",
     "output_type": "stream",
     "text": [
      "w, a, b =  0.077 0.062 0.011\n"
     ]
    },
    {
     "data": {
      "image/png": "[encoded data removed]",
      "text/plain": [
       "<Figure size 432x288 with 1 Axes>"
      ]
     },
     "metadata": {
      "needs_background": "light"
     },
     "output_type": "display_data"
    }
   ],
   "source": [
    "w, a, b = max([(v, val.count(v)/len(val)) for v in set(val)], key=itemgetter(1))[0]\n",
    "\n",
    "# compute Q\n",
    "Q = dict()\n",
    "for i in E:\n",
    "    ni = N[i]\n",
    "    Q[i] = dict()\n",
    "    for j in E[i]:\n",
    "        eij = E[i][j]\n",
    "        qij = w * a**eij * (1-a)**(ni-eij)\n",
    "        qij /= w * a**eij * (1-a)**(ni-eij) + (1-w) * b**eij * (1-b)**(ni-eij)\n",
    "        Q[i][j] = qij\n",
    "        \n",
    "# plot\n",
    "print(\"w, a, b = \", w,a,b)\n",
    "plt.hist(flatten(Q), facecolor='yellow', edgecolor='red')\n",
    "plt.xlabel(\"Q distrib\")\n",
    "plt.show()\n",
    "plt.close()"
   ]
  },
  {
   "cell_type": "markdown",
   "metadata": {},
   "source": [
    "## 3. Result analysis"
   ]
  },
  {
   "cell_type": "markdown",
   "metadata": {},
   "source": [
    "### 3.1 Plots"
   ]
  },
  {
   "cell_type": "markdown",
   "metadata": {},
   "source": [
    "Plot E/N vs Q."
   ]
  },
  {
   "cell_type": "code",
   "execution_count": 363,
   "metadata": {
    "scrolled": true
   },
   "outputs": [
    {
     "data": {
      "image/png": "[encoded data removed]",
      "text/plain": [
       "<Figure size 432x288 with 1 Axes>"
      ]
     },
     "metadata": {
      "needs_background": "light"
     },
     "output_type": "display_data"
    }
   ],
   "source": [
    "plt.rcParams[\"figure.figsize\"] = [6,4]\n",
    "x2plot = flatten(E)\n",
    "y2plot = flatten(Q)\n",
    "plt.scatter(x2plot, y2plot, color='blue', marker='x', alpha=.5, s=1)\n",
    "plt.xlabel(\"E [edge]\")\n",
    "plt.ylabel(\"Q [edge]\")\n",
    "plt.show()"
   ]
  },
  {
   "cell_type": "code",
   "execution_count": 348,
   "metadata": {},
   "outputs": [
    {
     "data": {
      "text/plain": [
       "2450"
      ]
     },
     "execution_count": 348,
     "metadata": {},
     "output_type": "execute_result"
    }
   ],
   "source": [
    "len(flatten(Q))"
   ]
  },
  {
   "cell_type": "markdown",
   "metadata": {},
   "source": [
    "Get real graph."
   ]
  },
  {
   "cell_type": "code",
   "execution_count": 365,
   "metadata": {},
   "outputs": [],
   "source": [
    "G = nx.DiGraph()\n",
    "G.add_nodes_from(users)\n",
    "\n",
    "for line in open(\"../Datasets/leadgraph_test.txt\"):\n",
    "    line = line.split()\n",
    "    user = int(line[0])\n",
    "    for leader in line[1:]:\n",
    "        leader = int(leader)\n",
    "        G.add_edge(leader, user)"
   ]
  },
  {
   "cell_type": "markdown",
   "metadata": {},
   "source": [
    "Estimate $\\omega$ from real graph and get real values of $a,b$."
   ]
  },
  {
   "cell_type": "code",
   "execution_count": 366,
   "metadata": {},
   "outputs": [
    {
     "name": "stdout",
     "output_type": "stream",
     "text": [
      "w,a,b form Newman algo :  0.077 0.062 0.011 \n",
      "\n",
      "estimated w from real graph =  0.11224489795918367\n"
     ]
    },
    {
     "ename": "KeyError",
     "evalue": "1",
     "output_type": "error",
     "traceback": [
      "\u001b[1;31m---------------------------------------------------------------------------\u001b[0m",
      "\u001b[1;31mKeyError\u001b[0m                                  Traceback (most recent call last)",
      "\u001b[1;32m<ipython-input-366-4dc63c3a242c>\u001b[0m in \u001b[0;36m<module>\u001b[1;34m\u001b[0m\n\u001b[0;32m      4\u001b[0m \u001b[0mprint\u001b[0m\u001b[1;33m(\u001b[0m\u001b[1;34m\"estimated w from real graph = \"\u001b[0m\u001b[1;33m,\u001b[0m \u001b[0mw_estimated_from_real_graph\u001b[0m\u001b[1;33m)\u001b[0m\u001b[1;33m\u001b[0m\u001b[1;33m\u001b[0m\u001b[0m\n\u001b[0;32m      5\u001b[0m \u001b[1;33m\u001b[0m\u001b[0m\n\u001b[1;32m----> 6\u001b[1;33m \u001b[0mreal_a\u001b[0m \u001b[1;33m=\u001b[0m \u001b[0mnp\u001b[0m\u001b[1;33m.\u001b[0m\u001b[0mmean\u001b[0m\u001b[1;33m(\u001b[0m\u001b[1;33m[\u001b[0m\u001b[0mE\u001b[0m\u001b[1;33m[\u001b[0m\u001b[0mi\u001b[0m\u001b[1;33m]\u001b[0m\u001b[1;33m[\u001b[0m\u001b[0mj\u001b[0m\u001b[1;33m]\u001b[0m\u001b[1;33m/\u001b[0m\u001b[0mN\u001b[0m\u001b[1;33m[\u001b[0m\u001b[0mi\u001b[0m\u001b[1;33m]\u001b[0m \u001b[1;32mfor\u001b[0m \u001b[1;33m(\u001b[0m\u001b[0mi\u001b[0m\u001b[1;33m,\u001b[0m\u001b[0mj\u001b[0m\u001b[1;33m)\u001b[0m \u001b[1;32min\u001b[0m \u001b[0mG\u001b[0m\u001b[1;33m.\u001b[0m\u001b[0medges\u001b[0m\u001b[1;33m]\u001b[0m\u001b[1;33m)\u001b[0m\u001b[1;33m\u001b[0m\u001b[1;33m\u001b[0m\u001b[0m\n\u001b[0m\u001b[0;32m      7\u001b[0m \u001b[0mreal_b\u001b[0m \u001b[1;33m=\u001b[0m \u001b[0mnp\u001b[0m\u001b[1;33m.\u001b[0m\u001b[0mmean\u001b[0m\u001b[1;33m(\u001b[0m\u001b[1;33m[\u001b[0m\u001b[0mE\u001b[0m\u001b[1;33m[\u001b[0m\u001b[0mi\u001b[0m\u001b[1;33m]\u001b[0m\u001b[1;33m[\u001b[0m\u001b[0mj\u001b[0m\u001b[1;33m]\u001b[0m\u001b[1;33m/\u001b[0m\u001b[0mN\u001b[0m\u001b[1;33m[\u001b[0m\u001b[0mi\u001b[0m\u001b[1;33m]\u001b[0m \u001b[1;32mfor\u001b[0m \u001b[1;33m(\u001b[0m\u001b[0mi\u001b[0m\u001b[1;33m,\u001b[0m\u001b[0mj\u001b[0m\u001b[1;33m)\u001b[0m \u001b[1;32min\u001b[0m \u001b[0mnode_pairs\u001b[0m \u001b[1;32mif\u001b[0m \u001b[1;33m(\u001b[0m\u001b[0mi\u001b[0m\u001b[1;33m,\u001b[0m\u001b[0mj\u001b[0m\u001b[1;33m)\u001b[0m \u001b[1;32mnot\u001b[0m \u001b[1;32min\u001b[0m \u001b[0mG\u001b[0m\u001b[1;33m.\u001b[0m\u001b[0medges\u001b[0m\u001b[1;33m]\u001b[0m\u001b[1;33m)\u001b[0m\u001b[1;33m\u001b[0m\u001b[1;33m\u001b[0m\u001b[0m\n\u001b[0;32m      8\u001b[0m \u001b[0mprint\u001b[0m\u001b[1;33m(\u001b[0m\u001b[1;34m\"real a = \"\u001b[0m\u001b[1;33m,\u001b[0m \u001b[0mreal_a\u001b[0m\u001b[1;33m)\u001b[0m\u001b[1;33m\u001b[0m\u001b[1;33m\u001b[0m\u001b[0m\n",
      "\u001b[1;32m<ipython-input-366-4dc63c3a242c>\u001b[0m in \u001b[0;36m<listcomp>\u001b[1;34m(.0)\u001b[0m\n\u001b[0;32m      4\u001b[0m \u001b[0mprint\u001b[0m\u001b[1;33m(\u001b[0m\u001b[1;34m\"estimated w from real graph = \"\u001b[0m\u001b[1;33m,\u001b[0m \u001b[0mw_estimated_from_real_graph\u001b[0m\u001b[1;33m)\u001b[0m\u001b[1;33m\u001b[0m\u001b[1;33m\u001b[0m\u001b[0m\n\u001b[0;32m      5\u001b[0m \u001b[1;33m\u001b[0m\u001b[0m\n\u001b[1;32m----> 6\u001b[1;33m \u001b[0mreal_a\u001b[0m \u001b[1;33m=\u001b[0m \u001b[0mnp\u001b[0m\u001b[1;33m.\u001b[0m\u001b[0mmean\u001b[0m\u001b[1;33m(\u001b[0m\u001b[1;33m[\u001b[0m\u001b[0mE\u001b[0m\u001b[1;33m[\u001b[0m\u001b[0mi\u001b[0m\u001b[1;33m]\u001b[0m\u001b[1;33m[\u001b[0m\u001b[0mj\u001b[0m\u001b[1;33m]\u001b[0m\u001b[1;33m/\u001b[0m\u001b[0mN\u001b[0m\u001b[1;33m[\u001b[0m\u001b[0mi\u001b[0m\u001b[1;33m]\u001b[0m \u001b[1;32mfor\u001b[0m \u001b[1;33m(\u001b[0m\u001b[0mi\u001b[0m\u001b[1;33m,\u001b[0m\u001b[0mj\u001b[0m\u001b[1;33m)\u001b[0m \u001b[1;32min\u001b[0m \u001b[0mG\u001b[0m\u001b[1;33m.\u001b[0m\u001b[0medges\u001b[0m\u001b[1;33m]\u001b[0m\u001b[1;33m)\u001b[0m\u001b[1;33m\u001b[0m\u001b[1;33m\u001b[0m\u001b[0m\n\u001b[0m\u001b[0;32m      7\u001b[0m \u001b[0mreal_b\u001b[0m \u001b[1;33m=\u001b[0m \u001b[0mnp\u001b[0m\u001b[1;33m.\u001b[0m\u001b[0mmean\u001b[0m\u001b[1;33m(\u001b[0m\u001b[1;33m[\u001b[0m\u001b[0mE\u001b[0m\u001b[1;33m[\u001b[0m\u001b[0mi\u001b[0m\u001b[1;33m]\u001b[0m\u001b[1;33m[\u001b[0m\u001b[0mj\u001b[0m\u001b[1;33m]\u001b[0m\u001b[1;33m/\u001b[0m\u001b[0mN\u001b[0m\u001b[1;33m[\u001b[0m\u001b[0mi\u001b[0m\u001b[1;33m]\u001b[0m \u001b[1;32mfor\u001b[0m \u001b[1;33m(\u001b[0m\u001b[0mi\u001b[0m\u001b[1;33m,\u001b[0m\u001b[0mj\u001b[0m\u001b[1;33m)\u001b[0m \u001b[1;32min\u001b[0m \u001b[0mnode_pairs\u001b[0m \u001b[1;32mif\u001b[0m \u001b[1;33m(\u001b[0m\u001b[0mi\u001b[0m\u001b[1;33m,\u001b[0m\u001b[0mj\u001b[0m\u001b[1;33m)\u001b[0m \u001b[1;32mnot\u001b[0m \u001b[1;32min\u001b[0m \u001b[0mG\u001b[0m\u001b[1;33m.\u001b[0m\u001b[0medges\u001b[0m\u001b[1;33m]\u001b[0m\u001b[1;33m)\u001b[0m\u001b[1;33m\u001b[0m\u001b[1;33m\u001b[0m\u001b[0m\n\u001b[0;32m      8\u001b[0m \u001b[0mprint\u001b[0m\u001b[1;33m(\u001b[0m\u001b[1;34m\"real a = \"\u001b[0m\u001b[1;33m,\u001b[0m \u001b[0mreal_a\u001b[0m\u001b[1;33m)\u001b[0m\u001b[1;33m\u001b[0m\u001b[1;33m\u001b[0m\u001b[0m\n",
      "\u001b[1;31mKeyError\u001b[0m: 1"
     ]
    }
   ],
   "source": [
    "print(\"w,a,b form Newman algo : \", w,a,b,'\\n')\n",
    "\n",
    "w_estimated_from_real_graph = G.number_of_edges() / (2*binom(n,2))\n",
    "print(\"estimated w from real graph = \", w_estimated_from_real_graph)\n",
    "\n",
    "real_a = np.mean([E[i][j]/N[i] for (i,j) in G.edges])\n",
    "real_b = np.mean([E[i][j]/N[i] for (i,j) in node_pairs if (i,j) not in G.edges])\n",
    "print(\"real a = \", real_a)\n",
    "print(\"real b = \", real_b)\n",
    "\n",
    "# a_numerator, a_denominator = 0, 0\n",
    "# for e in G.edges:\n",
    "#     a_numerator += E[e] / N[e]\n",
    "#     a_denominator += N[e]\n",
    "# print(\"real a = \", a_numerator/a_denominator)\n",
    "\n",
    "# b_numerator, b_denominator = 0, 0\n",
    "# for e in node_pairs:\n",
    "#     if e not in G.edges:\n",
    "#         b_numerator += E[e]\n",
    "#         b_denominator += N[e]\n",
    "# print(\"real b = \", b_numerator/b_denominator)"
   ]
  },
  {
   "cell_type": "markdown",
   "metadata": {},
   "source": [
    "Compare expected degrees."
   ]
  },
  {
   "cell_type": "code",
   "execution_count": 21,
   "metadata": {},
   "outputs": [
    {
     "name": "stdout",
     "output_type": "stream",
     "text": [
      "Expected degree observed : 13.648 with variance 0.047 and std_dev 0.216\n",
      "Expected degree estimated from real graph : 17.750\n"
     ]
    }
   ],
   "source": [
    "expected_deg = 2*sum(Q.values())/n\n",
    "var = 4*sum([q*(1-q) for q in Q.values()]) / n**2\n",
    "std = np.sqrt(var)\n",
    "print(\"Expected degree observed : {:.3f} with variance {:.3f} and std_dev {:.3f}\".format(expected_deg, var, std))\n",
    "print(\"Expected degree estimated from real graph : {:.3f}\".format(np.mean(G.degree())))"
   ]
  },
  {
   "cell_type": "markdown",
   "metadata": {},
   "source": [
    "### 3.2 Sample generation"
   ]
  },
  {
   "cell_type": "markdown",
   "metadata": {},
   "source": [
    "We generate several sample graphs according to the posterior distribution. We compare their edges with edges from the real graph."
   ]
  },
  {
   "cell_type": "code",
   "execution_count": 22,
   "metadata": {},
   "outputs": [
    {
     "name": "stdout",
     "output_type": "stream",
     "text": [
      "Mean prop of sample edges present in real graph :  0.7296511627906976\n",
      "Mean prop of real edges present in sample graph :  0.9127272727272727\n"
     ]
    }
   ],
   "source": [
    "n_samples = 1000\n",
    "prop_sampleEdges_in_real = list()\n",
    "prop_realEdges_in_sample = list()\n",
    "\n",
    "for k in range(n_samples):\n",
    "    \n",
    "    # sample graph\n",
    "    G_sample = nx.DiGraph()\n",
    "    G_sample.add_nodes_from(users)\n",
    "    for e in node_pairs:\n",
    "        if random.random() < Q[e]:\n",
    "            G_sample.add_edge(e[1], e[0])\n",
    "            \n",
    "    # compare edges in sample with real graph\n",
    "    prop_sampleEdges_in_real = len([e for e in G_sample.edges if e in G.edges]) / G_sample.number_of_edges()\n",
    "    prop_realEdges_in_sample = len([e for e in G.edges if e in G_sample.edges]) / G.number_of_edges()\n",
    "    \n",
    "# print results\n",
    "print(\"Mean prop of sample edges present in real graph : \", np.mean(prop_sampleEdges_in_real))\n",
    "print(\"Mean prop of real edges present in sample graph : \", np.mean(prop_realEdges_in_sample))"
   ]
  },
  {
   "cell_type": "markdown",
   "metadata": {},
   "source": [
    "## 4. Compare real graph, oursin, cascade and Newman"
   ]
  },
  {
   "cell_type": "markdown",
   "metadata": {},
   "source": [
    "Get oursin graph."
   ]
  },
  {
   "cell_type": "code",
   "execution_count": 24,
   "metadata": {},
   "outputs": [],
   "source": [
    "G_oursin = util.nxgraph_from_trace(trace_path, False, Author)\n",
    "G_cascade = util.nxgraph_from_trace(trace_path, True, Author)"
   ]
  },
  {
   "cell_type": "markdown",
   "metadata": {},
   "source": [
    "Compare with Newman graph."
   ]
  },
  {
   "cell_type": "code",
   "execution_count": 26,
   "metadata": {},
   "outputs": [
    {
     "name": "stdout",
     "output_type": "stream",
     "text": [
      "Mean nb edges in Newman graph :  341.2052111935648\n",
      "Nb edges in oursin graph :  1344\n",
      "Nb edges in cascade graph :  1215\n",
      "Real nb edges :  275\n"
     ]
    }
   ],
   "source": [
    "print(\"Mean nb edges in Newman graph : \", 0.5*expected_deg*n)\n",
    "print(\"Nb edges in oursin graph : \", G_oursin.number_of_edges())\n",
    "print(\"Nb edges in cascade graph : \", G_cascade.number_of_edges())\n",
    "print(\"Real nb edges : \", G.number_of_edges())"
   ]
  },
  {
   "cell_type": "markdown",
   "metadata": {},
   "source": [
    "Compare proportion of common edges."
   ]
  },
  {
   "cell_type": "code",
   "execution_count": 27,
   "metadata": {},
   "outputs": [
    {
     "name": "stdout",
     "output_type": "stream",
     "text": [
      "Mean prop of sample edges that are in real graph :  0.7492625368731564\n",
      "Mean prop of real edges that are in sample graph :  0.9236363636363636\n",
      "\n",
      "Mean prop of sample edges that are in oursin graph :  1.0\n",
      "Mean prop of oursin edges that are in sample graph :  0.25223214285714285\n",
      "\n",
      "Mean prop of sample edges that are in cascade graph :  0.8672566371681416\n",
      "Mean prop of cascade edges that are in sample graph :  0.2419753086419753\n",
      "\n",
      "Prop of oursin edges that are in real graph :  0.20461309523809523\n",
      "Prop of real edges that are in oursin graph :  1.0\n",
      "\n",
      "Prop of cascade edges that are in real graph :  0.22633744855967078\n",
      "Prop of real edges that are in cascade graph :  1.0\n",
      "\n",
      "Prop of oursin edges that are in cascade graph :  0.5424107142857143\n",
      "Prop of cascade edges that are in oursin graph :  0.6\n"
     ]
    }
   ],
   "source": [
    "n_samples = 1000\n",
    "sample_in_real = list()\n",
    "real_in_sample = list()\n",
    "sample_in_oursin = list()\n",
    "oursin_in_sample = list()\n",
    "sample_in_cascade = list()\n",
    "cascade_in_sample = list()\n",
    "\n",
    "# edges lists\n",
    "oursin_edges = set(G_oursin.edges)\n",
    "cascade_edges = set(G_cascade.edges)\n",
    "real_edges = set(G.edges)\n",
    "\n",
    "for k in range(n_samples):\n",
    "    \n",
    "    # sample graph\n",
    "    G_sample = nx.DiGraph()\n",
    "    G_sample.add_nodes_from(users)\n",
    "    for e in node_pairs:\n",
    "        if random.random() < Q[e]:\n",
    "            G_sample.add_edge(e[1], e[0])\n",
    "    sample_edges = set(G_sample.edges)\n",
    "            \n",
    "    # compare edges in sample with real graph\n",
    "    nb_common_edges = len(sample_edges.intersection(real_edges))\n",
    "    sample_in_real = nb_common_edges / len(sample_edges)\n",
    "    real_in_sample = nb_common_edges / len(real_edges)\n",
    "    \n",
    "    # compare edges in sample with oursin graph\n",
    "    nb_common_edges = len(sample_edges.intersection(oursin_edges))\n",
    "    sample_in_oursin = nb_common_edges / len(sample_edges)\n",
    "    oursin_in_sample = nb_common_edges / len(oursin_edges)\n",
    "    \n",
    "    # compare edges in sample with cascade graph\n",
    "    nb_common_edges = len(sample_edges.intersection(cascade_edges))\n",
    "    sample_in_cascade = nb_common_edges / len(sample_edges)\n",
    "    cascade_in_sample = nb_common_edges / len(cascade_edges)\n",
    "    \n",
    "# compare oursin and cascade with real\n",
    "oursin_in_real = len(oursin_edges.intersection(real_edges)) / len(oursin_edges)\n",
    "real_in_oursin = len(oursin_edges.intersection(real_edges)) / len(real_edges)\n",
    "cascade_in_real = len(cascade_edges.intersection(real_edges)) / len(cascade_edges)\n",
    "real_in_cascade = len(cascade_edges.intersection(real_edges)) / len(real_edges)\n",
    "oursin_in_cascade = len(oursin_edges.intersection(cascade_edges)) / len(oursin_edges)\n",
    "cascade_in_oursin = len(oursin_edges.intersection(cascade_edges)) / len(cascade_edges)\n",
    "\n",
    "# print results\n",
    "print(\"Mean prop of sample edges that are in real graph : \", np.mean(sample_in_real))\n",
    "print(\"Mean prop of real edges that are in sample graph : \", np.mean(real_in_sample))\n",
    "print()\n",
    "print(\"Mean prop of sample edges that are in oursin graph : \", np.mean(sample_in_oursin))\n",
    "print(\"Mean prop of oursin edges that are in sample graph : \", np.mean(oursin_in_sample))\n",
    "print()\n",
    "print(\"Mean prop of sample edges that are in cascade graph : \", np.mean(sample_in_cascade))\n",
    "print(\"Mean prop of cascade edges that are in sample graph : \", np.mean(cascade_in_sample))\n",
    "print()\n",
    "print(\"Prop of oursin edges that are in real graph : \", oursin_in_real)\n",
    "print(\"Prop of real edges that are in oursin graph : \", real_in_oursin)\n",
    "print()\n",
    "print(\"Prop of cascade edges that are in real graph : \", cascade_in_real)\n",
    "print(\"Prop of real edges that are in cascade graph : \", real_in_cascade)\n",
    "print()\n",
    "print(\"Prop of oursin edges that are in cascade graph : \", oursin_in_cascade)\n",
    "print(\"Prop of cascade edges that are in oursin graph : \", cascade_in_oursin)"
   ]
  }
 ],
 "metadata": {
  "kernelspec": {
   "display_name": "Python 3",
   "language": "python",
   "name": "python3"
  },
  "language_info": {
   "codemirror_mode": {
    "name": "ipython",
    "version": 3
   },
   "file_extension": ".py",
   "mimetype": "text/x-python",
   "name": "python",
   "nbconvert_exporter": "python",
   "pygments_lexer": "ipython3",
   "version": "3.7.2"
  }
 },
 "nbformat": 4,
 "nbformat_minor": 2
}
