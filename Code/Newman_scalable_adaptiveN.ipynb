{
 "cells": [
  {
   "cell_type": "markdown",
   "metadata": {},
   "source": [
    "# <center> Newman on custom trace and user graph </center>"
   ]
  },
  {
   "cell_type": "code",
   "execution_count": 1,
   "metadata": {},
   "outputs": [],
   "source": [
    "import sys\n",
    "import util\n",
    "import numpy as np\n",
    "import networkx as nx\n",
    "import random as random\n",
    "from time import time\n",
    "from operator import itemgetter\n",
    "from scipy.special import binom\n",
    "import matplotlib.pyplot as plt"
   ]
  },
  {
   "cell_type": "markdown",
   "metadata": {},
   "source": [
    "Load trace."
   ]
  },
  {
   "cell_type": "code",
   "execution_count": 2,
   "metadata": {},
   "outputs": [],
   "source": [
    "trace_path = \"../Newman/rapportStage/trace_normal.txt\"\n",
    "graph_path = \"../Newman/rapportStage/adjList_normal.txt\""
   ]
  },
  {
   "cell_type": "markdown",
   "metadata": {},
   "source": [
    "Get authors."
   ]
  },
  {
   "cell_type": "code",
   "execution_count": 3,
   "metadata": {},
   "outputs": [],
   "source": [
    "Author = util.get_authors(trace_path)"
   ]
  },
  {
   "cell_type": "markdown",
   "metadata": {},
   "source": [
    "Get users."
   ]
  },
  {
   "cell_type": "code",
   "execution_count": 4,
   "metadata": {
    "scrolled": true
   },
   "outputs": [],
   "source": [
    "users = set(Author.values())\n",
    "# print(users)"
   ]
  },
  {
   "cell_type": "markdown",
   "metadata": {},
   "source": [
    "Show beginning of trace."
   ]
  },
  {
   "cell_type": "code",
   "execution_count": 5,
   "metadata": {},
   "outputs": [
    {
     "name": "stdout",
     "output_type": "stream",
     "text": [
      "1 0.0002320407491522085 51 -1\n",
      "2 0.0006118585945935823 42 -1\n",
      "3 0.0007774102808583195 36 -1\n",
      "4 0.0007851068335115537 50 -1\n",
      "5 0.0011044432224044177 36 -1\n",
      "6 0.0013630647560282801 53 -1\n"
     ]
    }
   ],
   "source": [
    "for i,line in enumerate(open(trace_path)):\n",
    "    print(line[:-1]) # [:-1] to remove \\n at end of line\n",
    "    if i==5:\n",
    "        break"
   ]
  },
  {
   "cell_type": "markdown",
   "metadata": {},
   "source": [
    "Useful function to flatten a list of lists or values from dict of dicts."
   ]
  },
  {
   "cell_type": "code",
   "execution_count": 6,
   "metadata": {},
   "outputs": [
    {
     "name": "stdout",
     "output_type": "stream",
     "text": [
      "Example on [[3, 5], [0, -7, 12], [45]] : [3, 5, 0, -7, 12, 45]\n",
      "Example on {1: {4: 56, 2: 45}, 3: {6: 32}} : [56, 45, 32]\n"
     ]
    }
   ],
   "source": [
    "def flatten(obj):\n",
    "    if type(obj) == list:\n",
    "        return [l for L in obj for l in L]\n",
    "    if type(obj) == dict:\n",
    "        return [l for i in obj for l in obj[i].values()]\n",
    "\n",
    "# example\n",
    "liste = [[3,5], [0,-7,12], [45]]\n",
    "print(\"Example on {} : {}\".format(liste, flatten(liste)))\n",
    "dico = {1: {4:56, 2:45}, 3: {6:32}}\n",
    "print(\"Example on {} : {}\".format(dico, flatten(dico)))"
   ]
  },
  {
   "cell_type": "markdown",
   "metadata": {},
   "source": [
    "## 1. Initialization"
   ]
  },
  {
   "cell_type": "markdown",
   "metadata": {},
   "source": [
    "Number of nodes $n$ and list of all node pairs."
   ]
  },
  {
   "cell_type": "code",
   "execution_count": 7,
   "metadata": {},
   "outputs": [],
   "source": [
    "n = len(users)\n",
    "node_pairs = list()\n",
    "for i in range(n):\n",
    "    for j in range(n):\n",
    "        if i != j:\n",
    "            node_pairs.append((i,j))"
   ]
  },
  {
   "cell_type": "markdown",
   "metadata": {},
   "source": [
    "Fix the value of $\\omega$."
   ]
  },
  {
   "cell_type": "code",
   "execution_count": 8,
   "metadata": {},
   "outputs": [
    {
     "name": "stdout",
     "output_type": "stream",
     "text": [
      "w =  0.05\n"
     ]
    }
   ],
   "source": [
    "w = 0.05\n",
    "print(\"w = \", w)"
   ]
  },
  {
   "cell_type": "markdown",
   "metadata": {},
   "source": [
    "Compute E.\n",
    "\n",
    "Note that if E is too big it can cause divisions by zeros in the algorithm. Usually E<200 is fine. You can force E<some chosen value."
   ]
  },
  {
   "cell_type": "code",
   "execution_count": 9,
   "metadata": {},
   "outputs": [
    {
     "name": "stdout",
     "output_type": "stream",
     "text": [
      "max E :  22\n"
     ]
    }
   ],
   "source": [
    "# init\n",
    "E = dict()\n",
    "\n",
    "# read tweets\n",
    "for line in open(trace_path):\n",
    "    line = line.split()\n",
    "    uid, rtid = int(line[2]), int(line[3])\n",
    "    \n",
    "    # if retweet of known author\n",
    "    if rtid != -1 and rtid in Author:\n",
    "        rtu = Author[rtid]\n",
    "        if rtu != uid: # no self-edges\n",
    "            if uid in E:\n",
    "                if rtu in E[uid]: # and E[uid][rtu]<30:\n",
    "                    E[uid][rtu] += 1\n",
    "                else:\n",
    "                    E[uid][rtu] = 1\n",
    "            else:\n",
    "                E[uid] = {rtu: 1}\n",
    "print(\"max E : \", max(flatten(E)))"
   ]
  },
  {
   "cell_type": "markdown",
   "metadata": {},
   "source": [
    "## 2. Iterations"
   ]
  },
  {
   "cell_type": "markdown",
   "metadata": {},
   "source": [
    "Function to compute Qij."
   ]
  },
  {
   "cell_type": "code",
   "execution_count": 10,
   "metadata": {},
   "outputs": [],
   "source": [
    "def computeQij(w0,a0,b0,nij,eij):\n",
    "    return (w0 * a0**eij * (1-a0)**(nij-eij)) / (w0 * a0**eij * (1-a0)**(nij-eij) + (1-w0) * b0**eij * (1-b0)**(nij-eij))"
   ]
  },
  {
   "cell_type": "markdown",
   "metadata": {},
   "source": [
    "Choose parameters."
   ]
  },
  {
   "cell_type": "code",
   "execution_count": 11,
   "metadata": {},
   "outputs": [],
   "source": [
    "eps = 10**(-3) # convergence criterion\n",
    "zeroN_prec = 10**(-2) # precision for dichotomy\n",
    "repetitions = 100 # number of times we repeat the algorithm\n",
    "max_iter = 100 # max number of iterations\n",
    "verbose = False # True to print some infos at each iteration"
   ]
  },
  {
   "cell_type": "markdown",
   "metadata": {},
   "source": [
    "Proceed NEW VERSION SPARSE."
   ]
  },
  {
   "cell_type": "code",
   "execution_count": 12,
   "metadata": {
    "scrolled": true
   },
   "outputs": [
    {
     "name": "stdout",
     "output_type": "stream",
     "text": [
      "N, a, b = 96.0625, 0.06178011160603471, 0.002038075772036467\n",
      "N, a, b = 100.7685546875, 0.058893309430928825, 0.0019429595285621998\n",
      "N, a, b = 98.4375, 0.060287997015549794, 0.001988908405953973\n",
      "N, a, b = 92.498046875, 0.06416203549337296, 0.0021165468080611657\n",
      "N, a, b = 101.4443359375, 0.05850117564026396, 0.0019300413949016996\n",
      "N, a, b = 95.2421875, 0.06231177613266118, 0.0020555864102200653\n",
      "N, a, b = 100.443359375, 0.05908420245335279, 0.0019492504068791946\n",
      "N, a, b = 111.1689453125, 0.053380443789814755, 0.0017612831887652632\n",
      "N, a, b = 93.7607421875, 0.06329677978835499, 0.002088036552200437\n",
      "N, a, b = 92.9052734375, 0.06387966392570178, 0.002107236884141701\n",
      "N, a, b = 97.380859375, 0.06094230610595799, 0.0020104649645935856\n",
      "N, a, b = 105.4814453125, 0.05626111073720228, 0.0018562260557255213\n",
      "N, a, b = 90.0693359375, 0.06589278218110413, 0.002173558159464421\n",
      "N, a, b = 105.5283203125, 0.05623523437907979, 0.001855366597142447\n",
      "N, a, b = 102.6943359375, 0.05778787880433731, 0.0019065305616095566\n",
      "N, a, b = 92.501953125, 0.06415907613508894, 0.002116447381411614\n",
      "N, a, b = 93.93359375, 0.06318038321291725, 0.002084203109864605\n",
      "N, a, b = 94.01171875, 0.06312771395153442, 0.0020824669180238915\n",
      "N, a, b = 104.220703125, 0.05694099363250398, 0.0018786225724010458\n",
      "N, a, b = 102.7587890625, 0.05775206382181722, 0.0019053538767461015\n",
      "N, a, b = 100.783203125, 0.05888404071216252, 0.0019426486590569789\n",
      "N, a, b = 93.3818359375, 0.0635543866016585, 0.0020965281031270207\n",
      "N, a, b = 94.048828125, 0.06310327226569916, 0.0020816653713078516\n",
      "N, a, b = 99.94140625, 0.059381229670967664, 0.001959038298984046\n",
      "N, a, b = 88.9873046875, 0.06669434265610591, 0.002199960742737581\n",
      "N, a, b = 102.0576171875, 0.05814836405738331, 0.0019184073640313444\n",
      "N, a, b = 99.3369140625, 0.05974261355230935, 0.0019709446370344357\n",
      "N, a, b = 98.5283203125, 0.06023255684621842, 0.00198708291217917\n",
      "N, a, b = 100.8515625, 0.05884425959187912, 0.0019413390029464639\n",
      "N, a, b = 105.177734375, 0.056423131085240996, 0.0018615613166305\n",
      "N, a, b = 98.66015625, 0.060151947480732014, 0.0019844264389772947\n",
      "N, a, b = 101.7041015625, 0.0583512556223887, 0.0019250981499162106\n",
      "N, a, b = 100.9775390625, 0.05877051379125101, 0.0019389067048425754\n",
      "N, a, b = 95.9111328125, 0.06187672654442321, 0.002041251651923981\n",
      "N, a, b = 107.1708984375, 0.0553730317378982, 0.001826953890786488\n",
      "N, a, b = 99.798828125, 0.05946499797074913, 0.001961789935755359\n",
      "N, a, b = 104.421875, 0.056831101247886325, 0.0018750002152704485\n",
      "N, a, b = 91.69140625, 0.06472610684329859, 0.0021351233009957566\n",
      "N, a, b = 98.8125, 0.06005880095380403, 0.00198135456370637653\n",
      "N, a, b = 102.4765625, 0.05791155489032068, 0.001910612123112492\n",
      "N, a, b = 106.6728515625, 0.0556322254673418, 0.001835499869343036\n",
      "N, a, b = 103.8935546875, 0.0571210855188284, 0.0018845626774758061\n",
      "N, a, b = 101.2822265625, 0.05859423931514543, 0.0019331030908703128\n",
      "N, a, b = 103.841796875, 0.05714946071775621, 0.0018854967992252487\n",
      "N, a, b = 103.1650390625, 0.057524035768895844, 0.0018978360649168399\n",
      "N, a, b = 96.4921875, 0.06150384471236381, 0.0020289657622016206\n",
      "N, a, b = 96.4453125, 0.06153383976985165, 0.002029954734028775\n",
      "N, a, b = 94.201171875, 0.06300087879455, 0.002078289828368081\n",
      "N, a, b = 91.76953125, 0.06467109303235852, 0.002133312064982578\n",
      "N, a, b = 94.2255859375, 0.06298446070447622, 0.0020777482431246297\n",
      "N, a, b = 107.7607421875, 0.05506975688321507, 0.0018169590306105251\n",
      "repetition 52/100 --- iteration 9/100 --- elapsed time 27.322\r"
     ]
    },
    {
     "ename": "NameError",
     "evalue": "name 'e' is not defined",
     "output_type": "error",
     "traceback": [
      "\u001b[1;31m---------------------------------------------------------------------------\u001b[0m",
      "\u001b[1;31mKeyboardInterrupt\u001b[0m                         Traceback (most recent call last)",
      "\u001b[1;32m<ipython-input-12-a6f7d54b4421>\u001b[0m in \u001b[0;36m<module>\u001b[1;34m\u001b[0m\n\u001b[0;32m     65\u001b[0m                         \u001b[1;32mfor\u001b[0m \u001b[0mj\u001b[0m \u001b[1;32min\u001b[0m \u001b[0mE\u001b[0m\u001b[1;33m[\u001b[0m\u001b[0mi\u001b[0m\u001b[1;33m]\u001b[0m\u001b[1;33m:\u001b[0m\u001b[1;33m\u001b[0m\u001b[1;33m\u001b[0m\u001b[0m\n\u001b[1;32m---> 66\u001b[1;33m                             \u001b[0mQ\u001b[0m\u001b[1;33m[\u001b[0m\u001b[0mi\u001b[0m\u001b[1;33m]\u001b[0m\u001b[1;33m[\u001b[0m\u001b[0mj\u001b[0m\u001b[1;33m]\u001b[0m \u001b[1;33m=\u001b[0m \u001b[0mcomputeQij\u001b[0m\u001b[1;33m(\u001b[0m\u001b[0mw\u001b[0m\u001b[1;33m,\u001b[0m \u001b[0ma\u001b[0m\u001b[1;33m,\u001b[0m \u001b[0mb\u001b[0m\u001b[1;33m,\u001b[0m \u001b[0mN_middle\u001b[0m\u001b[1;33m,\u001b[0m \u001b[0mE\u001b[0m\u001b[1;33m[\u001b[0m\u001b[0mi\u001b[0m\u001b[1;33m]\u001b[0m\u001b[1;33m[\u001b[0m\u001b[0mj\u001b[0m\u001b[1;33m]\u001b[0m\u001b[1;33m)\u001b[0m\u001b[1;33m\u001b[0m\u001b[1;33m\u001b[0m\u001b[0m\n\u001b[0m\u001b[0;32m     67\u001b[0m                     \u001b[0mphi\u001b[0m \u001b[1;33m=\u001b[0m \u001b[0mw\u001b[0m\u001b[1;33m*\u001b[0m\u001b[0mn\u001b[0m\u001b[1;33m*\u001b[0m\u001b[1;33m(\u001b[0m\u001b[0mn\u001b[0m\u001b[1;33m-\u001b[0m\u001b[1;36m1\u001b[0m\u001b[1;33m)\u001b[0m \u001b[1;33m-\u001b[0m \u001b[0msum\u001b[0m\u001b[1;33m(\u001b[0m\u001b[0mflatten\u001b[0m\u001b[1;33m(\u001b[0m\u001b[0mQ\u001b[0m\u001b[1;33m)\u001b[0m\u001b[1;33m)\u001b[0m\u001b[1;33m\u001b[0m\u001b[1;33m\u001b[0m\u001b[0m\n",
      "\u001b[1;32m<ipython-input-10-c2b80ca72c37>\u001b[0m in \u001b[0;36mcomputeQij\u001b[1;34m(w0, a0, b0, nij, eij)\u001b[0m\n\u001b[0;32m      1\u001b[0m \u001b[1;32mdef\u001b[0m \u001b[0mcomputeQij\u001b[0m\u001b[1;33m(\u001b[0m\u001b[0mw0\u001b[0m\u001b[1;33m,\u001b[0m\u001b[0ma0\u001b[0m\u001b[1;33m,\u001b[0m\u001b[0mb0\u001b[0m\u001b[1;33m,\u001b[0m\u001b[0mnij\u001b[0m\u001b[1;33m,\u001b[0m\u001b[0meij\u001b[0m\u001b[1;33m)\u001b[0m\u001b[1;33m:\u001b[0m\u001b[1;33m\u001b[0m\u001b[1;33m\u001b[0m\u001b[0m\n\u001b[1;32m----> 2\u001b[1;33m     \u001b[1;32mreturn\u001b[0m \u001b[1;33m(\u001b[0m\u001b[0mw0\u001b[0m \u001b[1;33m*\u001b[0m \u001b[0ma0\u001b[0m\u001b[1;33m**\u001b[0m\u001b[0meij\u001b[0m \u001b[1;33m*\u001b[0m \u001b[1;33m(\u001b[0m\u001b[1;36m1\u001b[0m\u001b[1;33m-\u001b[0m\u001b[0ma0\u001b[0m\u001b[1;33m)\u001b[0m\u001b[1;33m**\u001b[0m\u001b[1;33m(\u001b[0m\u001b[0mnij\u001b[0m\u001b[1;33m-\u001b[0m\u001b[0meij\u001b[0m\u001b[1;33m)\u001b[0m\u001b[1;33m)\u001b[0m \u001b[1;33m/\u001b[0m \u001b[1;33m(\u001b[0m\u001b[0mw0\u001b[0m \u001b[1;33m*\u001b[0m \u001b[0ma0\u001b[0m\u001b[1;33m**\u001b[0m\u001b[0meij\u001b[0m \u001b[1;33m*\u001b[0m \u001b[1;33m(\u001b[0m\u001b[1;36m1\u001b[0m\u001b[1;33m-\u001b[0m\u001b[0ma0\u001b[0m\u001b[1;33m)\u001b[0m\u001b[1;33m**\u001b[0m\u001b[1;33m(\u001b[0m\u001b[0mnij\u001b[0m\u001b[1;33m-\u001b[0m\u001b[0meij\u001b[0m\u001b[1;33m)\u001b[0m \u001b[1;33m+\u001b[0m \u001b[1;33m(\u001b[0m\u001b[1;36m1\u001b[0m\u001b[1;33m-\u001b[0m\u001b[0mw0\u001b[0m\u001b[1;33m)\u001b[0m \u001b[1;33m*\u001b[0m \u001b[0mb0\u001b[0m\u001b[1;33m**\u001b[0m\u001b[0meij\u001b[0m \u001b[1;33m*\u001b[0m \u001b[1;33m(\u001b[0m\u001b[1;36m1\u001b[0m\u001b[1;33m-\u001b[0m\u001b[0mb0\u001b[0m\u001b[1;33m)\u001b[0m\u001b[1;33m**\u001b[0m\u001b[1;33m(\u001b[0m\u001b[0mnij\u001b[0m\u001b[1;33m-\u001b[0m\u001b[0meij\u001b[0m\u001b[1;33m)\u001b[0m\u001b[1;33m)\u001b[0m\u001b[1;33m\u001b[0m\u001b[1;33m\u001b[0m\u001b[0m\n\u001b[0m",
      "\u001b[1;31mKeyboardInterrupt\u001b[0m: ",
      "\nDuring handling of the above exception, another exception occurred:\n",
      "\u001b[1;31mNameError\u001b[0m                                 Traceback (most recent call last)",
      "\u001b[1;32m<ipython-input-12-a6f7d54b4421>\u001b[0m in \u001b[0;36m<module>\u001b[1;34m\u001b[0m\n\u001b[0;32m    108\u001b[0m         \u001b[0mprint\u001b[0m\u001b[1;33m(\u001b[0m\u001b[1;34m\"N, a, b = {}, {}, {}\"\u001b[0m\u001b[1;33m.\u001b[0m\u001b[0mformat\u001b[0m\u001b[1;33m(\u001b[0m\u001b[0mN\u001b[0m\u001b[1;33m,\u001b[0m\u001b[0ma\u001b[0m\u001b[1;33m,\u001b[0m\u001b[0mb\u001b[0m\u001b[1;33m)\u001b[0m\u001b[1;33m)\u001b[0m\u001b[1;33m\u001b[0m\u001b[1;33m\u001b[0m\u001b[0m\n\u001b[0;32m    109\u001b[0m \u001b[1;33m\u001b[0m\u001b[0m\n\u001b[1;32m--> 110\u001b[1;33m     \u001b[1;32mexcept\u001b[0m \u001b[0me\u001b[0m\u001b[1;33m:\u001b[0m\u001b[1;33m\u001b[0m\u001b[1;33m\u001b[0m\u001b[0m\n\u001b[0m\u001b[0;32m    111\u001b[0m         \u001b[0mprint\u001b[0m\u001b[1;33m(\u001b[0m\u001b[0me\u001b[0m\u001b[1;33m)\u001b[0m\u001b[1;33m\u001b[0m\u001b[1;33m\u001b[0m\u001b[0m\n\u001b[0;32m    112\u001b[0m         \u001b[1;32mcontinue\u001b[0m\u001b[1;33m\u001b[0m\u001b[1;33m\u001b[0m\u001b[0m\n",
      "\u001b[1;31mNameError\u001b[0m: name 'e' is not defined"
     ]
    }
   ],
   "source": [
    "# at each repetition we save the values of w, a and b\n",
    "results = {'N':list(), 'a':list(), 'b':list()}\n",
    "\n",
    "# Q dict\n",
    "Q = {i: {j:0 for j in E[i]} for i in E}\n",
    "\n",
    "start = time()\n",
    "for k in range(repetitions):\n",
    "    \n",
    "    # we may have divisions by zero\n",
    "    try:\n",
    "    \n",
    "        # initialization of the parameters\n",
    "        N = max(flatten(E)) # the smallest possible value\n",
    "        a = random.uniform(0.5, 1)\n",
    "        b = random.uniform(0, 0.5)\n",
    "        if verbose:\n",
    "            print(\"N, a, b = \", N, a, b)\n",
    "            print()\n",
    "\n",
    "        # iter\n",
    "        for l in range(max_iter):\n",
    "            \n",
    "            # print state\n",
    "            sys.stdout.flush()\n",
    "            sys.stdout.write(\"repetition {}/{} --- iteration {}/{} --- elapsed time {:.3f}\\r\"\n",
    "                             .format(k+1, repetitions, l+1, max_iter, time()-start))\n",
    "\n",
    "            old_a, old_b, old_N = a, b, N\n",
    "                    \n",
    "            # compute Qij and phi\n",
    "            for i in E:\n",
    "                for j in E[i]:\n",
    "                    Q[i][j] = computeQij(w, a, b, N, E[i][j])\n",
    "            phi = w*n*(n-1) - sum(flatten(Q))\n",
    "            if verbose:\n",
    "                print(\"sum Q = \", sum(flatten(Q)))\n",
    "                print(\"phi = \", phi)\n",
    "                print()\n",
    "            \n",
    "            # up N and Q while phi<0\n",
    "            loop = False # to track if we enter the loop or not\n",
    "            while phi<0:\n",
    "                loop = True\n",
    "                N += 1\n",
    "                for i in E:\n",
    "                    for j in E[i]:\n",
    "                        Q[i][j] = computeQij(w, a, b, N, E[i][j])\n",
    "                old_phi = phi\n",
    "                phi = w*n*(n-1) - sum(flatten(Q))\n",
    "                if verbose:\n",
    "                    print(\"N, phi = \", N, phi)\n",
    "                \n",
    "            # if we looped then dichotomy to get the best value for N (with precision zeroN_prec)\n",
    "            if loop:\n",
    "                N1, N2 = N-1, N\n",
    "                if verbose:\n",
    "                    print(\"\\nN1, N2 = \", N1, N2)\n",
    "                    print()\n",
    "                while np.abs(phi) > zeroN_prec:\n",
    "                    N_middle = (N1 + N2) / 2\n",
    "                    if verbose:\n",
    "                        print(\"N_middle = \", N_middle)\n",
    "                    for i in E:\n",
    "                        for j in E[i]:\n",
    "                            Q[i][j] = computeQij(w, a, b, N_middle, E[i][j])\n",
    "                    phi = w*n*(n-1) - sum(flatten(Q))\n",
    "                    if phi < 0:\n",
    "                        N1, N2 = N_middle, N2\n",
    "                    else:\n",
    "                        N1, N2 = N1, N_middle\n",
    "                    if verbose:\n",
    "                        print(\"phi = \", phi)\n",
    "                        print()\n",
    "                # finally update N\n",
    "                N = N_middle\n",
    "            \n",
    "            # update a,b\n",
    "            sumQ = sum(flatten(Q))\n",
    "            a, b = 0, 0\n",
    "            for i in E:\n",
    "                for j in E[i]:\n",
    "                    eij = E[i][j]\n",
    "                    qij = Q[i][j]\n",
    "                    a += qij * eij\n",
    "                    b += (1-qij) * eij\n",
    "            a /= N * sumQ\n",
    "            b /= N * (n*(n-1) - sumQ)\n",
    "            if verbose:\n",
    "                print(\"N, a, b = \", N, a, b)\n",
    "                print()\n",
    "            \n",
    "            # break if no sufficient evolution after at least one iteration\n",
    "            # INCOMPLETE\n",
    "            new_q = np.array(flatten(Q))\n",
    "            if l>0 and np.linalg.norm(new_q - old_q, np.inf) < eps:\n",
    "                if verbose:\n",
    "                    print(\"stop because eps\")\n",
    "                break\n",
    "            \n",
    "            # register old_q\n",
    "            old_q = new_q\n",
    "            \n",
    "        # add results to results dict\n",
    "        results['N'].append(N)\n",
    "        results['a'].append(a)\n",
    "        results['b'].append(b)\n",
    "        print(\"N, a, b = {}, {}, {}\".format(N,a,b))\n",
    "        \n",
    "    except e:\n",
    "        print(e)\n",
    "        continue"
   ]
  },
  {
   "cell_type": "markdown",
   "metadata": {},
   "source": [
    "Print results and show aggregated best results (rounded to $10^{-5}$)."
   ]
  },
  {
   "cell_type": "code",
   "execution_count": 121,
   "metadata": {
    "scrolled": true
   },
   "outputs": [
    {
     "data": {
      "image/png": "[encoded data removed]",
      "text/plain": [
       "<Figure size 720x144 with 3 Axes>"
      ]
     },
     "metadata": {
      "needs_background": "light"
     },
     "output_type": "display_data"
    },
    {
     "name": "stdout",
     "output_type": "stream",
     "text": [
      "top 5 values for N and proportion\n",
      "102.825 0.01\n",
      "102.838 0.01\n",
      "102.751 0.01\n",
      "102.671 0.01\n",
      "103.012 0.01\n",
      "\n",
      "top 5 values for a and proportion\n",
      "0.058 0.16\n",
      "0.059 0.12\n",
      "0.063 0.09\n",
      "0.064 0.08\n",
      "0.06 0.08\n",
      "\n",
      "top 5 values for b and proportion\n",
      "0.002 0.98\n",
      "0.003 0.02\n",
      "\n",
      "top 5 values for (N,a,b) and proportion\n",
      "(95.96777, 0.06184, 0.00204) 0.01\n",
      "(106.93066, 0.0555, 0.00183) 0.01\n",
      "(106.26855, 0.05584, 0.00184) 0.01\n",
      "(95.93359, 0.06186, 0.00204) 0.01\n",
      "(101.5293, 0.05845, 0.00193) 0.01\n",
      "(93.53516, 0.06345, 0.00209) 0.01\n",
      "(104.19922, 0.05695, 0.00188) 0.01\n",
      "(93.17188, 0.0637, 0.0021) 0.01\n",
      "(101.88867, 0.05825, 0.00192) 0.01\n",
      "(100.85742, 0.05884, 0.00194) 0.01\n",
      "\n"
     ]
    }
   ],
   "source": [
    "# plot the results\n",
    "plt.rcParams[\"figure.figsize\"] = [10,2]\n",
    "fig, ax = plt.subplots(1, 3, sharey=True)\n",
    "for i,(key,values) in enumerate(results.items()):\n",
    "    values = sorted(values)\n",
    "    ax[i].hist(values, label=key, facecolor='yellow', edgecolor='red')\n",
    "    ax[i].set_xlabel(key)\n",
    "    \n",
    "plt.show()\n",
    "plt.close()\n",
    "\n",
    "# print results\n",
    "for key,val in results.items():\n",
    "    print(\"top 5 values for {} and proportion\".format(key))\n",
    "    val = [round(v,5) for v in val]\n",
    "    valcount = list()\n",
    "    for v in set(val):\n",
    "        valcount.append((v, val.count(v)/len(val)))\n",
    "    valcount = sorted(valcount, key=itemgetter(1), reverse=True)\n",
    "    for x in valcount[:5]:\n",
    "        print(x[0], x[1])\n",
    "    print()\n",
    "    \n",
    "print(\"top 5 values for (N,a,b) and proportion\")\n",
    "val = list()\n",
    "for i in range(len(results['N'])):\n",
    "    val.append((round(results['N'][i],5), round(results['a'][i],5), round(results['b'][i],5)))\n",
    "valcount = list()\n",
    "for v in set(val):\n",
    "    valcount.append((v, val.count(v)/len(val)))\n",
    "valcount = sorted(valcount, key=itemgetter(1), reverse=True)\n",
    "for x in valcount[:10]:\n",
    "    print(x[0], x[1])\n",
    "print()"
   ]
  },
  {
   "cell_type": "markdown",
   "metadata": {},
   "source": [
    "Set N,a,b to a chosen value amongst results and compute Q accordingly. Plot Q distribution."
   ]
  },
  {
   "cell_type": "code",
   "execution_count": 150,
   "metadata": {},
   "outputs": [
    {
     "name": "stdout",
     "output_type": "stream",
     "text": [
      "N, a, b =  106.26855 0.05584 0.00184\n"
     ]
    },
    {
     "data": {
      "image/png": "[encoded data removed]",
      "text/plain": [
       "<Figure size 432x288 with 1 Axes>"
      ]
     },
     "metadata": {
      "needs_background": "light"
     },
     "output_type": "display_data"
    }
   ],
   "source": [
    "N, a, b = 106.26855, 0.05584, 0.00184\n",
    "\n",
    "# compute Q\n",
    "for i in Q:\n",
    "    for j in Q[i]:\n",
    "        Q[i][j] = computeQij(w, a, b, N, E[i][j])\n",
    "        \n",
    "# plot\n",
    "print(\"N, a, b = \", N,a,b)\n",
    "plt.hist(flatten(Q), facecolor='yellow', edgecolor='red')\n",
    "plt.xlabel(\"Q distrib\")\n",
    "plt.show()\n",
    "plt.close()"
   ]
  },
  {
   "cell_type": "markdown",
   "metadata": {},
   "source": [
    "## 3. Result analysis"
   ]
  },
  {
   "cell_type": "markdown",
   "metadata": {},
   "source": [
    "### 3.1 Plots"
   ]
  },
  {
   "cell_type": "markdown",
   "metadata": {},
   "source": [
    "Plot E vs Q."
   ]
  },
  {
   "cell_type": "code",
   "execution_count": 13,
   "metadata": {
    "scrolled": true
   },
   "outputs": [
    {
     "data": {
      "image/png": "[encoded data removed]",
      "text/plain": [
       "<Figure size 432x288 with 1 Axes>"
      ]
     },
     "metadata": {
      "needs_background": "light"
     },
     "output_type": "display_data"
    }
   ],
   "source": [
    "plt.rcParams[\"figure.figsize\"] = [6,4]\n",
    "x2plot = flatten(E)\n",
    "y2plot = flatten(Q)\n",
    "plt.scatter(x2plot, y2plot, color='blue', marker='x', alpha=.5, s=5)\n",
    "plt.xlabel(\"E [edge]\")\n",
    "plt.ylabel(\"Q [edge]\")\n",
    "plt.show()\n",
    "plt.close()"
   ]
  },
  {
   "cell_type": "markdown",
   "metadata": {},
   "source": [
    "Get real graph."
   ]
  },
  {
   "cell_type": "code",
   "execution_count": 152,
   "metadata": {},
   "outputs": [],
   "source": [
    "G = nx.read_edgelist(graph_path, nodetype=int, create_using=nx.DiGraph())"
   ]
  },
  {
   "cell_type": "markdown",
   "metadata": {},
   "source": [
    "## 4. Compare real graph, oursin, cascade and Newman"
   ]
  },
  {
   "cell_type": "markdown",
   "metadata": {},
   "source": [
    "Get oursin graph."
   ]
  },
  {
   "cell_type": "code",
   "execution_count": 154,
   "metadata": {},
   "outputs": [],
   "source": [
    "G_oursin = util.nxgraph_from_trace(trace_path, False, Author)\n",
    "G_cascade = util.nxgraph_from_trace(trace_path, True, Author)"
   ]
  },
  {
   "cell_type": "markdown",
   "metadata": {},
   "source": [
    "Compare with Newman graph."
   ]
  },
  {
   "cell_type": "code",
   "execution_count": 155,
   "metadata": {},
   "outputs": [
    {
     "name": "stdout",
     "output_type": "stream",
     "text": [
      "Mean nb edges in Newman graph :  562.2037786955033\n",
      "Nb edges in oursin graph :  1879\n",
      "Nb edges in cascade graph :  1701\n",
      "Real nb edges :  470\n"
     ]
    }
   ],
   "source": [
    "print(\"Mean nb edges in Newman graph : \", 0.5*expected_deg*n)\n",
    "print(\"Nb edges in oursin graph : \", G_oursin.number_of_edges())\n",
    "print(\"Nb edges in cascade graph : \", G_cascade.number_of_edges())\n",
    "print(\"Real nb edges : \", G.number_of_edges())"
   ]
  },
  {
   "cell_type": "markdown",
   "metadata": {},
   "source": [
    "Compare proportion of common edges."
   ]
  },
  {
   "cell_type": "code",
   "execution_count": 156,
   "metadata": {},
   "outputs": [
    {
     "name": "stdout",
     "output_type": "stream",
     "text": [
      "Mean prop of sample edges that are in real graph :  0.6565836298932385\n",
      "Mean prop of real edges that are in sample graph :  0.7851063829787234\n",
      "\n",
      "Mean prop of sample edges that are in oursin graph :  1.0\n",
      "Mean prop of oursin edges that are in sample graph :  0.2990952634379989\n",
      "\n",
      "Mean prop of sample edges that are in cascade graph :  0.701067615658363\n",
      "Mean prop of cascade edges that are in sample graph :  0.23162845385067607\n",
      "\n",
      "Prop of oursin edges that are in real graph :  0.24481106971793506\n",
      "Prop of real edges that are in oursin graph :  0.9787234042553191\n",
      "\n",
      "Prop of cascade edges that are in real graph :  0.2727807172251617\n",
      "Prop of real edges that are in cascade graph :  0.9872340425531915\n",
      "\n",
      "Prop of oursin edges that are in cascade graph :  0.3459286854709952\n",
      "Prop of cascade edges that are in oursin graph :  0.3821281599059377\n"
     ]
    }
   ],
   "source": [
    "n_samples = 1000\n",
    "sample_in_real = list()\n",
    "real_in_sample = list()\n",
    "sample_in_oursin = list()\n",
    "oursin_in_sample = list()\n",
    "sample_in_cascade = list()\n",
    "cascade_in_sample = list()\n",
    "\n",
    "# edges lists\n",
    "oursin_edges = set(G_oursin.edges)\n",
    "cascade_edges = set(G_cascade.edges)\n",
    "real_edges = set(G.edges)\n",
    "\n",
    "for k in range(n_samples):\n",
    "    \n",
    "    # sample graph\n",
    "    G_sample = nx.DiGraph()\n",
    "    G_sample.add_nodes_from(users)\n",
    "    for (i,j) in node_pairs:\n",
    "        if i in Q:\n",
    "            if j in Q[i] and random.random() < Q[i][j]:\n",
    "                G_sample.add_edge(j,i)\n",
    "    sample_edges = set(G_sample.edges)\n",
    "            \n",
    "    # compare edges in sample with real graph\n",
    "    nb_common_edges = len(sample_edges.intersection(real_edges))\n",
    "    sample_in_real = nb_common_edges / len(sample_edges)\n",
    "    real_in_sample = nb_common_edges / len(real_edges)\n",
    "    \n",
    "    # compare edges in sample with oursin graph\n",
    "    nb_common_edges = len(sample_edges.intersection(oursin_edges))\n",
    "    sample_in_oursin = nb_common_edges / len(sample_edges)\n",
    "    oursin_in_sample = nb_common_edges / len(oursin_edges)\n",
    "    \n",
    "    # compare edges in sample with cascade graph\n",
    "    nb_common_edges = len(sample_edges.intersection(cascade_edges))\n",
    "    sample_in_cascade = nb_common_edges / len(sample_edges)\n",
    "    cascade_in_sample = nb_common_edges / len(cascade_edges)\n",
    "    \n",
    "# compare oursin and cascade with real\n",
    "oursin_in_real = len(oursin_edges.intersection(real_edges)) / len(oursin_edges)\n",
    "real_in_oursin = len(oursin_edges.intersection(real_edges)) / len(real_edges)\n",
    "cascade_in_real = len(cascade_edges.intersection(real_edges)) / len(cascade_edges)\n",
    "real_in_cascade = len(cascade_edges.intersection(real_edges)) / len(real_edges)\n",
    "oursin_in_cascade = len(oursin_edges.intersection(cascade_edges)) / len(oursin_edges)\n",
    "cascade_in_oursin = len(oursin_edges.intersection(cascade_edges)) / len(cascade_edges)\n",
    "\n",
    "# print results\n",
    "print(\"Mean prop of sample edges that are in real graph : \", np.mean(sample_in_real))\n",
    "print(\"Mean prop of real edges that are in sample graph : \", np.mean(real_in_sample))\n",
    "print()\n",
    "print(\"Mean prop of sample edges that are in oursin graph : \", np.mean(sample_in_oursin))\n",
    "print(\"Mean prop of oursin edges that are in sample graph : \", np.mean(oursin_in_sample))\n",
    "print()\n",
    "print(\"Mean prop of sample edges that are in cascade graph : \", np.mean(sample_in_cascade))\n",
    "print(\"Mean prop of cascade edges that are in sample graph : \", np.mean(cascade_in_sample))\n",
    "print()\n",
    "print(\"Prop of oursin edges that are in real graph : \", oursin_in_real)\n",
    "print(\"Prop of real edges that are in oursin graph : \", real_in_oursin)\n",
    "print()\n",
    "print(\"Prop of cascade edges that are in real graph : \", cascade_in_real)\n",
    "print(\"Prop of real edges that are in cascade graph : \", real_in_cascade)\n",
    "print()\n",
    "print(\"Prop of oursin edges that are in cascade graph : \", oursin_in_cascade)\n",
    "print(\"Prop of cascade edges that are in oursin graph : \", cascade_in_oursin)"
   ]
  }
 ],
 "metadata": {
  "kernelspec": {
   "display_name": "Python 3",
   "language": "python",
   "name": "python3"
  },
  "language_info": {
   "codemirror_mode": {
    "name": "ipython",
    "version": 3
   },
   "file_extension": ".py",
   "mimetype": "text/x-python",
   "name": "python",
   "nbconvert_exporter": "python",
   "pygments_lexer": "ipython3",
   "version": "3.7.2"
  }
 },
 "nbformat": 4,
 "nbformat_minor": 2
}
