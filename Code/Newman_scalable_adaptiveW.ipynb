{
 "cells": [
  {
   "cell_type": "markdown",
   "metadata": {},
   "source": [
    "# <center> Newman on custom trace and user graph </center>"
   ]
  },
  {
   "cell_type": "code",
   "execution_count": 60,
   "metadata": {},
   "outputs": [],
   "source": [
    "import sys\n",
    "import util\n",
    "import numpy as np\n",
    "import networkx as nx\n",
    "import random as random\n",
    "from time import time\n",
    "from operator import itemgetter\n",
    "from scipy.special import binom\n",
    "import matplotlib.pyplot as plt"
   ]
  },
  {
   "cell_type": "markdown",
   "metadata": {},
   "source": [
    "Load trace."
   ]
  },
  {
   "cell_type": "code",
   "execution_count": 61,
   "metadata": {},
   "outputs": [],
   "source": [
    "trace_path = \"../Datasets/trace_test.txt\""
   ]
  },
  {
   "cell_type": "markdown",
   "metadata": {},
   "source": [
    "Get authors."
   ]
  },
  {
   "cell_type": "code",
   "execution_count": 62,
   "metadata": {},
   "outputs": [],
   "source": [
    "Author = util.get_authors(trace_path)"
   ]
  },
  {
   "cell_type": "markdown",
   "metadata": {},
   "source": [
    "Get users."
   ]
  },
  {
   "cell_type": "code",
   "execution_count": 63,
   "metadata": {},
   "outputs": [
    {
     "name": "stdout",
     "output_type": "stream",
     "text": [
      "{0, 1, 2, 3, 4, 5, 6, 7, 8, 9, 10, 11, 12, 13, 14, 15, 16, 17, 18, 19, 20, 21, 22, 23, 24, 25, 26, 27, 28, 29, 30, 31, 32, 33, 34, 35, 36, 37, 38, 39, 40, 41, 42, 43, 44, 45, 46, 47, 48, 49}\n"
     ]
    }
   ],
   "source": [
    "users = set(Author.values())\n",
    "print(users)"
   ]
  },
  {
   "cell_type": "code",
   "execution_count": 64,
   "metadata": {},
   "outputs": [
    {
     "name": "stdout",
     "output_type": "stream",
     "text": [
      "0 0 9 -1\n",
      "1 0.19761178684143316 14 -1\n",
      "2 0.22897749303630008 9 -1\n",
      "3 0.27817540573473964 3 2\n",
      "4 0.5629811737376177 24 -1\n",
      "5 0.5680854304938732 40 -1\n"
     ]
    }
   ],
   "source": [
    "for i,line in enumerate(open(trace_path)):\n",
    "    print(line[:-1]) # [:-1] to remove \\n at end of line\n",
    "    if i==5:\n",
    "        break"
   ]
  },
  {
   "cell_type": "markdown",
   "metadata": {},
   "source": [
    "Useful function to flatten a list of lists or values from dict of dicts."
   ]
  },
  {
   "cell_type": "code",
   "execution_count": 65,
   "metadata": {},
   "outputs": [
    {
     "name": "stdout",
     "output_type": "stream",
     "text": [
      "Example on [[3, 5], [0, -7, 12], [45]] : [3, 5, 0, -7, 12, 45]\n",
      "Example on {1: {4: 56, 2: 45}, 3: {6: 32}} : [56, 45, 32]\n"
     ]
    }
   ],
   "source": [
    "def flatten(obj):\n",
    "    if type(obj) == list:\n",
    "        return [l for L in obj for l in L]\n",
    "    if type(obj) == dict:\n",
    "        return [l for i in obj for l in obj[i].values()]\n",
    "\n",
    "# example\n",
    "liste = [[3,5], [0,-7,12], [45]]\n",
    "print(\"Example on {} : {}\".format(liste, flatten(liste)))\n",
    "dico = {1: {4:56, 2:45}, 3: {6:32}}\n",
    "print(\"Example on {} : {}\".format(dico, flatten(dico)))"
   ]
  },
  {
   "cell_type": "markdown",
   "metadata": {},
   "source": [
    "## 1. Initialization"
   ]
  },
  {
   "cell_type": "markdown",
   "metadata": {},
   "source": [
    "Number of nodes $n$ and list of all node pairs."
   ]
  },
  {
   "cell_type": "code",
   "execution_count": 66,
   "metadata": {},
   "outputs": [],
   "source": [
    "n = len(users)\n",
    "node_pairs = list()\n",
    "for i in range(n):\n",
    "    for j in range(n):\n",
    "        if i != j:\n",
    "            node_pairs.append((i,j))"
   ]
  },
  {
   "cell_type": "markdown",
   "metadata": {},
   "source": [
    "Compute E and N."
   ]
  },
  {
   "cell_type": "code",
   "execution_count": 67,
   "metadata": {},
   "outputs": [],
   "source": [
    "# init\n",
    "E = dict()\n",
    "\n",
    "# read tweets\n",
    "for line in open(trace_path):\n",
    "    line = line.split()\n",
    "    uid, rtid = int(line[2]), int(line[3])\n",
    "    \n",
    "    # if retweet of known author\n",
    "    if rtid != -1 and rtid in Author:\n",
    "        rtu = Author[rtid]\n",
    "        if rtu != uid: # no self-edges\n",
    "            if uid in E:\n",
    "                if rtu in E[uid] and E[uid][rtu]<30:\n",
    "                    E[uid][rtu] += 1\n",
    "                else:\n",
    "                    E[uid][rtu] = 1\n",
    "            else:\n",
    "                E[uid] = {rtu: 1}\n",
    "                \n",
    "# compute N\n",
    "N = {u: max(flatten(E)) for u in E}"
   ]
  },
  {
   "cell_type": "markdown",
   "metadata": {},
   "source": [
    "## 2. Iterations"
   ]
  },
  {
   "cell_type": "markdown",
   "metadata": {},
   "source": [
    "Choose parameters."
   ]
  },
  {
   "cell_type": "code",
   "execution_count": 68,
   "metadata": {},
   "outputs": [],
   "source": [
    "eps = 0.001\n",
    "repetitions = 100\n",
    "max_iter = 100\n",
    "verbose = False"
   ]
  },
  {
   "cell_type": "markdown",
   "metadata": {},
   "source": [
    "Proceed NEW VERSION SPARSE."
   ]
  },
  {
   "cell_type": "code",
   "execution_count": 70,
   "metadata": {
    "scrolled": true
   },
   "outputs": [
    {
     "name": "stdout",
     "output_type": "stream",
     "text": [
      "repetition 100/100 --- iteration 16/100 --- elapsed time14.856\r"
     ]
    }
   ],
   "source": [
    "# at each repetition we save the values of w, a and b\n",
    "results = {'w':list(), 'a':list(), 'b':list()}\n",
    "\n",
    "start = time()\n",
    "for k in range(repetitions):\n",
    "    \n",
    "    # we may have divisions by zero\n",
    "    try:\n",
    "    \n",
    "        # random initialization of the parameters\n",
    "        w = random.uniform(0, 0.2)\n",
    "        a = random.uniform(0.5, 1)\n",
    "        b = random.uniform(0, 0.5)\n",
    "        if verbose:\n",
    "            print(\"init values \", w, a, b)\n",
    "            print()\n",
    "\n",
    "        # iter\n",
    "        for l in range(max_iter):\n",
    "            \n",
    "            # print state\n",
    "            sys.stdout.flush()\n",
    "            sys.stdout.write(\"repetition {}/{} --- iteration {}/{} --- elapsed time {:.3f}\\r\"\n",
    "                             .format(k+1, repetitions, l+1, max_iter, time()-start))\n",
    "\n",
    "            old_w, old_a, old_b = w, a, b\n",
    "\n",
    "            # compute Qij\n",
    "            Q = dict()\n",
    "            for i in E:\n",
    "                ni = N[i]\n",
    "                Q[i] = dict()\n",
    "                for j in E[i]:\n",
    "                    eij = E[i][j]\n",
    "                    qij = w * a**eij * (1-a)**(ni-eij)\n",
    "                    qij /= w * a**eij * (1-a)**(ni-eij) + (1-w) * b**eij * (1-b)**(ni-eij)\n",
    "                    Q[i][j] = qij\n",
    "            \n",
    "            # update w,a,b\n",
    "            w = sum(flatten(Q)) / (n*(n-1))\n",
    "            numerator_a, numerator_b = 0, 0\n",
    "            denominator_a, denominator_b = 0, 0\n",
    "            for i in E:\n",
    "                ni = N[i]\n",
    "                for j in E[i]:\n",
    "                    eij = E[i][j]\n",
    "                    qij = Q[i][j]\n",
    "                    numerator_a += qij * eij\n",
    "                    numerator_b += (1-qij) * eij\n",
    "                    denominator_a += qij * ni\n",
    "                    denominator_b += (1-qij) * ni\n",
    "            a = numerator_a / denominator_a\n",
    "            b = numerator_b / denominator_b\n",
    "            if verbose:\n",
    "                print(w,a,b)\n",
    "                print()\n",
    "            \n",
    "            # break if no sufficient evolution after at least one iteration\n",
    "            # INCOMPLETE\n",
    "            new_q = np.array(flatten(Q))\n",
    "            if l>0 and np.linalg.norm(new_q - old_q) < eps:\n",
    "                if verbose:\n",
    "                    print(np.abs([a-old_a, b-old_b, w-old_w]))\n",
    "                break\n",
    "            \n",
    "            # register old_q\n",
    "            old_q = new_q\n",
    "            \n",
    "        # add results to results dict\n",
    "        results['w'].append(w)\n",
    "        results['a'].append(a)\n",
    "        results['b'].append(b)\n",
    "        \n",
    "    except e:\n",
    "        print(e)\n",
    "        continue"
   ]
  },
  {
   "cell_type": "markdown",
   "metadata": {},
   "source": [
    "Print results."
   ]
  },
  {
   "cell_type": "code",
   "execution_count": 71,
   "metadata": {},
   "outputs": [
    {
     "data": {
      "image/png": "[encoded data removed]",
      "text/plain": [
       "<Figure size 720x144 with 3 Axes>"
      ]
     },
     "metadata": {
      "needs_background": "light"
     },
     "output_type": "display_data"
    },
    {
     "name": "stdout",
     "output_type": "stream",
     "text": [
      "top 5 values for w and proportion\n",
      "0.077 1.0\n",
      "\n",
      "top 5 values for a and proportion\n",
      "0.462 1.0\n",
      "\n",
      "top 5 values for b and proportion\n",
      "0.089 1.0\n",
      "\n",
      "top 5 values for (w,a,b) and proportion\n",
      "(0.077, 0.462, 0.089) 1.0\n",
      "\n"
     ]
    }
   ],
   "source": [
    "# plot the results\n",
    "plt.rcParams[\"figure.figsize\"] = [10,2]\n",
    "fig, ax = plt.subplots(1, 3, sharey=True)\n",
    "for i,(key,values) in enumerate(results.items()):\n",
    "    values = sorted(values)\n",
    "    ax[i].hist(values, label=key, facecolor='yellow', edgecolor='red')\n",
    "    ax[i].set_xlabel(key)  \n",
    "plt.show()\n",
    "plt.close()\n",
    "\n",
    "# print results\n",
    "for key,val in results.items():\n",
    "    print(\"top 5 values for {} and proportion\".format(key))\n",
    "    val = [round(v,3) for v in val]\n",
    "    valcount = list()\n",
    "    for v in set(val):\n",
    "        valcount.append((v, val.count(v)/len(val)))\n",
    "    valcount = sorted(valcount, key=itemgetter(1), reverse=True)\n",
    "    for x in valcount[:5]:\n",
    "        print(x[0], x[1])\n",
    "    print()\n",
    "    \n",
    "print(\"top 5 values for (w,a,b) and proportion\")\n",
    "val = list()\n",
    "for i in range(len(results['w'])):\n",
    "    val.append((round(results['w'][i],3), round(results['a'][i],3), round(results['b'][i],3)))\n",
    "valcount = list()\n",
    "for v in set(val):\n",
    "    valcount.append((v, val.count(v)/len(val)))\n",
    "valcount = sorted(valcount, key=itemgetter(1), reverse=True)\n",
    "for x in valcount[:5]:\n",
    "    print(x[0], x[1])\n",
    "print()"
   ]
  },
  {
   "cell_type": "markdown",
   "metadata": {},
   "source": [
    "Set w,a,b to the most observed values and compute Q accordingly."
   ]
  },
  {
   "cell_type": "code",
   "execution_count": 72,
   "metadata": {},
   "outputs": [
    {
     "name": "stdout",
     "output_type": "stream",
     "text": [
      "w, a, b =  0.077 0.462 0.089\n"
     ]
    },
    {
     "data": {
      "image/png": "[encoded data removed]",
      "text/plain": [
       "<Figure size 720x144 with 1 Axes>"
      ]
     },
     "metadata": {
      "needs_background": "light"
     },
     "output_type": "display_data"
    }
   ],
   "source": [
    "w, a, b = max([(v, val.count(v)/len(val)) for v in set(val)], key=itemgetter(1))[0]\n",
    "\n",
    "# compute Q\n",
    "Q = dict()\n",
    "for i in E:\n",
    "    ni = N[i]\n",
    "    Q[i] = dict()\n",
    "    for j in E[i]:\n",
    "        eij = E[i][j]\n",
    "        qij = w * a**eij * (1-a)**(ni-eij)\n",
    "        qij /= w * a**eij * (1-a)**(ni-eij) + (1-w) * b**eij * (1-b)**(ni-eij)\n",
    "        Q[i][j] = qij\n",
    "        \n",
    "# plot\n",
    "print(\"w, a, b = \", w,a,b)\n",
    "plt.hist(flatten(Q), facecolor='yellow', edgecolor='red')\n",
    "plt.xlabel(\"Q distrib\")\n",
    "plt.show()\n",
    "plt.close()"
   ]
  },
  {
   "cell_type": "markdown",
   "metadata": {},
   "source": [
    "## 3. Result analysis"
   ]
  },
  {
   "cell_type": "markdown",
   "metadata": {},
   "source": [
    "### 3.1 Plots"
   ]
  },
  {
   "cell_type": "markdown",
   "metadata": {},
   "source": [
    "Plot E/N vs Q."
   ]
  },
  {
   "cell_type": "code",
   "execution_count": 73,
   "metadata": {
    "scrolled": true
   },
   "outputs": [
    {
     "data": {
      "image/png": "[encoded data removed]",
      "text/plain": [
       "<Figure size 432x288 with 1 Axes>"
      ]
     },
     "metadata": {
      "needs_background": "light"
     },
     "output_type": "display_data"
    }
   ],
   "source": [
    "plt.rcParams[\"figure.figsize\"] = [6,4]\n",
    "x2plot = flatten(E)\n",
    "y2plot = flatten(Q)\n",
    "plt.scatter(x2plot, y2plot, color='blue', marker='x', alpha=.5)\n",
    "plt.xlabel(\"E [edge]\")\n",
    "plt.ylabel(\"Q [edge]\")\n",
    "plt.show()"
   ]
  },
  {
   "cell_type": "markdown",
   "metadata": {},
   "source": [
    "Get real graph."
   ]
  },
  {
   "cell_type": "code",
   "execution_count": 74,
   "metadata": {},
   "outputs": [],
   "source": [
    "G = nx.DiGraph()\n",
    "G.add_nodes_from(users)\n",
    "\n",
    "for line in open(\"../Datasets/leadgraph_test.txt\"):\n",
    "    line = line.split()\n",
    "    user = int(line[0])\n",
    "    for leader in line[1:]:\n",
    "        leader = int(leader)\n",
    "        G.add_edge(leader, user)"
   ]
  },
  {
   "cell_type": "markdown",
   "metadata": {},
   "source": [
    "Compare expected degrees."
   ]
  },
  {
   "cell_type": "code",
   "execution_count": 75,
   "metadata": {},
   "outputs": [
    {
     "name": "stdout",
     "output_type": "stream",
     "text": [
      "Expected degree observed : 7.552 with variance 0.028 and std_dev 0.168\n",
      "Expected degree estimated from real graph : 17.750\n"
     ]
    }
   ],
   "source": [
    "expected_deg = 2*sum(flatten(Q)) / n\n",
    "var = 4*sum([q*(1-q) for q in flatten(Q)]) / n**2\n",
    "std = np.sqrt(var)\n",
    "print(\"Expected degree observed : {:.3f} with variance {:.3f} and std_dev {:.3f}\".format(expected_deg, var, std))\n",
    "print(\"Expected degree estimated from real graph : {:.3f}\".format(np.mean(G.degree())))"
   ]
  },
  {
   "cell_type": "markdown",
   "metadata": {},
   "source": [
    "## 4. Compare real graph, oursin, cascade and Newman"
   ]
  },
  {
   "cell_type": "markdown",
   "metadata": {},
   "source": [
    "Get oursin graph."
   ]
  },
  {
   "cell_type": "code",
   "execution_count": 76,
   "metadata": {},
   "outputs": [],
   "source": [
    "G_oursin = util.nxgraph_from_trace(trace_path, False, Author)\n",
    "G_cascade = util.nxgraph_from_trace(trace_path, True, Author)"
   ]
  },
  {
   "cell_type": "markdown",
   "metadata": {},
   "source": [
    "Compare nb edges among all graphs."
   ]
  },
  {
   "cell_type": "code",
   "execution_count": 77,
   "metadata": {},
   "outputs": [
    {
     "name": "stdout",
     "output_type": "stream",
     "text": [
      "Mean nb edges in Newman graph :  188.80274317183674\n",
      "Nb edges in oursin graph :  1344\n",
      "Nb edges in cascade graph :  1215\n",
      "Real nb edges :  275\n"
     ]
    }
   ],
   "source": [
    "print(\"Mean nb edges in Newman graph : \", 0.5*expected_deg*n)\n",
    "print(\"Nb edges in oursin graph : \", G_oursin.number_of_edges())\n",
    "print(\"Nb edges in cascade graph : \", G_cascade.number_of_edges())\n",
    "print(\"Real nb edges : \", G.number_of_edges())"
   ]
  },
  {
   "cell_type": "markdown",
   "metadata": {},
   "source": [
    "Compare proportion of common edges."
   ]
  },
  {
   "cell_type": "code",
   "execution_count": 78,
   "metadata": {},
   "outputs": [
    {
     "name": "stdout",
     "output_type": "stream",
     "text": [
      "Mean prop of sample edges that are in real graph :  0.9315789473684211\n",
      "Mean prop of real edges that are in sample graph :  0.6436363636363637\n",
      "\n",
      "Mean prop of sample edges that are in oursin graph :  1.0\n",
      "Mean prop of oursin edges that are in sample graph :  0.14136904761904762\n",
      "\n",
      "Mean prop of sample edges that are in cascade graph :  0.9526315789473684\n",
      "Mean prop of cascade edges that are in sample graph :  0.14897119341563786\n",
      "\n",
      "Prop of oursin edges that are in real graph :  0.20461309523809523\n",
      "Prop of real edges that are in oursin graph :  1.0\n",
      "\n",
      "Prop of cascade edges that are in real graph :  0.22633744855967078\n",
      "Prop of real edges that are in cascade graph :  1.0\n",
      "\n",
      "Prop of oursin edges that are in cascade graph :  0.5424107142857143\n",
      "Prop of cascade edges that are in oursin graph :  0.6\n"
     ]
    }
   ],
   "source": [
    "n_samples = 1000\n",
    "sample_in_real = list()\n",
    "real_in_sample = list()\n",
    "sample_in_oursin = list()\n",
    "oursin_in_sample = list()\n",
    "sample_in_cascade = list()\n",
    "cascade_in_sample = list()\n",
    "\n",
    "# edges lists\n",
    "oursin_edges = set(G_oursin.edges)\n",
    "cascade_edges = set(G_cascade.edges)\n",
    "real_edges = set(G.edges)\n",
    "\n",
    "for k in range(n_samples):\n",
    "    \n",
    "    # sample graph\n",
    "    G_sample = nx.DiGraph()\n",
    "    G_sample.add_nodes_from(users)\n",
    "    for (i,j) in node_pairs:\n",
    "        if i in Q:\n",
    "            if j in Q[i] and random.random() < Q[i][j]:\n",
    "                G_sample.add_edge(j,i)\n",
    "    sample_edges = set(G_sample.edges)\n",
    "            \n",
    "    # compare edges in sample with real graph\n",
    "    nb_common_edges = len(sample_edges.intersection(real_edges))\n",
    "    sample_in_real = nb_common_edges / len(sample_edges)\n",
    "    real_in_sample = nb_common_edges / len(real_edges)\n",
    "    \n",
    "    # compare edges in sample with oursin graph\n",
    "    nb_common_edges = len(sample_edges.intersection(oursin_edges))\n",
    "    sample_in_oursin = nb_common_edges / len(sample_edges)\n",
    "    oursin_in_sample = nb_common_edges / len(oursin_edges)\n",
    "    \n",
    "    # compare edges in sample with cascade graph\n",
    "    nb_common_edges = len(sample_edges.intersection(cascade_edges))\n",
    "    sample_in_cascade = nb_common_edges / len(sample_edges)\n",
    "    cascade_in_sample = nb_common_edges / len(cascade_edges)\n",
    "    \n",
    "# compare oursin and cascade with real\n",
    "oursin_in_real = len(oursin_edges.intersection(real_edges)) / len(oursin_edges)\n",
    "real_in_oursin = len(oursin_edges.intersection(real_edges)) / len(real_edges)\n",
    "cascade_in_real = len(cascade_edges.intersection(real_edges)) / len(cascade_edges)\n",
    "real_in_cascade = len(cascade_edges.intersection(real_edges)) / len(real_edges)\n",
    "oursin_in_cascade = len(oursin_edges.intersection(cascade_edges)) / len(oursin_edges)\n",
    "cascade_in_oursin = len(oursin_edges.intersection(cascade_edges)) / len(cascade_edges)\n",
    "\n",
    "# print results\n",
    "print(\"Mean prop of sample edges that are in real graph : \", np.mean(sample_in_real))\n",
    "print(\"Mean prop of real edges that are in sample graph : \", np.mean(real_in_sample))\n",
    "print()\n",
    "print(\"Mean prop of sample edges that are in oursin graph : \", np.mean(sample_in_oursin))\n",
    "print(\"Mean prop of oursin edges that are in sample graph : \", np.mean(oursin_in_sample))\n",
    "print()\n",
    "print(\"Mean prop of sample edges that are in cascade graph : \", np.mean(sample_in_cascade))\n",
    "print(\"Mean prop of cascade edges that are in sample graph : \", np.mean(cascade_in_sample))\n",
    "print()\n",
    "print(\"Prop of oursin edges that are in real graph : \", oursin_in_real)\n",
    "print(\"Prop of real edges that are in oursin graph : \", real_in_oursin)\n",
    "print()\n",
    "print(\"Prop of cascade edges that are in real graph : \", cascade_in_real)\n",
    "print(\"Prop of real edges that are in cascade graph : \", real_in_cascade)\n",
    "print()\n",
    "print(\"Prop of oursin edges that are in cascade graph : \", oursin_in_cascade)\n",
    "print(\"Prop of cascade edges that are in oursin graph : \", cascade_in_oursin)"
   ]
  },
  {
   "cell_type": "code",
   "execution_count": null,
   "metadata": {},
   "outputs": [],
   "source": []
  }
 ],
 "metadata": {
  "kernelspec": {
   "display_name": "Python 3",
   "language": "python",
   "name": "python3"
  },
  "language_info": {
   "codemirror_mode": {
    "name": "ipython",
    "version": 3
   },
   "file_extension": ".py",
   "mimetype": "text/x-python",
   "name": "python",
   "nbconvert_exporter": "python",
   "pygments_lexer": "ipython3",
   "version": "3.7.2"
  }
 },
 "nbformat": 4,
 "nbformat_minor": 2
}
