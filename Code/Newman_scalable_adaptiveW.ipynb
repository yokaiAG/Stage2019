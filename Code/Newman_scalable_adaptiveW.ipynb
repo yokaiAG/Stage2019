{
 "cells": [
  {
   "cell_type": "markdown",
   "metadata": {},
   "source": [
    "# <center> Newman on custom trace and user graph </center>"
   ]
  },
  {
   "cell_type": "code",
   "execution_count": 2,
   "metadata": {},
   "outputs": [],
   "source": [
    "import sys\n",
    "import util\n",
    "import numpy as np\n",
    "import networkx as nx\n",
    "import random as random\n",
    "from time import time\n",
    "from operator import itemgetter\n",
    "import matplotlib.pyplot as plt\n",
    "from math import log\n",
    "import matplotlib as mpl\n",
    "mpl.rcParams.update({'font.size': 14})\n",
    "mpl.rc('text', usetex = True)\n",
    "mpl.rc('font', family = 'serif')"
   ]
  },
  {
   "cell_type": "markdown",
   "metadata": {},
   "source": [
    "Trace and real graph path."
   ]
  },
  {
   "cell_type": "code",
   "execution_count": 3,
   "metadata": {},
   "outputs": [],
   "source": [
    "trace_path = \"../Newman/rapportStage/trace_normal.txt\"\n",
    "graph_path = \"../Newman/rapportStage/adjList_normal.txt\""
   ]
  },
  {
   "cell_type": "markdown",
   "metadata": {},
   "source": [
    "Out path."
   ]
  },
  {
   "cell_type": "code",
   "execution_count": 15,
   "metadata": {},
   "outputs": [],
   "source": [
    "out_path = \"../Newman/rapportStage/results_normal/\""
   ]
  },
  {
   "cell_type": "markdown",
   "metadata": {},
   "source": [
    "Get authors."
   ]
  },
  {
   "cell_type": "code",
   "execution_count": 4,
   "metadata": {},
   "outputs": [],
   "source": [
    "Author = util.get_authors(trace_path)"
   ]
  },
  {
   "cell_type": "markdown",
   "metadata": {},
   "source": [
    "Get users."
   ]
  },
  {
   "cell_type": "code",
   "execution_count": 5,
   "metadata": {},
   "outputs": [],
   "source": [
    "users = set(Author.values())\n",
    "# print(users)"
   ]
  },
  {
   "cell_type": "markdown",
   "metadata": {},
   "source": [
    "Show beginning of trace."
   ]
  },
  {
   "cell_type": "code",
   "execution_count": 6,
   "metadata": {},
   "outputs": [
    {
     "name": "stdout",
     "output_type": "stream",
     "text": [
      "1 0.0002320407491522085 51 -1\n",
      "2 0.0006118585945935823 42 -1\n",
      "3 0.0007774102808583195 36 -1\n",
      "4 0.0007851068335115537 50 -1\n",
      "5 0.0011044432224044177 36 -1\n",
      "6 0.0013630647560282801 53 -1\n"
     ]
    }
   ],
   "source": [
    "for i,line in enumerate(open(trace_path)):\n",
    "    print(line[:-1]) # [:-1] to remove \\n at end of line\n",
    "    if i==5:\n",
    "        break"
   ]
  },
  {
   "cell_type": "markdown",
   "metadata": {},
   "source": [
    "Useful function to flatten a list of lists or values from dict of dicts."
   ]
  },
  {
   "cell_type": "code",
   "execution_count": 7,
   "metadata": {},
   "outputs": [
    {
     "name": "stdout",
     "output_type": "stream",
     "text": [
      "Example on [[3, 5], [0, -7, 12], [45]] : [3, 5, 0, -7, 12, 45]\n",
      "Example on {1: {4: 56, 2: 45}, 3: {6: 32}} : [56, 45, 32]\n"
     ]
    }
   ],
   "source": [
    "def flatten(obj):\n",
    "    if type(obj) == list:\n",
    "        return [l for L in obj for l in L]\n",
    "    if type(obj) == dict:\n",
    "        return [l for i in obj for l in obj[i].values()]\n",
    "\n",
    "# example\n",
    "liste = [[3,5], [0,-7,12], [45]]\n",
    "print(\"Example on {} : {}\".format(liste, flatten(liste)))\n",
    "dico = {1: {4:56, 2:45}, 3: {6:32}}\n",
    "print(\"Example on {} : {}\".format(dico, flatten(dico)))"
   ]
  },
  {
   "cell_type": "markdown",
   "metadata": {},
   "source": [
    "## 1. Initialization"
   ]
  },
  {
   "cell_type": "markdown",
   "metadata": {},
   "source": [
    "Number of nodes $n$ and list of all node pairs."
   ]
  },
  {
   "cell_type": "code",
   "execution_count": 8,
   "metadata": {},
   "outputs": [],
   "source": [
    "n = len(users)\n",
    "node_pairs = list()\n",
    "for i in range(n):\n",
    "    for j in range(n):\n",
    "        if i != j:\n",
    "            node_pairs.append((i,j))"
   ]
  },
  {
   "cell_type": "markdown",
   "metadata": {},
   "source": [
    "Compute E and N. Here N for edge $i \\rightarrow j$ equals the total number of retweets by $j$. To set all N to the maximal number of retweets among all users do `N=max(flatten(E))`.\n",
    "\n",
    "Note that if E is too big it can cause divisions by zeros in the algorithm. Usually E<200 is fine. You can force E<some chosen value."
   ]
  },
  {
   "cell_type": "code",
   "execution_count": 9,
   "metadata": {},
   "outputs": [
    {
     "name": "stdout",
     "output_type": "stream",
     "text": [
      "N =  {20, 27, 28, 29, 30, 31, 32, 34, 35, 36, 40, 42, 43, 44, 45, 46, 47, 48, 49, 50, 51, 52, 53, 54, 55, 56, 57, 58, 59, 61, 62, 64, 65, 70, 71, 73, 80}\n"
     ]
    }
   ],
   "source": [
    "# init\n",
    "N = dict()\n",
    "E = dict()\n",
    "\n",
    "# read tweets\n",
    "for i,line in enumerate(open(trace_path)):\n",
    "    line = line.split()\n",
    "    uid, rtid = int(line[2]), int(line[3])\n",
    "    \n",
    "    # if retweet of known author\n",
    "    if rtid != -1:\n",
    "        if uid not in N:\n",
    "            N[uid] = 1\n",
    "        else:\n",
    "            N[uid] += 1\n",
    "        if rtid in Author:\n",
    "            rtu = Author[rtid]\n",
    "            if rtu != uid: # no self-edges\n",
    "                if uid in E:\n",
    "                    if rtu in E[uid]:# and E[uid][rtu] < 100:\n",
    "                        E[uid][rtu] += 1\n",
    "                    else:\n",
    "                        E[uid][rtu] = 1\n",
    "                else:\n",
    "                    E[uid] = {rtu: 1}\n",
    "\n",
    "print(\"N = \", set(N.values()))"
   ]
  },
  {
   "cell_type": "code",
   "execution_count": 10,
   "metadata": {},
   "outputs": [
    {
     "name": "stdout",
     "output_type": "stream",
     "text": [
      "22\n"
     ]
    }
   ],
   "source": [
    "print(max(flatten(E)))\n",
    "N = {u:max(flatten(E)) for u in N}"
   ]
  },
  {
   "cell_type": "markdown",
   "metadata": {},
   "source": [
    "## 2. Iterations"
   ]
  },
  {
   "cell_type": "markdown",
   "metadata": {},
   "source": [
    "Choose parameters."
   ]
  },
  {
   "cell_type": "code",
   "execution_count": 11,
   "metadata": {},
   "outputs": [],
   "source": [
    "eps = 10**(-3) # convergence criterion\n",
    "repetitions = 100 # number of times we repeat the algorithm\n",
    "max_iter = 100 # max number of iterations\n",
    "verbose = False # True to print some infos at each iteration"
   ]
  },
  {
   "cell_type": "markdown",
   "metadata": {},
   "source": [
    "Proceed NEW VERSION SPARSE."
   ]
  },
  {
   "cell_type": "code",
   "execution_count": 12,
   "metadata": {
    "scrolled": true
   },
   "outputs": [
    {
     "name": "stdout",
     "output_type": "stream",
     "text": [
      "w, a, b = 0.011695712082201333, 0.5056546673204863, 0.09107887950880067\n",
      "w, a, b = 0.011695527680987338, 0.5056573884181905, 0.09107913307904059\n",
      "w, a, b = 0.011695701569944155, 0.5056548224429609, 0.09107889396411324\n",
      "w, a, b = 0.011695657766263778, 0.5056554688258572, 0.09107895419829311\n",
      "w, a, b = 0.011696687679203623, 0.5056402713793496, 0.09107753802703415\n",
      "w, a, b = 0.011695767559970675, 0.5056538486726253, 0.09107880322201403\n",
      "w, a, b = 0.011695864294163331, 0.5056524212363483, 0.0910786702048465\n",
      "w, a, b = 0.01169587470965125, 0.5056522675428897, 0.09107865588278977\n",
      "w, a, b = 0.011695719107963774, 0.5056545636459667, 0.0910788698477413\n",
      "w, a, b = 0.011695788619273262, 0.5056535379152765, 0.09107877426371964\n",
      "w, a, b = 0.011695725585328578, 0.5056544680638146, 0.09107886094078721\n",
      "w, a, b = 0.011696703695942886, 0.5056400350408262, 0.09107751600430379\n",
      "w, a, b = 0.011695729550672674, 0.5056544095498646, 0.09107885548808684\n",
      "w, a, b = 0.01169562591840133, 0.5056559387851347, 0.09107899799223795\n",
      "w, a, b = 0.011695625884788202, 0.5056559392811488, 0.0910789980384584\n",
      "w, a, b = 0.011696377502331236, 0.5056448482943574, 0.09107796452027235\n",
      "w, a, b = 0.011695568996150622, 0.5056567787533417, 0.09107907626620196\n",
      "w, a, b = 0.011695748198378948, 0.5056541343782969, 0.09107882984585589\n",
      "w, a, b = 0.01169584928673325, 0.5056526426897054, 0.09107869084118166\n",
      "w, a, b = 0.011695844756364683, 0.5056527095409945, 0.09107869707078016\n",
      "w, a, b = 0.011695528162126457, 0.5056573813182819, 0.0910791324174215\n",
      "w, a, b = 0.011695862301004039, 0.5056524506478669, 0.09107867294558855\n",
      "w, a, b = 0.011695835705259935, 0.5056528431014229, 0.09107870951674374\n",
      "w, a, b = 0.011695831690383298, 0.5056529023460012, 0.09107871503750872\n",
      "w, a, b = 0.0116956717147869, 0.5056552629962929, 0.0910789350177384\n",
      "w, a, b = 0.011696671805538919, 0.505640505606868, 0.09107755985306847\n",
      "w, a, b = 0.011695857632104168, 0.5056525195433161, 0.09107867936567315\n",
      "w, a, b = 0.011695686665293598, 0.5056550423812013, 0.09107891445938196\n",
      "w, a, b = 0.011695600269693587, 0.5056563172677714, 0.09107903326181108\n",
      "w, a, b = 0.0116958674868878, 0.5056523741237146, 0.09107866581461793\n",
      "w, a, b = 0.011695629582202148, 0.5056558847206633, 0.09107899295414476\n",
      "w, a, b = 0.01169571816865182, 0.5056545775067622, 0.09107887113938193\n",
      "w, a, b = 0.01169578703911225, 0.5056535612325965, 0.09107877643657124\n",
      "w, a, b = 0.011695689833959686, 0.5056549956232383, 0.0910789101021709\n",
      "w, a, b = 0.011695653716638759, 0.5056555285836272, 0.09107895976692203\n",
      "w, a, b = 0.011695712625748703, 0.5056546592997062, 0.09107887876136934\n",
      "w, a, b = 0.011695694568621759, 0.5056549257569181, 0.09107890359157368\n",
      "w, a, b = 0.011696627964176413, 0.5056411525189948, 0.09107762013438223\n",
      "w, a, b = 0.011695796930872776, 0.5056534152669041, 0.09107876283459013\n",
      "w, a, b = 0.011695701818523483, 0.5056548187748306, 0.0910788936222937\n",
      "w, a, b = 0.011695806652767985, 0.5056532718078828, 0.09107874946619848\n",
      "w, a, b = 0.011695799543829044, 0.5056533767094057, 0.09107875924156694\n",
      "w, a, b = 0.011695792028315432, 0.5056534876104786, 0.09107876957600791\n",
      "w, a, b = 0.011695790930944546, 0.5056535038035784, 0.09107877108497776\n",
      "w, a, b = 0.011695691103404958, 0.5056549768908623, 0.09107890835656972\n",
      "w, a, b = 0.011695577864072137, 0.5056566478944892, 0.09107906407187466\n",
      "w, a, b = 0.011695846732738121, 0.5056526803771015, 0.09107869435311805\n",
      "w, a, b = 0.011695698181698673, 0.5056548724410723, 0.09107889862326081\n",
      "w, a, b = 0.011695811115465297, 0.505653205955082, 0.09107874332963221\n",
      "w, a, b = 0.01169574652751838, 0.505654159034038, 0.09107883214343208\n",
      "w, a, b = 0.011695619081072643, 0.5056560396794778, 0.09107900739425133\n",
      "w, a, b = 0.011695769462126668, 0.5056538206038371, 0.09107880060639073\n",
      "w, a, b = 0.011695526583028993, 0.5056574046201731, 0.09107913458885435\n",
      "w, a, b = 0.011695716459453337, 0.5056546027282794, 0.09107887348968126\n",
      "w, a, b = 0.011695695009371293, 0.5056549192530561, 0.09107890298550296\n",
      "w, a, b = 0.011696397191624412, 0.5056445577608059, 0.09107793744717572\n",
      "w, a, b = 0.01169649049014217, 0.5056431810591773, 0.09107780916079102\n",
      "w, a, b = 0.011695853815516358, 0.5056525758618279, 0.09107868461376555\n",
      "w, a, b = 0.011695879987649834, 0.5056521896595076, 0.09107864862515613\n",
      "w, a, b = 0.01169573082247407, 0.5056543907827644, 0.09107885373924858\n",
      "w, a, b = 0.011696548725116595, 0.5056423217537537, 0.09107772908761036\n",
      "w, a, b = 0.011695825339389924, 0.5056529960629542, 0.09107872377061875\n",
      "w, a, b = 0.011695815658495038, 0.505653138916866, 0.09107873708260826\n",
      "w, a, b = 0.011695546223317668, 0.5056571147991953, 0.09107910758129292\n",
      "w, a, b = 0.011695848569609391, 0.5056526532717783, 0.09107869182728448\n",
      "w, a, b = 0.011695765098569464, 0.5056538849938139, 0.09107880660664813\n",
      "w, a, b = 0.011695841536230527, 0.5056527570581165, 0.09107870149871052\n",
      "w, a, b = 0.011695877368472106, 0.5056522283086885, 0.09107865222672169\n",
      "w, a, b = 0.011695597135870492, 0.505656363511772, 0.09107903757114165\n",
      "w, a, b = 0.011695591887710017, 0.5056564409557828, 0.0910790447879012\n",
      "w, a, b = 0.011695614737607381, 0.5056561037733563, 0.09107901336694853\n",
      "w, a, b = 0.01169644907850589, 0.5056437921235937, 0.09107786610208453\n",
      "w, a, b = 0.01169562634192348, 0.5056559325354676, 0.09107899740984862\n",
      "w, a, b = 0.01169578634224084, 0.5056535715158281, 0.09107877739482703\n",
      "w, a, b = 0.011695874281588298, 0.5056522738594846, 0.09107865647140852\n",
      "w, a, b = 0.011695610309822982, 0.5056561691115639, 0.09107901945560624\n",
      "w, a, b = 0.011695757012065586, 0.5056540043207558, 0.09107881772627857\n",
      "w, a, b = 0.011695559870957514, 0.5056569134086238, 0.09107908881431687\n",
      "w, a, b = 0.01169579541173661, 0.5056534376837128, 0.09107876492352233\n",
      "w, a, b = 0.011695862081172868, 0.5056524538917584, 0.09107867324787439\n",
      "w, a, b = 0.011695873280491296, 0.5056522886319048, 0.09107865784798384\n",
      "w, a, b = 0.011695752939920595, 0.5056540644106162, 0.09107882332582946\n",
      "w, a, b = 0.011695802011261915, 0.5056533402992488, 0.09107875584864344\n",
      "w, a, b = 0.011695782240742485, 0.5056536320387561, 0.09107878303472514\n",
      "w, a, b = 0.011695871931009212, 0.5056523085451949, 0.09107865970362425\n",
      "w, a, b = 0.01169569735114325, 0.5056548846970421, 0.09107889976534816\n",
      "w, a, b = 0.011695788204341551, 0.5056535440381472, 0.09107877483428475\n",
      "w, a, b = 0.01169572555148628, 0.5056544685632114, 0.09107886098732501\n",
      "w, a, b = 0.011695779396320962, 0.5056536740118848, 0.09107878694604091\n",
      "w, a, b = 0.011696629569325028, 0.5056411288337994, 0.09107761792731936\n",
      "w, a, b = 0.011695756160870773, 0.5056540168812751, 0.09107881889674571\n",
      "w, a, b = 0.011695795363861972, 0.5056534383901775, 0.0910787649893557\n",
      "w, a, b = 0.011695681833393774, 0.5056551136824545, 0.09107892110370026\n",
      "w, a, b = 0.0116964195435109, 0.5056442279385808, 0.09107790671302077\n",
      "w, a, b = 0.01169583437519379, 0.5056528627282287, 0.09107871134568694\n",
      "w, a, b = 0.01169583029632547, 0.5056529229170914, 0.09107871695444861\n",
      "w, a, b = 0.011695696829071513, 0.5056548924009295, 0.09107890048324839\n",
      "w, a, b = 0.011695807257218138, 0.5056532628884448, 0.09107874863503708\n",
      "w, a, b = 0.01169572464311833, 0.5056544819673766, 0.09107886223641395\n",
      "w, a, b = 0.011695670752968339, 0.5056552771892424, 0.09107893634033193\n"
     ]
    }
   ],
   "source": [
    "# at each repetition we save the values of w, a and b\n",
    "results = {'w':list(), 'a':list(), 'b':list()}\n",
    "\n",
    "start = time()\n",
    "for k in range(repetitions):\n",
    "    \n",
    "    # we may have divisions by zero\n",
    "    try:\n",
    "    \n",
    "        # random initialization of the parameters\n",
    "        w = random.uniform(0, 0.2)\n",
    "        a = random.uniform(0.5, 1)\n",
    "        b = random.uniform(0, 0.5)\n",
    "#         w = random.random()\n",
    "#         a = random.random()\n",
    "#         b = random.random()\n",
    "        if verbose:\n",
    "            print(\"init values \", w, a, b)\n",
    "            print()\n",
    "\n",
    "        # iter\n",
    "        for l in range(max_iter):\n",
    "            \n",
    "            # print state\n",
    "            sys.stdout.flush()\n",
    "#             sys.stdout.write(\"repetition {}/{} --- iteration {}/{} --- elapsed time {:.3f}\\r\"\n",
    "#                              .format(k+1, repetitions, l+1, max_iter, time()-start))\n",
    "            sys.stdout.write(\"repetition {}/{} --- elapsed time {:.3f}\\r\"\n",
    "                             .format(k+1, repetitions, time()-start))\n",
    "\n",
    "            old_w, old_a, old_b = w, a, b\n",
    "\n",
    "            # compute Qij\n",
    "            Q = dict()\n",
    "            for i in E:\n",
    "                ni = N[i]\n",
    "                Q[i] = dict()\n",
    "                for j in E[i]:\n",
    "                    eij = E[i][j]\n",
    "                    qij = w * a**eij * (1-a)**(ni-eij)\n",
    "                    qij /= w * a**eij * (1-a)**(ni-eij) + (1-w) * b**eij * (1-b)**(ni-eij)\n",
    "                    Q[i][j] = qij\n",
    "            \n",
    "            # update w,a,b\n",
    "            w = sum(flatten(Q)) / (n*(n-1))\n",
    "            numerator_a, numerator_b = 0, 0\n",
    "            denominator_a, denominator_b = 0, 0\n",
    "            for i in E:\n",
    "                ni = N[i]\n",
    "                for j in E[i]:\n",
    "                    eij = E[i][j]\n",
    "                    qij = Q[i][j]\n",
    "                    numerator_a += qij * eij\n",
    "                    numerator_b += (1-qij) * eij\n",
    "                    denominator_a += qij * ni\n",
    "                    denominator_b += (1-qij) * ni\n",
    "            a = numerator_a / denominator_a\n",
    "            b = numerator_b / denominator_b\n",
    "            if verbose:\n",
    "                print(w,a,b)\n",
    "                print()\n",
    "            \n",
    "            # break if no sufficient evolution after at least one iteration\n",
    "            # INCOMPLETE\n",
    "            new_q = np.array(flatten(Q))\n",
    "            if l>0 and np.linalg.norm(new_q - old_q) < eps:\n",
    "                if verbose:\n",
    "                    print(np.abs([a-old_a, b-old_b, w-old_w]))\n",
    "                break\n",
    "            \n",
    "            # register old_q\n",
    "            old_q = new_q\n",
    "            \n",
    "        # add results to results dict\n",
    "        results['w'].append(w)\n",
    "        results['a'].append(a)\n",
    "        results['b'].append(b)\n",
    "        print(\"w, a, b = {}, {}, {}\".format(w,a,b))\n",
    "        \n",
    "    except Exception as e:\n",
    "        print(e)\n",
    "        continue"
   ]
  },
  {
   "cell_type": "markdown",
   "metadata": {},
   "source": [
    "Print results and show aggregated best results (rounded to $10^{-5}$)."
   ]
  },
  {
   "cell_type": "code",
   "execution_count": 15,
   "metadata": {},
   "outputs": [
    {
     "data": {
      "image/png": "[encoded data removed]",
      "text/plain": [
       "<Figure size 720x144 with 3 Axes>"
      ]
     },
     "metadata": {
      "needs_background": "light"
     },
     "output_type": "display_data"
    },
    {
     "name": "stdout",
     "output_type": "stream",
     "text": [
      "top 5 values for w and proportion\n",
      "0.0118 0.97\n",
      "0.0 0.03\n",
      "\n",
      "top 5 values for a and proportion\n",
      "0.21451 0.94\n",
      "0.2145 0.03\n",
      "0.45821 0.01\n",
      "0.45819 0.01\n",
      "0.45822 0.01\n",
      "\n",
      "top 5 values for b and proportion\n",
      "0.04089 0.97\n",
      "0.05202 0.03\n",
      "\n",
      "top 5 values for (w,a,b) and proportion\n",
      "(0.0118, 0.21451, 0.04089) 0.94\n",
      "(0.0118, 0.2145, 0.04089) 0.03\n",
      "(0.0, 0.45819, 0.05202) 0.01\n",
      "(0.0, 0.45821, 0.05202) 0.01\n",
      "(0.0, 0.45822, 0.05202) 0.01\n",
      "\n"
     ]
    }
   ],
   "source": [
    "# plot the results\n",
    "plt.rcParams[\"figure.figsize\"] = [10,2]\n",
    "fig, ax = plt.subplots(1, 3, sharey=True)\n",
    "for i,(key,values) in enumerate(results.items()):\n",
    "    values = sorted(values)\n",
    "    ax[i].hist(values, label=key, facecolor='yellow', edgecolor='red')\n",
    "    ax[i].set_xlabel(key)  \n",
    "plt.show()\n",
    "plt.close()\n",
    "\n",
    "# print results\n",
    "for key,val in results.items():\n",
    "    print(\"top 5 values for {} and proportion\".format(key))\n",
    "    val = [round(v,5) for v in val]\n",
    "    valcount = list()\n",
    "    for v in set(val):\n",
    "        valcount.append((v, val.count(v)/len(val)))\n",
    "    valcount = sorted(valcount, key=itemgetter(1), reverse=True)\n",
    "    for x in valcount[:5]:\n",
    "        print(x[0], x[1])\n",
    "    print()\n",
    "    \n",
    "print(\"top 5 values for (w,a,b) and proportion\")\n",
    "val = list()\n",
    "for i in range(len(results['w'])):\n",
    "    val.append((round(results['w'][i],5), round(results['a'][i],5), round(results['b'][i],5)))\n",
    "valcount = list()\n",
    "for v in set(val):\n",
    "    valcount.append((v, val.count(v)/len(val)))\n",
    "valcount = sorted(valcount, key=itemgetter(1), reverse=True)\n",
    "for x in valcount[:5]:\n",
    "    print(x[0], x[1])\n",
    "print()"
   ]
  },
  {
   "cell_type": "markdown",
   "metadata": {},
   "source": [
    "Set w,a,b to some chosen values among the results and compute Q accordingly. Plot Q distribution."
   ]
  },
  {
   "cell_type": "code",
   "execution_count": 13,
   "metadata": {},
   "outputs": [
    {
     "name": "stdout",
     "output_type": "stream",
     "text": [
      "w, a, b =  0.011695729550672674 0.5056544095498646 0.09107885548808684\n"
     ]
    },
    {
     "data": {
      "image/png": "[encoded data removed]",
      "text/plain": [
       "<Figure size 432x288 with 1 Axes>"
      ]
     },
     "metadata": {
      "needs_background": "light"
     },
     "output_type": "display_data"
    }
   ],
   "source": [
    "w, a, b = 0.011695729550672674, 0.5056544095498646, 0.09107885548808684\n",
    "\n",
    "# compute Q\n",
    "Q = dict()\n",
    "for i in E:\n",
    "    ni = N[i]\n",
    "    Q[i] = dict()\n",
    "    for j in E[i]:\n",
    "        eij = E[i][j]\n",
    "        qij = w * a**eij * (1-a)**(ni-eij)\n",
    "        qij /= w * a**eij * (1-a)**(ni-eij) + (1-w) * b**eij * (1-b)**(ni-eij)\n",
    "        Q[i][j] = qij\n",
    "        \n",
    "# plot\n",
    "print(\"w, a, b = \", w,a,b)\n",
    "plt.rcParams[\"figure.figsize\"] = [6,4]\n",
    "plt.hist(flatten(Q), facecolor='yellow', edgecolor='red')\n",
    "plt.xlabel(\"Edge probability a posteriori\")\n",
    "plt.ylabel(\"Number of occurences\")\n",
    "# plt.savefig(out_path + \"Q_distrib.pdf\")\n",
    "plt.show()\n",
    "plt.close()"
   ]
  },
  {
   "cell_type": "markdown",
   "metadata": {},
   "source": [
    "## 3. Result analysis"
   ]
  },
  {
   "cell_type": "markdown",
   "metadata": {},
   "source": [
    "### 3.1 Plots"
   ]
  },
  {
   "cell_type": "markdown",
   "metadata": {},
   "source": [
    "Plot E/N vs Q."
   ]
  },
  {
   "cell_type": "code",
   "execution_count": 17,
   "metadata": {
    "scrolled": true
   },
   "outputs": [
    {
     "data": {
      "image/png": "[encoded data removed]",
      "text/plain": [
       "<Figure size 432x288 with 1 Axes>"
      ]
     },
     "metadata": {
      "needs_background": "light"
     },
     "output_type": "display_data"
    }
   ],
   "source": [
    "plt.rcParams[\"figure.figsize\"] = [6,4]\n",
    "x2plot, y2plot = list(), list()\n",
    "for i in E:\n",
    "    for j in E[i]:\n",
    "        x2plot.append(E[i][j] / N[i])\n",
    "#         x2plot.append(E[i][j])\n",
    "        y2plot.append(Q[i][j])\n",
    "# x2plot = flatten(E)\n",
    "# y2plot = flatten(Q)\n",
    "fig, ax = plt.subplots()\n",
    "# ax.set_xscale('log') # log scale\n",
    "# ax.set_yscale('log') # log scale\n",
    "ax.scatter(x2plot, y2plot, color='blue', marker='x', alpha=.5)\n",
    "# plt.xlabel(\"Number of retweets\")\n",
    "# plt.ylabel(\"Edge proba a posteriori\")\n",
    "plt.xlabel(r\"$E_{ij} / N_{ij}$\")\n",
    "# plt.xlabel(r\"$E_{ij}$\")\n",
    "plt.ylabel(r\"$Q_{ij}$\")\n",
    "plt.savefig(out_path + \"EfracN_vsQ.pdf\")\n",
    "# plt.show()"
   ]
  },
  {
   "cell_type": "markdown",
   "metadata": {},
   "source": [
    "Get real graph."
   ]
  },
  {
   "cell_type": "code",
   "execution_count": 55,
   "metadata": {},
   "outputs": [],
   "source": [
    "G = nx.read_edgelist(graph_path, nodetype=int, create_using=nx.DiGraph())"
   ]
  },
  {
   "cell_type": "markdown",
   "metadata": {},
   "source": [
    "Plot real graph ?"
   ]
  },
  {
   "cell_type": "code",
   "execution_count": 101,
   "metadata": {},
   "outputs": [
    {
     "data": {
      "image/png": "[encoded data removed]",
      "text/plain": [
       "<Figure size 432x288 with 1 Axes>"
      ]
     },
     "metadata": {},
     "output_type": "display_data"
    }
   ],
   "source": [
    "# nx.draw_kamada_kawai(G, node_size=[G.degree[x]**2.3 for x in G.nodes], arrowstyle='->',width=.5,  with_labels=False)\n",
    "# plt.savefig(\"simu_userGraph.pdf\")\n",
    "nx.draw(G, node_size=[20*G.out_degree(k) for k in range(n)], width=.5)\n",
    "# plt.savefig(out_path + \"graph_random.pdf\")"
   ]
  },
  {
   "cell_type": "markdown",
   "metadata": {},
   "source": [
    "## 4. Compare real graph, oursin, cascade and Newman"
   ]
  },
  {
   "cell_type": "markdown",
   "metadata": {},
   "source": [
    "Get oursin and cascade graph."
   ]
  },
  {
   "cell_type": "code",
   "execution_count": 56,
   "metadata": {},
   "outputs": [],
   "source": [
    "G_oursin = util.nxgraph_from_trace(trace_path, False, Author)\n",
    "G_cascade = util.nxgraph_from_trace(trace_path, True, Author)"
   ]
  },
  {
   "cell_type": "markdown",
   "metadata": {},
   "source": [
    "Wedge metric function."
   ]
  },
  {
   "cell_type": "code",
   "execution_count": 57,
   "metadata": {},
   "outputs": [],
   "source": [
    "def wedge_metric(graph):\n",
    "\n",
    "    numerator = 0\n",
    "    denominator = 0\n",
    "\n",
    "    for i in graph.nodes:\n",
    "        leaders = set(graph.predecessors(i))\n",
    "        followers = set(graph.successors(i))\n",
    "        friends = leaders.intersection(followers)\n",
    "        if len(leaders) + len(followers) < 2:\n",
    "            continue\n",
    "        if leaders==followers and len(leaders)==1:\n",
    "            continue\n",
    "        L = len(leaders)\n",
    "        F = len(followers)\n",
    "        LintF = len(friends)\n",
    "        numerator += L*F - LintF\n",
    "        denominator += (L+F)**2 - L - F - 2*LintF\n",
    "\n",
    "    if denominator != 0:\n",
    "        result = 2 * numerator / denominator\n",
    "    else:\n",
    "        result = 0\n",
    "        \n",
    "    return result"
   ]
  },
  {
   "cell_type": "markdown",
   "metadata": {},
   "source": [
    "Compare nb edges, proportion of common edges, wedge metric."
   ]
  },
  {
   "cell_type": "code",
   "execution_count": 58,
   "metadata": {},
   "outputs": [
    {
     "name": "stdout",
     "output_type": "stream",
     "text": [
      "Mean nb edges in Newman graph :  29.752\n",
      "Nb edges in oursin graph :  333\n",
      "Nb edges in cascade graph :  485\n",
      "Real nb edges :  288\n",
      "\n",
      "Mean prop of sample edges that are in real graph :  0.7333333333333333\n",
      "Mean prop of real edges that are in sample graph :  0.0763888888888889\n",
      "\n",
      "Mean prop of sample edges that are in oursin graph :  1.0\n",
      "Mean prop of oursin edges that are in sample graph :  0.09009009009009009\n",
      "\n",
      "Mean prop of sample edges that are in cascade graph :  0.8\n",
      "Mean prop of cascade edges that are in sample graph :  0.049484536082474224\n",
      "\n",
      "Prop of oursin edges that are in real graph :  0.3963963963963964\n",
      "Prop of real edges that are in oursin graph :  0.4583333333333333\n",
      "\n",
      "Prop of cascade edges that are in real graph :  0.30721649484536084\n",
      "Prop of real edges that are in cascade graph :  0.5173611111111112\n",
      "\n",
      "Prop of oursin edges that are in cascade graph :  0.3783783783783784\n",
      "Prop of cascade edges that are in oursin graph :  0.2597938144329897\n",
      "\n",
      "Wedge metric for real graph :  0.4074662430500397\n",
      "Wedge metric for oursin graph :  0.2513111888111888\n",
      "Wedge metric for cascade graph :  0.5026073004412355\n",
      "Wedge metric for newman graph :  0.13050327336133624\n"
     ]
    }
   ],
   "source": [
    "n_samples = 1000\n",
    "sample_in_real = list()\n",
    "real_in_sample = list()\n",
    "sample_in_oursin = list()\n",
    "oursin_in_sample = list()\n",
    "sample_in_cascade = list()\n",
    "cascade_in_sample = list()\n",
    "\n",
    "# edges lists\n",
    "oursin_edges = set(G_oursin.edges)\n",
    "cascade_edges = set(G_cascade.edges)\n",
    "real_edges = set(G.edges)\n",
    "mean_sample_edges = 0\n",
    "mean_wedge_metric_newman = 0\n",
    "\n",
    "for k in range(n_samples):\n",
    "    \n",
    "    # sample graph\n",
    "    G_sample = nx.DiGraph()\n",
    "    G_sample.add_nodes_from(users)\n",
    "    for (i,j) in node_pairs:\n",
    "        if i in Q:\n",
    "            if j in Q[i] and random.random() < Q[i][j]:\n",
    "                G_sample.add_edge(j,i)\n",
    "    sample_edges = set(G_sample.edges)\n",
    "            \n",
    "    # mean nb edges\n",
    "    mean_sample_edges += len(sample_edges)\n",
    "    \n",
    "    # compare edges in sample with real graph\n",
    "    nb_common_edges = len(sample_edges.intersection(real_edges))\n",
    "    sample_in_real = nb_common_edges / len(sample_edges)\n",
    "    real_in_sample = nb_common_edges / len(real_edges)\n",
    "    \n",
    "    # compare edges in sample with oursin graph\n",
    "    nb_common_edges = len(sample_edges.intersection(oursin_edges))\n",
    "    sample_in_oursin = nb_common_edges / len(sample_edges)\n",
    "    oursin_in_sample = nb_common_edges / len(oursin_edges)\n",
    "    \n",
    "    # compare edges in sample with cascade graph\n",
    "    nb_common_edges = len(sample_edges.intersection(cascade_edges))\n",
    "    sample_in_cascade = nb_common_edges / len(sample_edges)\n",
    "    cascade_in_sample = nb_common_edges / len(cascade_edges)\n",
    "    \n",
    "    # update mean wedge\n",
    "    mean_wedge_metric_newman += wedge_metric(G_sample)\n",
    "    \n",
    "# update mean sample edges and mean wedge\n",
    "mean_sample_edges /= n_samples\n",
    "mean_wedge_metric_newman /= n_samples\n",
    "\n",
    "# compare oursin and cascade with real\n",
    "oursin_in_real = len(oursin_edges.intersection(real_edges)) / len(oursin_edges)\n",
    "real_in_oursin = len(oursin_edges.intersection(real_edges)) / len(real_edges)\n",
    "cascade_in_real = len(cascade_edges.intersection(real_edges)) / len(cascade_edges)\n",
    "real_in_cascade = len(cascade_edges.intersection(real_edges)) / len(real_edges)\n",
    "oursin_in_cascade = len(oursin_edges.intersection(cascade_edges)) / len(oursin_edges)\n",
    "cascade_in_oursin = len(oursin_edges.intersection(cascade_edges)) / len(cascade_edges)\n",
    "\n",
    "# print results\n",
    "print(\"Mean nb edges in Newman graph : \", mean_sample_edges)\n",
    "print(\"Nb edges in oursin graph : \", G_oursin.number_of_edges())\n",
    "print(\"Nb edges in cascade graph : \", G_cascade.number_of_edges())\n",
    "print(\"Real nb edges : \", G.number_of_edges())\n",
    "print()\n",
    "print(\"Mean prop of sample edges that are in real graph : \", np.mean(sample_in_real))\n",
    "print(\"Mean prop of real edges that are in sample graph : \", np.mean(real_in_sample))\n",
    "print()\n",
    "print(\"Mean prop of sample edges that are in oursin graph : \", np.mean(sample_in_oursin))\n",
    "print(\"Mean prop of oursin edges that are in sample graph : \", np.mean(oursin_in_sample))\n",
    "print()\n",
    "print(\"Mean prop of sample edges that are in cascade graph : \", np.mean(sample_in_cascade))\n",
    "print(\"Mean prop of cascade edges that are in sample graph : \", np.mean(cascade_in_sample))\n",
    "print()\n",
    "print(\"Prop of oursin edges that are in real graph : \", oursin_in_real)\n",
    "print(\"Prop of real edges that are in oursin graph : \", real_in_oursin)\n",
    "print()\n",
    "print(\"Prop of cascade edges that are in real graph : \", cascade_in_real)\n",
    "print(\"Prop of real edges that are in cascade graph : \", real_in_cascade)\n",
    "print()\n",
    "print(\"Prop of oursin edges that are in cascade graph : \", oursin_in_cascade)\n",
    "print(\"Prop of cascade edges that are in oursin graph : \", cascade_in_oursin)\n",
    "print()\n",
    "print(\"Wedge metric for real graph : \", wedge_metric(G))\n",
    "print(\"Wedge metric for oursin graph : \", wedge_metric(G_oursin))\n",
    "print(\"Wedge metric for cascade graph : \", wedge_metric(G_cascade))\n",
    "print(\"Wedge metric for newman graph : \", mean_wedge_metric_newman)"
   ]
  },
  {
   "cell_type": "code",
   "execution_count": null,
   "metadata": {},
   "outputs": [],
   "source": []
  }
 ],
 "metadata": {
  "kernelspec": {
   "display_name": "Python 3",
   "language": "python",
   "name": "python3"
  },
  "language_info": {
   "codemirror_mode": {
    "name": "ipython",
    "version": 3
   },
   "file_extension": ".py",
   "mimetype": "text/x-python",
   "name": "python",
   "nbconvert_exporter": "python",
   "pygments_lexer": "ipython3",
   "version": "3.7.2"
  }
 },
 "nbformat": 4,
 "nbformat_minor": 2
}
