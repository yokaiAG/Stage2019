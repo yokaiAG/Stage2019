{
 "cells": [
  {
   "cell_type": "markdown",
   "metadata": {},
   "source": [
    "# <center>Estimating network structure from unreliable measurements</center>"
   ]
  },
  {
   "cell_type": "code",
   "execution_count": 262,
   "metadata": {},
   "outputs": [],
   "source": [
    "import numpy as np\n",
    "import networkx as nx\n",
    "import random as random\n",
    "from scipy.special import binom\n",
    "from operator import itemgetter"
   ]
  },
  {
   "cell_type": "markdown",
   "metadata": {},
   "source": [
    "## 1. Erdös-Rényi with independent edge measurements"
   ]
  },
  {
   "cell_type": "markdown",
   "metadata": {},
   "source": [
    "### 1.1 Initialization"
   ]
  },
  {
   "cell_type": "markdown",
   "metadata": {},
   "source": [
    "Number of nodes n and list of all node pairs."
   ]
  },
  {
   "cell_type": "code",
   "execution_count": 345,
   "metadata": {},
   "outputs": [],
   "source": [
    "n = 1000\n",
    "node_pairs = list()\n",
    "for i in range(n):\n",
    "    for j in range(i,n):\n",
    "        if i != j:\n",
    "            node_pairs.append((i,j))"
   ]
  },
  {
   "cell_type": "markdown",
   "metadata": {},
   "source": [
    "Graph parameters $\\gamma$."
   ]
  },
  {
   "cell_type": "code",
   "execution_count": 346,
   "metadata": {},
   "outputs": [
    {
     "name": "stdout",
     "output_type": "stream",
     "text": [
      "w = 0.001\n"
     ]
    }
   ],
   "source": [
    "w = 1/n # prob of an edge between two nodes\n",
    "print(\"w = {}\".format(w))"
   ]
  },
  {
   "cell_type": "markdown",
   "metadata": {},
   "source": [
    "Generate graph."
   ]
  },
  {
   "cell_type": "code",
   "execution_count": 347,
   "metadata": {},
   "outputs": [],
   "source": [
    "G = nx.gnp_random_graph(n,w)"
   ]
  },
  {
   "cell_type": "markdown",
   "metadata": {},
   "source": [
    "Data parameters $\\theta$."
   ]
  },
  {
   "cell_type": "code",
   "execution_count": 349,
   "metadata": {},
   "outputs": [],
   "source": [
    "a = 0.8 # true positive rate\n",
    "b = 0.1 # false positive rate"
   ]
  },
  {
   "cell_type": "markdown",
   "metadata": {},
   "source": [
    "Generate data."
   ]
  },
  {
   "cell_type": "code",
   "execution_count": 351,
   "metadata": {},
   "outputs": [],
   "source": [
    "n_obs = 100 # nb of times we observe each node pair\n",
    "N = {e:n_obs for e in node_pairs} # nb obs for each node pair\n",
    "E = {e:0 for e in node_pairs} # nb edges seen during observations for each node pair\n",
    "\n",
    "for k in range(n_obs):\n",
    "    for e in node_pairs:\n",
    "        dice = random.random()\n",
    "        # if true positive\n",
    "        if e in G.edges and dice < a:\n",
    "            E[e] += 1\n",
    "        # if false positive\n",
    "        elif e not in G.edges and dice < b:\n",
    "            E[e] += 1"
   ]
  },
  {
   "cell_type": "markdown",
   "metadata": {},
   "source": [
    "### 1.2 Iterations"
   ]
  },
  {
   "cell_type": "markdown",
   "metadata": {},
   "source": [
    "Choose number of repetitions of the whole algorithm and max iterations for each repetition."
   ]
  },
  {
   "cell_type": "code",
   "execution_count": 352,
   "metadata": {},
   "outputs": [],
   "source": [
    "repetitions = 1000\n",
    "max_iter = 1000"
   ]
  },
  {
   "cell_type": "markdown",
   "metadata": {},
   "source": [
    "Proceed."
   ]
  },
  {
   "cell_type": "code",
   "execution_count": null,
   "metadata": {
    "scrolled": true
   },
   "outputs": [],
   "source": [
    "# save values at each big iter\n",
    "A = list()\n",
    "B = list()\n",
    "W = list()\n",
    "\n",
    "\n",
    "# we do multiple repetitions and then take the mean\n",
    "for k in range(repetitions):\n",
    "    \n",
    "    try:\n",
    "        \n",
    "        # random initialization of the parameters\n",
    "        w = random.random()\n",
    "        a = random.random()\n",
    "        b = random.random()\n",
    "\n",
    "        # iter\n",
    "        for l in range(max_iter):\n",
    "\n",
    "            old_w, old_a, old_b = w, a, b\n",
    "\n",
    "            # compute Qij\n",
    "            Q = dict()\n",
    "            for i,j in N:\n",
    "                Q[i,j] = w * a**E[i,j] * (1-a)**(N[i,j]-E[i,j])\n",
    "                Q[i,j] /= w * a**E[i,j] * (1-a)**(N[i,j]-E[i,j]) + (1-w) * b**E[i,j] * (1-b)**(N[i,j]-E[i,j])\n",
    "\n",
    "            # update w,a,b\n",
    "            w = sum(Q.values()) / binom(n,2)\n",
    "            numerator_a, numerator_b = 0, 0\n",
    "            denominator_a, denominator_b = 0, 0\n",
    "            for i,j in N:\n",
    "                numerator_a += Q[i,j] * E[i,j]\n",
    "                numerator_b += (1-Q[i,j]) * E[i,j]\n",
    "                denominator_a += Q[i,j] * N[i,j]\n",
    "                denominator_b += (1-Q[i,j]) * N[i,j]\n",
    "            a = numerator_a / denominator_a\n",
    "            b = numerator_b / denominator_b\n",
    "\n",
    "            # break if no sufficient evolution\n",
    "            if np.abs(min([a-old_a, b-old_b, w-old_w])) < 0.001:\n",
    "                break\n",
    "\n",
    "        # save a,b,w\n",
    "        A.append(a)\n",
    "        B.append(b)\n",
    "        W.append(w)\n",
    "    \n",
    "    except:\n",
    "        continue\n",
    "    \n",
    "    \n",
    "# print values\n",
    "w_final = max([(w, W.count(w)/len(W)) for w in set(W)], key=itemgetter(1))\n",
    "a_final = max([(a, A.count(a)/len(W)) for a in set(A)], key=itemgetter(1))\n",
    "b_final = max([(b, B.count(b)/len(W)) for b in set(B)], key=itemgetter(1))\n",
    "print(\"w = {}\\na = {}\\nb = {}\\n\".format(w_final, a_final, b_final))"
   ]
  },
  {
   "cell_type": "markdown",
   "metadata": {},
   "source": [
    "Probability of the real graph."
   ]
  },
  {
   "cell_type": "code",
   "execution_count": 258,
   "metadata": {},
   "outputs": [
    {
     "name": "stdout",
     "output_type": "stream",
     "text": [
      "1.0\n"
     ]
    }
   ],
   "source": [
    "qA = 1\n",
    "for i,j in N:\n",
    "    if (i,j) in G.edges:\n",
    "        qA *= Q[i,j]\n",
    "    else:\n",
    "        qA *= 1 - Q[i,j]\n",
    "print(qA)"
   ]
  }
 ],
 "metadata": {
  "kernelspec": {
   "display_name": "Python 3",
   "language": "python",
   "name": "python3"
  },
  "language_info": {
   "codemirror_mode": {
    "name": "ipython",
    "version": 3
   },
   "file_extension": ".py",
   "mimetype": "text/x-python",
   "name": "python",
   "nbconvert_exporter": "python",
   "pygments_lexer": "ipython3",
   "version": "3.7.2"
  }
 },
 "nbformat": 4,
 "nbformat_minor": 2
}
