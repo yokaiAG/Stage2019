{
 "cells": [
  {
   "cell_type": "markdown",
   "metadata": {},
   "source": [
    "# Online Social Platform - SPARSE numerical solution"
   ]
  },
  {
   "cell_type": "markdown",
   "metadata": {},
   "source": [
    "## authors: A. Giovanidis, B. Baynat, C. Magnien, A. Vendeville"
   ]
  },
  {
   "cell_type": "markdown",
   "metadata": {},
   "source": [
    "25 Juin 2019"
   ]
  },
  {
   "cell_type": "markdown",
   "metadata": {},
   "source": [
    "### Code related to the submission: \"Ranking Online Social Users by their Influence\""
   ]
  },
  {
   "cell_type": "markdown",
   "metadata": {},
   "source": [
    "We present again the general problem to be solved numerically, and specify here that this is a solution that profits from sparsity. The algorithm can be applyied to data traces with sizes of millions of users. \n",
    "\n",
    "We analyse the influence of users in a generic online social platform. \n",
    "\n",
    "In such platform, there are $N$ users in total. Each user $n$ is considered as a virtual node and has a Newsfeed and a Wall. Suppose the Newsfeed of size $M$ and the Wall of size $K$. Furthermore, each user has a set of leaders, $L^{(n)}$, and he/she can be the leader of others. The Newsfeed of $n$ is refreshed instantaneously with posts published on the Walls of his Leaders. The user visits his Newsfeed and chooses among the currently available posts to re-post on his own Wall with rate $\\mu^{(n)}\\geq 0$ [posts/unit-time]. Additionally, he produces own posts on his Wall with rate $\\lambda^{(n)}\\geq 0$. These posts are marked on their production by the user-author index $(n)$."
   ]
  },
  {
   "cell_type": "markdown",
   "metadata": {},
   "source": [
    "**Assumptions:** The choice of which post to share on one's Wall and which post to evict when a new post arrives is uniformly random, among the present posts on the Wall and the Newsfeed. Also, both post-feed processes per user are assumed Poisson."
   ]
  },
  {
   "cell_type": "markdown",
   "metadata": {},
   "source": [
    "Consider a particular user $i$. The steady-state probability to find posts from user $i$ on the Newsfeed and Wall of user $n$ is the tuple $(p_i^{(n)},q_i^{(n)})$. With this, we form the steady state column-vectors\n",
    "\n",
    "$Pvec(i):=(Pvec(1,i),\\ldots,Pvec(N,i))=(p_i^{(1)},\\ldots,p_i^{(n)})$, and\n",
    "\n",
    "$Qvec(i):=(Qvec(1,i),\\ldots,Qvec(N,i))=(q_i^{(1)},\\ldots,q_i^{(n)})$.\n",
    "\n",
    "These are the steady-state vectors for posts of origin $(i)$ on all the Newsfeeds and Walls of users. "
   ]
  },
  {
   "cell_type": "markdown",
   "metadata": {},
   "source": [
    "### Linear System solution"
   ]
  },
  {
   "cell_type": "markdown",
   "metadata": {},
   "source": [
    "To find the values of the steady-state vectors $Pvec(i)$ and Qvec(i), one needs to solve the following linear system:\n",
    "\n",
    "    (1) Pvec(i) = A.Pvec(i) + b(i)\n",
    "\n",
    "    (2) Qvec(i) = C.Pvec(i) + d(i).\n",
    "\n",
    "In the above $A$, $C$ are $N\\times N$ matrices and $b(i)$, $d(i)$ are $N\\times 1$ column vectors."
   ]
  },
  {
   "cell_type": "markdown",
   "metadata": {
    "collapsed": true
   },
   "source": [
    "$A(j,k) = \\frac{\\mu^{(k)}}{\\sum_{\\ell\\in L^{(j)}}\\lambda^{(\\ell)}+\\mu^{(\\ell)}}\\mathbf{1}(k\\in L^{(j)})$,\n",
    "\n",
    "$b(j,i) = \\frac{\\lambda^{(i)}}{\\sum_{\\ell\\in L^{(j)}}\\lambda^{(\\ell)}+\\mu^{(\\ell)}}\\mathbf{1}(i\\in L^{(j)})$,\n",
    "\n",
    "$C(j,i) = \\frac{\\mu^{(j)}}{\\lambda^{(j)}+\\mu^{(j)}}\\mathbf{1}(j==i)$,\n",
    "\n",
    "$d(j,i) = \\frac{\\lambda^{(i)}}{\\lambda^{(i)}+\\mu^{(i)}}\\mathbf{1}(j==i)$."
   ]
  },
  {
   "cell_type": "markdown",
   "metadata": {},
   "source": [
    "### Iterative method\n",
    "\n",
    "In our program here, we will make extensive use of dictionaries (hash-tables), where we store only the non-negative elements of matrices and vectors. For the solution, we apply the iterative method\n",
    "\n",
    "    (1*) Pvec(i,t+1) = A.Pvec(i,t) + b(i)\n",
    "\n",
    "and after its convergence to the solution Pvec(i) = Pvec(i,inf) we can calculate\n",
    "\n",
    "    (2*) Qvec(i) = C.Pvec(i) + d(i)\n",
    "    \n",
    "The matrix-vector multiplication is done also in a sparse way, that guarantees that only lines that contribute to the update are chosen, among the possible $N$. We do so to reduce the computational effort per iteration and avoid tedious multiplications by zero. It can be well understood that such an approach can considerably reduce implementation time for sparse matrices of large size N."
   ]
  },
  {
   "cell_type": "markdown",
   "metadata": {},
   "source": [
    "# Implementation"
   ]
  },
  {
   "cell_type": "code",
   "execution_count": 1,
   "metadata": {},
   "outputs": [
    {
     "name": "stdout",
     "output_type": "stream",
     "text": [
      "Populating the interactive namespace from numpy and matplotlib\n"
     ]
    }
   ],
   "source": [
    "%pylab inline\n",
    "import math\n",
    "import numpy as np\n",
    "import networkx as nx\n",
    "from IPython.core.debugger import Tracer"
   ]
  },
  {
   "cell_type": "markdown",
   "metadata": {},
   "source": [
    "### 1. TEST Input Graph: Grid"
   ]
  },
  {
   "cell_type": "markdown",
   "metadata": {},
   "source": [
    "First we create a small test example from a Grid graph, to verify at the end that the sparse algorithm works correctly (for small sizes of inputs). We can then apply the sparse algorithm to very large graphs from real traces."
   ]
  },
  {
   "cell_type": "code",
   "execution_count": 2,
   "metadata": {},
   "outputs": [],
   "source": [
    "#Grid size (number of nodes) test example\n",
    "NS = 9"
   ]
  },
  {
   "cell_type": "markdown",
   "metadata": {},
   "source": [
    "In the Grid graph, every node has 4 leaders, except the nodes on the 4 vertices of the Grid who have 2 leaders and the nodes on the edges who have 3.\n",
    "\n",
    "The size of the grid graph should be such that $\\sqrt{N}$ is a postive integer."
   ]
  },
  {
   "cell_type": "code",
   "execution_count": 3,
   "metadata": {},
   "outputs": [],
   "source": [
    "def grid_graph(N):\n",
    "    #\n",
    "    dim1 = math.sqrt(N)\n",
    "    #\n",
    "    # Check validity of Grid size\n",
    "    if np.abs(dim1-int(dim1))>0:\n",
    "        return print(\"not valid graph size N\\n\")\n",
    "    #\n",
    "    dim1 = int(dim1)\n",
    "    #\n",
    "    # If size is correct, then produce a list of Leaders.\n",
    "    # Nodes are indexed from top-left (\"0\") to bottom-right (\"N-1\")\n",
    "    # and in each row the indexing increased from left to right.\n",
    "    #\n",
    "    Lead = [list() for j in range(N)]\n",
    "    #\n",
    "    # Internal nodes with 4 leaders each.\n",
    "    for n in range(1,dim1-1):\n",
    "        for m in range(1,dim1-1):\n",
    "            indx = dim1*n+m\n",
    "            Lead[indx].extend([dim1*(n+1)+m, dim1*(n-1)+m, dim1*n+m+1, dim1*n+m-1 ])\n",
    "    # Four vertices with 2 leaders each.\n",
    "    Lead[0].extend([1, dim1])\n",
    "    Lead[dim1-1].extend([dim1-2,dim1*2-1])\n",
    "    Lead[dim1*(dim1-1)].extend([dim1*(dim1-1)+1,dim1*(dim1-2)])\n",
    "    Lead[N-1].extend([N-2,dim1*(dim1-1)-1])\n",
    "    # Remaining nodes on the four edges, not vertices.\n",
    "    # Top\n",
    "    for m in range(1,dim1-1):\n",
    "        Lead[m].extend([m-1,m+1,dim1+m])\n",
    "    # Bottom\n",
    "    for m in range(1,dim1-1):\n",
    "        Lead[dim1*(dim1-1)+m].extend([dim1*(dim1-1)+m-1,dim1*(dim1-1)+m+1,dim1*(dim1-2)+m])\n",
    "    # Left\n",
    "    for n in range(1,dim1-1):\n",
    "        Lead[dim1*n].extend([dim1*n+1,dim1*(n-1),dim1*(n+1)])\n",
    "    # Right\n",
    "    for n in range(1,dim1-1):\n",
    "        Lead[dim1*(n+1)-1].extend([dim1*(n+1)-2,dim1*(n)-1,dim1*(n+2)-1])\n",
    "\n",
    "    return Lead"
   ]
  },
  {
   "cell_type": "code",
   "execution_count": 4,
   "metadata": {},
   "outputs": [
    {
     "name": "stdout",
     "output_type": "stream",
     "text": [
      "[[1, 3], [0, 2, 4], [1, 5], [4, 0, 6], [7, 1, 5, 3], [4, 2, 8], [7, 3], [6, 8, 4], [7, 5]]\n"
     ]
    }
   ],
   "source": [
    "LeadGridS = grid_graph(NS)\n",
    "print(LeadGridS)"
   ]
  },
  {
   "cell_type": "code",
   "execution_count": 5,
   "metadata": {},
   "outputs": [
    {
     "data": {
      "image/png": "[encoded data removed]",
      "text/plain": [
       "<Figure size 432x288 with 1 Axes>"
      ]
     },
     "metadata": {
      "needs_background": "light"
     },
     "output_type": "display_data"
    }
   ],
   "source": [
    "Ggrid=nx.DiGraph()\n",
    "for n in range(NS):\n",
    "    ln = list()\n",
    "    ln = LeadGridS[n]\n",
    "    for j in range(len(ln)):\n",
    "        Ggrid.add_edge(ln[j],n)\n",
    "\n",
    "pos=nx.spring_layout(Ggrid,iterations=100)\n",
    "nx.draw_networkx(Ggrid,pos,arrows=True,with_labels=True,node_size=600,node_color='r')"
   ]
  },
  {
   "cell_type": "markdown",
   "metadata": {},
   "source": [
    "TEST Input parameters of the model (lambda and mu vectors) for different scenaria."
   ]
  },
  {
   "cell_type": "code",
   "execution_count": 6,
   "metadata": {},
   "outputs": [],
   "source": [
    "lam = 1.\n",
    "mu = 1\n",
    "Lvec2 = lam*np.ones(NS, np.float64)\n",
    "Mvec2 = mu*np.ones(NS, np.float64)\n",
    "lam1 = 10\n",
    "mu1 = 0.5\n",
    "Lvec3 = list(Lvec2)\n",
    "Mvec3 = list(Mvec2)\n",
    "Lvec3[0] = lam1\n",
    "Mvec3[0] = mu1\n",
    "Lvec3 = np.asarray(Lvec3)\n",
    "Mvec3 = np.asarray(Mvec3)"
   ]
  },
  {
   "cell_type": "markdown",
   "metadata": {},
   "source": [
    "Translation of the input to **Dictionaries and Dictionaries-of-Dictionaries**. We use here for the example the case \"3\" (Lvec3, Mvec3)"
   ]
  },
  {
   "cell_type": "code",
   "execution_count": 7,
   "metadata": {},
   "outputs": [
    {
     "name": "stdout",
     "output_type": "stream",
     "text": [
      "UserlistS {0: 0, 1: 1, 2: 2, 3: 3, 4: 4, 5: 5, 6: 6, 7: 7, 8: 8} \n",
      "\n",
      "LeadGraphS {0: {1, 3}, 1: {0, 2, 4}, 2: {1, 5}, 3: {0, 4, 6}, 4: {1, 3, 5, 7}, 5: {8, 2, 4}, 6: {3, 7}, 7: {8, 4, 6}, 8: {5, 7}} \n",
      "\n",
      "FollowGraphS {1: {0, 2, 4}, 3: {0, 4, 6}, 0: {1, 3}, 2: {1, 5}, 4: {1, 3, 5, 7}, 5: {8, 2, 4}, 6: {3, 7}, 7: {8, 4, 6}, 8: {5, 7}} \n",
      "\n",
      "RtweetS {0: 10.0, 1: 1.0, 2: 1.0, 3: 1.0, 4: 1.0, 5: 1.0, 6: 1.0, 7: 1.0, 8: 1.0} \n",
      "\n",
      "RrtweetS {0: 0.5, 1: 1.0, 2: 1.0, 3: 1.0, 4: 1.0, 5: 1.0, 6: 1.0, 7: 1.0, 8: 1.0} \n",
      "\n"
     ]
    }
   ],
   "source": [
    "NS = 9\n",
    "LeadGraphS = {}\n",
    "FollowGraphS = {}\n",
    "RtweetS = {}\n",
    "RrtweetS = {}\n",
    "UserlistS = {}\n",
    "for j in range(NS):\n",
    "    RtweetS[j] = Lvec3[j]\n",
    "    RrtweetS[j] = Mvec3[j]\n",
    "    LeadGraphS[j] = set(LeadGridS[j])\n",
    "    UserlistS[j] = j\n",
    "for j in LeadGraphS:\n",
    "    for i in LeadGraphS[j]:\n",
    "        if i not in FollowGraphS:\n",
    "            FollowGraphS[i] = set()\n",
    "        FollowGraphS[i].add(j)\n",
    "#\n",
    "print(\"UserlistS\",UserlistS,'\\n')\n",
    "print(\"LeadGraphS\", LeadGraphS,'\\n')\n",
    "print(\"FollowGraphS\", FollowGraphS,'\\n')\n",
    "print(\"RtweetS\", RtweetS,'\\n')\n",
    "print(\"RrtweetS\", RrtweetS,'\\n')"
   ]
  },
  {
   "cell_type": "markdown",
   "metadata": {},
   "source": [
    "## 2. Actual Input from Twitter Data Set through the Emulator"
   ]
  },
  {
   "cell_type": "markdown",
   "metadata": {},
   "source": [
    "We have used the OSPemul.ipynb to calculate the influence from a user to another one using real social network traces. As we saw in the second part of the notebook OSPemul.ipynb, we need to derive from the trace the input to feed the model solver. This input includes:\n",
    "\n",
    "    (i) The tweet rate of the users: this is a dictionary having keys the userid's and entries the estimated posting rate for each user. We use a sample mean estimate from the trace data. For each user we calculate the ratio:\n",
    "             (Number of posts of user i)/(EndTime_Trace - BeginTime_Trace)\n",
    "    \n",
    "    (ii) The re-tweet rate of the users: this is again a dictionary similar to (i)\n",
    "    \n",
    "    (iii) The leader-graph: This graph is normally unknown and we should infer it from the raw data trace. Since the data trace has the 4-entry structure (tweetid, timestamp, userid, retweetid) it does not provide information over the user from whom the post was retweeted. We can obtain information over the origin of the retweet, i.e. who wrote it. So, we propose a simple inference rule that draws the unknown leader graph, where each user directly follows every other user whose original posts appear on his wall. This is a strong assumption; it could be replaced by alternative inferred social graph models, that are more close to reality. In case the real graph is available, we can use this as the the leader-graph of the model (although it is often the case that the real graph contains many more users and edges than those appearing on the trace). In all these cases, the program structure of the leader graph is a dictionary-of-sets. The keys are all the userid's. Then the entry of each key is the set of his leaders.\n",
    "    \n",
    "In what follows we give the code to fill in (i) the \"Rtweet\" dictionary for the posting rates, (ii) the \"Rrtweet\" dictionary for the re-posting rates, and (iii) the leader-graph \"LeadGraph\". We can also fill-in the follower-graph \"FollowGraph\"."
   ]
  },
  {
   "cell_type": "markdown",
   "metadata": {},
   "source": [
    "First extract an Author Dictionary to store the origin of all tweetid's. This stores the information of the author origin of each tweetid."
   ]
  },
  {
   "cell_type": "code",
   "execution_count": 8,
   "metadata": {},
   "outputs": [
    {
     "ename": "FileNotFoundError",
     "evalue": "[Errno 2] No such file or directory: '/Users/Fishbone/Desktop/NEWSFEEDfresh/PYTHON/Emulator/tweets.parsed.sorted22n.txt'",
     "output_type": "error",
     "traceback": [
      "\u001b[1;31m---------------------------------------------------------------------------\u001b[0m",
      "\u001b[1;31mFileNotFoundError\u001b[0m                         Traceback (most recent call last)",
      "\u001b[1;32m<ipython-input-8-008187e1755d>\u001b[0m in \u001b[0;36m<module>\u001b[1;34m\u001b[0m\n\u001b[0;32m      1\u001b[0m \u001b[0mdirectory\u001b[0m \u001b[1;33m=\u001b[0m \u001b[1;34m\"/Users/Fishbone/Desktop/NEWSFEEDfresh/PYTHON/Emulator/\"\u001b[0m\u001b[1;33m\u001b[0m\u001b[1;33m\u001b[0m\u001b[0m\n\u001b[1;32m----> 2\u001b[1;33m \u001b[0mf\u001b[0m \u001b[1;33m=\u001b[0m \u001b[0mopen\u001b[0m\u001b[1;33m(\u001b[0m\u001b[0mdirectory\u001b[0m\u001b[1;33m+\u001b[0m\u001b[1;34m\"tweets.parsed.sorted22n.txt\"\u001b[0m\u001b[1;33m)\u001b[0m\u001b[1;33m\u001b[0m\u001b[1;33m\u001b[0m\u001b[0m\n\u001b[0m\u001b[0;32m      3\u001b[0m \u001b[0mAuthor\u001b[0m \u001b[1;33m=\u001b[0m \u001b[1;33m{\u001b[0m\u001b[1;33m}\u001b[0m\u001b[1;33m\u001b[0m\u001b[1;33m\u001b[0m\u001b[0m\n\u001b[0;32m      4\u001b[0m \u001b[1;32mfor\u001b[0m \u001b[0mlign\u001b[0m \u001b[1;32min\u001b[0m \u001b[0mf\u001b[0m\u001b[1;33m:\u001b[0m\u001b[1;33m\u001b[0m\u001b[1;33m\u001b[0m\u001b[0m\n\u001b[0;32m      5\u001b[0m     \u001b[0mlign\u001b[0m \u001b[1;33m=\u001b[0m \u001b[0mlign\u001b[0m\u001b[1;33m.\u001b[0m\u001b[0msplit\u001b[0m\u001b[1;33m(\u001b[0m\u001b[1;33m)\u001b[0m\u001b[1;33m\u001b[0m\u001b[1;33m\u001b[0m\u001b[0m\n",
      "\u001b[1;31mFileNotFoundError\u001b[0m: [Errno 2] No such file or directory: '/Users/Fishbone/Desktop/NEWSFEEDfresh/PYTHON/Emulator/tweets.parsed.sorted22n.txt'"
     ]
    }
   ],
   "source": [
    "directory = \"/Users/Fishbone/Desktop/NEWSFEEDfresh/PYTHON/Emulator/\"\n",
    "f = open(directory+\"tweets.parsed.sorted22n.txt\")\n",
    "Author = {}\n",
    "for lign in f:\n",
    "    lign = lign.split()\n",
    "    tweetid = int(lign[0])\n",
    "    userid = int(lign[2])\n",
    "    Author[tweetid] = userid\n",
    "f.close()"
   ]
  },
  {
   "cell_type": "code",
   "execution_count": 9,
   "metadata": {},
   "outputs": [],
   "source": [
    "Ntweet = {}\n",
    "Nrtweet = {}\n",
    "LeadGraph = {}\n",
    "FollowGraph = {}\n",
    "FirstT = None\n",
    "LastT = None\n",
    "f = open(directory+\"tweets.parsed.sorted22n.txt\")\n",
    "for lign in f:\n",
    "    lign = lign.split()\n",
    "    tstamp = int(lign[1])\n",
    "    userid = int(lign[2])\n",
    "    rtid = int(lign[3])\n",
    "    if FirstT == None:\n",
    "        FirstT = tstamp\n",
    "    if userid not in Ntweet:\n",
    "        Ntweet[userid] = 0\n",
    "        Nrtweet[userid] = 0\n",
    "        LeadGraph[userid] = set()      \n",
    "    if rtid == -1:\n",
    "        Ntweet[userid] += 1\n",
    "    else: \n",
    "        if rtid in Author:\n",
    "            LeadGraph[userid].add(Author[rtid])\n",
    "            Nrtweet[userid] += 1\n",
    "            if Author[rtid] not in FollowGraph:\n",
    "                FollowGraph[Author[rtid]] = set()\n",
    "            FollowGraph[Author[rtid]].add(userid)\n",
    "        else:\n",
    "            Ntweet[userid] += 1\n",
    "LastT = tstamp\n",
    "f.close()"
   ]
  },
  {
   "cell_type": "markdown",
   "metadata": {},
   "source": [
    "From the above we derive the posting and re-posting estimated rates (Rtweet, Rrtweet)"
   ]
  },
  {
   "cell_type": "code",
   "execution_count": 10,
   "metadata": {},
   "outputs": [],
   "source": [
    "Rtweet = {}\n",
    "Rrtweet = {}\n",
    "for user in Ntweet:\n",
    "    Rtweet[user] = Ntweet[user]/(LastT-FirstT)\n",
    "    Rrtweet[user] = Nrtweet[user]/(LastT-FirstT)"
   ]
  },
  {
   "cell_type": "code",
   "execution_count": 11,
   "metadata": {},
   "outputs": [
    {
     "data": {
      "text/plain": [
       "3416701"
      ]
     },
     "execution_count": 11,
     "metadata": {},
     "output_type": "execute_result"
    }
   ],
   "source": [
    "len([0 for u in Rtweet if Rtweet[u]==0])"
   ]
  },
  {
   "cell_type": "code",
   "execution_count": 11,
   "metadata": {},
   "outputs": [
    {
     "data": {
      "text/plain": [
       "405236"
      ]
     },
     "execution_count": 11,
     "metadata": {},
     "output_type": "execute_result"
    }
   ],
   "source": [
    "len(FollowGraph)"
   ]
  },
  {
   "cell_type": "code",
   "execution_count": 17,
   "metadata": {},
   "outputs": [
    {
     "name": "stdout",
     "output_type": "stream",
     "text": [
      "{3474}\n",
      "set()\n",
      "{2083, 2660, 327, 16559, 408, 23742}\n"
     ]
    }
   ],
   "source": [
    "print(FollowGraph[2083])\n",
    "print(LeadGraph[2083])\n",
    "print(LeadGraph[3474])"
   ]
  },
  {
   "cell_type": "markdown",
   "metadata": {},
   "source": [
    "Map user to a dictionary for Reference:"
   ]
  },
  {
   "cell_type": "code",
   "execution_count": 12,
   "metadata": {},
   "outputs": [],
   "source": [
    "Userlist = {}\n",
    "k=0\n",
    "for user in Rtweet:\n",
    "    Userlist[k] = user\n",
    "    k+=1"
   ]
  },
  {
   "cell_type": "markdown",
   "metadata": {},
   "source": [
    "Size of the Data Sample is N"
   ]
  },
  {
   "cell_type": "code",
   "execution_count": 12,
   "metadata": {},
   "outputs": [
    {
     "name": "stdout",
     "output_type": "stream",
     "text": [
      "6020228\n"
     ]
    }
   ],
   "source": [
    "N = len(Userlist)\n",
    "print(N)"
   ]
  },
  {
   "cell_type": "markdown",
   "metadata": {},
   "source": [
    "Some test calculations"
   ]
  },
  {
   "cell_type": "code",
   "execution_count": 14,
   "metadata": {},
   "outputs": [],
   "source": [
    "#print(LeadGraph[Userlist[10010]])"
   ]
  },
  {
   "cell_type": "code",
   "execution_count": 15,
   "metadata": {},
   "outputs": [],
   "source": [
    "#for k in range(10):\n",
    "#    print(Userlist[k])"
   ]
  },
  {
   "cell_type": "code",
   "execution_count": 16,
   "metadata": {},
   "outputs": [],
   "source": [
    "#print(Rtweet[790])\n",
    "#print(Rtweet[Userlist[1]])\n",
    "#print(Userlist[1])"
   ]
  },
  {
   "cell_type": "code",
   "execution_count": 17,
   "metadata": {},
   "outputs": [],
   "source": [
    "#print(Userlist[10010])\n",
    "#print(LeadGraph[Userlist[10010]])\n",
    "#print(Userlist[10010] in FollowGraph[1280])"
   ]
  },
  {
   "cell_type": "code",
   "execution_count": 18,
   "metadata": {},
   "outputs": [],
   "source": [
    "#FollowGraph[205]"
   ]
  },
  {
   "cell_type": "code",
   "execution_count": 19,
   "metadata": {},
   "outputs": [],
   "source": [
    "#FollowGraph[5234901]"
   ]
  },
  {
   "cell_type": "markdown",
   "metadata": {},
   "source": [
    "## 3. Solution with Sparse Matrices and Vectors"
   ]
  },
  {
   "cell_type": "markdown",
   "metadata": {},
   "source": [
    "From the Linear System solution, it is necessary to first populate the matrices $A$ and $C$, which are the same for any user of the system. \n",
    "\n",
    "**Note** We will keep in memory Dictionaries, with Key the userid and value the dictionary of positive matrix entries."
   ]
  },
  {
   "cell_type": "markdown",
   "metadata": {},
   "source": [
    "### Build matrix A in sparse format"
   ]
  },
  {
   "cell_type": "markdown",
   "metadata": {},
   "source": [
    "Matrix A is filled as a dictionary-of-dictionaries to contain all the non-negative entries."
   ]
  },
  {
   "cell_type": "code",
   "execution_count": 15,
   "metadata": {},
   "outputs": [],
   "source": [
    "def som_sparse(Lvec,Mvec,Lead):\n",
    "    Som = {} \n",
    "    for user in Lvec:\n",
    "        Som[user] = 0\n",
    "        for leader in Lead[user]:\n",
    "            Som[user] += np.float32(Lvec[leader]+Mvec[leader])\n",
    "        Som[user] = np.float32(Som[user])\n",
    "    return Som"
   ]
  },
  {
   "cell_type": "code",
   "execution_count": 16,
   "metadata": {},
   "outputs": [],
   "source": [
    "# Example Test: Grid\n",
    "SomS = som_sparse(RtweetS,RrtweetS,LeadGraphS) #SomS are the sums for the grid test"
   ]
  },
  {
   "cell_type": "code",
   "execution_count": 17,
   "metadata": {},
   "outputs": [
    {
     "data": {
      "text/plain": [
       "{0: 4.0, 1: 14.5, 2: 4.0, 3: 14.5, 4: 8.0, 5: 6.0, 6: 4.0, 7: 6.0, 8: 4.0}"
      ]
     },
     "execution_count": 17,
     "metadata": {},
     "output_type": "execute_result"
    }
   ],
   "source": [
    "SomS"
   ]
  },
  {
   "cell_type": "code",
   "execution_count": 24,
   "metadata": {},
   "outputs": [],
   "source": [
    "def fill_A_sparse(Lvec,Mvec,Lead,Som):\n",
    "    A = {}\n",
    "    # We consider that Lead[j] contains the set of leaders of node j.\n",
    "    #\n",
    "    for user in Lvec:\n",
    "        A[user] = {}\n",
    "        for leader in Lead[user]:\n",
    "            A[user][leader] = np.float32(Mvec[leader]/Som[user])\n",
    "    return A"
   ]
  },
  {
   "cell_type": "code",
   "execution_count": 25,
   "metadata": {},
   "outputs": [],
   "source": [
    "# Example Test: Grid\n",
    "AS = fill_A_sparse(RtweetS,RrtweetS,LeadGraphS,SomS) #AS is the A matrix for the grid test"
   ]
  },
  {
   "cell_type": "code",
   "execution_count": 26,
   "metadata": {},
   "outputs": [
    {
     "data": {
      "text/plain": [
       "{0: {1: 0.25, 3: 0.25},\n",
       " 1: {0: 0.03448276, 2: 0.06896552, 4: 0.06896552},\n",
       " 2: {1: 0.25, 5: 0.25},\n",
       " 3: {0: 0.03448276, 4: 0.06896552, 6: 0.06896552},\n",
       " 4: {1: 0.125, 3: 0.125, 5: 0.125, 7: 0.125},\n",
       " 5: {8: 0.16666667, 2: 0.16666667, 4: 0.16666667},\n",
       " 6: {3: 0.25, 7: 0.25},\n",
       " 7: {8: 0.16666667, 4: 0.16666667, 6: 0.16666667},\n",
       " 8: {5: 0.25, 7: 0.25}}"
      ]
     },
     "execution_count": 26,
     "metadata": {},
     "output_type": "execute_result"
    }
   ],
   "source": [
    "AS"
   ]
  },
  {
   "cell_type": "code",
   "execution_count": 30,
   "metadata": {},
   "outputs": [],
   "source": [
    "def fill_A_trans_sparse(Lvec,Mvec,Lead,Som):\n",
    "    A_trans = {}\n",
    "    # This is the A transpose that we will use also later.\n",
    "    # A_trans is a dictionary. The keys are the columns of matrix form A. \n",
    "    # Each key shows the non-zero elements of A for this column.\n",
    "    # We consider that Lead[j] contains the set of leaders of node j.\n",
    "    #\n",
    "    for user in Lvec:\n",
    "        A_trans[user] = {}\n",
    "    for user in Lvec:\n",
    "        for leader in Lead[user]:\n",
    "            A_trans[leader][user] = np.float32(Mvec[leader]/Som[user])\n",
    "    return A_trans"
   ]
  },
  {
   "cell_type": "code",
   "execution_count": 31,
   "metadata": {},
   "outputs": [],
   "source": [
    "# Example Test: Grid\n",
    "A_transS = fill_A_trans_sparse(RtweetS,RrtweetS,LeadGraphS,SomS) #A_transS is the A transpose for the grid test"
   ]
  },
  {
   "cell_type": "code",
   "execution_count": 32,
   "metadata": {},
   "outputs": [
    {
     "data": {
      "text/plain": [
       "{0: {1: 0.03448276, 3: 0.03448276},\n",
       " 1: {0: 0.25, 2: 0.25, 4: 0.125},\n",
       " 2: {1: 0.06896552, 5: 0.16666667},\n",
       " 3: {0: 0.25, 4: 0.125, 6: 0.25},\n",
       " 4: {1: 0.06896552, 3: 0.06896552, 5: 0.16666667, 7: 0.16666667},\n",
       " 5: {2: 0.25, 4: 0.125, 8: 0.25},\n",
       " 6: {3: 0.06896552, 7: 0.16666667},\n",
       " 7: {4: 0.125, 6: 0.25, 8: 0.25},\n",
       " 8: {5: 0.16666667, 7: 0.16666667}}"
      ]
     },
     "execution_count": 32,
     "metadata": {},
     "output_type": "execute_result"
    }
   ],
   "source": [
    "A_transS"
   ]
  },
  {
   "cell_type": "markdown",
   "metadata": {},
   "source": [
    "### Build matrix C in sparse format"
   ]
  },
  {
   "cell_type": "markdown",
   "metadata": {},
   "source": [
    "The C matrix is diagonal, hence the non-negative entries can be saved in a simple dictionary."
   ]
  },
  {
   "cell_type": "code",
   "execution_count": 36,
   "metadata": {},
   "outputs": [],
   "source": [
    "def fill_C_sparse(Lvec,Mvec):\n",
    "    C = {}\n",
    "    for user in Lvec:\n",
    "        C[user] = 0\n",
    "        if Lvec[user]+Mvec[user]>0:\n",
    "            C[user] = np.float32(Mvec[user]/(Lvec[user]+Mvec[user]))\n",
    "    return C"
   ]
  },
  {
   "cell_type": "code",
   "execution_count": 37,
   "metadata": {},
   "outputs": [],
   "source": [
    "# Example Test: Grid\n",
    "CS = fill_C_sparse(RtweetS,RrtweetS)\n",
    "#print(CS)"
   ]
  },
  {
   "cell_type": "code",
   "execution_count": 38,
   "metadata": {},
   "outputs": [
    {
     "data": {
      "text/plain": [
       "{0: 0.04761905, 1: 0.5, 2: 0.5, 3: 0.5, 4: 0.5, 5: 0.5, 6: 0.5, 7: 0.5, 8: 0.5}"
      ]
     },
     "execution_count": 38,
     "metadata": {},
     "output_type": "execute_result"
    }
   ],
   "source": [
    "CS"
   ]
  },
  {
   "cell_type": "markdown",
   "metadata": {},
   "source": [
    "### Build vectors b and d in sparse format"
   ]
  },
  {
   "cell_type": "markdown",
   "metadata": {},
   "source": [
    "We continue by including the column vectors $b_i$ and $d_i$, for a specific label $i$."
   ]
  },
  {
   "cell_type": "code",
   "execution_count": 42,
   "metadata": {},
   "outputs": [],
   "source": [
    "def fill_bi_sparse_v2(useri,Lvec,Som,Follow):\n",
    "    b = {}\n",
    "    if useri not in Follow:\n",
    "        b[useri] = 0\n",
    "        return b\n",
    "    for user in Follow[useri]:\n",
    "        b[user] = np.float32(Lvec[useri]/Som[user])\n",
    "    return b"
   ]
  },
  {
   "cell_type": "code",
   "execution_count": 43,
   "metadata": {},
   "outputs": [],
   "source": [
    "# Example Test: Grid\n",
    "biS_v2 = fill_bi_sparse_v2(UserlistS[0],RtweetS,SomS,FollowGraphS) #biS_v2 is the bi entries of grid (v2 refers to the accelerated method)\n",
    "#print(biS_v2)"
   ]
  },
  {
   "cell_type": "code",
   "execution_count": 44,
   "metadata": {},
   "outputs": [
    {
     "data": {
      "text/plain": [
       "{1: 0.6896552, 3: 0.6896552}"
      ]
     },
     "execution_count": 44,
     "metadata": {},
     "output_type": "execute_result"
    }
   ],
   "source": [
    "biS_v2"
   ]
  },
  {
   "cell_type": "markdown",
   "metadata": {},
   "source": [
    "d has a single non-zero entry per user"
   ]
  },
  {
   "cell_type": "code",
   "execution_count": 45,
   "metadata": {},
   "outputs": [],
   "source": [
    "def fill_di_sparse_v2(useri,Lvec,Mvec):\n",
    "    d = np.float32(Lvec[useri]/(Lvec[useri]+Mvec[useri]))\n",
    "    return d"
   ]
  },
  {
   "cell_type": "code",
   "execution_count": 46,
   "metadata": {},
   "outputs": [],
   "source": [
    "# Example Test: Grid\n",
    "diS_v2 = fill_di_sparse_v2(UserlistS[0],RtweetS,RrtweetS) #diS_v2 is the di entries of grid (v2 refers to the accelerated method)\n",
    "#print(UserlistS[0], diS_v2)"
   ]
  },
  {
   "cell_type": "code",
   "execution_count": 47,
   "metadata": {},
   "outputs": [
    {
     "data": {
      "text/plain": [
       "0.95238096"
      ]
     },
     "execution_count": 47,
     "metadata": {},
     "output_type": "execute_result"
    }
   ],
   "source": [
    "diS_v2"
   ]
  },
  {
   "cell_type": "markdown",
   "metadata": {},
   "source": [
    "## Solution"
   ]
  },
  {
   "cell_type": "markdown",
   "metadata": {},
   "source": [
    "After defining all matrices $A$, $C$ and vectors $b_i$, $d_i$ per label $i$ we can write down the main routine to find the fixed point."
   ]
  },
  {
   "cell_type": "markdown",
   "metadata": {
    "collapsed": true
   },
   "source": [
    "As mentioned at the beginning, the method is based on the fixed-point iteration:\n",
    "\n",
    "    P(i,t+1) = A.P(i,t) + b(i), \n",
    "which converges to P(i) when $t\\rightarrow\\infty$. Once the limit value is found, the Wall steady-state can be calculated\n",
    "\n",
    "    Q(i,t+1) = C.P(i,t) + d(i).\n",
    "\n",
    "In our code, we first solve the fixed-point for a specific label $i$."
   ]
  },
  {
   "cell_type": "markdown",
   "metadata": {},
   "source": [
    "**Implementation Note:** We have decided to consider a sparse realisation. We choose for each user the initialisation P(i,0) = b(i), which is sparse and has a few positive entries. We identify in the matrix A, those lines who have at least one positive entry on the columns that coincide with the non-zero elements of b(i). We further add as extra lines those that have positive entry in b(i) (due to addition) and have not been considered. In this way we reduce the number of lines and columns to be dealt with per iteration. The new vector p(i,1) will probably have more positive entries than the previous one. "
   ]
  },
  {
   "cell_type": "markdown",
   "metadata": {},
   "source": [
    "Hence the Sparse method v2 improves on the speed due to extra sparsity on bi_sparse_v2, and on the column/line multiplication.\n",
    "\n",
    "$it = 1000$ is an upper limit on the number of allowed iterations, \n",
    "\n",
    "$eps = 0.001$ is the threshold criterion for convergence of the algorithm, based on the 1-norm or the $\\infty$-norm."
   ]
  },
  {
   "cell_type": "code",
   "execution_count": 62,
   "metadata": {},
   "outputs": [],
   "source": [
    "def pi_method_sparse_v2(N,useri,A,A_trans,Lvec,Lead,Follow,Som,it = 1000, eps = .001):\n",
    "    # v2: This method resolves the fixed-point exploiting vector sparsity.\n",
    "    #\n",
    "    bi = fill_bi_sparse_v2(useri,Lvec,Som,Follow)\n",
    "    #\n",
    "    # Initialisation (the result should be independent of initialisation vector)\n",
    "    #\n",
    "    p_new = bi\n",
    "    p_old = {}\n",
    "    #\n",
    "    normdiff = np.float32(2*eps)\n",
    "    #\n",
    "    t = int(0)\n",
    "    while (t<it) & (normdiff>eps):\n",
    "        normdiff = np.float32(0)\n",
    "        p_old = p_new.copy()\n",
    "        p_new = {}\n",
    "        # We search the lines of A which contain non-zero entries coinciding with the non-zero\n",
    "        # entries of p_old.\n",
    "        mlines = set()\n",
    "        for key in p_old:\n",
    "            for tutu in A_trans[key]:\n",
    "                mlines.add(tutu)\n",
    "            #mlines = mlines.union(set(A_trans[key].keys()))\n",
    "        #print(\"p_old\",p_old)\n",
    "        for tutu in bi:\n",
    "            mlines.add(tutu)\n",
    "        #mlines = mlines.union(set(bi.keys()))\n",
    "        #print(\"mlines\",mlines)\n",
    "        for user in mlines:\n",
    "            p_new[user] = np.float32(0)\n",
    "            for leader in Lead[user]:\n",
    "                if leader in p_old:\n",
    "                    p_new[user] += np.float32(A[user][leader]*p_old[leader])\n",
    "            if user in bi.keys():\n",
    "                p_new[user]+=np.float32(bi[user])\n",
    "            # Norm 1 criterion:\n",
    "            #normdiff += abs(p_old[user]-p_new[user])\n",
    "            # Norm INF criterion:\n",
    "            if user in p_old.keys():\n",
    "                if abs(p_old[user]-p_new[user])>normdiff:\n",
    "                    normdiff = np.float32(abs(p_old[user]-p_new[user]))\n",
    "            else:\n",
    "                if abs(0-p_new[user])>normdiff:\n",
    "                    normdiff = np.float32(abs(0-p_new[user]))\n",
    "        t += 1\n",
    "        #Tracer()()\n",
    "        #print(\"p_new\",p_new)\n",
    "    #\n",
    "    # print(\"t=\",t,\"\\n\")\n",
    "    # print(\"diff_last=\",normdiff,\"\\n\")\n",
    "    return p_new"
   ]
  },
  {
   "cell_type": "code",
   "execution_count": 61,
   "metadata": {},
   "outputs": [
    {
     "name": "stdout",
     "output_type": "stream",
     "text": [
      "{0: 0.3648923, 1: 0.72990036, 2: 0.20055446, 3: 0.72990036, 4: 0.20055446, 5: 0.07288759, 6: 0.20055446, 7: 0.07288759, 8: 0.036216617}\n"
     ]
    }
   ],
   "source": [
    "# Example Test: Grid\n",
    "pi_end_v2 = pi_method_sparse_v2(NS,UserlistS[0],AS,A_transS,RtweetS,LeadGraphS,FollowGraphS,SomS)\n",
    "print(pi_end_v2)"
   ]
  },
  {
   "cell_type": "code",
   "execution_count": 23,
   "metadata": {},
   "outputs": [],
   "source": [
    "#sum2 = 0\n",
    "#for user in RtweetS:\n",
    "#    sum2 += pi_end_v2[user]\n",
    "#print(sum2)"
   ]
  },
  {
   "cell_type": "markdown",
   "metadata": {},
   "source": [
    "The following function is the general iteration to derive the solution on the Walls, Newsfeeds and the metric of Influence $\\Psi$, for all users i=1...N .  It calls the above defined function \"pi_method_sparse_v2\"."
   ]
  },
  {
   "cell_type": "code",
   "execution_count": 66,
   "metadata": {},
   "outputs": [],
   "source": [
    "def solution_sparse_v2(N,A,A_trans,C,Lvec,Mvec,Lead,Follow,Som,it = 1000, eps = .001):\n",
    "    # The fixed point solution is slow because the fixed point needs to be \n",
    "    # calculated for each label i separately.\n",
    "    #\n",
    "    # Newsfeed & Wall\n",
    "    pNews = {}\n",
    "    qWall = {}\n",
    "    # Influence metric\n",
    "    Psi = {}\n",
    "    for user in Lvec:\n",
    "        pNews[user] = pi_method_sparse_v2(N,user,A,A_trans,Lvec,Lead,Follow,Som)\n",
    "        #\n",
    "        di = fill_di_sparse_v2(user,Lvec,Mvec)\n",
    "        qWall[user]={}\n",
    "        Psi[user] = np.float32(0)\n",
    "        for userj in pNews[user]:\n",
    "            qWall[user][userj] = np.float32(C[userj]*pNews[user][userj])\n",
    "            if userj==user:\n",
    "                qWall[user][userj]+=np.float32(di)\n",
    "            Psi[user] += np.float32(qWall[user][userj])\n",
    "        if user not in pNews[user]:\n",
    "            qWall[user][user] = np.float32(di)\n",
    "            Psi[user] += np.float32(qWall[user][user])\n",
    "        Psi[user] = np.float32((Psi[user]-qWall[user][user])/(N-1))\n",
    "        #if command can be used to break the routine at l==1000 or some other number.\n",
    "        #if l == 3000:\n",
    "        #    return (pNews,qWall,Psi)\n",
    "    #\n",
    "    return (pNews,qWall,Psi)"
   ]
  },
  {
   "cell_type": "code",
   "execution_count": 67,
   "metadata": {},
   "outputs": [
    {
     "name": "stdout",
     "output_type": "stream",
     "text": [
      "{0: 0.140216, 1: 0.038288847, 2: 0.02386517, 3: 0.03828884, 4: 0.051726982, 5: 0.05580637, 6: 0.02386517, 7: 0.05580637, 8: 0.035672158}\n"
     ]
    }
   ],
   "source": [
    "# Example Test: Grid\n",
    "(pNewsS_v2,qWallS_v2,PsiS_v2) = solution_sparse_v2(NS,AS,A_transS,CS,RtweetS,RrtweetS,LeadGraphS,FollowGraphS,SomS)\n",
    "print(PsiS_v2)"
   ]
  },
  {
   "cell_type": "code",
   "execution_count": 25,
   "metadata": {},
   "outputs": [
    {
     "name": "stdout",
     "output_type": "stream",
     "text": [
      "0\n",
      "1\n",
      "2\n",
      "3\n",
      "4\n",
      "5\n",
      "6\n",
      "7\n",
      "8\n",
      "{0: 0.14021599118999678, 1: 0.03828884479121787, 2: 0.02386516541096459, 3: 0.03828884479121786, 4: 0.051726973298073284, 5: 0.05580636381842355, 6: 0.023865165410964603, 7: 0.05580636381842355, 8: 0.03567216021243494}\n"
     ]
    }
   ],
   "source": [
    "# Example Test: Grid\n",
    "(pNewsS_v2,qWallS_v2,PsiS_v2) = solution_sparse_v2(NS,AS,A_transS,CS,RtweetS,RrtweetS,LeadGraphS,FollowGraphS,SomS)\n",
    "print(PsiS_v2)"
   ]
  },
  {
   "cell_type": "markdown",
   "metadata": {},
   "source": [
    "## 4. Evaluation for Twitter input dataset with Millions of users "
   ]
  },
  {
   "cell_type": "markdown",
   "metadata": {},
   "source": [
    "The number of considered users in the dataset"
   ]
  },
  {
   "cell_type": "code",
   "execution_count": 27,
   "metadata": {},
   "outputs": [
    {
     "name": "stdout",
     "output_type": "stream",
     "text": [
      "6020228\n"
     ]
    }
   ],
   "source": [
    "print(N)"
   ]
  },
  {
   "cell_type": "markdown",
   "metadata": {},
   "source": [
    "Calculation of the general input: dictionary Som and the three dictionaries A, A-trans, C for the matrices."
   ]
  },
  {
   "cell_type": "code",
   "execution_count": 28,
   "metadata": {},
   "outputs": [],
   "source": [
    "Som = som_sparse(Rtweet,Rrtweet,LeadGraph)\n",
    "A = fill_A_sparse(Rtweet,Rrtweet,LeadGraph,Som)\n",
    "A_trans = fill_A_trans_sparse(Rtweet,Rrtweet,LeadGraph,Som)\n",
    "C = fill_C_sparse(Rtweet,Rrtweet)"
   ]
  },
  {
   "cell_type": "code",
   "execution_count": 37,
   "metadata": {},
   "outputs": [],
   "source": [
    "# Example: Newsfeed probabilities for posts of origin $i=1303$\n",
    "pi_end_v2 = pi_method_sparse_v2(N,Userlist[1303],A,A_trans,Rtweet,LeadGraph,FollowGraph,Som,it=10,eps=0.001)"
   ]
  },
  {
   "cell_type": "code",
   "execution_count": null,
   "metadata": {},
   "outputs": [],
   "source": [
    "print(len(pi_end_v2))\n",
    "print(pi_end_v2)"
   ]
  },
  {
   "cell_type": "markdown",
   "metadata": {},
   "source": [
    "### Influence calculation for 1 CHOSEN user"
   ]
  },
  {
   "cell_type": "markdown",
   "metadata": {},
   "source": [
    "We include here this routine to derive the influence of 1 chosen user. It is not needed for the general solution, but can output a fast result for some user of interest. It calculates the influence of a specific user on the Wall Q(user) of all others as well as its Influence metric $\\Psi(user)$."
   ]
  },
  {
   "cell_type": "code",
   "execution_count": 25,
   "metadata": {},
   "outputs": [],
   "source": [
    "def user_influence_v2(user,N,A,A_trans,C,Lvec,Mvec,Lead,Follow,Som,it = 100, eps = .001):\n",
    "    #\n",
    "    pNews = pi_method_sparse_v2(N,user,A,A_trans,Lvec,Lead,Follow,Som,it,eps)\n",
    "    #\n",
    "    di = fill_di_sparse_v2(user,Lvec,Mvec)\n",
    "    qWall={}\n",
    "    PsiU =0\n",
    "    for userj in pNews:\n",
    "        qWall[userj] = C[userj]*pNews[userj]\n",
    "        if userj==user:\n",
    "            qWall[userj]+=di\n",
    "        PsiU += qWall[userj]\n",
    "    if user not in pNews:\n",
    "        qWall[user] = di\n",
    "        PsiU += qWall[user]\n",
    "    PsiU = (PsiU-qWall[user])/(N-1)\n",
    "\n",
    "    return (qWall,PsiU)"
   ]
  },
  {
   "cell_type": "markdown",
   "metadata": {},
   "source": [
    "### RESULT: Main command line for running the solution process for ALL users (can apply parallelization)"
   ]
  },
  {
   "cell_type": "code",
   "execution_count": null,
   "metadata": {},
   "outputs": [],
   "source": [
    "(pNews_v2,qWall_v2,Psi_v2) = solution_sparse_v2(N,A,A_trans,C,Rtweet,Rrtweet,LeadGraph,FollowGraph,Som)"
   ]
  },
  {
   "cell_type": "markdown",
   "metadata": {},
   "source": [
    "Sort the user influences $\\Psi(user)$ in decreasing order, so that the first user in the list is the most influencial."
   ]
  },
  {
   "cell_type": "code",
   "execution_count": null,
   "metadata": {},
   "outputs": [],
   "source": [
    "Psi_sort = -np.sort(-Psi_v2)"
   ]
  },
  {
   "cell_type": "code",
   "execution_count": null,
   "metadata": {},
   "outputs": [],
   "source": [
    "sort_index = np.argsort(-Psi_v2)"
   ]
  },
  {
   "cell_type": "code",
   "execution_count": null,
   "metadata": {},
   "outputs": [],
   "source": [
    "sort_user = {}\n",
    "kk = 0\n",
    "for ind in sort_index:\n",
    "    sort_user[ind] = Psi_sort[kk]\n",
    "    kk+=1"
   ]
  },
  {
   "cell_type": "markdown",
   "metadata": {},
   "source": [
    "Print the results to output files."
   ]
  },
  {
   "cell_type": "code",
   "execution_count": null,
   "metadata": {},
   "outputs": [],
   "source": [
    "import gzip\n",
    "f = open('Psi_Sorted_M_short','w')\n",
    "for u in sort_user:\n",
    "    f.write(\"%d %g\\n\"%(u, Psi_sort[u]))\n",
    "f.close()"
   ]
  }
 ],
 "metadata": {
  "kernelspec": {
   "display_name": "Python 3",
   "language": "python",
   "name": "python3"
  },
  "language_info": {
   "codemirror_mode": {
    "name": "ipython",
    "version": 3
   },
   "file_extension": ".py",
   "mimetype": "text/x-python",
   "name": "python",
   "nbconvert_exporter": "python",
   "pygments_lexer": "ipython3",
   "version": "3.7.2"
  }
 },
 "nbformat": 4,
 "nbformat_minor": 2
}
