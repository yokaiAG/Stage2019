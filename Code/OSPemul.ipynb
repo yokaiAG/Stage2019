{
 "cells": [
  {
   "cell_type": "markdown",
   "metadata": {},
   "source": [
    "# <center> Social Platform Emulator </center>"
   ]
  },
  {
   "cell_type": "code",
   "execution_count": 1,
   "metadata": {},
   "outputs": [],
   "source": [
    "import sys\n",
    "import util\n",
    "import random\n",
    "import numpy as np\n",
    "from time import time\n",
    "from operator import itemgetter"
   ]
  },
  {
   "cell_type": "code",
   "execution_count": 2,
   "metadata": {},
   "outputs": [],
   "source": [
    "dataset = 'russian_rtid'\n",
    "\n",
    "data_path, RTU, truegraph = util.load_data(dataset)\n",
    "out_path = \"../PsiResults/{}/Psi_emul.txt\".format(dataset)"
   ]
  },
  {
   "cell_type": "markdown",
   "metadata": {},
   "source": [
    "Wall is finite for all users. We apply FIFO replacement principle. The Newsfeed is not needed, because we have no information on the policy of the OSP or the user policy to choose among many. We know: 1) which post is tweeted-retweeted and the time-stamp, and the tweet origin.\n",
    "\n",
    "For each user we create a Wall list of max size $K$."
   ]
  },
  {
   "cell_type": "code",
   "execution_count": 3,
   "metadata": {},
   "outputs": [],
   "source": [
    "K = 1 # Wall, Newsfeed list size\n",
    "Wall = dict() # les walls"
   ]
  },
  {
   "cell_type": "markdown",
   "metadata": {},
   "source": [
    "If we have RTids and not RTusers we create the `Author` dict."
   ]
  },
  {
   "cell_type": "code",
   "execution_count": 4,
   "metadata": {},
   "outputs": [
    {
     "name": "stdout",
     "output_type": "stream",
     "text": [
      "Length Author dict :  1943830\n",
      "74400 in Author :  False\n"
     ]
    }
   ],
   "source": [
    "if not RTU:\n",
    "    \n",
    "    # create author dict\n",
    "    Author = dict()\n",
    "    for lign in open(data_path):\n",
    "        lign = lign.split()\n",
    "        tweetid, userid = int(lign[0]), int(lign[2])\n",
    "        Author[tweetid] = userid\n",
    "        \n",
    "    # check length and other stuff\n",
    "    print(\"Length Author dict : \", len(Author))\n",
    "    print(\"74400 in Author : \", 74400 in Author)"
   ]
  },
  {
   "cell_type": "markdown",
   "metadata": {},
   "source": [
    "We introduce a disctionary `Q`, which contains many dictionries, each related to a userid. $Q[userid][auth-out]$ saves the time periods that a post from $[auth-out]$ stays on the Wall of $[userid]$."
   ]
  },
  {
   "cell_type": "code",
   "execution_count": 5,
   "metadata": {},
   "outputs": [],
   "source": [
    "Q = dict()\n",
    "FirstP = dict()"
   ]
  },
  {
   "cell_type": "markdown",
   "metadata": {},
   "source": [
    "**Note:** Are we happy with Q as matrix? or list of lists? or txt? or dictionary? **A: Dictionary of Dictionaries**"
   ]
  },
  {
   "cell_type": "markdown",
   "metadata": {},
   "source": [
    "**Important! In the case of RTids :**\n",
    "\n",
    "if the tweet is original then the person who posted is the author.\n",
    "    else it is a retweet. If the original post was observed and saved in \"Authors\",\n",
    "   we know the author.\n",
    "   else the retweet has origin outside the dataset. In this case we assume that\n",
    "   the first retweeter is the original author."
   ]
  },
  {
   "cell_type": "code",
   "execution_count": 6,
   "metadata": {},
   "outputs": [
    {
     "name": "stdout",
     "output_type": "stream",
     "text": [
      "line 1940000... elapsed time 13.106338262557983\n",
      "Nb ties :  483316\n"
     ]
    }
   ],
   "source": [
    "Amphitrions = dict() # for each user, gathers the users present on his wall in case of a tie\n",
    "Time0 = None # time of the first event\n",
    "timestamp_old = 0 # for time tracking\n",
    "count_ties = 0 # used in case of multiple posts on the same wall at the same time\n",
    " \n",
    "\n",
    "# iterate\n",
    "start = time()\n",
    "for i,lign in enumerate(open(data_path)):\n",
    "    \n",
    "    # print state\n",
    "    if i%10000==0:\n",
    "        sys.stdout.flush()\n",
    "        sys.stdout.write(\"line {}... elapsed time {}\\r\".format(i, time()-start))\n",
    "\n",
    "    # split\n",
    "    lign = lign.split()\n",
    "    if RTU:\n",
    "        tweetid, tstamp, userid, rtu = int(lign[0]), int(lign[1]), int(lign[2]), int(lign[3])\n",
    "    else:\n",
    "        tweetid, tstamp, userid, rtid = int(lign[0]), int(lign[1]), int(lign[2]), int(lign[3])  \n",
    "    \n",
    "    # time tracking\n",
    "    if Time0 == None:\n",
    "        Time0 = tstamp\n",
    "    if tstamp == timestamp_old:\n",
    "        count_ties+=1\n",
    "    timestamp_old = tstamp\n",
    "    \n",
    "    # add userid to Amphitrions\n",
    "    if userid not in Amphitrions:\n",
    "        Amphitrions[userid] = dict()\n",
    "\n",
    "    # rtu treatment\n",
    "    if RTU:\n",
    "        if rtu == -1:\n",
    "            auth = userid\n",
    "        else:\n",
    "            auth = rtu\n",
    "    \n",
    "    # else rtid treatment\n",
    "    else:\n",
    "        if rtid == -1:\n",
    "            auth = userid\n",
    "        elif rtid in Author:\n",
    "            auth = Author[rtid] # it is the tweet origin ID\n",
    "        else:\n",
    "            auth = userid\n",
    "        \n",
    "    # add userid to Wall and Q dicts\n",
    "    if userid not in Wall:\n",
    "        Wall[userid] = []\n",
    "        Q[userid] = dict()\n",
    "        \n",
    "    # is it the user's first post ? if so update FirstP dict\n",
    "    if len(Wall[userid])==0:\n",
    "        FirstP[userid] = tstamp\n",
    "    \n",
    "    # add new post to userid's wall\n",
    "    Wall[userid].append((tweetid,tstamp,auth))\n",
    "    \n",
    "    # if there is already a post on the wall\n",
    "    if len(Wall[userid]) > K:\n",
    "        \n",
    "        # update auth_out and time_wall\n",
    "        auth_out = Wall[userid][0][2]\n",
    "        time_wall = tstamp-Wall[userid][0][1]\n",
    "\n",
    "        # add auth_out to Q[userid]\n",
    "        if auth_out not in Q[userid]:\n",
    "            Q[userid][auth_out] = 0\n",
    "\n",
    "        # update AmphiAmphitrions[userid] with auth_out\n",
    "        if auth_out not in Amphitrions[userid]:\n",
    "            Amphitrions[userid][auth_out] = 0 \n",
    "        Amphitrions[userid][auth_out] += 1\n",
    "          \n",
    "        # if no tie (or end of a tie)\n",
    "        if time_wall != 0:\n",
    "            Ndt = 0 # reinit number of ties\n",
    "            for author in Amphitrions[userid]: # count ties\n",
    "                Ndt += Amphitrions[userid][author]\n",
    "            for author in Amphitrions[userid]: # update Q[userid]\n",
    "                Q[userid][author] += time_wall / Ndt * Amphitrions[userid][author]\n",
    "            Amphitrions[userid] = dict() # reinit Amphitrions[userid]\n",
    "            \n",
    "        # keep the most recent post on wall (<=> random eviction because K=1)\n",
    "        Wall[userid] = Wall[userid][1:]\n",
    "        assert( len(Wall[userid]) == K )\n",
    "\n",
    "        \n",
    "print(\"\\nNb ties : \", count_ties)"
   ]
  },
  {
   "cell_type": "markdown",
   "metadata": {},
   "source": [
    "**Note1:** EndPoint of simulation is the time of last arrival."
   ]
  },
  {
   "cell_type": "code",
   "execution_count": 7,
   "metadata": {},
   "outputs": [
    {
     "name": "stdout",
     "output_type": "stream",
     "text": [
      "Init time :  1516647594\n",
      "EndPoint of simulation :  1521541710\n",
      "Length Author dict :  1943830\n"
     ]
    }
   ],
   "source": [
    "print(\"Init time : \", Time0)\n",
    "EndP = tstamp\n",
    "print(\"EndPoint of simulation : \", EndP)\n",
    "\n",
    "if not RTU:\n",
    "    print(\"Length Author dict : \", len(Author))"
   ]
  },
  {
   "cell_type": "markdown",
   "metadata": {},
   "source": [
    "**Note2:** Post-processing: Treat extra users with Wall not empty at the end of the simulation. In this case, we consider that the post on their wall was also there when the simulation started and until the first post of the concerned user."
   ]
  },
  {
   "cell_type": "code",
   "execution_count": 8,
   "metadata": {},
   "outputs": [],
   "source": [
    "# iterate over all walls\n",
    "for u in Wall:\n",
    "    \n",
    "    # if wall not empty\n",
    "    if len(Wall[u]) > 0:\n",
    "        \n",
    "        # get auth_out and time on wall\n",
    "        auth_out = Wall[u][0][2]\n",
    "        time_wall = EndP-Wall[u][0][1]\n",
    "        \n",
    "        # update Q[u] with auth_out\n",
    "        if u not in Q:\n",
    "            Q[u] = dict()\n",
    "        if auth_out not in Q[u]:\n",
    "            Q[u][auth_out] = 0\n",
    "\n",
    "        # update Amphitrions[u]\n",
    "        if auth_out not in Amphitrions[u]:\n",
    "            Amphitrions[u][auth_out] = 0 \n",
    "        Amphitrions[u][auth_out] += 1\n",
    "        \n",
    "        # if no tie (or end of a tie)\n",
    "        if time_wall != 0:\n",
    "            Ndt = 0 # reinit nb ties\n",
    "            for author in Amphitrions[u]: # count ties\n",
    "                Ndt += Amphitrions[u][author]\n",
    "            for author in Amphitrions[u]: # update Q[u] with AmphitAmphitrions\n",
    "                Q[u][author] += ( time_wall + FirstP[u] - Time0 ) / Ndt * Amphitrions[u][author]\n",
    "            Amphitrions[u] = dict() # reinit Amphitrions[u]"
   ]
  },
  {
   "cell_type": "code",
   "execution_count": 9,
   "metadata": {},
   "outputs": [
    {
     "name": "stdout",
     "output_type": "stream",
     "text": [
      "Q of user 232263967 : {232263967: 4894116.0}\n"
     ]
    }
   ],
   "source": [
    "user = random.choice(list(Q.keys()))\n",
    "print(\"Q of user {} : {}\".format(user, Q[user]))"
   ]
  },
  {
   "cell_type": "markdown",
   "metadata": {},
   "source": [
    "**Estimated Qs**\n",
    "We now compoute the end values for `Q` by dividing each one with the total duration of the simulation."
   ]
  },
  {
   "cell_type": "code",
   "execution_count": 11,
   "metadata": {},
   "outputs": [
    {
     "name": "stdout",
     "output_type": "stream",
     "text": [
      "1\n"
     ]
    }
   ],
   "source": [
    "EstQ = dict()\n",
    "nb0 = 0\n",
    "\n",
    "for u in Q:\n",
    "    \n",
    "    # we don't consider users that made their first post at the last timestamp\n",
    "    if EndP - FirstP[u] == 0:\n",
    "        nb0 += 1\n",
    "        assert len(Q[u]) == 1\n",
    "    \n",
    "    # otherwise we compute the final value of Q for the user u\n",
    "    else:\n",
    "        EstQ[u] = { j: Q[u][j]/(EndP - Time0) for j in Q[u] }\n",
    "\n",
    "print(nb0)"
   ]
  },
  {
   "cell_type": "markdown",
   "metadata": {},
   "source": [
    "Print length of `EstQ`."
   ]
  },
  {
   "cell_type": "code",
   "execution_count": 12,
   "metadata": {},
   "outputs": [
    {
     "name": "stdout",
     "output_type": "stream",
     "text": [
      "Length of EstQ dict :  181620\n"
     ]
    }
   ],
   "source": [
    "N = len(EstQ)\n",
    "print(\"Length of EstQ dict : \", N)"
   ]
  },
  {
   "cell_type": "code",
   "execution_count": 13,
   "metadata": {},
   "outputs": [
    {
     "name": "stdout",
     "output_type": "stream",
     "text": [
      "EstQ of user 232263967 : {232263967: 1.0}\n"
     ]
    }
   ],
   "source": [
    "print(\"EstQ of user {} : {}\".format(user, EstQ[user]))"
   ]
  },
  {
   "cell_type": "markdown",
   "metadata": {},
   "source": [
    "**EstQ[user][leader]:** is the proportion of time that posts of \"leader\" is on 1-st position of \"user\" Wall. Hence:\n",
    "$\\sum_{leaders}EstQ[user][leader] = 1$."
   ]
  },
  {
   "cell_type": "markdown",
   "metadata": {},
   "source": [
    "Calculate Influence of user on his followers."
   ]
  },
  {
   "cell_type": "code",
   "execution_count": 14,
   "metadata": {},
   "outputs": [],
   "source": [
    "Influence = dict()\n",
    "\n",
    "for follower in EstQ:\n",
    "    for leader in EstQ[follower]:\n",
    "        \n",
    "        if leader not in Influence:\n",
    "            Influence[leader] = dict()\n",
    "            \n",
    "        Influence[leader][follower] = EstQ[follower][leader]"
   ]
  },
  {
   "cell_type": "code",
   "execution_count": 15,
   "metadata": {},
   "outputs": [
    {
     "name": "stdout",
     "output_type": "stream",
     "text": [
      "Influence of user 232263967 : {232263967: 1.0}\n"
     ]
    }
   ],
   "source": [
    "leader = random.choice(list(EstQ[user].keys()))\n",
    "print(\"Influence of user {} : {}\".format(leader, Influence[leader]))"
   ]
  },
  {
   "cell_type": "markdown",
   "metadata": {},
   "source": [
    "Compute final values for $\\psi$."
   ]
  },
  {
   "cell_type": "code",
   "execution_count": 16,
   "metadata": {},
   "outputs": [],
   "source": [
    "Psi = dict()\n",
    "for user in Influence:\n",
    "    Psi[user] = 0\n",
    "    for follower in Influence[user]:\n",
    "        if follower != user:\n",
    "            Psi[user]+=Influence[user][follower]\n",
    "    Psi[user] = Psi[user]/(N-1)"
   ]
  },
  {
   "cell_type": "code",
   "execution_count": 17,
   "metadata": {},
   "outputs": [
    {
     "name": "stdout",
     "output_type": "stream",
     "text": [
      "Psi of user 232263967 : 0.0\n"
     ]
    }
   ],
   "source": [
    "print(\"Psi of user {} : {}\".format(leader, Psi[leader]))"
   ]
  },
  {
   "cell_type": "markdown",
   "metadata": {},
   "source": [
    "**Export sorted list of $\\psi$.**"
   ]
  },
  {
   "cell_type": "code",
   "execution_count": 18,
   "metadata": {},
   "outputs": [],
   "source": [
    "Psi = sorted(Psi.items(), key=itemgetter(1), reverse=True)"
   ]
  },
  {
   "cell_type": "code",
   "execution_count": 19,
   "metadata": {},
   "outputs": [],
   "source": [
    "with open(out_path, 'w') as f:\n",
    "    for p in Psi:\n",
    "        f.write(\"%d %g\\n\"%(p[0], p[1]))"
   ]
  },
  {
   "cell_type": "code",
   "execution_count": 20,
   "metadata": {},
   "outputs": [
    {
     "name": "stdout",
     "output_type": "stream",
     "text": [
      "[(1941133310, 0.0), (1488330696, 0.0), (879435860856512512, 0.0), (776157855959449600, 0.0), (1594584043, 0.0)]\n"
     ]
    }
   ],
   "source": [
    "print(Psi[-5:])"
   ]
  },
  {
   "cell_type": "code",
   "execution_count": null,
   "metadata": {},
   "outputs": [],
   "source": []
  }
 ],
 "metadata": {
  "kernelspec": {
   "display_name": "Python 3",
   "language": "python",
   "name": "python3"
  },
  "language_info": {
   "codemirror_mode": {
    "name": "ipython",
    "version": 3
   },
   "file_extension": ".py",
   "mimetype": "text/x-python",
   "name": "python",
   "nbconvert_exporter": "python",
   "pygments_lexer": "ipython3",
   "version": "3.7.2"
  }
 },
 "nbformat": 4,
 "nbformat_minor": 2
}
