{
 "cells": [
  {
   "cell_type": "markdown",
   "metadata": {},
   "source": [
    "# <center>Creating dictionaries with infos on each user, for each dataset </center>"
   ]
  },
  {
   "cell_type": "code",
   "execution_count": 2,
   "metadata": {},
   "outputs": [],
   "source": [
    "import os\n",
    "import util\n",
    "import networkx as nx\n",
    "from time import time\n",
    "from networkx.algorithms.centrality import closeness_centrality, betweenness_centrality, katz_centrality"
   ]
  },
  {
   "cell_type": "markdown",
   "metadata": {},
   "source": [
    "Choose dataset."
   ]
  },
  {
   "cell_type": "code",
   "execution_count": 22,
   "metadata": {},
   "outputs": [],
   "source": [
    "dataset = 'test_rtid'\n",
    "cascade = False\n",
    "\n",
    "data_path, RTU, truegraph = util.load_data(dataset)\n",
    "if RTU : \n",
    "    cascade = False # en cas d'erreur d'inattention\n",
    "    \n",
    "out_path = \"../PsiResults/{}/\".format(dataset)\n",
    "if cascade:\n",
    "    out_path = out_path[:-1] + \"_cascade/\" "
   ]
  },
  {
   "cell_type": "markdown",
   "metadata": {},
   "source": [
    "Author dict creation."
   ]
  },
  {
   "cell_type": "code",
   "execution_count": 23,
   "metadata": {},
   "outputs": [],
   "source": [
    "Author = util.get_authors(data_path)"
   ]
  },
  {
   "cell_type": "markdown",
   "metadata": {},
   "source": [
    "## 1. Get $\\lambda, \\mu, \\nu$\n",
    "**Important :** if we don't know the author of some RTid, the reposting user is assumed to be the author. In this case we increase his/her $\\mu$."
   ]
  },
  {
   "cell_type": "code",
   "execution_count": 24,
   "metadata": {},
   "outputs": [],
   "source": [
    "Lambda, Mu, Nu, total_time = util.get_activity(data_path, RTU, cascade, divide_by_time=True, retweeted=True, Author=Author)"
   ]
  },
  {
   "cell_type": "markdown",
   "metadata": {},
   "source": [
    "Create the main dictionary `MainDict` and add $\\lambda, \\mu, \\nu$ to it."
   ]
  },
  {
   "cell_type": "code",
   "execution_count": 25,
   "metadata": {},
   "outputs": [],
   "source": [
    "MainDict = dict()\n",
    "for u in Lambda:\n",
    "    MainDict[u] = {'lambda':Lambda[u], 'mu':Mu[u], 'nu':Nu[u]}"
   ]
  },
  {
   "cell_type": "markdown",
   "metadata": {},
   "source": [
    "Delete `Lambda`, `Mu` and `Nu` to save memory (they're not useful anymore)."
   ]
  },
  {
   "cell_type": "code",
   "execution_count": 26,
   "metadata": {},
   "outputs": [],
   "source": [
    "del Lambda, Mu, Nu"
   ]
  },
  {
   "cell_type": "markdown",
   "metadata": {},
   "source": [
    "## 2. Create user graph"
   ]
  },
  {
   "cell_type": "code",
   "execution_count": 27,
   "metadata": {},
   "outputs": [],
   "source": [
    "G = util.get_nx_graph(data_path, RTU, cascade, truegraph, Author)"
   ]
  },
  {
   "cell_type": "markdown",
   "metadata": {},
   "source": [
    "Add to `MainDict`:\n",
    "- in and out degrees\n",
    "- closeness, betweenness and Katz centrality"
   ]
  },
  {
   "cell_type": "code",
   "execution_count": 34,
   "metadata": {},
   "outputs": [],
   "source": [
    "betweenness = betweenness_centrality(G)\n",
    "katz = katz_centrality(G)\n",
    "\n",
    "for u in G.nodes:\n",
    "    MainDict[u]['in_degree'] = G.in_degree[u]\n",
    "    MainDict[u]['out_degree'] = G.out_degree[u]\n",
    "    MainDict[u]['closeness_centrality'] = closeness_centrality(G, u)\n",
    "    MainDict[u]['betweenness_centrality'] = betweenness[u]\n",
    "    MainDict[u]['katz_centrality'] = katz[u]"
   ]
  },
  {
   "cell_type": "code",
   "execution_count": 35,
   "metadata": {},
   "outputs": [
    {
     "data": {
      "text/plain": [
       "{3: {'lambda': 0.125,\n",
       "  'mu': 0.0,\n",
       "  'nu': 0.375,\n",
       "  'in_degree': 0,\n",
       "  'out_degree': 3,\n",
       "  'closeness_centrality': 0.0,\n",
       "  'betweenness_centrality': 0.0,\n",
       "  'katz_centrality': 0.4130961923860138},\n",
       " 0: {'lambda': 0.0,\n",
       "  'mu': 0.125,\n",
       "  'nu': 0.0,\n",
       "  'in_degree': 1,\n",
       "  'out_degree': 0,\n",
       "  'closeness_centrality': 0.25,\n",
       "  'betweenness_centrality': 0.0,\n",
       "  'katz_centrality': 0.45440581162461524},\n",
       " 1: {'lambda': 0.0,\n",
       "  'mu': 0.375,\n",
       "  'nu': 0.0,\n",
       "  'in_degree': 2,\n",
       "  'out_degree': 0,\n",
       "  'closeness_centrality': 0.5,\n",
       "  'betweenness_centrality': 0.0,\n",
       "  'katz_centrality': 0.49571543086321657},\n",
       " 5: {'lambda': 0.125,\n",
       "  'mu': 0.0,\n",
       "  'nu': 0.125,\n",
       "  'in_degree': 0,\n",
       "  'out_degree': 1,\n",
       "  'closeness_centrality': 0.0,\n",
       "  'betweenness_centrality': 0.0,\n",
       "  'katz_centrality': 0.4130961923860138},\n",
       " 4: {'lambda': 0.0, 'mu': 0.125, 'nu': 0.0},\n",
       " 2: {'lambda': 0.0,\n",
       "  'mu': 0.25,\n",
       "  'nu': 0.0,\n",
       "  'in_degree': 1,\n",
       "  'out_degree': 0,\n",
       "  'closeness_centrality': 0.25,\n",
       "  'betweenness_centrality': 0.0,\n",
       "  'katz_centrality': 0.45440581162461524}}"
      ]
     },
     "execution_count": 35,
     "metadata": {},
     "output_type": "execute_result"
    }
   ],
   "source": [
    "MainDict"
   ]
  },
  {
   "cell_type": "code",
   "execution_count": 32,
   "metadata": {},
   "outputs": [
    {
     "data": {
      "text/plain": [
       "NodeView((3, 0, 1, 5, 2))"
      ]
     },
     "execution_count": 32,
     "metadata": {},
     "output_type": "execute_result"
    }
   ],
   "source": [
    "G.nodes"
   ]
  },
  {
   "cell_type": "code",
   "execution_count": 33,
   "metadata": {},
   "outputs": [
    {
     "data": {
      "text/plain": [
       "{3: {'lambda': 0.125,\n",
       "  'mu': 0.0,\n",
       "  'nu': 0.375,\n",
       "  'in_degree': 0,\n",
       "  'out_degree': 3,\n",
       "  'closeness_centrality': 0.0,\n",
       "  'betweenness_centrality': 0.0,\n",
       "  'katz_centrality': 0.4130961923860138},\n",
       " 0: {'lambda': 0.0,\n",
       "  'mu': 0.125,\n",
       "  'nu': 0.0,\n",
       "  'in_degree': 1,\n",
       "  'out_degree': 0,\n",
       "  'closeness_centrality': 0.25,\n",
       "  'betweenness_centrality': 0.0,\n",
       "  'katz_centrality': 0.45440581162461524},\n",
       " 1: {'lambda': 0.0,\n",
       "  'mu': 0.375,\n",
       "  'nu': 0.0,\n",
       "  'in_degree': 2,\n",
       "  'out_degree': 0,\n",
       "  'closeness_centrality': 0.5,\n",
       "  'betweenness_centrality': 0.0,\n",
       "  'katz_centrality': 0.49571543086321657},\n",
       " 5: {'lambda': 0.125,\n",
       "  'mu': 0.0,\n",
       "  'nu': 0.125,\n",
       "  'in_degree': 0,\n",
       "  'out_degree': 1,\n",
       "  'closeness_centrality': 0.0,\n",
       "  'betweenness_centrality': 0.0,\n",
       "  'katz_centrality': 0.4130961923860138},\n",
       " 4: {'lambda': 0.0, 'mu': 0.125, 'nu': 0.0},\n",
       " 2: {'lambda': 0.0, 'mu': 0.25, 'nu': 0.0}}"
      ]
     },
     "execution_count": 33,
     "metadata": {},
     "output_type": "execute_result"
    }
   ],
   "source": [
    "MainDict"
   ]
  }
 ],
 "metadata": {
  "kernelspec": {
   "display_name": "Python 3",
   "language": "python",
   "name": "python3"
  },
  "language_info": {
   "codemirror_mode": {
    "name": "ipython",
    "version": 3
   },
   "file_extension": ".py",
   "mimetype": "text/x-python",
   "name": "python",
   "nbconvert_exporter": "python",
   "pygments_lexer": "ipython3",
   "version": "3.7.2"
  }
 },
 "nbformat": 4,
 "nbformat_minor": 2
}
