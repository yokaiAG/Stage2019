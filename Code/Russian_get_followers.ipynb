{
 "cells": [
  {
   "cell_type": "markdown",
   "metadata": {},
   "source": [
    "# <center> Get user graph for `Russian`"
   ]
  },
  {
   "cell_type": "code",
   "execution_count": 17,
   "metadata": {},
   "outputs": [],
   "source": [
    "import sys\n",
    "import util\n",
    "import json\n",
    "import time\n",
    "from twython import Twython"
   ]
  },
  {
   "cell_type": "markdown",
   "metadata": {},
   "source": [
    "### Twitter API credentials"
   ]
  },
  {
   "cell_type": "code",
   "execution_count": 18,
   "metadata": {},
   "outputs": [],
   "source": [
    "APP_KEY = \"AV4KujYNS1y6HdmQ4zXxHw2Tx\"\n",
    "APP_SECRET = \"xd2FuFaS5zE1ON407C3U5X0kdEtRJIjH9OMDmgyMmxQCZMFlli\"\n",
    "OAUTH_TOKEN = \"1058011325316636672-HkpzhyiOHdJkuwi3FD9QrkMFbuHuVt\"\n",
    "OAUTH_TOKEN_SECRET = \"iiD75H9ERtkATnd74pVRBfM7TI189BSmDasYzN2uUO123\""
   ]
  },
  {
   "cell_type": "markdown",
   "metadata": {},
   "source": [
    "### Retrieve user graph"
   ]
  },
  {
   "cell_type": "markdown",
   "metadata": {},
   "source": [
    "Function to get set of followers from user id."
   ]
  },
  {
   "cell_type": "code",
   "execution_count": 31,
   "metadata": {},
   "outputs": [],
   "source": [
    "def get_followers(uid):\n",
    "    \n",
    "    # init\n",
    "    twitter = Twython(APP_KEY, APP_SECRET, OAUTH_TOKEN, OAUTH_TOKEN_SECRET)\n",
    "    followers_set = set()\n",
    "    cursor = -1\n",
    "    \n",
    "    # while there are followers left for this user\n",
    "    while cursor != 0:\n",
    "        retry = True\n",
    "        \n",
    "        # if we haven't this page of followers yet\n",
    "        while retry:\n",
    "            try:\n",
    "                result = twitter.get_followers_ids(id=uid, cursor=cursor)\n",
    "                followers_set = followers_set.union(result['ids'])\n",
    "                cursor = result['next_cursor']\n",
    "                retry = False\n",
    "                \n",
    "            # twitter api rate limit exceeded --> sleep then reconnect and retry\n",
    "            except:\n",
    "                reset_time = float(twitter.get_lastfunction_header('x-rate-limit-reset'))\n",
    "                del twitter\n",
    "                while time.time() <= reset_time:\n",
    "                    time_left = reset_time - time.time()\n",
    "                    sys.stdout.flush()\n",
    "                    sys.stdout.write(\"Sleeping... {:.0f}min {:.0f}sec left\\r\".format(time_left//60, time_left%60))\n",
    "                    time.sleep(1)\n",
    "                twitter = Twython(APP_KEY, APP_SECRET, OAUTH_TOKEN, OAUTH_TOKEN_SECRET)\n",
    "                retry = True\n",
    "                \n",
    "    # return set of followers\n",
    "    return followers_set"
   ]
  },
  {
   "cell_type": "markdown",
   "metadata": {},
   "source": [
    "Get user set."
   ]
  },
  {
   "cell_type": "code",
   "execution_count": 20,
   "metadata": {},
   "outputs": [],
   "source": [
    "users = set(util.get_authors(\"../Datasets/russian_rtid.txt\").keys())"
   ]
  },
  {
   "cell_type": "markdown",
   "metadata": {},
   "source": [
    "Get the followgraph of users present in the trace."
   ]
  },
  {
   "cell_type": "code",
   "execution_count": 32,
   "metadata": {
    "scrolled": true
   },
   "outputs": [
    {
     "name": "stdout",
     "output_type": "stream",
     "text": [
      "Sleeping... 13min 29sec left\r"
     ]
    },
    {
     "ename": "KeyboardInterrupt",
     "evalue": "",
     "output_type": "error",
     "traceback": [
      "\u001b[1;31m---------------------------------------------------------------------------\u001b[0m",
      "\u001b[1;31mTwythonError\u001b[0m                              Traceback (most recent call last)",
      "\u001b[1;32m<ipython-input-31-4943fb538c4f>\u001b[0m in \u001b[0;36mget_followers\u001b[1;34m(uid)\u001b[0m\n\u001b[0;32m     14\u001b[0m             \u001b[1;32mtry\u001b[0m\u001b[1;33m:\u001b[0m\u001b[1;33m\u001b[0m\u001b[1;33m\u001b[0m\u001b[0m\n\u001b[1;32m---> 15\u001b[1;33m                 \u001b[0mresult\u001b[0m \u001b[1;33m=\u001b[0m \u001b[0mtwitter\u001b[0m\u001b[1;33m.\u001b[0m\u001b[0mget_followers_ids\u001b[0m\u001b[1;33m(\u001b[0m\u001b[0mid\u001b[0m\u001b[1;33m=\u001b[0m\u001b[0muid\u001b[0m\u001b[1;33m,\u001b[0m \u001b[0mcursor\u001b[0m\u001b[1;33m=\u001b[0m\u001b[0mcursor\u001b[0m\u001b[1;33m)\u001b[0m\u001b[1;33m\u001b[0m\u001b[1;33m\u001b[0m\u001b[0m\n\u001b[0m\u001b[0;32m     16\u001b[0m                 \u001b[0mfollowers_set\u001b[0m \u001b[1;33m=\u001b[0m \u001b[0mfollowers_set\u001b[0m\u001b[1;33m.\u001b[0m\u001b[0munion\u001b[0m\u001b[1;33m(\u001b[0m\u001b[0mresult\u001b[0m\u001b[1;33m[\u001b[0m\u001b[1;34m'ids'\u001b[0m\u001b[1;33m]\u001b[0m\u001b[1;33m)\u001b[0m\u001b[1;33m\u001b[0m\u001b[1;33m\u001b[0m\u001b[0m\n",
      "\u001b[1;32mD:\\Anaconda\\lib\\site-packages\\twython\\endpoints.py\u001b[0m in \u001b[0;36mget_followers_ids\u001b[1;34m(self, **params)\u001b[0m\n\u001b[0;32m    377\u001b[0m         \"\"\"\n\u001b[1;32m--> 378\u001b[1;33m         \u001b[1;32mreturn\u001b[0m \u001b[0mself\u001b[0m\u001b[1;33m.\u001b[0m\u001b[0mget\u001b[0m\u001b[1;33m(\u001b[0m\u001b[1;34m'followers/ids'\u001b[0m\u001b[1;33m,\u001b[0m \u001b[0mparams\u001b[0m\u001b[1;33m=\u001b[0m\u001b[0mparams\u001b[0m\u001b[1;33m)\u001b[0m\u001b[1;33m\u001b[0m\u001b[1;33m\u001b[0m\u001b[0m\n\u001b[0m\u001b[0;32m    379\u001b[0m     \u001b[0mget_followers_ids\u001b[0m\u001b[1;33m.\u001b[0m\u001b[0miter_mode\u001b[0m \u001b[1;33m=\u001b[0m \u001b[1;34m'cursor'\u001b[0m\u001b[1;33m\u001b[0m\u001b[1;33m\u001b[0m\u001b[0m\n",
      "\u001b[1;32mD:\\Anaconda\\lib\\site-packages\\twython\\api.py\u001b[0m in \u001b[0;36mget\u001b[1;34m(self, endpoint, params, version)\u001b[0m\n\u001b[0;32m    269\u001b[0m         \u001b[1;34m\"\"\"Shortcut for GET requests via :class:`request`\"\"\"\u001b[0m\u001b[1;33m\u001b[0m\u001b[1;33m\u001b[0m\u001b[0m\n\u001b[1;32m--> 270\u001b[1;33m         \u001b[1;32mreturn\u001b[0m \u001b[0mself\u001b[0m\u001b[1;33m.\u001b[0m\u001b[0mrequest\u001b[0m\u001b[1;33m(\u001b[0m\u001b[0mendpoint\u001b[0m\u001b[1;33m,\u001b[0m \u001b[0mparams\u001b[0m\u001b[1;33m=\u001b[0m\u001b[0mparams\u001b[0m\u001b[1;33m,\u001b[0m \u001b[0mversion\u001b[0m\u001b[1;33m=\u001b[0m\u001b[0mversion\u001b[0m\u001b[1;33m)\u001b[0m\u001b[1;33m\u001b[0m\u001b[1;33m\u001b[0m\u001b[0m\n\u001b[0m\u001b[0;32m    271\u001b[0m \u001b[1;33m\u001b[0m\u001b[0m\n",
      "\u001b[1;32mD:\\Anaconda\\lib\\site-packages\\twython\\api.py\u001b[0m in \u001b[0;36mrequest\u001b[1;34m(self, endpoint, method, params, version)\u001b[0m\n\u001b[0;32m    263\u001b[0m         content = self._request(url, method=method, params=params,\n\u001b[1;32m--> 264\u001b[1;33m                                 api_call=url)\n\u001b[0m\u001b[0;32m    265\u001b[0m \u001b[1;33m\u001b[0m\u001b[0m\n",
      "\u001b[1;32mD:\\Anaconda\\lib\\site-packages\\twython\\api.py\u001b[0m in \u001b[0;36m_request\u001b[1;34m(self, url, method, params, api_call)\u001b[0m\n\u001b[0;32m    198\u001b[0m                 \u001b[0merror_code\u001b[0m\u001b[1;33m=\u001b[0m\u001b[0mresponse\u001b[0m\u001b[1;33m.\u001b[0m\u001b[0mstatus_code\u001b[0m\u001b[1;33m,\u001b[0m\u001b[1;33m\u001b[0m\u001b[1;33m\u001b[0m\u001b[0m\n\u001b[1;32m--> 199\u001b[1;33m                 retry_after=response.headers.get('X-Rate-Limit-Reset'))\n\u001b[0m\u001b[0;32m    200\u001b[0m         \u001b[0mcontent\u001b[0m \u001b[1;33m=\u001b[0m \u001b[1;34m''\u001b[0m\u001b[1;33m\u001b[0m\u001b[1;33m\u001b[0m\u001b[0m\n",
      "\u001b[1;31mTwythonError\u001b[0m: Twitter API returned a 404 (Not Found), Sorry, that page does not exist.",
      "\nDuring handling of the above exception, another exception occurred:\n",
      "\u001b[1;31mKeyboardInterrupt\u001b[0m                         Traceback (most recent call last)",
      "\u001b[1;32m<ipython-input-32-6c4337a46ab9>\u001b[0m in \u001b[0;36m<module>\u001b[1;34m\u001b[0m\n\u001b[0;32m      2\u001b[0m \u001b[1;33m\u001b[0m\u001b[0m\n\u001b[0;32m      3\u001b[0m \u001b[1;32mfor\u001b[0m \u001b[0mu\u001b[0m \u001b[1;32min\u001b[0m \u001b[0musers\u001b[0m\u001b[1;33m:\u001b[0m\u001b[1;33m\u001b[0m\u001b[1;33m\u001b[0m\u001b[0m\n\u001b[1;32m----> 4\u001b[1;33m     \u001b[0mFollowGraph\u001b[0m\u001b[1;33m[\u001b[0m\u001b[0mu\u001b[0m\u001b[1;33m]\u001b[0m \u001b[1;33m=\u001b[0m \u001b[0mget_followers\u001b[0m\u001b[1;33m(\u001b[0m\u001b[0mu\u001b[0m\u001b[1;33m)\u001b[0m\u001b[1;33m.\u001b[0m\u001b[0mintersection\u001b[0m\u001b[1;33m(\u001b[0m\u001b[0musers\u001b[0m\u001b[1;33m)\u001b[0m\u001b[1;33m\u001b[0m\u001b[1;33m\u001b[0m\u001b[0m\n\u001b[0m",
      "\u001b[1;32m<ipython-input-31-4943fb538c4f>\u001b[0m in \u001b[0;36mget_followers\u001b[1;34m(uid)\u001b[0m\n\u001b[0;32m     26\u001b[0m                     \u001b[0msys\u001b[0m\u001b[1;33m.\u001b[0m\u001b[0mstdout\u001b[0m\u001b[1;33m.\u001b[0m\u001b[0mflush\u001b[0m\u001b[1;33m(\u001b[0m\u001b[1;33m)\u001b[0m\u001b[1;33m\u001b[0m\u001b[1;33m\u001b[0m\u001b[0m\n\u001b[0;32m     27\u001b[0m                     \u001b[0msys\u001b[0m\u001b[1;33m.\u001b[0m\u001b[0mstdout\u001b[0m\u001b[1;33m.\u001b[0m\u001b[0mwrite\u001b[0m\u001b[1;33m(\u001b[0m\u001b[1;34m\"Sleeping... {:.0f}min {:.0f}sec left\\r\"\u001b[0m\u001b[1;33m.\u001b[0m\u001b[0mformat\u001b[0m\u001b[1;33m(\u001b[0m\u001b[0mtime_left\u001b[0m\u001b[1;33m//\u001b[0m\u001b[1;36m60\u001b[0m\u001b[1;33m,\u001b[0m \u001b[0mtime_left\u001b[0m\u001b[1;33m%\u001b[0m\u001b[1;36m60\u001b[0m\u001b[1;33m)\u001b[0m\u001b[1;33m)\u001b[0m\u001b[1;33m\u001b[0m\u001b[1;33m\u001b[0m\u001b[0m\n\u001b[1;32m---> 28\u001b[1;33m                     \u001b[0mtime\u001b[0m\u001b[1;33m.\u001b[0m\u001b[0msleep\u001b[0m\u001b[1;33m(\u001b[0m\u001b[1;36m1\u001b[0m\u001b[1;33m)\u001b[0m\u001b[1;33m\u001b[0m\u001b[1;33m\u001b[0m\u001b[0m\n\u001b[0m\u001b[0;32m     29\u001b[0m                 \u001b[0mtwitter\u001b[0m \u001b[1;33m=\u001b[0m \u001b[0mTwython\u001b[0m\u001b[1;33m(\u001b[0m\u001b[0mAPP_KEY\u001b[0m\u001b[1;33m,\u001b[0m \u001b[0mAPP_SECRET\u001b[0m\u001b[1;33m,\u001b[0m \u001b[0mOAUTH_TOKEN\u001b[0m\u001b[1;33m,\u001b[0m \u001b[0mOAUTH_TOKEN_SECRET\u001b[0m\u001b[1;33m)\u001b[0m\u001b[1;33m\u001b[0m\u001b[1;33m\u001b[0m\u001b[0m\n\u001b[0;32m     30\u001b[0m                 \u001b[0mretry\u001b[0m \u001b[1;33m=\u001b[0m \u001b[1;32mTrue\u001b[0m\u001b[1;33m\u001b[0m\u001b[1;33m\u001b[0m\u001b[0m\n",
      "\u001b[1;31mKeyboardInterrupt\u001b[0m: "
     ]
    }
   ],
   "source": [
    "FollowGraph = dict()\n",
    "\n",
    "for u in users:\n",
    "    FollowGraph[u] = get_followers(u).intersection(users)"
   ]
  },
  {
   "cell_type": "code",
   "execution_count": 25,
   "metadata": {},
   "outputs": [
    {
     "data": {
      "text/plain": [
       "1560266008.0"
      ]
     },
     "execution_count": 25,
     "metadata": {},
     "output_type": "execute_result"
    }
   ],
   "source": [
    "twitter = Twython(APP_KEY, APP_SECRET, OAUTH_TOKEN, OAUTH_TOKEN_SECRET)\n",
    "twitter.get_followers_ids(screen_name=\"villedelyon\")\n",
    "float(twitter.get_lastfunction_header('x-rate-limit-reset'))"
   ]
  },
  {
   "cell_type": "code",
   "execution_count": 27,
   "metadata": {},
   "outputs": [
    {
     "data": {
      "text/plain": [
       "13.0"
      ]
     },
     "execution_count": 27,
     "metadata": {},
     "output_type": "execute_result"
    }
   ],
   "source": [
    "(1560266008.0 - time.time())//60"
   ]
  },
  {
   "cell_type": "markdown",
   "metadata": {},
   "source": [
    "### Write adj list to out"
   ]
  },
  {
   "cell_type": "code",
   "execution_count": null,
   "metadata": {},
   "outputs": [],
   "source": [
    "out = open(\"../Datasets/russian_adjList.txt\", \"w\")\n",
    "\n",
    "for u in FollowGraph:\n",
    "    for v in FollowGraph[u]:\n",
    "        out.write(\"{} {}\\n\".format(u,v))\n",
    "        \n",
    "out.close()       "
   ]
  },
  {
   "cell_type": "code",
   "execution_count": null,
   "metadata": {},
   "outputs": [],
   "source": []
  },
  {
   "cell_type": "markdown",
   "metadata": {},
   "source": [
    "## Old"
   ]
  },
  {
   "cell_type": "code",
   "execution_count": null,
   "metadata": {},
   "outputs": [],
   "source": [
    "FollowGraph = dict()\n",
    "\n",
    "for line in open(\"../Datasets/russian_rtid.txt\"):\n",
    "    line = line.split()\n",
    "    uid, rtid = int(line[2]), int(line[3])\n",
    "    \n",
    "    # get followgraph for uid\n",
    "    if uid not in FollowGraph:\n",
    "        FollowGraph[uid] = get_followers(uid).intersection(users)\n",
    "    \n",
    "    # get followgraph for rtid\n",
    "    if rtid != -1 and rtid in Author:\n",
    "        rtu = Author[rtid]\n",
    "        if rtu not in FollowGraph:\n",
    "            FollowGraph[rtu] = get_followers(uid).intersection(users)"
   ]
  }
 ],
 "metadata": {
  "kernelspec": {
   "display_name": "Python 3",
   "language": "python",
   "name": "python3"
  },
  "language_info": {
   "codemirror_mode": {
    "name": "ipython",
    "version": 3
   },
   "file_extension": ".py",
   "mimetype": "text/x-python",
   "name": "python",
   "nbconvert_exporter": "python",
   "pygments_lexer": "ipython3",
   "version": "3.7.2"
  }
 },
 "nbformat": 4,
 "nbformat_minor": 2
}
