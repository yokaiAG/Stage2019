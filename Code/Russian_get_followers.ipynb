{
 "cells": [
  {
   "cell_type": "markdown",
   "metadata": {},
   "source": [
    "# <center> Get user graph for `Russian`"
   ]
  },
  {
   "cell_type": "code",
   "execution_count": 38,
   "metadata": {},
   "outputs": [],
   "source": [
    "import sys\n",
    "import util\n",
    "import json\n",
    "import time\n",
    "from twython import Twython"
   ]
  },
  {
   "cell_type": "markdown",
   "metadata": {},
   "source": [
    "### Twitter API credentials"
   ]
  },
  {
   "cell_type": "code",
   "execution_count": 39,
   "metadata": {},
   "outputs": [],
   "source": [
    "APP_KEY = \"AV4KujYNS1y6HdmQ4zXxHw2Tx\"\n",
    "APP_SECRET = \"xd2FuFaS5zE1ON407C3U5X0kdEtRJIjH9OMDmgyMmxQCZMFlli\"\n",
    "OAUTH_TOKEN = \"1058011325316636672-HkpzhyiOHdJkuwi3FD9QrkMFbuHuVt\"\n",
    "OAUTH_TOKEN_SECRET = \"iiD75H9ERtkATnd74pVRBfM7TI189BSmDasYzN2uUO123\""
   ]
  },
  {
   "cell_type": "markdown",
   "metadata": {},
   "source": [
    "### Retrieve user graph"
   ]
  },
  {
   "cell_type": "markdown",
   "metadata": {},
   "source": [
    "Get user set."
   ]
  },
  {
   "cell_type": "code",
   "execution_count": 3,
   "metadata": {},
   "outputs": [],
   "source": [
    "users = list()\n",
    "for line in open(\"../Datasets/russian_election2018_rtu.txt\"):\n",
    "    line = line.split()\n",
    "    users.append(int(line[2]))\n",
    "    users.append(int(line[3]))\n",
    "# users = util.get_authors(\"../Datasets/russian_rtid.txt\")"
   ]
  },
  {
   "cell_type": "markdown",
   "metadata": {},
   "source": [
    "Get the followgraph of users present in the trace."
   ]
  },
  {
   "cell_type": "code",
   "execution_count": null,
   "metadata": {
    "scrolled": true
   },
   "outputs": [
    {
     "name": "stdout",
     "output_type": "stream",
     "text": [
      "User 13 / 3890730... Rate limit reached... 890.9513697624207 seconds to wait.\r"
     ]
    }
   ],
   "source": [
    "# init\n",
    "twitter = Twython(APP_KEY, APP_SECRET, OAUTH_TOKEN, OAUTH_TOKEN_SECRET)\n",
    "FollowGraph = dict()\n",
    "outfile = \"../Datasets/russian_adjList.txt\"\n",
    "\n",
    "for i,u in enumerate(users):\n",
    "    \n",
    "    # reinit cursor\n",
    "    cursor = -1\n",
    "\n",
    "    # while there are followers left for this user\n",
    "    while cursor != 0:\n",
    "        sys.stdout.write(\"User {} / {}...\\r\".format(i, len(users)))\n",
    "\n",
    "        try:\n",
    "            # get followers\n",
    "            result = twitter.get_followers_ids(id=u, cursor=cursor)\n",
    "            ids = result['ids']\n",
    "            cursor = result['next_cursor']\n",
    "\n",
    "            # write to out\n",
    "            with open(outfile, 'a') as out:\n",
    "                for v in ids:\n",
    "                    out.write(\"{} {}\\n\".format(u,v))\n",
    "\n",
    "            # wait if API rate limit has been reached\n",
    "            calls_remaining = int(twitter.get_lastfunction_header('x-rate-limit-remaining'))\n",
    "            if calls_remaining == 0:\n",
    "                time_to_wait = 15*60\n",
    "                start = time.time()\n",
    "                elapsed_time = 0\n",
    "                while elapsed_time < time_to_wait:\n",
    "                    sys.stdout.flush()\n",
    "                    sys.stdout.write(\"User {} / {}... Rate limit reached... {} seconds to wait.\\r\".format(i, len(users), time_to_wait - elapsed_time))\n",
    "                    time.sleep(1)\n",
    "                    elapsed_time = time.time() - start\n",
    "                    \n",
    "        except:\n",
    "            cursor += 1\n",
    "            continue\n",
    "            \n",
    "                    \n",
    "#         except:\n",
    "#             cursor += 1\n",
    "#             continue\n",
    "                    \n",
    "                \n",
    "#             # twitter api rate limit exceeded --> sleep then reconnect and retry\n",
    "#             except:\n",
    "#                 waiting_time = float(twitter.get_lastfunction_header('x-rate-limit-reset'))\n",
    "# #                 del twitter\n",
    "#                 start = time.time()\n",
    "#                 elapsed_time = time.time() - start\n",
    "#                 while elapsed_time <= waiting_time:\n",
    "#                     sys.stdout.flush()\n",
    "#                     sys.stdout.write(\"Elapsed time : {} on {} total time to wait.\\n\".format(elapsed_time, waiting_time))\n",
    "# #                     sys.stdout.write(\"Sleeping... {:.0f}min {:.0f}sec left\\r\".format(time_left//60, time_left%60))\n",
    "#                     time.sleep(1)\n",
    "#                     elapsed_time = time.time() - start\n",
    "# #                 twitter = Twython(APP_KEY, APP_SECRET, OAUTH_TOKEN, OAUTH_TOKEN_SECRET)\n",
    "#                 retry = True"
   ]
  },
  {
   "cell_type": "code",
   "execution_count": 11,
   "metadata": {},
   "outputs": [
    {
     "data": {
      "text/plain": [
       "1563219410"
      ]
     },
     "execution_count": 11,
     "metadata": {},
     "output_type": "execute_result"
    }
   ],
   "source": [
    "int(twitter.get_lastfunction_header('x-rate-limit-reset'))"
   ]
  },
  {
   "cell_type": "code",
   "execution_count": 8,
   "metadata": {},
   "outputs": [
    {
     "data": {
      "text/plain": [
       "'898'"
      ]
     },
     "execution_count": 8,
     "metadata": {},
     "output_type": "execute_result"
    }
   ],
   "source": [
    "twitter = Twython(APP_KEY, APP_SECRET, OAUTH_TOKEN, OAUTH_TOKEN_SECRET)\n",
    "twitter.show_status(id=1150759441941368832)\n",
    "twitter.get_lastfunction_header('x-rate-limit-remaining')"
   ]
  },
  {
   "cell_type": "markdown",
   "metadata": {},
   "source": [
    "## VERIF"
   ]
  },
  {
   "cell_type": "markdown",
   "metadata": {},
   "source": [
    "Get followgraph from .txt file."
   ]
  },
  {
   "cell_type": "code",
   "execution_count": 48,
   "metadata": {},
   "outputs": [],
   "source": [
    "followgraph = dict()\n",
    "for line in open(\"../Datasets/russian_adjList.txt\"):\n",
    "    lead, follow = int(line.split()[0]), int(line.split()[1])\n",
    "    if lead in followgraph:\n",
    "        followgraph[lead].add(follow)\n",
    "    else:\n",
    "        followgraph[lead] = {follow}"
   ]
  },
  {
   "cell_type": "code",
   "execution_count": 49,
   "metadata": {},
   "outputs": [],
   "source": [
    "for line in open(\"../Datasets/russian_adjList2.txt\"):\n",
    "    lead, follow = int(line.split()[0]), int(line.split()[1])\n",
    "    if lead in followgraph:\n",
    "        followgraph[lead].add(follow)\n",
    "    else:\n",
    "        followgraph[lead] = {follow}"
   ]
  },
  {
   "cell_type": "code",
   "execution_count": 50,
   "metadata": {},
   "outputs": [],
   "source": [
    "with open(\"../Datasets/russian_adjList_full.txt\", \"w\") as out:\n",
    "    for lead in followgraph:\n",
    "        for follow in followgraph[lead]:\n",
    "            out.write(\"{} {}\\n\".format(lead, follow))"
   ]
  },
  {
   "cell_type": "code",
   "execution_count": 5,
   "metadata": {},
   "outputs": [
    {
     "data": {
      "text/plain": [
       "22451"
      ]
     },
     "execution_count": 5,
     "metadata": {},
     "output_type": "execute_result"
    }
   ],
   "source": []
  },
  {
   "cell_type": "markdown",
   "metadata": {},
   "source": [
    "problematic users"
   ]
  },
  {
   "cell_type": "code",
   "execution_count": 40,
   "metadata": {},
   "outputs": [],
   "source": [
    "users = set()\n",
    "for line in open(\"../Datasets/russian_getfollowers_error_logs.txt\"):\n",
    "    line = line.split()\n",
    "    if int(line[1]) != -1:\n",
    "        users.add(int(line[0]))"
   ]
  },
  {
   "cell_type": "code",
   "execution_count": 41,
   "metadata": {},
   "outputs": [
    {
     "data": {
      "text/plain": [
       "21"
      ]
     },
     "execution_count": 41,
     "metadata": {},
     "output_type": "execute_result"
    }
   ],
   "source": [
    "len(users)"
   ]
  },
  {
   "cell_type": "markdown",
   "metadata": {},
   "source": [
    "re-crawl problematic users"
   ]
  },
  {
   "cell_type": "code",
   "execution_count": 43,
   "metadata": {
    "scrolled": true
   },
   "outputs": [
    {
     "name": "stdout",
     "output_type": "stream",
     "text": [
      "User 2907348474: 21 / 21 ok...ched... 0 seconds to wait...\r"
     ]
    }
   ],
   "source": [
    "followgraph = dict()\n",
    "twitter = Twython(APP_KEY, APP_SECRET, OAUTH_TOKEN, OAUTH_TOKEN_SECRET)\n",
    "for i,u in enumerate(users):\n",
    "    followgraph[u] = set()\n",
    "    \n",
    "    # reinit cursor\n",
    "    cursor = -1\n",
    "    \n",
    "    # while there are followers left for this user\n",
    "    while cursor != 0:\n",
    "        \n",
    "        try:\n",
    "            # get followers\n",
    "            result = twitter.get_followers_ids(id=u, cursor=cursor)\n",
    "            sys.stdout.flush()\n",
    "            sys.stdout.write(\"User {}: {} / {} ok...\\r\".format(u, i+1, len(users)))\n",
    "\n",
    "            # write to out\n",
    "            for v in result['ids']:\n",
    "                followgraph[u].add(v)\n",
    "            cursor = result['next_cursor']\n",
    "\n",
    "            # wait if API rate limit has been reached\n",
    "            calls_remaining = int(twitter.get_lastfunction_header('x-rate-limit-remaining'))\n",
    "            if calls_remaining == 0:\n",
    "                time_to_wait = 15*60 + 5 # add 5 seconds just in case\n",
    "                start = time.time()\n",
    "                elapsed_time = 0\n",
    "                while elapsed_time < time_to_wait:\n",
    "                    sys.stdout.flush()\n",
    "                    sys.stdout.write(\"User {} / {}... Rate limit reached... {} seconds to wait.\\r\".format(i+1, len(users), round(time_to_wait - elapsed_time)))\n",
    "                    time.sleep(1)\n",
    "                    elapsed_time = time.time() - start\n",
    "                    \n",
    "        except:\n",
    "            sys.stdout.flush()\n",
    "            sys.stdout.write(\"User {} / {} ERROR...\\r\".format(i, len(users)))\n",
    "            cursor += 1\n",
    "            continue"
   ]
  },
  {
   "cell_type": "code",
   "execution_count": 46,
   "metadata": {
    "scrolled": true
   },
   "outputs": [],
   "source": [
    "out = open(\"../Datasets/russian_adjList2.txt\", \"w\")\n",
    "for u in users:\n",
    "    for v in followgraph[u]:\n",
    "        out.write(\"{} {}\\n\".format(u,v))\n",
    "out.close()"
   ]
  },
  {
   "cell_type": "code",
   "execution_count": 26,
   "metadata": {},
   "outputs": [],
   "source": [
    "result = twitter.get_followers_ids(id=423660053)"
   ]
  },
  {
   "cell_type": "code",
   "execution_count": 36,
   "metadata": {},
   "outputs": [
    {
     "data": {
      "text/plain": [
       "'879'"
      ]
     },
     "execution_count": 36,
     "metadata": {},
     "output_type": "execute_result"
    }
   ],
   "source": [
    "twitter.get_lastfunction_header('x-rate-limit-remaining')"
   ]
  },
  {
   "cell_type": "code",
   "execution_count": 47,
   "metadata": {},
   "outputs": [
    {
     "name": "stdout",
     "output_type": "stream",
     "text": [
      "division by zero\n"
     ]
    }
   ],
   "source": []
  },
  {
   "cell_type": "code",
   "execution_count": null,
   "metadata": {},
   "outputs": [],
   "source": []
  },
  {
   "cell_type": "code",
   "execution_count": 51,
   "metadata": {},
   "outputs": [],
   "source": [
    "users_ok = set()\n",
    "for line in open(\"../Datasets/russian_adjList_full.txt\"):\n",
    "    users_ok.add(int(line.split()[0]))"
   ]
  },
  {
   "cell_type": "code",
   "execution_count": 52,
   "metadata": {},
   "outputs": [],
   "source": [
    "users = set()\n",
    "for line in open(\"../Datasets/russian_getfollowers_error_logs.txt\"):\n",
    "    users.add(int(line.split()[0]))"
   ]
  },
  {
   "cell_type": "code",
   "execution_count": 54,
   "metadata": {},
   "outputs": [
    {
     "data": {
      "text/plain": [
       "{28859692,\n",
       " 33879930,\n",
       " 43429477,\n",
       " 99659322,\n",
       " 147655301,\n",
       " 171309893,\n",
       " 190583229,\n",
       " 194023516,\n",
       " 201677046,\n",
       " 209735575,\n",
       " 218700419,\n",
       " 239467085,\n",
       " 241844789,\n",
       " 255862660,\n",
       " 267628080,\n",
       " 291229200,\n",
       " 300747334,\n",
       " 348074426,\n",
       " 374280605,\n",
       " 387840841,\n",
       " 388116313,\n",
       " 405054531,\n",
       " 410091837,\n",
       " 423660053,\n",
       " 430022947,\n",
       " 432671140,\n",
       " 454994048,\n",
       " 456686553,\n",
       " 463814103,\n",
       " 484722237,\n",
       " 492487068,\n",
       " 542310868,\n",
       " 576380779,\n",
       " 591557393,\n",
       " 712320296,\n",
       " 980583553,\n",
       " 1030831236,\n",
       " 1103455836,\n",
       " 1369309567,\n",
       " 1372916954,\n",
       " 1457061193,\n",
       " 1588856568,\n",
       " 1590944965,\n",
       " 1660986140,\n",
       " 1852407247,\n",
       " 1919030486,\n",
       " 2169624355,\n",
       " 2321897600,\n",
       " 2375337679,\n",
       " 2436883562,\n",
       " 2558040008,\n",
       " 2574896866,\n",
       " 2592819421,\n",
       " 2603552835,\n",
       " 2607984906,\n",
       " 2653850772,\n",
       " 2742997421,\n",
       " 2752356549,\n",
       " 2828540888,\n",
       " 2832071262,\n",
       " 2873392763,\n",
       " 2907348474,\n",
       " 2950679629,\n",
       " 2955196012,\n",
       " 2971895205,\n",
       " 3024839255,\n",
       " 3026202434,\n",
       " 3029837242,\n",
       " 3080357232,\n",
       " 3172137337,\n",
       " 3293820729,\n",
       " 3300279694,\n",
       " 3377034477,\n",
       " 3923911037,\n",
       " 4201675241,\n",
       " 4363056442,\n",
       " 4550216505,\n",
       " 4895431835,\n",
       " 715550092233687040,\n",
       " 784157667258429440,\n",
       " 789477231374569472,\n",
       " 822396148983812096,\n",
       " 844202935861088256,\n",
       " 852162272260653056,\n",
       " 870884964618960896,\n",
       " 875688511550222336,\n",
       " 879217368051757056,\n",
       " 885792601613377536,\n",
       " 885888551237373952,\n",
       " 891319691079299072,\n",
       " 921241774953287680,\n",
       " 947068762909495296}"
      ]
     },
     "execution_count": 54,
     "metadata": {},
     "output_type": "execute_result"
    }
   ],
   "source": [
    "users.intersection(users_ok)"
   ]
  }
 ],
 "metadata": {
  "kernelspec": {
   "display_name": "Python 3",
   "language": "python",
   "name": "python3"
  },
  "language_info": {
   "codemirror_mode": {
    "name": "ipython",
    "version": 3
   },
   "file_extension": ".py",
   "mimetype": "text/x-python",
   "name": "python",
   "nbconvert_exporter": "python",
   "pygments_lexer": "ipython3",
   "version": "3.7.2"
  }
 },
 "nbformat": 4,
 "nbformat_minor": 2
}
