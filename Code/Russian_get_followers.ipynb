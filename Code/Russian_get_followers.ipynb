{
 "cells": [
  {
   "cell_type": "markdown",
   "metadata": {},
   "source": [
    "# <center> Get user graph for `Russian`"
   ]
  },
  {
   "cell_type": "code",
   "execution_count": 10,
   "metadata": {},
   "outputs": [],
   "source": [
    "import sys\n",
    "import util\n",
    "import json\n",
    "import time\n",
    "from twython import Twython"
   ]
  },
  {
   "cell_type": "markdown",
   "metadata": {},
   "source": [
    "### Twitter API credentials"
   ]
  },
  {
   "cell_type": "code",
   "execution_count": 18,
   "metadata": {},
   "outputs": [],
   "source": [
    "APP_KEY = \"AV4KujYNS1y6HdmQ4zXxHw2Tx\"\n",
    "APP_SECRET = \"xd2FuFaS5zE1ON407C3U5X0kdEtRJIjH9OMDmgyMmxQCZMFlli\"\n",
    "OAUTH_TOKEN = \"1058011325316636672-HkpzhyiOHdJkuwi3FD9QrkMFbuHuVt\"\n",
    "OAUTH_TOKEN_SECRET = \"iiD75H9ERtkATnd74pVRBfM7TI189BSmDasYzN2uUO123\""
   ]
  },
  {
   "cell_type": "markdown",
   "metadata": {},
   "source": [
    "### Retrieve user graph"
   ]
  },
  {
   "cell_type": "markdown",
   "metadata": {},
   "source": [
    "Get user set."
   ]
  },
  {
   "cell_type": "code",
   "execution_count": 3,
   "metadata": {},
   "outputs": [],
   "source": [
    "users = list()\n",
    "for line in open(\"../Datasets/russian_election2018_rtu.txt\"):\n",
    "    line = line.split()\n",
    "    users.append(int(line[2]))\n",
    "    users.append(int(line[3]))\n",
    "# users = util.get_authors(\"../Datasets/russian_rtid.txt\")"
   ]
  },
  {
   "cell_type": "markdown",
   "metadata": {},
   "source": [
    "Get the followgraph of users present in the trace."
   ]
  },
  {
   "cell_type": "code",
   "execution_count": null,
   "metadata": {
    "scrolled": true
   },
   "outputs": [
    {
     "name": "stdout",
     "output_type": "stream",
     "text": [
      "User 13 / 3890730... Rate limit reached... 890.9513697624207 seconds to wait.\r"
     ]
    }
   ],
   "source": [
    "# init\n",
    "twitter = Twython(APP_KEY, APP_SECRET, OAUTH_TOKEN, OAUTH_TOKEN_SECRET)\n",
    "FollowGraph = dict()\n",
    "outfile = \"../Datasets/russian_adjList.txt\"\n",
    "\n",
    "for i,u in enumerate(users):\n",
    "    \n",
    "    # reinit cursor\n",
    "    cursor = -1\n",
    "\n",
    "    # while there are followers left for this user\n",
    "    while cursor != 0:\n",
    "        sys.stdout.write(\"User {} / {}...\\r\".format(i, len(users)))\n",
    "\n",
    "        try:\n",
    "            # get followers\n",
    "            result = twitter.get_followers_ids(id=u, cursor=cursor)\n",
    "            ids = result['ids']\n",
    "            cursor = result['next_cursor']\n",
    "\n",
    "            # write to out\n",
    "            with open(outfile, 'a') as out:\n",
    "                for v in ids:\n",
    "                    out.write(\"{} {}\\n\".format(u,v))\n",
    "\n",
    "            # wait if API rate limit has been reached\n",
    "            calls_remaining = int(twitter.get_lastfunction_header('x-rate-limit-remaining'))\n",
    "            if calls_remaining == 0:\n",
    "                time_to_wait = 15*60\n",
    "                start = time.time()\n",
    "                elapsed_time = 0\n",
    "                while elapsed_time < time_to_wait:\n",
    "                    sys.stdout.flush()\n",
    "                    sys.stdout.write(\"User {} / {}... Rate limit reached... {} seconds to wait.\\r\".format(i, len(users), time_to_wait - elapsed_time))\n",
    "                    time.sleep(1)\n",
    "                    elapsed_time = time.time() - start\n",
    "                    \n",
    "        except:\n",
    "            cursor += 1\n",
    "            continue\n",
    "            \n",
    "                    \n",
    "#         except:\n",
    "#             cursor += 1\n",
    "#             continue\n",
    "                    \n",
    "                \n",
    "#             # twitter api rate limit exceeded --> sleep then reconnect and retry\n",
    "#             except:\n",
    "#                 waiting_time = float(twitter.get_lastfunction_header('x-rate-limit-reset'))\n",
    "# #                 del twitter\n",
    "#                 start = time.time()\n",
    "#                 elapsed_time = time.time() - start\n",
    "#                 while elapsed_time <= waiting_time:\n",
    "#                     sys.stdout.flush()\n",
    "#                     sys.stdout.write(\"Elapsed time : {} on {} total time to wait.\\n\".format(elapsed_time, waiting_time))\n",
    "# #                     sys.stdout.write(\"Sleeping... {:.0f}min {:.0f}sec left\\r\".format(time_left//60, time_left%60))\n",
    "#                     time.sleep(1)\n",
    "#                     elapsed_time = time.time() - start\n",
    "# #                 twitter = Twython(APP_KEY, APP_SECRET, OAUTH_TOKEN, OAUTH_TOKEN_SECRET)\n",
    "#                 retry = True"
   ]
  },
  {
   "cell_type": "code",
   "execution_count": 11,
   "metadata": {},
   "outputs": [
    {
     "data": {
      "text/plain": [
       "1563219410"
      ]
     },
     "execution_count": 11,
     "metadata": {},
     "output_type": "execute_result"
    }
   ],
   "source": [
    "int(twitter.get_lastfunction_header('x-rate-limit-reset'))"
   ]
  },
  {
   "cell_type": "code",
   "execution_count": 8,
   "metadata": {},
   "outputs": [
    {
     "data": {
      "text/plain": [
       "'898'"
      ]
     },
     "execution_count": 8,
     "metadata": {},
     "output_type": "execute_result"
    }
   ],
   "source": [
    "twitter = Twython(APP_KEY, APP_SECRET, OAUTH_TOKEN, OAUTH_TOKEN_SECRET)\n",
    "twitter.show_status(id=1150759441941368832)\n",
    "twitter.get_lastfunction_header('x-rate-limit-remaining')"
   ]
  },
  {
   "cell_type": "markdown",
   "metadata": {},
   "source": [
    "## VERIF"
   ]
  },
  {
   "cell_type": "markdown",
   "metadata": {},
   "source": [
    "Get followgraph from .txt file."
   ]
  },
  {
   "cell_type": "code",
   "execution_count": 1,
   "metadata": {},
   "outputs": [],
   "source": [
    "followgraph = dict()\n",
    "for line in open(\"../Datasets/russian_adjList.txt\"):\n",
    "    lead, follow = int(line.split()[0]), int(line.split()[1])\n",
    "    if lead in followgraph:\n",
    "        followgraph[lead].add(follow)\n",
    "    else:\n",
    "        followgraph[lead] = {follow}"
   ]
  },
  {
   "cell_type": "code",
   "execution_count": 5,
   "metadata": {},
   "outputs": [
    {
     "data": {
      "text/plain": [
       "22451"
      ]
     },
     "execution_count": 5,
     "metadata": {},
     "output_type": "execute_result"
    }
   ],
   "source": [
    "len(followgraph[832067407])"
   ]
  },
  {
   "cell_type": "markdown",
   "metadata": {},
   "source": [
    "problematic users"
   ]
  },
  {
   "cell_type": "code",
   "execution_count": 6,
   "metadata": {},
   "outputs": [],
   "source": [
    "users = set()\n",
    "for line in open(\"../Datasets/russian_getfollowers_error_logs.txt\"):\n",
    "    line = line.split()\n",
    "    if int(line[1]) != -1:\n",
    "        users.add(int(line[0]))"
   ]
  },
  {
   "cell_type": "code",
   "execution_count": 11,
   "metadata": {},
   "outputs": [
    {
     "data": {
      "text/plain": [
       "21"
      ]
     },
     "execution_count": 11,
     "metadata": {},
     "output_type": "execute_result"
    }
   ],
   "source": [
    "len(users)"
   ]
  },
  {
   "cell_type": "markdown",
   "metadata": {},
   "source": [
    "re-crawl problematic users"
   ]
  },
  {
   "cell_type": "code",
   "execution_count": 19,
   "metadata": {},
   "outputs": [
    {
     "name": "stdout",
     "output_type": "stream",
     "text": [
      "User 20 / 21 ERROR...\r"
     ]
    }
   ],
   "source": [
    "followgraph = dict()\n",
    "twitter = Twython(APP_KEY, APP_SECRET, OAUTH_TOKEN, OAUTH_TOKEN_SECRET)\n",
    "for i,u in enumerate(users):\n",
    "    \n",
    "    followgraph[u] = set()\n",
    "    \n",
    "    # reinit cursor\n",
    "    cursor = -1\n",
    "    \n",
    "    # while there are followers left for this user\n",
    "    while cursor != 0:\n",
    "        \n",
    "        try:\n",
    "            # get followers\n",
    "            result = twitter.get_followers_ids(id=u, cursor=cursor)\n",
    "            sys.stdout.flush()\n",
    "            sys.stdout.write(\"User {} / {} ok...\\r\".format(i+1, len(users)))\n",
    "\n",
    "\n",
    "            # write to out\n",
    "            for v in result['ids']:\n",
    "                followgraph[user].add(v)\n",
    "            cursor = result['next_cursor']\n",
    "\n",
    "            # wait if API rate limit has been reached\n",
    "            calls_remaining = int(twitter.get_lastfunction_header('x-rate-limit-remaining'))\n",
    "            if calls_remaining == 0:\n",
    "                time_to_wait = 15*60 + 5 # add 5 seconds just in case\n",
    "                start = time.time()\n",
    "                elapsed_time = 0\n",
    "                while elapsed_time < time_to_wait:\n",
    "                    sys.stdout.flush()\n",
    "                    sys.stdout.write(\"User {} / {}... Rate limit reached... {} seconds to wait.\\r\".format(i, len(users), round(time_to_wait - elapsed_time)))\n",
    "                    time.sleep(1)\n",
    "                    elapsed_time = time.time() - start\n",
    "                    \n",
    "        except:\n",
    "            sys.stdout.flush()\n",
    "            sys.stdout.write(\"User {} / {} ERROR...\\r\".format(i, len(users)))\n",
    "            cursor += 1\n",
    "            continue"
   ]
  },
  {
   "cell_type": "code",
   "execution_count": 23,
   "metadata": {
    "scrolled": true
   },
   "outputs": [
    {
     "name": "stdout",
     "output_type": "stream",
     "text": [
      "938465725932621824\n",
      "0\n",
      "0\n",
      "\n",
      "870884964618960896\n",
      "70\n",
      "0\n",
      "\n",
      "921241774953287680\n",
      "630\n",
      "0\n",
      "\n",
      "147655301\n",
      "24015\n",
      "0\n",
      "\n",
      "423660053\n",
      "17\n",
      "0\n",
      "\n",
      "4895431835\n",
      "53\n",
      "0\n",
      "\n",
      "28859692\n",
      "223984\n",
      "0\n",
      "\n",
      "2742997421\n",
      "2160\n",
      "0\n",
      "\n",
      "3293820729\n",
      "150\n",
      "0\n",
      "\n",
      "171309893\n",
      "23036\n",
      "0\n",
      "\n",
      "300747334\n",
      "17555\n",
      "0\n",
      "\n",
      "387840841\n",
      "522926\n",
      "0\n",
      "\n",
      "542310868\n",
      "78\n",
      "0\n",
      "\n",
      "3024839255\n",
      "12\n",
      "0\n",
      "\n",
      "194023516\n",
      "329\n",
      "0\n",
      "\n",
      "2592819421\n",
      "3\n",
      "0\n",
      "\n",
      "2832071262\n",
      "33395\n",
      "0\n",
      "\n",
      "43429477\n",
      "89589\n",
      "0\n",
      "\n",
      "2955196012\n",
      "87\n",
      "0\n",
      "\n",
      "3080357232\n",
      "140\n",
      "0\n",
      "\n",
      "2907348474\n",
      "5276\n",
      "0\n",
      "\n"
     ]
    }
   ],
   "source": [
    "for u in users:\n",
    "    print(u)\n",
    "    print(twitter.show_user(id=u)['followers_count'])\n",
    "    print(len(followgraph[u]))\n",
    "    print()"
   ]
  },
  {
   "cell_type": "code",
   "execution_count": 24,
   "metadata": {},
   "outputs": [
    {
     "ename": "TwythonRateLimitError",
     "evalue": "Twitter API returned a 429 (Too Many Requests), Rate limit exceeded",
     "output_type": "error",
     "traceback": [
      "\u001b[1;31m---------------------------------------------------------------------------\u001b[0m",
      "\u001b[1;31mTwythonRateLimitError\u001b[0m                     Traceback (most recent call last)",
      "\u001b[1;32m<ipython-input-24-3b1e2fd58d82>\u001b[0m in \u001b[0;36m<module>\u001b[1;34m\u001b[0m\n\u001b[1;32m----> 1\u001b[1;33m \u001b[0mresult\u001b[0m \u001b[1;33m=\u001b[0m \u001b[0mtwitter\u001b[0m\u001b[1;33m.\u001b[0m\u001b[0mget_followers_ids\u001b[0m\u001b[1;33m(\u001b[0m\u001b[0mid\u001b[0m\u001b[1;33m=\u001b[0m\u001b[1;36m423660053\u001b[0m\u001b[1;33m)\u001b[0m\u001b[1;33m\u001b[0m\u001b[1;33m\u001b[0m\u001b[0m\n\u001b[0m",
      "\u001b[1;32mD:\\Anaconda\\lib\\site-packages\\twython\\endpoints.py\u001b[0m in \u001b[0;36mget_followers_ids\u001b[1;34m(self, **params)\u001b[0m\n\u001b[0;32m    376\u001b[0m \u001b[1;33m\u001b[0m\u001b[0m\n\u001b[0;32m    377\u001b[0m         \"\"\"\n\u001b[1;32m--> 378\u001b[1;33m         \u001b[1;32mreturn\u001b[0m \u001b[0mself\u001b[0m\u001b[1;33m.\u001b[0m\u001b[0mget\u001b[0m\u001b[1;33m(\u001b[0m\u001b[1;34m'followers/ids'\u001b[0m\u001b[1;33m,\u001b[0m \u001b[0mparams\u001b[0m\u001b[1;33m=\u001b[0m\u001b[0mparams\u001b[0m\u001b[1;33m)\u001b[0m\u001b[1;33m\u001b[0m\u001b[1;33m\u001b[0m\u001b[0m\n\u001b[0m\u001b[0;32m    379\u001b[0m     \u001b[0mget_followers_ids\u001b[0m\u001b[1;33m.\u001b[0m\u001b[0miter_mode\u001b[0m \u001b[1;33m=\u001b[0m \u001b[1;34m'cursor'\u001b[0m\u001b[1;33m\u001b[0m\u001b[1;33m\u001b[0m\u001b[0m\n\u001b[0;32m    380\u001b[0m     \u001b[0mget_followers_ids\u001b[0m\u001b[1;33m.\u001b[0m\u001b[0miter_key\u001b[0m \u001b[1;33m=\u001b[0m \u001b[1;34m'ids'\u001b[0m\u001b[1;33m\u001b[0m\u001b[1;33m\u001b[0m\u001b[0m\n",
      "\u001b[1;32mD:\\Anaconda\\lib\\site-packages\\twython\\api.py\u001b[0m in \u001b[0;36mget\u001b[1;34m(self, endpoint, params, version)\u001b[0m\n\u001b[0;32m    268\u001b[0m     \u001b[1;32mdef\u001b[0m \u001b[0mget\u001b[0m\u001b[1;33m(\u001b[0m\u001b[0mself\u001b[0m\u001b[1;33m,\u001b[0m \u001b[0mendpoint\u001b[0m\u001b[1;33m,\u001b[0m \u001b[0mparams\u001b[0m\u001b[1;33m=\u001b[0m\u001b[1;32mNone\u001b[0m\u001b[1;33m,\u001b[0m \u001b[0mversion\u001b[0m\u001b[1;33m=\u001b[0m\u001b[1;34m'1.1'\u001b[0m\u001b[1;33m)\u001b[0m\u001b[1;33m:\u001b[0m\u001b[1;33m\u001b[0m\u001b[1;33m\u001b[0m\u001b[0m\n\u001b[0;32m    269\u001b[0m         \u001b[1;34m\"\"\"Shortcut for GET requests via :class:`request`\"\"\"\u001b[0m\u001b[1;33m\u001b[0m\u001b[1;33m\u001b[0m\u001b[0m\n\u001b[1;32m--> 270\u001b[1;33m         \u001b[1;32mreturn\u001b[0m \u001b[0mself\u001b[0m\u001b[1;33m.\u001b[0m\u001b[0mrequest\u001b[0m\u001b[1;33m(\u001b[0m\u001b[0mendpoint\u001b[0m\u001b[1;33m,\u001b[0m \u001b[0mparams\u001b[0m\u001b[1;33m=\u001b[0m\u001b[0mparams\u001b[0m\u001b[1;33m,\u001b[0m \u001b[0mversion\u001b[0m\u001b[1;33m=\u001b[0m\u001b[0mversion\u001b[0m\u001b[1;33m)\u001b[0m\u001b[1;33m\u001b[0m\u001b[1;33m\u001b[0m\u001b[0m\n\u001b[0m\u001b[0;32m    271\u001b[0m \u001b[1;33m\u001b[0m\u001b[0m\n\u001b[0;32m    272\u001b[0m     \u001b[1;32mdef\u001b[0m \u001b[0mpost\u001b[0m\u001b[1;33m(\u001b[0m\u001b[0mself\u001b[0m\u001b[1;33m,\u001b[0m \u001b[0mendpoint\u001b[0m\u001b[1;33m,\u001b[0m \u001b[0mparams\u001b[0m\u001b[1;33m=\u001b[0m\u001b[1;32mNone\u001b[0m\u001b[1;33m,\u001b[0m \u001b[0mversion\u001b[0m\u001b[1;33m=\u001b[0m\u001b[1;34m'1.1'\u001b[0m\u001b[1;33m)\u001b[0m\u001b[1;33m:\u001b[0m\u001b[1;33m\u001b[0m\u001b[1;33m\u001b[0m\u001b[0m\n",
      "\u001b[1;32mD:\\Anaconda\\lib\\site-packages\\twython\\api.py\u001b[0m in \u001b[0;36mrequest\u001b[1;34m(self, endpoint, method, params, version)\u001b[0m\n\u001b[0;32m    262\u001b[0m \u001b[1;33m\u001b[0m\u001b[0m\n\u001b[0;32m    263\u001b[0m         content = self._request(url, method=method, params=params,\n\u001b[1;32m--> 264\u001b[1;33m                                 api_call=url)\n\u001b[0m\u001b[0;32m    265\u001b[0m \u001b[1;33m\u001b[0m\u001b[0m\n\u001b[0;32m    266\u001b[0m         \u001b[1;32mreturn\u001b[0m \u001b[0mcontent\u001b[0m\u001b[1;33m\u001b[0m\u001b[1;33m\u001b[0m\u001b[0m\n",
      "\u001b[1;32mD:\\Anaconda\\lib\\site-packages\\twython\\api.py\u001b[0m in \u001b[0;36m_request\u001b[1;34m(self, url, method, params, api_call)\u001b[0m\n\u001b[0;32m    197\u001b[0m                 \u001b[0merror_message\u001b[0m\u001b[1;33m,\u001b[0m\u001b[1;33m\u001b[0m\u001b[1;33m\u001b[0m\u001b[0m\n\u001b[0;32m    198\u001b[0m                 \u001b[0merror_code\u001b[0m\u001b[1;33m=\u001b[0m\u001b[0mresponse\u001b[0m\u001b[1;33m.\u001b[0m\u001b[0mstatus_code\u001b[0m\u001b[1;33m,\u001b[0m\u001b[1;33m\u001b[0m\u001b[1;33m\u001b[0m\u001b[0m\n\u001b[1;32m--> 199\u001b[1;33m                 retry_after=response.headers.get('X-Rate-Limit-Reset'))\n\u001b[0m\u001b[0;32m    200\u001b[0m         \u001b[0mcontent\u001b[0m \u001b[1;33m=\u001b[0m \u001b[1;34m''\u001b[0m\u001b[1;33m\u001b[0m\u001b[1;33m\u001b[0m\u001b[0m\n\u001b[0;32m    201\u001b[0m         \u001b[1;32mtry\u001b[0m\u001b[1;33m:\u001b[0m\u001b[1;33m\u001b[0m\u001b[1;33m\u001b[0m\u001b[0m\n",
      "\u001b[1;31mTwythonRateLimitError\u001b[0m: Twitter API returned a 429 (Too Many Requests), Rate limit exceeded"
     ]
    }
   ],
   "source": [
    "result = twitter.get_followers_ids(id=423660053)"
   ]
  }
 ],
 "metadata": {
  "kernelspec": {
   "display_name": "Python 3",
   "language": "python",
   "name": "python3"
  },
  "language_info": {
   "codemirror_mode": {
    "name": "ipython",
    "version": 3
   },
   "file_extension": ".py",
   "mimetype": "text/x-python",
   "name": "python",
   "nbconvert_exporter": "python",
   "pygments_lexer": "ipython3",
   "version": "3.7.2"
  }
 },
 "nbformat": 4,
 "nbformat_minor": 2
}
