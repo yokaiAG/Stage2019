{
 "cells": [
  {
   "cell_type": "markdown",
   "metadata": {},
   "source": [
    "# <center> Get user graph for `Russian`"
   ]
  },
  {
   "cell_type": "code",
   "execution_count": 1,
   "metadata": {},
   "outputs": [],
   "source": [
    "import sys\n",
    "import util\n",
    "import json\n",
    "import time\n",
    "from twython import Twython"
   ]
  },
  {
   "cell_type": "markdown",
   "metadata": {},
   "source": [
    "### Twitter API credentials"
   ]
  },
  {
   "cell_type": "code",
   "execution_count": 2,
   "metadata": {},
   "outputs": [],
   "source": [
    "APP_KEY = \"AV4KujYNS1y6HdmQ4zXxHw2Tx\"\n",
    "APP_SECRET = \"xd2FuFaS5zE1ON407C3U5X0kdEtRJIjH9OMDmgyMmxQCZMFlli\"\n",
    "OAUTH_TOKEN = \"1058011325316636672-HkpzhyiOHdJkuwi3FD9QrkMFbuHuVt\"\n",
    "OAUTH_TOKEN_SECRET = \"iiD75H9ERtkATnd74pVRBfM7TI189BSmDasYzN2uUO123\""
   ]
  },
  {
   "cell_type": "markdown",
   "metadata": {},
   "source": [
    "### Retrieve user graph"
   ]
  },
  {
   "cell_type": "markdown",
   "metadata": {},
   "source": [
    "Get user set from rtu data."
   ]
  },
  {
   "cell_type": "code",
   "execution_count": 3,
   "metadata": {},
   "outputs": [],
   "source": [
    "users = list()\n",
    "for line in open(\"../Datasets/Preprocess/russian/russian_election_2018_rtu.txt\"):\n",
    "    line = line.split()\n",
    "    users.append(int(line[2]))\n",
    "    users.append(int(line[3]))"
   ]
  },
  {
   "cell_type": "markdown",
   "metadata": {},
   "source": [
    "Get the followgraph of users present in the trace."
   ]
  },
  {
   "cell_type": "code",
   "execution_count": null,
   "metadata": {
    "scrolled": true
   },
   "outputs": [
    {
     "name": "stdout",
     "output_type": "stream",
     "text": [
      "Elapsed time : 0 on 900 total time to wait.\n",
      "Elapsed time : 0 on 900 total time to wait.\n",
      "Elapsed time : 0 on 900 total time to wait.\n",
      "Elapsed time : 0 on 900 total time to wait.\n",
      "Elapsed time : 0 on 900 total time to wait.\n",
      "Elapsed time : 0 on 900 total time to wait.\n",
      "Elapsed time : 0 on 900 total time to wait.\n",
      "Elapsed time : 0 on 900 total time to wait.\n",
      "Elapsed time : 0 on 900 total time to wait.\n",
      "Elapsed time : 0 on 900 total time to wait.\n"
     ]
    }
   ],
   "source": [
    "# init\n",
    "twitter = Twython(APP_KEY, APP_SECRET, OAUTH_TOKEN, OAUTH_TOKEN_SECRET)\n",
    "FollowGraph = dict()\n",
    "outfile = \"../Datasets/russian_adjList.txt\"\n",
    "\n",
    "for i,u in enumerate(users):\n",
    "    \n",
    "    # reinit cursor\n",
    "    cursor = -1\n",
    "    \n",
    "    # while there are followers left for this user\n",
    "    while cursor != 0:\n",
    "        \n",
    "        try:\n",
    "            # get followers\n",
    "            result = twitter.get_followers_ids(id=u, cursor=cursor)\n",
    "            ids = result['ids']\n",
    "            cursor = result['next_cursor']\n",
    "\n",
    "            # write to out\n",
    "            with open(outfile, 'a') as out:\n",
    "                for v in ids:\n",
    "                    out.write(\"{} {}\\n\".format(u,v))\n",
    "\n",
    "            # wait if API rate limit has been reached\n",
    "            calls_remaining = int(twitter.get_lastfunction_header('x-rate-limit-remaining'))\n",
    "            if calls_remaining == 0:\n",
    "                time_to_wait = 15*60\n",
    "                start = time.time()\n",
    "                elapsed_time = 0\n",
    "                while elapsed_time < time_to_wait:\n",
    "                    sys.stdout.flush()\n",
    "                    sys.stdout.write(\"User {} / {}... Rate limit reached... {} seconds to wait.\\r\".format(i, len(users), time_to_wait - elapsed_time))\n",
    "                    time.sleep(1)\n",
    "                    elapsed_time = time.time() - start\n",
    "                    \n",
    "        except:\n",
    "            cursor += 1\n",
    "            continue\n",
    "                    \n",
    "                \n",
    "#             # twitter api rate limit exceeded --> sleep then reconnect and retry\n",
    "#             except:\n",
    "#                 waiting_time = float(twitter.get_lastfunction_header('x-rate-limit-reset'))\n",
    "# #                 del twitter\n",
    "#                 start = time.time()\n",
    "#                 elapsed_time = time.time() - start\n",
    "#                 while elapsed_time <= waiting_time:\n",
    "#                     sys.stdout.flush()\n",
    "#                     sys.stdout.write(\"Elapsed time : {} on {} total time to wait.\\n\".format(elapsed_time, waiting_time))\n",
    "# #                     sys.stdout.write(\"Sleeping... {:.0f}min {:.0f}sec left\\r\".format(time_left//60, time_left%60))\n",
    "#                     time.sleep(1)\n",
    "#                     elapsed_time = time.time() - start\n",
    "# #                 twitter = Twython(APP_KEY, APP_SECRET, OAUTH_TOKEN, OAUTH_TOKEN_SECRET)\n",
    "#                 retry = True"
   ]
  }
 ],
 "metadata": {
  "kernelspec": {
   "display_name": "Python 3",
   "language": "python",
   "name": "python3"
  },
  "language_info": {
   "codemirror_mode": {
    "name": "ipython",
    "version": 3
   },
   "file_extension": ".py",
   "mimetype": "text/x-python",
   "name": "python",
   "nbconvert_exporter": "python",
   "pygments_lexer": "ipython3",
   "version": "3.7.2"
  }
 },
 "nbformat": 4,
 "nbformat_minor": 2
}
