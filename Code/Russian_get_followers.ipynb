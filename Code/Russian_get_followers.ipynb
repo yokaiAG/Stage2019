{
 "cells": [
  {
   "cell_type": "markdown",
   "metadata": {},
   "source": [
    "# <center> Get user graph for `Russian`"
   ]
  },
  {
   "cell_type": "code",
   "execution_count": 38,
   "metadata": {},
   "outputs": [],
   "source": [
    "import sys\n",
    "import util\n",
    "import json\n",
    "import time\n",
    "from twython import Twython"
   ]
  },
  {
   "cell_type": "markdown",
   "metadata": {},
   "source": [
    "### Twitter API credentials"
   ]
  },
  {
   "cell_type": "code",
   "execution_count": 39,
   "metadata": {},
   "outputs": [],
   "source": [
    "APP_KEY = \"AV4KujYNS1y6HdmQ4zXxHw2Tx\"\n",
    "APP_SECRET = \"xd2FuFaS5zE1ON407C3U5X0kdEtRJIjH9OMDmgyMmxQCZMFlli\"\n",
    "OAUTH_TOKEN = \"1058011325316636672-HkpzhyiOHdJkuwi3FD9QrkMFbuHuVt\"\n",
    "OAUTH_TOKEN_SECRET = \"iiD75H9ERtkATnd74pVRBfM7TI189BSmDasYzN2uUO123\""
   ]
  },
  {
   "cell_type": "markdown",
   "metadata": {},
   "source": [
    "### Retrieve user graph"
   ]
  },
  {
   "cell_type": "markdown",
   "metadata": {},
   "source": [
    "Get user set."
   ]
  },
  {
   "cell_type": "code",
   "execution_count": 3,
   "metadata": {},
   "outputs": [],
   "source": [
    "users = list()\n",
    "for line in open(\"../Datasets/russian_election2018_rtu.txt\"):\n",
    "    line = line.split()\n",
    "    users.append(int(line[2]))\n",
    "    users.append(int(line[3]))\n",
    "# users = util.get_authors(\"../Datasets/russian_rtid.txt\")"
   ]
  },
  {
   "cell_type": "markdown",
   "metadata": {},
   "source": [
    "Get the followgraph of users present in the trace."
   ]
  },
  {
   "cell_type": "code",
   "execution_count": null,
   "metadata": {
    "scrolled": true
   },
   "outputs": [
    {
     "name": "stdout",
     "output_type": "stream",
     "text": [
      "User 13 / 3890730... Rate limit reached... 890.9513697624207 seconds to wait.\r"
     ]
    }
   ],
   "source": [
    "# init\n",
    "twitter = Twython(APP_KEY, APP_SECRET, OAUTH_TOKEN, OAUTH_TOKEN_SECRET)\n",
    "FollowGraph = dict()\n",
    "outfile = \"../Datasets/russian_adjList.txt\"\n",
    "\n",
    "for i,u in enumerate(users):\n",
    "    \n",
    "    # reinit cursor\n",
    "    cursor = -1\n",
    "\n",
    "    # while there are followers left for this user\n",
    "    while cursor != 0:\n",
    "        sys.stdout.write(\"User {} / {}...\\r\".format(i, len(users)))\n",
    "\n",
    "        try:\n",
    "            # get followers\n",
    "            result = twitter.get_followers_ids(id=u, cursor=cursor)\n",
    "            ids = result['ids']\n",
    "            cursor = result['next_cursor']\n",
    "\n",
    "            # write to out\n",
    "            with open(outfile, 'a') as out:\n",
    "                for v in ids:\n",
    "                    out.write(\"{} {}\\n\".format(u,v))\n",
    "\n",
    "            # wait if API rate limit has been reached\n",
    "            calls_remaining = int(twitter.get_lastfunction_header('x-rate-limit-remaining'))\n",
    "            if calls_remaining == 0:\n",
    "                time_to_wait = 15*60\n",
    "                start = time.time()\n",
    "                elapsed_time = 0\n",
    "                while elapsed_time < time_to_wait:\n",
    "                    sys.stdout.flush()\n",
    "                    sys.stdout.write(\"User {} / {}... Rate limit reached... {} seconds to wait.\\r\".format(i, len(users), time_to_wait - elapsed_time))\n",
    "                    time.sleep(1)\n",
    "                    elapsed_time = time.time() - start\n",
    "                    \n",
    "        except:\n",
    "            cursor += 1\n",
    "            continue\n",
    "            \n",
    "                    \n",
    "#         except:\n",
    "#             cursor += 1\n",
    "#             continue\n",
    "                    \n",
    "                \n",
    "#             # twitter api rate limit exceeded --> sleep then reconnect and retry\n",
    "#             except:\n",
    "#                 waiting_time = float(twitter.get_lastfunction_header('x-rate-limit-reset'))\n",
    "# #                 del twitter\n",
    "#                 start = time.time()\n",
    "#                 elapsed_time = time.time() - start\n",
    "#                 while elapsed_time <= waiting_time:\n",
    "#                     sys.stdout.flush()\n",
    "#                     sys.stdout.write(\"Elapsed time : {} on {} total time to wait.\\n\".format(elapsed_time, waiting_time))\n",
    "# #                     sys.stdout.write(\"Sleeping... {:.0f}min {:.0f}sec left\\r\".format(time_left//60, time_left%60))\n",
    "#                     time.sleep(1)\n",
    "#                     elapsed_time = time.time() - start\n",
    "# #                 twitter = Twython(APP_KEY, APP_SECRET, OAUTH_TOKEN, OAUTH_TOKEN_SECRET)\n",
    "#                 retry = True"
   ]
  },
  {
   "cell_type": "code",
   "execution_count": 11,
   "metadata": {},
   "outputs": [
    {
     "data": {
      "text/plain": [
       "1563219410"
      ]
     },
     "execution_count": 11,
     "metadata": {},
     "output_type": "execute_result"
    }
   ],
   "source": [
    "int(twitter.get_lastfunction_header('x-rate-limit-reset'))"
   ]
  },
  {
   "cell_type": "code",
   "execution_count": 8,
   "metadata": {},
   "outputs": [
    {
     "data": {
      "text/plain": [
       "'898'"
      ]
     },
     "execution_count": 8,
     "metadata": {},
     "output_type": "execute_result"
    }
   ],
   "source": [
    "twitter = Twython(APP_KEY, APP_SECRET, OAUTH_TOKEN, OAUTH_TOKEN_SECRET)\n",
    "twitter.show_status(id=1150759441941368832)\n",
    "twitter.get_lastfunction_header('x-rate-limit-remaining')"
   ]
  },
  {
   "cell_type": "markdown",
   "metadata": {},
   "source": [
    "## VERIF"
   ]
  },
  {
   "cell_type": "markdown",
   "metadata": {},
   "source": [
    "Get followgraph from .txt file."
   ]
  },
  {
   "cell_type": "code",
   "execution_count": 1,
   "metadata": {},
   "outputs": [],
   "source": [
    "followgraph = dict()\n",
    "for line in open(\"../Datasets/russian_adjList.txt\"):\n",
    "    lead, follow = int(line.split()[0]), int(line.split()[1])\n",
    "    if lead in followgraph:\n",
    "        followgraph[lead].add(follow)\n",
    "    else:\n",
    "        followgraph[lead] = {follow}"
   ]
  },
  {
   "cell_type": "code",
   "execution_count": 5,
   "metadata": {},
   "outputs": [
    {
     "data": {
      "text/plain": [
       "22451"
      ]
     },
     "execution_count": 5,
     "metadata": {},
     "output_type": "execute_result"
    }
   ],
   "source": [
    "len(followgraph[832067407])"
   ]
  },
  {
   "cell_type": "markdown",
   "metadata": {},
   "source": [
    "problematic users"
   ]
  },
  {
   "cell_type": "code",
   "execution_count": 40,
   "metadata": {},
   "outputs": [],
   "source": [
    "users = set()\n",
    "for line in open(\"../Datasets/russian_getfollowers_error_logs.txt\"):\n",
    "    line = line.split()\n",
    "    if int(line[1]) != -1:\n",
    "        users.add(int(line[0]))"
   ]
  },
  {
   "cell_type": "code",
   "execution_count": 41,
   "metadata": {},
   "outputs": [
    {
     "data": {
      "text/plain": [
       "21"
      ]
     },
     "execution_count": 41,
     "metadata": {},
     "output_type": "execute_result"
    }
   ],
   "source": [
    "len(users)"
   ]
  },
  {
   "cell_type": "markdown",
   "metadata": {},
   "source": [
    "re-crawl problematic users"
   ]
  },
  {
   "cell_type": "code",
   "execution_count": null,
   "metadata": {
    "scrolled": true
   },
   "outputs": [
    {
     "name": "stdout",
     "output_type": "stream",
     "text": [
      "User 16 / 21... Rate limit reached... 666 seconds to wait.\r"
     ]
    }
   ],
   "source": [
    "followgraph = dict()\n",
    "twitter = Twython(APP_KEY, APP_SECRET, OAUTH_TOKEN, OAUTH_TOKEN_SECRET)\n",
    "for i,u in enumerate(users):\n",
    "    followgraph[u] = set()\n",
    "    \n",
    "    # reinit cursor\n",
    "    cursor = -1\n",
    "    \n",
    "    # while there are followers left for this user\n",
    "    while cursor != 0:\n",
    "        \n",
    "        try:\n",
    "            # get followers\n",
    "            result = twitter.get_followers_ids(id=u, cursor=cursor)\n",
    "            sys.stdout.flush()\n",
    "            sys.stdout.write(\"User {}: {} / {} ok...\\r\".format(u, i+1, len(users)))\n",
    "\n",
    "            # write to out\n",
    "            for v in result['ids']:\n",
    "                followgraph[u].add(v)\n",
    "            cursor = result['next_cursor']\n",
    "\n",
    "            # wait if API rate limit has been reached\n",
    "            calls_remaining = int(twitter.get_lastfunction_header('x-rate-limit-remaining'))\n",
    "            if calls_remaining == 0:\n",
    "                time_to_wait = 15*60 + 5 # add 5 seconds just in case\n",
    "                start = time.time()\n",
    "                elapsed_time = 0\n",
    "                while elapsed_time < time_to_wait:\n",
    "                    sys.stdout.flush()\n",
    "                    sys.stdout.write(\"User {} / {}... Rate limit reached... {} seconds to wait.\\r\".format(i+1, len(users), round(time_to_wait - elapsed_time)))\n",
    "                    time.sleep(1)\n",
    "                    elapsed_time = time.time() - start\n",
    "                    \n",
    "        except:\n",
    "            sys.stdout.flush()\n",
    "            sys.stdout.write(\"User {} / {} ERROR...\\r\".format(i, len(users)))\n",
    "            cursor += 1\n",
    "            continue"
   ]
  },
  {
   "cell_type": "code",
   "execution_count": 33,
   "metadata": {
    "scrolled": true
   },
   "outputs": [
    {
     "name": "stdout",
     "output_type": "stream",
     "text": [
      "938465725932621824 0\n",
      "\n",
      "870884964618960896 0\n",
      "\n",
      "921241774953287680 0\n",
      "\n",
      "147655301 0\n",
      "\n",
      "423660053 0\n",
      "\n",
      "4895431835 0\n",
      "\n",
      "28859692 0\n",
      "\n",
      "2742997421 0\n",
      "\n",
      "3293820729 0\n",
      "\n",
      "171309893 0\n",
      "\n",
      "300747334 0\n",
      "\n",
      "387840841 0\n",
      "\n",
      "542310868 0\n",
      "\n",
      "3024839255 0\n",
      "\n",
      "194023516 0\n",
      "\n",
      "2592819421 0\n",
      "\n",
      "2832071262 0\n",
      "\n",
      "43429477 0\n",
      "\n",
      "2955196012 0\n",
      "\n",
      "3080357232 0\n",
      "\n",
      "2907348474 0\n",
      "\n"
     ]
    }
   ],
   "source": [
    "for u in users:\n",
    "    print(u, len(followgraph[u]))\n",
    "    print()"
   ]
  },
  {
   "cell_type": "code",
   "execution_count": 26,
   "metadata": {},
   "outputs": [],
   "source": [
    "result = twitter.get_followers_ids(id=423660053)"
   ]
  },
  {
   "cell_type": "code",
   "execution_count": 36,
   "metadata": {},
   "outputs": [
    {
     "data": {
      "text/plain": [
       "'879'"
      ]
     },
     "execution_count": 36,
     "metadata": {},
     "output_type": "execute_result"
    }
   ],
   "source": [
    "twitter.get_lastfunction_header('x-rate-limit-remaining')"
   ]
  },
  {
   "cell_type": "code",
   "execution_count": 35,
   "metadata": {},
   "outputs": [
    {
     "data": {
      "text/plain": [
       "{'ids': [771243033928998912,\n",
       "  512926163,\n",
       "  706194013163024384,\n",
       "  2614298062,\n",
       "  2971270624,\n",
       "  2857007037,\n",
       "  3239731343,\n",
       "  3124847184,\n",
       "  3064054630,\n",
       "  2496037981,\n",
       "  2587243771,\n",
       "  2522640191],\n",
       " 'next_cursor': 0,\n",
       " 'next_cursor_str': '0',\n",
       " 'previous_cursor': 0,\n",
       " 'previous_cursor_str': '0',\n",
       " 'total_count': None}"
      ]
     },
     "execution_count": 35,
     "metadata": {},
     "output_type": "execute_result"
    }
   ],
   "source": [
    "result"
   ]
  }
 ],
 "metadata": {
  "kernelspec": {
   "display_name": "Python 3",
   "language": "python",
   "name": "python3"
  },
  "language_info": {
   "codemirror_mode": {
    "name": "ipython",
    "version": 3
   },
   "file_extension": ".py",
   "mimetype": "text/x-python",
   "name": "python",
   "nbconvert_exporter": "python",
   "pygments_lexer": "ipython3",
   "version": "3.7.2"
  }
 },
 "nbformat": 4,
 "nbformat_minor": 2
}
