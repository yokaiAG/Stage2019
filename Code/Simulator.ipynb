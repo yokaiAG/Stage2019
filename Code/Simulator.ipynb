{
 "cells": [
  {
   "cell_type": "markdown",
   "metadata": {},
   "source": [
    "# <center> Simulator </center>"
   ]
  },
  {
   "cell_type": "markdown",
   "metadata": {},
   "source": [
    "Code from internship 2018."
   ]
  },
  {
   "cell_type": "code",
   "execution_count": 1,
   "metadata": {},
   "outputs": [],
   "source": [
    "import numpy as np\n",
    "import networkx as nx\n",
    "import random as random\n",
    "from operator import itemgetter"
   ]
  },
  {
   "cell_type": "markdown",
   "metadata": {},
   "source": [
    "## 0. Setting parameters"
   ]
  },
  {
   "cell_type": "code",
   "execution_count": 5,
   "metadata": {},
   "outputs": [],
   "source": [
    "N = 20 # nb users\n",
    "lambdas = np.random.random(N)\n",
    "mus = np.random.random(N)\n",
    "nb_tirages = 10000"
   ]
  },
  {
   "cell_type": "markdown",
   "metadata": {},
   "source": [
    "## 1. Timestamps creation\n",
    "Creates list with lines (user, time, activity_type)."
   ]
  },
  {
   "cell_type": "code",
   "execution_count": 6,
   "metadata": {},
   "outputs": [],
   "source": [
    "# timestamps list\n",
    "timestamps = []\n",
    "\n",
    "# generate events user by user\n",
    "for j in range(N):\n",
    "    \n",
    "    # generate selfposts\n",
    "    time = 0\n",
    "    for n in range(nb_tirages):\n",
    "        dice = random.expovariate(lambdas[j])\n",
    "        time += dice\n",
    "        timestamps.append((j, time, 'post'))\n",
    "        \n",
    "    # generate reposts\n",
    "    time = 0\n",
    "    for n in range(nb_tirages):\n",
    "        dice = random.expovariate(mus[j])\n",
    "        time += dice\n",
    "        timestamps.append((j, time, 'repost'))\n",
    "\n",
    "# we only keep the nb_tirages first events\n",
    "timestamps = sorted(timestamps, key=itemgetter(1))[:nb_tirages]"
   ]
  },
  {
   "cell_type": "markdown",
   "metadata": {},
   "source": [
    "## 2. Trace generation\n",
    "Creates trace (twid, uid, ts, rtid) from events list and user graph."
   ]
  },
  {
   "cell_type": "markdown",
   "metadata": {},
   "source": [
    "Parameters."
   ]
  },
  {
   "cell_type": "code",
   "execution_count": 22,
   "metadata": {},
   "outputs": [
    {
     "name": "stdout",
     "output_type": "stream",
     "text": [
      "nb edges :  105\n",
      "strong connectivity :  True\n"
     ]
    }
   ],
   "source": [
    "G = nx.gnp_random_graph(N, 2*np.log(N)/N, directed=True)\n",
    "M = 10\n",
    "K = 5\n",
    "print(\"nb edges : \", G.number_of_edges())\n",
    "print(\"strong connectivity : \", nx.is_strongly_connected(G))"
   ]
  },
  {
   "cell_type": "markdown",
   "metadata": {},
   "source": [
    "Write graph on file."
   ]
  },
  {
   "cell_type": "code",
   "execution_count": 23,
   "metadata": {},
   "outputs": [],
   "source": [
    "graph_out = open(\"../Datasets/leadgraph_test.txt\", \"w\")\n",
    "for n in G.nodes:\n",
    "    graph_out.write(str(n))\n",
    "    for p in G.predecessors(n):\n",
    "        graph_out.write(\" \" + str(p))\n",
    "    graph_out.write(\"\\n\")\n",
    "graph_out.close()"
   ]
  },
  {
   "cell_type": "markdown",
   "metadata": {},
   "source": [
    "Out file path for writing trace."
   ]
  },
  {
   "cell_type": "code",
   "execution_count": 24,
   "metadata": {},
   "outputs": [],
   "source": [
    "out = open(\"../Datasets/trace_test.txt\", \"w\")"
   ]
  },
  {
   "cell_type": "markdown",
   "metadata": {},
   "source": [
    "Initialization."
   ]
  },
  {
   "cell_type": "code",
   "execution_count": 25,
   "metadata": {},
   "outputs": [],
   "source": [
    "# nb_posts_wall[i][j] : nb de posts de j dans wall de i\n",
    "# nb_posts_news[i][j] : nb de posts de j dans newsfeed de i\n",
    "nb_posts_wall = np.zeros(shape=(N,N))\n",
    "nb_posts_news = np.zeros(shape=(N,N))\n",
    "\n",
    "# leaders list creation from user graph\n",
    "leaders = []\n",
    "for i in range(N):\n",
    "    leaders.append(list(G.predecessors(i)))\n",
    "\n",
    "# on crée les wall et les newsfeed que l'on remplit aléatoirement uniformément\n",
    "# avec de posts de n'impore qui\n",
    "# on update en même temps nb_posts_wall et nb_posts_news\n",
    "# les posts sont sous la forme [post id, original user id, nb reposts]\n",
    "\n",
    "# on initialise les walls et newsfeed en listes vides\n",
    "wall = {}\n",
    "news = {}\n",
    "for i in range(N):     \n",
    "    wall[i] = []\n",
    "    news[i] = []\n",
    "\n",
    "# on remplit les walls et les newsfeeds\n",
    "for i in range(N):\n",
    "\n",
    "    # remplit wall\n",
    "    for k in range(K):\n",
    "        # on choisit un user (ou soi-même) au hasard\n",
    "        dice = random.randint(0,N-1)\n",
    "        # on ajoute au wall\n",
    "        wall[i].insert(0, [k+(K+M)*i, dice, 0])\n",
    "        # on update nb_posts_wall\n",
    "        nb_posts_wall[i][dice] += 1\n",
    "\n",
    "    # remplit newsfeed\n",
    "    for m in range(M):\n",
    "        # on choisit un user (ou soi-même) au hasard\n",
    "        dice = random.randint(0,N-1)\n",
    "        # on ajoute au news\n",
    "        news[i].insert(0, [K+m+(K+M)*i, dice, 0])\n",
    "        # on update nb_posts_news\n",
    "        nb_posts_news[i][dice] += 1\n",
    "#    print(\"\\nWalls : \", wall)\n",
    "#    print(\"\\nNewsfeeds : \", news)\n",
    "\n",
    "# on crée une variable next_id qui contient l'id du prochain post\n",
    "next_id = (K+M)*N\n",
    "\n",
    "# on crée un compteur de temps\n",
    "time = 0\n",
    "\n",
    "# on définit le nb d'étapes comme la longueur de la liste de timestamps\n",
    "nb_etapes = len(timestamps)"
   ]
  },
  {
   "cell_type": "markdown",
   "metadata": {},
   "source": [
    "Iterations: events."
   ]
  },
  {
   "cell_type": "code",
   "execution_count": 26,
   "metadata": {
    "scrolled": true
   },
   "outputs": [],
   "source": [
    "for n in range(nb_etapes):\n",
    "\n",
    "    # on définit next_event_time, user, type\n",
    "    next_event_user = timestamps[n][0]\n",
    "    next_event_time = timestamps[n][1]\n",
    "    next_event_type = timestamps[n][2]\n",
    "\n",
    "    # on définit le new_post (ie le tweet ou retweet) \n",
    "    if next_event_type == 'repost':\n",
    "        new_post = random.choice(news[next_event_user])\n",
    "        new_post[2] += 1      # on incrémente le nombre de reposts du tweet qui est retweeté\n",
    "    else:\n",
    "        new_post = [next_id, next_event_user, 0]\n",
    "\n",
    "    # on update le wall du next event user\n",
    "    deleted_post = random.choice(wall[next_event_user])\n",
    "    wall[next_event_user].remove(deleted_post)\n",
    "    wall[next_event_user].insert(0, new_post)\n",
    "\n",
    "    # on update nb_posts_wall du next_event_user\n",
    "    # deleted_post[1] correspond au deleted user et new_post[1] à l'utilisateur reposté\n",
    "    nb_posts_wall[next_event_user][deleted_post[1]] -= 1\n",
    "    nb_posts_wall[next_event_user][new_post[1]] += 1\n",
    "\n",
    "    # on update les newsfeed des followers du next event user et leurs nb_posts_news\n",
    "    for j in range(N):\n",
    "        if next_event_user in leaders[j]:\n",
    "            # update newsfeed\n",
    "            deleted_post = random.choice(news[j])\n",
    "            news[j].remove(deleted_post)\n",
    "            news[j].insert(0, new_post)\n",
    "            # update nb_posts_news\n",
    "            nb_posts_news[j][deleted_post[1]] -= 1\n",
    "            nb_posts_news[j][new_post[1]] += 1\n",
    "\n",
    "    # write event to out\n",
    "    if next_event_type == 'repost':\n",
    "        out.write(\"{} {} {} {}\\n\".format(next_id-1, time, next_event_user, new_post[0]))\n",
    "    else:\n",
    "        out.write(\"{} {} {} -1\\n\".format(next_id-1, time, next_event_user))\n",
    "\n",
    "    # on update le temps et next_id\n",
    "    time = next_event_time\n",
    "    next_id += 1\n",
    "    \n",
    "# close\n",
    "out.close()"
   ]
  },
  {
   "cell_type": "code",
   "execution_count": null,
   "metadata": {},
   "outputs": [],
   "source": []
  }
 ],
 "metadata": {
  "kernelspec": {
   "display_name": "Python 3",
   "language": "python",
   "name": "python3"
  },
  "language_info": {
   "codemirror_mode": {
    "name": "ipython",
    "version": 3
   },
   "file_extension": ".py",
   "mimetype": "text/x-python",
   "name": "python",
   "nbconvert_exporter": "python",
   "pygments_lexer": "ipython3",
   "version": "3.7.2"
  }
 },
 "nbformat": 4,
 "nbformat_minor": 2
}
