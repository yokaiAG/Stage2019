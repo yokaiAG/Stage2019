{
 "cells": [
  {
   "cell_type": "markdown",
   "metadata": {},
   "source": [
    "# <center> Simulator (custom)</center>"
   ]
  },
  {
   "cell_type": "markdown",
   "metadata": {},
   "source": [
    "This code is used to create synthetic twitter datasets according to the model. We create a user graph and choose an activity pair $(\\lambda,\\mu)$ for each user . From there we can generate events of tweeting/retweeting where each user $i$ tweets with rate $\\lambda_i$ and retweets from his newsfeed with rate $\\mu_i$. The output consists of two `.txt` files, one being the adjacency list of the user graph and the other the list of tweets."
   ]
  },
  {
   "cell_type": "code",
   "execution_count": 203,
   "metadata": {},
   "outputs": [],
   "source": [
    "import numpy as np\n",
    "from random import choice\n",
    "from operator import itemgetter"
   ]
  },
  {
   "cell_type": "markdown",
   "metadata": {},
   "source": [
    "Choose out folder where the results will be written."
   ]
  },
  {
   "cell_type": "code",
   "execution_count": 204,
   "metadata": {},
   "outputs": [],
   "source": [
    "out_folder = \"../Datasets/Newman/\""
   ]
  },
  {
   "cell_type": "markdown",
   "metadata": {},
   "source": [
    "## Setting parameters\n",
    "Choose the number of users $N$, the number of events `nb_events` and the activity rates. The latter are in the form of two lists of length $N$: `Lambda` and `Mu` where `Lambda[i]` is the posting rate of user $i$ and `Mu[i]` is her reposting rate."
   ]
  },
  {
   "cell_type": "code",
   "execution_count": 205,
   "metadata": {},
   "outputs": [],
   "source": [
    "N = 50\n",
    "nb_events = 10000\n",
    "\n",
    "# Lambda = np.random.pareto(1.3, N)\n",
    "# Mu = np.random.pareto(1.3, N)\n",
    "\n",
    "# Lambda = [0.1 for n in range(N)]\n",
    "# Mu = [0.1 for n in range(N)]\n",
    "\n",
    "Lambda = np.random.random(N)\n",
    "Mu = np.random.random(N)"
   ]
  },
  {
   "cell_type": "markdown",
   "metadata": {},
   "source": [
    "## 1. User graph creation"
   ]
  },
  {
   "cell_type": "markdown",
   "metadata": {},
   "source": [
    "We represent the user graph with a dictionary `Followers` where `Followers[i]` is the set of leaders of user $i$."
   ]
  },
  {
   "cell_type": "code",
   "execution_count": 206,
   "metadata": {},
   "outputs": [
    {
     "name": "stdout",
     "output_type": "stream",
     "text": [
      "Number of edges:  255\n"
     ]
    }
   ],
   "source": [
    "# example: graph Erdös-Rényi of parameter w\n",
    "w = 0.1\n",
    "Followers = {i:set() for i in range(N)}\n",
    "for i in range(N):\n",
    "    for j in range(N):\n",
    "        if j != i and np.random.random() < w:\n",
    "            Followers[i].add(j)\n",
    "print(\"Number of edges: \", sum([len(Followers[i]) for i in range(N)]))"
   ]
  },
  {
   "cell_type": "markdown",
   "metadata": {},
   "source": [
    "Write adjacency list on file."
   ]
  },
  {
   "cell_type": "code",
   "execution_count": 207,
   "metadata": {},
   "outputs": [],
   "source": [
    "graph_out = open(out_folder + \"adjList_rand+full.txt\", \"w\")\n",
    "for i in Followers:\n",
    "    for j in Followers[i]:\n",
    "        graph_out.write(\"{} {}\\n\".format(i,j))\n",
    "graph_out.close()"
   ]
  },
  {
   "cell_type": "markdown",
   "metadata": {},
   "source": [
    "## 2. Events creation"
   ]
  },
  {
   "cell_type": "markdown",
   "metadata": {},
   "source": [
    "We generate a list `events` where the $i^{th}$ entry corresponds to the $i^{th}$ event occurring on the network. Each event is described as a tuple `twid timestamp userid rtid`, with\n",
    "- `twid` is the unique id of the tweet, $\\in \\{1, \\ldots, nb\\_events\\}$\n",
    "- `timestamp` is the instant of occurence (seconds since the beginning)\n",
    "- `userid` is the unique id $\\in \\{1, \\ldots, N\\}$ of the (re)tweeting user\n",
    "- `rtid` is the id of the original tweet in case of retweet, else is set to -1."
   ]
  },
  {
   "cell_type": "code",
   "execution_count": 208,
   "metadata": {},
   "outputs": [],
   "source": [
    "news = {i:list() for i in range(N)} # initialization of the newsfeeds\n",
    "M = 1 # newsfeeds max size\n",
    "next_twid = 1 # id of the next post\n",
    "time = 0 # time since the beginning\n",
    "Events = list() # list of events (output)\n",
    "\n",
    "while len(Events) < nb_events:\n",
    "    \n",
    "    # generate exponential variates of scale 1/lambda, 1/mu for each user\n",
    "    posting_time = np.random.exponential([1/x for x in Lambda], N)\n",
    "    reposting_time = np.random.exponential([1/x for x in Mu], N)\n",
    "    \n",
    "    # get closest posting time and reposting time ---> next event will be the closest between both\n",
    "    min_post = np.min(posting_time)\n",
    "    min_repost = np.min(reposting_time)\n",
    "    \n",
    "    # if the next event is a post\n",
    "    if min_post < min_repost:\n",
    "        time += min_post\n",
    "        user = np.argmin(posting_time)\n",
    "        new_post = (next_twid, time, user, -1) # create new post\n",
    "    \n",
    "    # if repost\n",
    "    elif min_repost < min_post:\n",
    "        time += min_repost\n",
    "        user = np.argmin(reposting_time)\n",
    "        if len(news[user]) == 0: # skip step if nothing to repost in the user's newsfeed\n",
    "            continue\n",
    "        else:\n",
    "            retweeted = choice(news[user]) # choose what to retweet\n",
    "            if retweeted[-1] == -1: # get original id\n",
    "                rtid = retweeted[0]\n",
    "            else:\n",
    "                rtid = retweeted[-1]\n",
    "            new_post = (next_twid, time, user, rtid) # create new_post\n",
    "            \n",
    "            \n",
    "    # append new post to the events list and update next_twid\n",
    "    Events.append(new_post)\n",
    "    next_twid += 1\n",
    "\n",
    "    # update newfeeds for followers of active user\n",
    "    for j in Followers[user]:\n",
    "        if len(news[j]) == M: # remove something at random if newsfeed is full\n",
    "            news[j].remove(choice(news[j]))\n",
    "        news[j].append(new_post) # add new post to newsfeed"
   ]
  },
  {
   "cell_type": "markdown",
   "metadata": {},
   "source": [
    "Look at the first events."
   ]
  },
  {
   "cell_type": "code",
   "execution_count": 209,
   "metadata": {
    "scrolled": true
   },
   "outputs": [
    {
     "data": {
      "text/plain": [
       "[(1, 0.10201348508006433, 20, -1),\n",
       " (2, 0.12094884559350029, 6, -1),\n",
       " (3, 0.1288907129115605, 25, 2),\n",
       " (4, 0.13907258070105855, 22, 1),\n",
       " (5, 0.1928669727552667, 10, -1),\n",
       " (6, 0.2865124262650053, 12, -1),\n",
       " (7, 0.2901194127828487, 17, -1),\n",
       " (8, 0.3379811614389025, 47, -1),\n",
       " (9, 0.3401934575074848, 43, -1),\n",
       " (10, 0.38232000000316807, 27, 6)]"
      ]
     },
     "execution_count": 209,
     "metadata": {},
     "output_type": "execute_result"
    }
   ],
   "source": [
    "Events[:10]"
   ]
  },
  {
   "cell_type": "markdown",
   "metadata": {},
   "source": [
    "Write events list to `outfolder/trace.txt`. Each line is an entry of the list."
   ]
  },
  {
   "cell_type": "code",
   "execution_count": 210,
   "metadata": {},
   "outputs": [],
   "source": [
    "out = open(out_folder + \"trace_rand+full.txt\", \"w\")\n",
    "for e in Events:\n",
    "    out.write(\"{} {} {} {}\\n\".format(e[0], e[1], e[2], e[3]))\n",
    "out.close()"
   ]
  },
  {
   "cell_type": "code",
   "execution_count": null,
   "metadata": {},
   "outputs": [],
   "source": []
  },
  {
   "cell_type": "code",
   "execution_count": null,
   "metadata": {},
   "outputs": [],
   "source": []
  },
  {
   "cell_type": "code",
   "execution_count": 51,
   "metadata": {},
   "outputs": [],
   "source": [
    "events = list()\n",
    "for line in open(out_folder + \"trace_cst+full.txt\"):\n",
    "    line = line.split()\n",
    "    twid, ts, uid, rtid = int(line[0]), float(line[1]), int(line[2]), int(line[3])\n",
    "    events.append((twid, ts, uid, rtid))"
   ]
  },
  {
   "cell_type": "code",
   "execution_count": 54,
   "metadata": {
    "scrolled": true
   },
   "outputs": [
    {
     "name": "stdout",
     "output_type": "stream",
     "text": [
      "0.1 0.09698284162813663\n",
      "0.1 0.08914584432485287\n",
      "0.1 0.10873833758306228\n",
      "0.1 0.10384021426850992\n",
      "0.1 0.10677908825724135\n",
      "0.1 0.10384021426850992\n",
      "0.1 0.09894209095395758\n",
      "0.1 0.12441233218962983\n",
      "0.1 0.09208471831358428\n",
      "0.1 0.08424772101030051\n",
      "0.1 0.10775871292015181\n",
      "0.1 0.09600321696522617\n",
      "0.1 0.09600321696522617\n",
      "0.1 0.08914584432485287\n",
      "0.1 0.1116772115717937\n",
      "0.1 0.09894209095395758\n",
      "0.1 0.09404396763940522\n",
      "0.1 0.08522734567321098\n",
      "0.1 0.09894209095395758\n",
      "0.1 0.09208471831358428\n",
      "0.1 0.1116772115717937\n",
      "0.1 0.1116772115717937\n",
      "0.1 0.10188096494268899\n",
      "0.1 0.09208471831358428\n",
      "0.1 0.10090134027977851\n",
      "0.1 0.10090134027977851\n",
      "0.1 0.10188096494268899\n",
      "0.1 0.0979624662910471\n",
      "0.1 0.09600321696522617\n",
      "0.1 0.09992171561686805\n",
      "0.1 0.08326809634739003\n",
      "0.1 0.08228847168447957\n",
      "0.1 0.09502359230231569\n",
      "0.1 0.09600321696522617\n",
      "0.1 0.10873833758306228\n",
      "0.1 0.11363646089761464\n",
      "0.1 0.10188096494268899\n",
      "0.1 0.08424772101030051\n",
      "0.1 0.0646552277520911\n",
      "0.1 0.11559571022343558\n",
      "0.1 0.10384021426850992\n",
      "0.1 0.10384021426850992\n",
      "0.1 0.0979624662910471\n",
      "0.1 0.0813088470215691\n",
      "0.1 0.10873833758306228\n",
      "0.1 0.09012546898776333\n",
      "0.1 0.0979624662910471\n",
      "0.1 0.09600321696522617\n",
      "0.1 0.10384021426850992\n",
      "0.1 0.09404396763940522\n"
     ]
    }
   ],
   "source": [
    "lambdas_ = {i:0 for i in range(N)}\n",
    "mus_ = {i:0 for i in range(N)}\n",
    "for e in events:\n",
    "    uid, rtid = e[2], e[3]\n",
    "    if rtid == -1:\n",
    "        lambdas_[uid] += 1\n",
    "    else:\n",
    "        mus_[uid] += 1\n",
    "T = e[1]\n",
    "lambdas_ = {i:lambdas_[i]/T for i in lambdas_}\n",
    "mus_ = {i:mus_[i]/T for i in mus_}\n",
    "\n",
    "for i in range(N):\n",
    "    print(Mu[i], mus_[i])"
   ]
  },
  {
   "cell_type": "code",
   "execution_count": 75,
   "metadata": {},
   "outputs": [
    {
     "data": {
      "text/plain": [
       "{45}"
      ]
     },
     "execution_count": 75,
     "metadata": {},
     "output_type": "execute_result"
    }
   ],
   "source": [
    "Followers[3]"
   ]
  },
  {
   "cell_type": "code",
   "execution_count": null,
   "metadata": {},
   "outputs": [],
   "source": []
  }
 ],
 "metadata": {
  "kernelspec": {
   "display_name": "Python 3",
   "language": "python",
   "name": "python3"
  },
  "language_info": {
   "codemirror_mode": {
    "name": "ipython",
    "version": 3
   },
   "file_extension": ".py",
   "mimetype": "text/x-python",
   "name": "python",
   "nbconvert_exporter": "python",
   "pygments_lexer": "ipython3",
   "version": "3.7.2"
  }
 },
 "nbformat": 4,
 "nbformat_minor": 2
}
