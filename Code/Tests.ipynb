{
 "cells": [
  {
   "cell_type": "code",
   "execution_count": 1,
   "metadata": {},
   "outputs": [],
   "source": [
    "import util\n",
    "import matplotlib.pyplot as plt\n",
    "import math\n",
    "import numpy as np\n",
    "import networkx as nx\n",
    "from operator import itemgetter"
   ]
  },
  {
   "cell_type": "code",
   "execution_count": 2,
   "metadata": {},
   "outputs": [],
   "source": [
    "model = dict()\n",
    "for line in open(\"PsiResults/Psis/weibo_model_truegraph_top5501emul.txt\"):\n",
    "    line = line.split()\n",
    "    model[int(line[0])] = float(line[1])"
   ]
  },
  {
   "cell_type": "code",
   "execution_count": 3,
   "metadata": {},
   "outputs": [],
   "source": [
    "for line in open(\"PsiResults/Psis/weibo_model_truegraph_5500-6000emul.txt\"):\n",
    "    line = line.split()\n",
    "    model[int(line[0])] = float(line[1])"
   ]
  },
  {
   "cell_type": "code",
   "execution_count": 5,
   "metadata": {},
   "outputs": [],
   "source": [
    "for line in open(\"PsiResults/Psis/weibo_model_truegraph_4500-4546emul.txt\"):\n",
    "    line = line.split()\n",
    "    model[int(line[0])] = float(line[1])"
   ]
  },
  {
   "cell_type": "code",
   "execution_count": 6,
   "metadata": {},
   "outputs": [],
   "source": [
    "from operator import itemgetter\n",
    "with open(\"PsiResults/Psis/weibo_model_truegraph_top5501emul.txt\", \"w\") as out:\n",
    "    for user,psi in sorted(model.items(), key=itemgetter(1), reverse=True):\n",
    "        out.write(\"{} {}\\n\".format(user,psi))"
   ]
  },
  {
   "cell_type": "code",
   "execution_count": 4,
   "metadata": {},
   "outputs": [
    {
     "data": {
      "text/plain": [
       "6000"
      ]
     },
     "execution_count": 4,
     "metadata": {},
     "output_type": "execute_result"
    }
   ],
   "source": [
    "len(model)"
   ]
  },
  {
   "cell_type": "code",
   "execution_count": null,
   "metadata": {},
   "outputs": [],
   "source": []
  },
  {
   "cell_type": "code",
   "execution_count": 11,
   "metadata": {},
   "outputs": [],
   "source": [
    "import sympy as sp\n",
    "from sympy.stats import Normal, sample\n",
    "x, mu, eps = sp.symbols('x mu eps')\n",
    "X = Normal('X', x-mu, x-mu+eps)"
   ]
  },
  {
   "cell_type": "code",
   "execution_count": 12,
   "metadata": {},
   "outputs": [],
   "source": [
    "n = 1000\n",
    "samples = list()\n",
    "for i in range(n):\n",
    "    samples.append(np.exp-(sample(X))**)\n",
    "print(sum(samples)/n)"
   ]
  },
  {
   "cell_type": "code",
   "execution_count": null,
   "metadata": {},
   "outputs": [],
   "source": []
  },
  {
   "cell_type": "code",
   "execution_count": 3,
   "metadata": {},
   "outputs": [],
   "source": [
    "N, T = list(), list()\n",
    "for line in open(\"Datasets/Newman/scalability_times.txt\"):\n",
    "    line = line.split()\n",
    "    N.append(int(line[0]))\n",
    "    T.append(float(line[1]))"
   ]
  },
  {
   "cell_type": "code",
   "execution_count": 11,
   "metadata": {},
   "outputs": [
    {
     "data": {
      "text/plain": [
       "([<matplotlib.axis.YTick at 0x179b3402160>,\n",
       "  <matplotlib.axis.YTick at 0x179b33fca58>,\n",
       "  <matplotlib.axis.YTick at 0x179b3393a58>,\n",
       "  <matplotlib.axis.YTick at 0x179b341aeb8>],\n",
       " <a list of 4 Text yticklabel objects>)"
      ]
     },
     "execution_count": 11,
     "metadata": {},
     "output_type": "execute_result"
    },
    {
     "data": {
      "image/png": "[encoded data removed]",
      "text/plain": [
       "<Figure size 432x288 with 1 Axes>"
      ]
     },
     "metadata": {
      "needs_background": "light"
     },
     "output_type": "display_data"
    }
   ],
   "source": [
    "plt.plot(N[1:], T[1:], color='blue', marker='o', ls=':')\n",
    "plt.xticks(N[1:])\n",
    "plt.yticks(T[1:])"
   ]
  },
  {
   "cell_type": "code",
   "execution_count": null,
   "metadata": {},
   "outputs": [],
   "source": []
  },
  {
   "cell_type": "code",
   "execution_count": null,
   "metadata": {},
   "outputs": [],
   "source": []
  },
  {
   "cell_type": "code",
   "execution_count": null,
   "metadata": {},
   "outputs": [],
   "source": []
  },
  {
   "cell_type": "code",
   "execution_count": 31,
   "metadata": {},
   "outputs": [],
   "source": [
    "G = nx.DiGraph()\n",
    "G.add_edges_from([('Anastasios', 'Bruno'), ('Bruno', 'Clémence'), ('Clémence', 'Antoine')])"
   ]
  },
  {
   "cell_type": "code",
   "execution_count": 32,
   "metadata": {},
   "outputs": [
    {
     "data": {
      "image/png": "[encoded data removed]",
      "text/plain": [
       "<Figure size 432x288 with 1 Axes>"
      ]
     },
     "metadata": {},
     "output_type": "display_data"
    }
   ],
   "source": [
    "nx.draw(G, with_labels=True, node_color='white', node_size=2000, font_size=15)\n",
    "plt.savefig(\"graph_star.pdf\")"
   ]
  },
  {
   "cell_type": "code",
   "execution_count": null,
   "metadata": {},
   "outputs": [],
   "source": []
  },
  {
   "cell_type": "code",
   "execution_count": 1,
   "metadata": {},
   "outputs": [],
   "source": [
    "model32 = dict()\n",
    "for line in open(\"PsiResults/Psis/weibo32_model_truegraph_4500-4550emul.txt\"):\n",
    "    line = line.split()\n",
    "    model32[int(line[0])] = float(line[1])"
   ]
  },
  {
   "cell_type": "code",
   "execution_count": 50,
   "metadata": {},
   "outputs": [],
   "source": [
    "index_emul = dict()\n",
    "for i,line in enumerate(open(\"PsiResults/Psis/weibo_emul.txt\")):\n",
    "    index_emul[int(line.split()[0])] = i"
   ]
  },
  {
   "cell_type": "code",
   "execution_count": 8,
   "metadata": {},
   "outputs": [],
   "source": [
    "model = dict()\n",
    "for line in open(\"PsiResults/Psis/weibo_model_truegraph_top4547emul.txt\"):\n",
    "    line = line.split()\n",
    "    model[int(line[0])] = float(line[1])"
   ]
  },
  {
   "cell_type": "code",
   "execution_count": 5,
   "metadata": {},
   "outputs": [],
   "source": [
    "out = open(\"PsiResults/Psis/weibo_model_truegraph_top6000emul.txt\", \"w\")\n",
    "for user,psi in sorted(model.items(), key=itemgetter(1), reverse=True):\n",
    "    out.write(\"{} {}\\n\".format(user, model[user]))\n",
    "out.close()"
   ]
  },
  {
   "cell_type": "code",
   "execution_count": 73,
   "metadata": {},
   "outputs": [
    {
     "data": {
      "text/plain": [
       "5001"
      ]
     },
     "execution_count": 73,
     "metadata": {},
     "output_type": "execute_result"
    }
   ],
   "source": [
    "len(model)"
   ]
  },
  {
   "cell_type": "code",
   "execution_count": 53,
   "metadata": {},
   "outputs": [],
   "source": [
    "model_index = set()\n",
    "for i,line in enumerate(open(\"PsiResults/Psis/weibo32_model_truegraph_4500-4550emul.txt\")):\n",
    "    model_index.add(index_emul[int(line.split()[0])])"
   ]
  },
  {
   "cell_type": "code",
   "execution_count": null,
   "metadata": {},
   "outputs": [],
   "source": []
  },
  {
   "cell_type": "code",
   "execution_count": null,
   "metadata": {},
   "outputs": [],
   "source": []
  },
  {
   "cell_type": "code",
   "execution_count": 66,
   "metadata": {},
   "outputs": [],
   "source": [
    "model = dict()\n",
    "for line in open(\"PsiResults/Psis/weibo64_model_truegraph_top4501emul.txt\"):\n",
    "    line = line.split()\n",
    "    model[int(line[0])] = float(line[1])"
   ]
  },
  {
   "cell_type": "code",
   "execution_count": 68,
   "metadata": {},
   "outputs": [],
   "source": [
    "for line in open(\"PsiResults/Psis/weibo32_model_truegraph_4500-4550emul.txt\"):\n",
    "    line = line.split()\n",
    "    model[int(line[0])] = float(line[1])"
   ]
  },
  {
   "cell_type": "code",
   "execution_count": 69,
   "metadata": {},
   "outputs": [],
   "source": [
    "model_index = set()\n",
    "for user in model:\n",
    "    model_index.add(index_emul[user])"
   ]
  },
  {
   "cell_type": "code",
   "execution_count": 71,
   "metadata": {},
   "outputs": [
    {
     "data": {
      "text/plain": [
       "True"
      ]
     },
     "execution_count": 71,
     "metadata": {},
     "output_type": "execute_result"
    }
   ],
   "source": [
    "sorted(model_index) == list(range(5001))"
   ]
  },
  {
   "cell_type": "code",
   "execution_count": 4,
   "metadata": {},
   "outputs": [
    {
     "data": {
      "text/plain": [
       "0.3962431740741877"
      ]
     },
     "execution_count": 4,
     "metadata": {},
     "output_type": "execute_result"
    }
   ],
   "source": [
    "503654 / (767419 + 503654)"
   ]
  },
  {
   "cell_type": "code",
   "execution_count": null,
   "metadata": {},
   "outputs": [],
   "source": []
  },
  {
   "cell_type": "code",
   "execution_count": null,
   "metadata": {},
   "outputs": [],
   "source": []
  },
  {
   "cell_type": "code",
   "execution_count": 2,
   "metadata": {},
   "outputs": [
    {
     "name": "stdout",
     "output_type": "stream",
     "text": [
      "../Datasets/wcano_rtid.txt 11339937 3909825\n",
      "../Datasets/weibo_rtid.txt 33307189 0\n",
      "../Datasets/russian_rtid.txt 767419 503654\n"
     ]
    }
   ],
   "source": [
    "for data in ['../Datasets/wcano_rtid.txt', '../Datasets/russian_rtid.txt']:\n",
    "    nb_known = 0\n",
    "    nb_unknown = 0\n",
    "    author = util.get_authors(data)\n",
    "    for line in open(data):\n",
    "        rtid = int(line.split()[-1])\n",
    "        if rtid != -1:\n",
    "            if rtid in author:\n",
    "                nb_known += 1\n",
    "            else:\n",
    "                nb_unknown += 1\n",
    "    print(data, nb_known, nb_unknown)"
   ]
  }
 ],
 "metadata": {
  "kernelspec": {
   "display_name": "Python 3",
   "language": "python",
   "name": "python3"
  },
  "language_info": {
   "codemirror_mode": {
    "name": "ipython",
    "version": 3
   },
   "file_extension": ".py",
   "mimetype": "text/x-python",
   "name": "python",
   "nbconvert_exporter": "python",
   "pygments_lexer": "ipython3",
   "version": "3.7.2"
  }
 },
 "nbformat": 4,
 "nbformat_minor": 2
}
