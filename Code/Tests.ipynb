{
 "cells": [
  {
   "cell_type": "code",
   "execution_count": 1,
   "metadata": {},
   "outputs": [],
   "source": [
    "import util\n",
    "import matplotlib.pyplot as plt\n",
    "import math\n",
    "import numpy as np\n",
    "import networkx as nx\n",
    "from operator import itemgetter\n",
    "from scipy.stats import expon, kstest"
   ]
  },
  {
   "cell_type": "code",
   "execution_count": 19,
   "metadata": {},
   "outputs": [],
   "source": [
    "model = dict()\n",
    "for line in open(\"../PsiResults/Psis/wcano_oursin_5iter_Psi_model_0_5804715.txt\"):\n",
    "    line = line.split()\n",
    "    user, psi = int(line[0]), float(line[1])\n",
    "    model[user] = psi"
   ]
  },
  {
   "cell_type": "code",
   "execution_count": 21,
   "metadata": {},
   "outputs": [],
   "source": [
    "for line in open(\"../PsiResults/Psis/wcano_oursin_5iter_secondtry.txt\"):\n",
    "    line = line.split()\n",
    "    user, psi = int(line[0]), float(line[1])\n",
    "    if user not in model:\n",
    "        model[user] = psi"
   ]
  },
  {
   "cell_type": "code",
   "execution_count": 5,
   "metadata": {},
   "outputs": [],
   "source": [
    "for line in open(\"PsiResults/Psis/weibo_model_truegraph_4500-4546emul.txt\"):\n",
    "    line = line.split()\n",
    "    model[int(line[0])] = float(line[1])"
   ]
  },
  {
   "cell_type": "code",
   "execution_count": 23,
   "metadata": {},
   "outputs": [],
   "source": [
    "from operator import itemgetter\n",
    "with open(\"../PsiResults/Psis/wcano_oursin_just5iter_full.txt\", 'w') as out:\n",
    "    for user,psi in sorted(model.items(), key=itemgetter(1), reverse=True):\n",
    "        out.write(\"{} {}\\n\".format(user,psi))"
   ]
  },
  {
   "cell_type": "code",
   "execution_count": 6,
   "metadata": {},
   "outputs": [
    {
     "data": {
      "text/plain": [
       "61.266666666666666"
      ]
     },
     "execution_count": 6,
     "metadata": {},
     "output_type": "execute_result"
    }
   ],
   "source": [
    "3676/60"
   ]
  },
  {
   "cell_type": "code",
   "execution_count": 22,
   "metadata": {},
   "outputs": [
    {
     "data": {
      "text/plain": [
       "77230"
      ]
     },
     "execution_count": 22,
     "metadata": {},
     "output_type": "execute_result"
    }
   ],
   "source": [
    "len(model)"
   ]
  },
  {
   "cell_type": "code",
   "execution_count": 5,
   "metadata": {},
   "outputs": [],
   "source": [
    "for line in open(\"../PsiResults/Psis/weibo_emul.txt\"):\n",
    "    line = line.split()\n",
    "    user, psi = int(line[0]), float(line[1])\n",
    "    if user in model:\n",
    "        if psi==0:\n",
    "            del model[user]"
   ]
  },
  {
   "cell_type": "code",
   "execution_count": 6,
   "metadata": {},
   "outputs": [],
   "source": [
    "while False:\n",
    "    print(1)"
   ]
  },
  {
   "cell_type": "code",
   "execution_count": 11,
   "metadata": {},
   "outputs": [],
   "source": [
    "import sympy as sp\n",
    "from sympy.stats import Normal, sample\n",
    "x, mu, eps = sp.symbols('x mu eps')\n",
    "X = Normal('X', x-mu, x-mu+eps)"
   ]
  },
  {
   "cell_type": "code",
   "execution_count": 12,
   "metadata": {},
   "outputs": [],
   "source": [
    "n = 1000\n",
    "samples = list()\n",
    "for i in range(n):\n",
    "    samples.append(np.exp-(sample(X))**)\n",
    "print(sum(samples)/n)"
   ]
  },
  {
   "cell_type": "code",
   "execution_count": null,
   "metadata": {},
   "outputs": [],
   "source": []
  },
  {
   "cell_type": "code",
   "execution_count": 3,
   "metadata": {},
   "outputs": [],
   "source": [
    "N, T = list(), list()\n",
    "for line in open(\"Datasets/Newman/scalability_times.txt\"):\n",
    "    line = line.split()\n",
    "    N.append(int(line[0]))\n",
    "    T.append(float(line[1]))"
   ]
  },
  {
   "cell_type": "code",
   "execution_count": 11,
   "metadata": {},
   "outputs": [
    {
     "data": {
      "text/plain": [
       "([<matplotlib.axis.YTick at 0x179b3402160>,\n",
       "  <matplotlib.axis.YTick at 0x179b33fca58>,\n",
       "  <matplotlib.axis.YTick at 0x179b3393a58>,\n",
       "  <matplotlib.axis.YTick at 0x179b341aeb8>],\n",
       " <a list of 4 Text yticklabel objects>)"
      ]
     },
     "execution_count": 11,
     "metadata": {},
     "output_type": "execute_result"
    },
    {
     "data": {
      "image/png": "[encoded data removed]",
      "text/plain": [
       "<Figure size 432x288 with 1 Axes>"
      ]
     },
     "metadata": {
      "needs_background": "light"
     },
     "output_type": "display_data"
    }
   ],
   "source": [
    "plt.plot(N[1:], T[1:], color='blue', marker='o', ls=':')\n",
    "plt.xticks(N[1:])\n",
    "plt.yticks(T[1:])"
   ]
  },
  {
   "cell_type": "code",
   "execution_count": null,
   "metadata": {},
   "outputs": [],
   "source": []
  },
  {
   "cell_type": "code",
   "execution_count": null,
   "metadata": {},
   "outputs": [],
   "source": []
  },
  {
   "cell_type": "code",
   "execution_count": null,
   "metadata": {},
   "outputs": [],
   "source": []
  },
  {
   "cell_type": "code",
   "execution_count": 31,
   "metadata": {},
   "outputs": [],
   "source": [
    "G = nx.DiGraph()\n",
    "G.add_edges_from([('Anastasios', 'Bruno'), ('Bruno', 'Clémence'), ('Clémence', 'Antoine')])"
   ]
  },
  {
   "cell_type": "code",
   "execution_count": 32,
   "metadata": {},
   "outputs": [
    {
     "data": {
      "image/png": "[encoded data removed]",
      "text/plain": [
       "<Figure size 432x288 with 1 Axes>"
      ]
     },
     "metadata": {},
     "output_type": "display_data"
    }
   ],
   "source": [
    "nx.draw(G, with_labels=True, node_color='white', node_size=2000, font_size=15)\n",
    "plt.savefig(\"graph_star.pdf\")"
   ]
  },
  {
   "cell_type": "code",
   "execution_count": 5,
   "metadata": {},
   "outputs": [],
   "source": [
    "authors = util.get_authors(\"../Datasets/russian_rtid.txt\")"
   ]
  },
  {
   "cell_type": "code",
   "execution_count": 7,
   "metadata": {},
   "outputs": [
    {
     "data": {
      "text/plain": [
       "181621"
      ]
     },
     "execution_count": 7,
     "metadata": {},
     "output_type": "execute_result"
    }
   ],
   "source": [
    "len(set([*authors.values()]))"
   ]
  },
  {
   "cell_type": "code",
   "execution_count": 1,
   "metadata": {},
   "outputs": [],
   "source": [
    "model32 = dict()\n",
    "for line in open(\"PsiResults/Psis/weibo32_model_truegraph_4500-4550emul.txt\"):\n",
    "    line = line.split()\n",
    "    model32[int(line[0])] = float(line[1])"
   ]
  },
  {
   "cell_type": "code",
   "execution_count": 50,
   "metadata": {},
   "outputs": [],
   "source": [
    "index_emul = dict()\n",
    "for i,line in enumerate(open(\"PsiResults/Psis/weibo_emul.txt\")):\n",
    "    index_emul[int(line.split()[0])] = i"
   ]
  },
  {
   "cell_type": "code",
   "execution_count": 8,
   "metadata": {},
   "outputs": [],
   "source": [
    "model = dict()\n",
    "for line in open(\"PsiResults/Psis/weibo_model_truegraph_top4547emul.txt\"):\n",
    "    line = line.split()\n",
    "    model[int(line[0])] = float(line[1])"
   ]
  },
  {
   "cell_type": "code",
   "execution_count": 5,
   "metadata": {},
   "outputs": [],
   "source": [
    "out = open(\"PsiResults/Psis/weibo_model_truegraph_top6000emul.txt\", \"w\")\n",
    "for user,psi in sorted(model.items(), key=itemgetter(1), reverse=True):\n",
    "    out.write(\"{} {}\\n\".format(user, model[user]))\n",
    "out.close()"
   ]
  },
  {
   "cell_type": "code",
   "execution_count": 73,
   "metadata": {},
   "outputs": [
    {
     "data": {
      "text/plain": [
       "5001"
      ]
     },
     "execution_count": 73,
     "metadata": {},
     "output_type": "execute_result"
    }
   ],
   "source": [
    "len(model)"
   ]
  },
  {
   "cell_type": "code",
   "execution_count": 53,
   "metadata": {},
   "outputs": [],
   "source": [
    "model_index = set()\n",
    "for i,line in enumerate(open(\"PsiResults/Psis/weibo32_model_truegraph_4500-4550emul.txt\")):\n",
    "    model_index.add(index_emul[int(line.split()[0])])"
   ]
  },
  {
   "cell_type": "code",
   "execution_count": null,
   "metadata": {},
   "outputs": [],
   "source": []
  },
  {
   "cell_type": "code",
   "execution_count": null,
   "metadata": {},
   "outputs": [],
   "source": []
  },
  {
   "cell_type": "code",
   "execution_count": 66,
   "metadata": {},
   "outputs": [],
   "source": [
    "model = dict()\n",
    "for line in open(\"PsiResults/Psis/weibo64_model_truegraph_top4501emul.txt\"):\n",
    "    line = line.split()\n",
    "    model[int(line[0])] = float(line[1])"
   ]
  },
  {
   "cell_type": "code",
   "execution_count": 68,
   "metadata": {},
   "outputs": [],
   "source": [
    "for line in open(\"PsiResults/Psis/weibo32_model_truegraph_4500-4550emul.txt\"):\n",
    "    line = line.split()\n",
    "    model[int(line[0])] = float(line[1])"
   ]
  },
  {
   "cell_type": "code",
   "execution_count": 69,
   "metadata": {},
   "outputs": [],
   "source": [
    "model_index = set()\n",
    "for user in model:\n",
    "    model_index.add(index_emul[user])"
   ]
  },
  {
   "cell_type": "code",
   "execution_count": 71,
   "metadata": {},
   "outputs": [
    {
     "data": {
      "text/plain": [
       "True"
      ]
     },
     "execution_count": 71,
     "metadata": {},
     "output_type": "execute_result"
    }
   ],
   "source": [
    "sorted(model_index) == list(range(5001))"
   ]
  },
  {
   "cell_type": "code",
   "execution_count": 4,
   "metadata": {},
   "outputs": [
    {
     "data": {
      "text/plain": [
       "0.3962431740741877"
      ]
     },
     "execution_count": 4,
     "metadata": {},
     "output_type": "execute_result"
    }
   ],
   "source": [
    "503654 / (767419 + 503654)"
   ]
  },
  {
   "cell_type": "code",
   "execution_count": null,
   "metadata": {},
   "outputs": [],
   "source": []
  },
  {
   "cell_type": "code",
   "execution_count": null,
   "metadata": {},
   "outputs": [],
   "source": []
  },
  {
   "cell_type": "code",
   "execution_count": 2,
   "metadata": {},
   "outputs": [
    {
     "name": "stdout",
     "output_type": "stream",
     "text": [
      "../Datasets/wcano_rtid.txt 11339937 3909825\n",
      "../Datasets/weibo_rtid.txt 33307189 0\n",
      "../Datasets/russian_rtid.txt 767419 503654\n"
     ]
    }
   ],
   "source": [
    "for data in ['../Datasets/wcano_rtid.txt', '../Datasets/russian_rtid.txt']:\n",
    "    nb_known = 0\n",
    "    nb_unknown = 0\n",
    "    author = util.get_authors(data)\n",
    "    for line in open(data):\n",
    "        rtid = int(line.split()[-1])\n",
    "        if rtid != -1:\n",
    "            if rtid in author:\n",
    "                nb_known += 1\n",
    "            else:\n",
    "                nb_unknown += 1\n",
    "    print(data, nb_known, nb_unknown)"
   ]
  },
  {
   "cell_type": "code",
   "execution_count": null,
   "metadata": {},
   "outputs": [],
   "source": []
  },
  {
   "cell_type": "code",
   "execution_count": null,
   "metadata": {},
   "outputs": [],
   "source": []
  },
  {
   "cell_type": "code",
   "execution_count": 15,
   "metadata": {
    "scrolled": true
   },
   "outputs": [
    {
     "name": "stdout",
     "output_type": "stream",
     "text": [
      "init Getting leaders and followers...\n",
      " Done in 884.075s.\n",
      " -1\n",
      "\n",
      "init Searching for common users...\n",
      " Done in 3.675s.\n",
      " -1\n",
      "\n",
      "init Filtering common users...\n",
      " Done in 1251.759s.\n",
      " -1\n",
      "\n",
      "init Computing Som...\n",
      " Done in 669.619s.\n",
      " -1\n",
      "\n",
      "init Computing A...\n",
      " Done in 1929.147s.\n",
      " -1\n",
      "\n",
      "init Computing A_trans...\n",
      " Done in 2475.098s.\n",
      " -1\n",
      "\n",
      "init Computing C...\n",
      " Done in 3.300s.\n",
      " -1\n",
      "\n",
      "n iter 1\n",
      "iteration #1...\n",
      " Done in 0.000s.\n",
      " Done in 73.545s.\n",
      " 5.30891e-08\n",
      "\n",
      "iteration #1...\n",
      " for userj in pNews[user]...\n",
      " Done in 1.214s.\n",
      " 5.30891e-08\n",
      "\n",
      "n iter 1\n",
      "iteration #1...\n",
      " Done in 0.000s.\n",
      " Done in 19.857s.\n",
      " 4.53209e-08\n",
      "\n",
      "n iter 1\n",
      "iteration #1...\n",
      " mlines...\n",
      " Done in 1.801s.\n",
      " 1.77847e-06\n",
      "\n",
      "iteration #2...\n",
      " mlines...\n",
      " Done in 146.507s.\n",
      " 1.77847e-06\n",
      "\n",
      "iteration #3...\n",
      " mlines...\n",
      " Done in 251.867s.\n",
      " 1.77847e-06\n",
      "\n",
      "iteration #3...\n",
      " Done in 0.000s.\n",
      " Done in 1778.256s.\n",
      " 1.77847e-06\n",
      "\n",
      "iteration #3...\n",
      " for userj in pNews[user]...\n",
      " Done in 3.495s.\n",
      " 1.77847e-06\n",
      "\n",
      "n iter 3\n",
      "iteration #1...\n",
      " mlines...\n",
      " Done in 1.521s.\n",
      " 2.80942e-05\n",
      "\n",
      "iteration #1...\n",
      " for userj in pNews[user]...\n",
      " Done in 2.030s.\n",
      " 2.80942e-05\n",
      "\n",
      "n iter 1\n",
      "iteration #1...\n",
      " for userj in pNews[user]...\n",
      " Done in 1.153s.\n",
      " 2.05009e-06\n",
      "\n",
      "n iter 1\n",
      "iteration #1...\n",
      " Done in 0.000s.\n",
      " Done in 38.701s.\n",
      " 6.23394e-06\n",
      "\n",
      "n iter 1\n",
      "iteration #1...\n",
      " Done in 0.000s.\n",
      " Done in 34.571s.\n",
      " 9.37646e-08\n",
      "\n",
      "n iter 1\n",
      "iteration #2...\n",
      " mlines...\n",
      " Done in 101.307s.\n",
      " 1.41478e-07\n",
      "\n",
      "iteration #2...\n",
      " Done in 0.000s.\n",
      " Done in 589.347s.\n",
      " 1.41478e-07\n",
      "\n",
      "iteration #2...\n",
      " for userj in pNews[user]...\n",
      " Done in 3.327s.\n",
      " 1.41478e-07\n",
      "\n",
      "n iter 2\n",
      "n iter 1\n",
      "iteration #1...\n",
      " Done in 0.000s.\n",
      " Done in 14.337s.\n",
      " 1.53425e-07\n",
      "\n",
      "n iter 1\n",
      "iteration #1...\n",
      " Done in 0.000s.\n",
      " Done in 4.321s.\n",
      " 5.08805e-08\n",
      "\n"
     ]
    }
   ],
   "source": [
    "iteration = \"init\"\n",
    "psi_counter = -1\n",
    "current_psi = -1\n",
    "n_iter = 0\n",
    "for line in open(\"../Datasets/debugging_weibo.txt\"):\n",
    "    if \"iteration\" in line:\n",
    "        iteration = line\n",
    "        n_iter += 1\n",
    "        if \"#1\" in line:\n",
    "            print(\"n iter\", n_iter)\n",
    "            n_iter = 0\n",
    "            psi_counter += 1\n",
    "            current_psi = psi_list[psi_counter]\n",
    "    elif line.startswith(\"Done in \") and \"0.\" not in line:\n",
    "        print(iteration, old_line, line, current_psi)\n",
    "        print()\n",
    "    old_line = line"
   ]
  },
  {
   "cell_type": "code",
   "execution_count": null,
   "metadata": {},
   "outputs": [],
   "source": []
  },
  {
   "cell_type": "code",
   "execution_count": 10,
   "metadata": {},
   "outputs": [],
   "source": [
    "import numpy as np"
   ]
  },
  {
   "cell_type": "code",
   "execution_count": 2,
   "metadata": {},
   "outputs": [],
   "source": [
    "psi = dict()\n",
    "for line in open(\"../PsiResults/Psis/weibo32_next_Psi_model_0_1340610.txt\"):\n",
    "    psi[int(line.split()[0])] = float(line.split()[1])"
   ]
  },
  {
   "cell_type": "code",
   "execution_count": 5,
   "metadata": {},
   "outputs": [],
   "source": [
    "psi_list = list()\n",
    "psi_list_emul = list()\n",
    "for i,line in enumerate(open(\"../PsiResults/Psis/weibo_emul.txt\")):\n",
    "    user = int(line.split()[0])\n",
    "    if user in psi:\n",
    "        psi_list.append(psi[user])\n",
    "        psi_list_emul.append(float(line.split()[1]))"
   ]
  },
  {
   "cell_type": "code",
   "execution_count": 12,
   "metadata": {},
   "outputs": [
    {
     "data": {
      "text/plain": [
       "[5.30891e-08,\n",
       " 4.53209e-08,\n",
       " 1.77847e-06,\n",
       " 2.80942e-05,\n",
       " 2.05009e-06,\n",
       " 6.23394e-06,\n",
       " 9.37646e-08,\n",
       " 1.41478e-07,\n",
       " 3.80309e-08,\n",
       " 1.53425e-07,\n",
       " 5.08805e-08]"
      ]
     },
     "execution_count": 12,
     "metadata": {},
     "output_type": "execute_result"
    }
   ],
   "source": [
    "psi_list"
   ]
  },
  {
   "cell_type": "code",
   "execution_count": null,
   "metadata": {},
   "outputs": [],
   "source": []
  },
  {
   "cell_type": "code",
   "execution_count": null,
   "metadata": {},
   "outputs": [],
   "source": []
  },
  {
   "cell_type": "markdown",
   "metadata": {},
   "source": [
    "test powerlaw"
   ]
  },
  {
   "cell_type": "code",
   "execution_count": 19,
   "metadata": {},
   "outputs": [],
   "source": [
    "from scipy.stats import powerlaw\n",
    "import matplotlib.pyplot as plt"
   ]
  },
  {
   "cell_type": "code",
   "execution_count": 17,
   "metadata": {},
   "outputs": [],
   "source": [
    "sample = powerlaw.rvs(a=3.5, size=1000)"
   ]
  },
  {
   "cell_type": "code",
   "execution_count": 20,
   "metadata": {},
   "outputs": [
    {
     "data": {
      "text/plain": [
       "(array([  8.,   8.,  25.,  43.,  60.,  83., 118., 164., 223., 268.]),\n",
       " array([0.15532973, 0.23972573, 0.32412173, 0.40851773, 0.49291373,\n",
       "        0.57730973, 0.66170573, 0.74610173, 0.83049774, 0.91489374,\n",
       "        0.99928974]),\n",
       " <a list of 10 Patch objects>)"
      ]
     },
     "execution_count": 20,
     "metadata": {},
     "output_type": "execute_result"
    },
    {
     "data": {
      "image/png": "[encoded data removed]",
      "text/plain": [
       "<Figure size 432x288 with 1 Axes>"
      ]
     },
     "metadata": {
      "needs_background": "light"
     },
     "output_type": "display_data"
    }
   ],
   "source": [
    "plt.hist(sample)"
   ]
  },
  {
   "cell_type": "code",
   "execution_count": null,
   "metadata": {},
   "outputs": [],
   "source": []
  },
  {
   "cell_type": "code",
   "execution_count": null,
   "metadata": {},
   "outputs": [],
   "source": []
  },
  {
   "cell_type": "code",
   "execution_count": 7,
   "metadata": {},
   "outputs": [],
   "source": [
    "out = open(\"russian_adjList.txt\", 'w')\n",
    "for line in open(\"../Datasets/russian_adjList_full.txt\"):\n",
    "    out.write(line)\n",
    "for line in open(\"../Datasets/russian_adjList_new.txt\"):\n",
    "    out.write(line)   \n",
    "out.close()"
   ]
  },
  {
   "cell_type": "code",
   "execution_count": null,
   "metadata": {},
   "outputs": [],
   "source": []
  },
  {
   "cell_type": "code",
   "execution_count": null,
   "metadata": {},
   "outputs": [],
   "source": []
  },
  {
   "cell_type": "code",
   "execution_count": 26,
   "metadata": {},
   "outputs": [],
   "source": [
    "n = 100\n",
    "n_followers, n_leaders = [0]*n, [0]*n\n",
    "for line in open(\"../Datasets/Newman/rapportStage/adjList_power.txt\"):\n",
    "    line = line.split()\n",
    "    l, f = int(line[0]), int(line[1])\n",
    "    n_followers[l] += 1\n",
    "    n_leaders[f] += 1"
   ]
  },
  {
   "cell_type": "code",
   "execution_count": 27,
   "metadata": {},
   "outputs": [],
   "source": [
    "lead2plot = list()\n",
    "for i in sorted(set(n_leaders)):\n",
    "    lead2plot.append(n_leaders.count(i))"
   ]
  },
  {
   "cell_type": "code",
   "execution_count": 28,
   "metadata": {},
   "outputs": [
    {
     "data": {
      "text/plain": [
       "<matplotlib.collections.PathCollection at 0x20e77760240>"
      ]
     },
     "execution_count": 28,
     "metadata": {},
     "output_type": "execute_result"
    },
    {
     "data": {
      "image/png": "[encoded data removed]",
      "text/plain": [
       "<Figure size 432x288 with 1 Axes>"
      ]
     },
     "metadata": {
      "needs_background": "light"
     },
     "output_type": "display_data"
    }
   ],
   "source": [
    "fig, ax = plt.subplots()\n",
    "ax.set_xscale('log')\n",
    "ax.set_yscale('log')\n",
    "\n",
    "# leaders\n",
    "ax.scatter(sorted(set(n_leaders)), lead2plot)"
   ]
  },
  {
   "cell_type": "code",
   "execution_count": 30,
   "metadata": {},
   "outputs": [
    {
     "data": {
      "text/plain": [
       "[1, 5]"
      ]
     },
     "execution_count": 30,
     "metadata": {},
     "output_type": "execute_result"
    }
   ],
   "source": [
    "sorted(set(n_leaders))"
   ]
  },
  {
   "cell_type": "code",
   "execution_count": null,
   "metadata": {},
   "outputs": [],
   "source": []
  },
  {
   "cell_type": "code",
   "execution_count": null,
   "metadata": {},
   "outputs": [],
   "source": []
  },
  {
   "cell_type": "markdown",
   "metadata": {},
   "source": [
    "Directed scale-free graph"
   ]
  },
  {
   "cell_type": "code",
   "execution_count": 31,
   "metadata": {},
   "outputs": [],
   "source": [
    "G = nx.DiGraph()\n",
    "a, b, c = 1/3, 1/3, 1/3\n",
    "d_in, d_out = 1, 1"
   ]
  },
  {
   "cell_type": "code",
   "execution_count": 60,
   "metadata": {},
   "outputs": [],
   "source": [
    "G.add_node(0)\n",
    "next_node = 1\n",
    "while G.number_of_nodes() < 10000:\n",
    "    nodes = list(G.nodes())\n",
    "    n_nodes = G.number_of_nodes()\n",
    "    n_edges = G.number_of_edges()\n",
    "    action = np.random.choice(['A', 'B', 'C'], p=[a,b,c])\n",
    "    if action == 'A':\n",
    "        v = next_node\n",
    "        probas = [(G.in_degree(n) + d_in) / (n_edges + d_in*n_nodes) for n in nodes]\n",
    "        w = np.random.choice(nodes, p=probas)\n",
    "        G.add_edge(v,w)\n",
    "        next_node += 1\n",
    "    if action == 'B':\n",
    "        probas = [(G.out_degree(n) + d_out) / (n_edges + d_out*n_nodes) for n in nodes]\n",
    "        v = np.random.choice(nodes, p=probas)\n",
    "        probas = [(G.in_degree(n) + d_in) / (n_edges + d_in*n_nodes) for n in nodes]\n",
    "        w = np.random.choice(nodes, p=probas)\n",
    "        G.add_edge(v,w)\n",
    "    if action == 'C':\n",
    "        w = next_node\n",
    "        probas = [(G.out_degree(n) + d_out) / (n_edges + d_out*n_nodes) for n in nodes]\n",
    "        v = np.random.choice(nodes, p=probas)\n",
    "        G.add_edge(v,w)\n",
    "        next_node += 1"
   ]
  },
  {
   "cell_type": "code",
   "execution_count": 40,
   "metadata": {},
   "outputs": [
    {
     "data": {
      "image/png": "[encoded data removed]",
      "text/plain": [
       "<Figure size 432x288 with 1 Axes>"
      ]
     },
     "metadata": {},
     "output_type": "display_data"
    }
   ],
   "source": [
    "nx.draw(G, node_size=[50*G.in_degree(n) for n in G.nodes], width=.5)"
   ]
  },
  {
   "cell_type": "code",
   "execution_count": 63,
   "metadata": {
    "scrolled": true
   },
   "outputs": [
    {
     "data": {
      "text/plain": [
       "<matplotlib.collections.PathCollection at 0x20e76f87c50>"
      ]
     },
     "execution_count": 63,
     "metadata": {},
     "output_type": "execute_result"
    },
    {
     "data": {
      "image/png": "[encoded data removed]",
      "text/plain": [
       "<Figure size 432x288 with 1 Axes>"
      ]
     },
     "metadata": {
      "needs_background": "light"
     },
     "output_type": "display_data"
    }
   ],
   "source": [
    "n_follow = list(dict(G.out_degree).values())\n",
    "follow2plot = list()\n",
    "for i in sorted(set(n_follow)):\n",
    "    follow2plot.append(n_follow.count(i))\n",
    "fig, ax = plt.subplots()\n",
    "ax.set_xscale('log')\n",
    "ax.set_yscale('log')\n",
    "ax.scatter(sorted(set(n_follow)), follow2plot)"
   ]
  },
  {
   "cell_type": "code",
   "execution_count": 65,
   "metadata": {
    "scrolled": true
   },
   "outputs": [
    {
     "name": "stdout",
     "output_type": "stream",
     "text": [
      "2.847928052168566\n"
     ]
    }
   ],
   "source": [
    "nodes = [x for x in G.nodes if G.out_degree(x) > 0]\n",
    "gamma = 1 + len(nodes) / sum([np.log(G.out_degree[x]) for x in nodes])\n",
    "print(gamma)"
   ]
  },
  {
   "cell_type": "code",
   "execution_count": 66,
   "metadata": {},
   "outputs": [
    {
     "name": "stdout",
     "output_type": "stream",
     "text": [
      "3.5\n"
     ]
    }
   ],
   "source": [
    "c2 = (b+c) / (1 + d_out*(a+c))\n",
    "print(1 + 1/c2)"
   ]
  },
  {
   "cell_type": "code",
   "execution_count": 67,
   "metadata": {},
   "outputs": [
    {
     "name": "stdout",
     "output_type": "stream",
     "text": [
      "3.5\n"
     ]
    }
   ],
   "source": [
    "c1 = (a+b) / (1 + d_in*(a+c))\n",
    "print(1 + 1/c1)"
   ]
  },
  {
   "cell_type": "code",
   "execution_count": null,
   "metadata": {},
   "outputs": [],
   "source": []
  },
  {
   "cell_type": "code",
   "execution_count": null,
   "metadata": {},
   "outputs": [],
   "source": []
  },
  {
   "cell_type": "code",
   "execution_count": null,
   "metadata": {},
   "outputs": [],
   "source": []
  },
  {
   "cell_type": "code",
   "execution_count": null,
   "metadata": {},
   "outputs": [],
   "source": []
  },
  {
   "cell_type": "code",
   "execution_count": null,
   "metadata": {},
   "outputs": [],
   "source": [
    "G = nx.DiGraph()\n",
    "a, b, c = 1/3, 1/3, 1/3\n",
    "d_in, d_out = 1, 1\n",
    "G.add_node(0)\n",
    "next_node = 1\n",
    "\n",
    "c1 = (a+b) / (1 + d_in*(a+c))\n",
    "print(1 + 1/c1)\n",
    "c2 = (b+c) / (1 + d_out*(a+c))\n",
    "print(1 + 1/c2)\n",
    "print(\"gamma in: \", c1)\n",
    "print(\"gamma out: \", c2)\n",
    "print()\n",
    "\n",
    "for iteration in range(1000):\n",
    "    nodes = list(G.nodes())\n",
    "    n_nodes = G.number_of_nodes()\n",
    "    n_edges = G.number_of_edges()\n",
    "    action = np.random.choice(['A', 'B', 'C'], p=[a,b,c])\n",
    "    if action == 'A':\n",
    "        v = next_node\n",
    "        probas = [(G.in_degree(n) + d_in) / (n_edges + d_in*n_nodes) for n in nodes]\n",
    "        w = np.random.choice(nodes, p=probas)\n",
    "        G.add_edge(v,w)\n",
    "        next_node += 1\n",
    "    if action == 'B':\n",
    "        probas = [(G.out_degree(n) + d_out) / (n_edges + d_out*n_nodes) for n in nodes]\n",
    "        v = np.random.choice(nodes, p=probas)\n",
    "        probas = [(G.in_degree(n) + d_in) / (n_edges + d_in*n_nodes) for n in nodes]\n",
    "        w = np.random.choice(nodes, p=probas)\n",
    "        G.add_edge(v,w)\n",
    "    if action == 'C':\n",
    "        w = next_node\n",
    "        probas = [(G.out_degree(n) + d_out) / (n_edges + d_out*n_nodes) for n in nodes]\n",
    "        v = np.random.choice(nodes, p=probas)\n",
    "        G.add_edge(v,w)\n",
    "        next_node += 1\n",
    "    nodes = [x for x in G.nodes if G.in_degree(x) > 0]\n",
    "    gamma_in = 1 + len(nodes) / sum([np.log(G.in_degree[x]) for x in nodes])\n",
    "    nodes = [x for x in G.nodes if G.out_degree(x) > 0]\n",
    "    gamma_out = 1 + len(nodes) / sum([np.log(G.out_degree[x]) for x in nodes])\n",
    "    print(\"estimated gamma in {:.3f} --- estimated gamma out {:.3f} \".format(gamma_in, gamma_out))"
   ]
  },
  {
   "cell_type": "code",
   "execution_count": null,
   "metadata": {},
   "outputs": [],
   "source": []
  },
  {
   "cell_type": "code",
   "execution_count": null,
   "metadata": {},
   "outputs": [],
   "source": []
  },
  {
   "cell_type": "code",
   "execution_count": null,
   "metadata": {},
   "outputs": [],
   "source": []
  },
  {
   "cell_type": "markdown",
   "metadata": {},
   "source": [
    "Test loi exp"
   ]
  },
  {
   "cell_type": "code",
   "execution_count": 64,
   "metadata": {},
   "outputs": [],
   "source": [
    "author = util.get_authors(\"../Datasets/russian_rtid.txt\")"
   ]
  },
  {
   "cell_type": "code",
   "execution_count": 65,
   "metadata": {},
   "outputs": [],
   "source": [
    "users = set(author.values())"
   ]
  },
  {
   "cell_type": "code",
   "execution_count": 297,
   "metadata": {},
   "outputs": [],
   "source": [
    "interTW, interRT = {i:list() for i in users}, {i:list() for i in users}\n",
    "last_tw, last_rt = {i:1516647594 for i in users}, {i:1516647594 for i in users}\n",
    "for line in open(\"../Datasets/russian_rtid.txt\"):\n",
    "    line = line.split()\n",
    "    ts, uid, rtid = int(line[1]), int(line[2]), int(line[-1])\n",
    "    if rtid == -1:\n",
    "        interTW[uid].append(ts - last_tw[uid])\n",
    "        last_tw[uid] = ts\n",
    "    else:\n",
    "        interRT[uid].append(ts - last_rt[uid])\n",
    "        last_rt[uid] = ts"
   ]
  },
  {
   "cell_type": "code",
   "execution_count": 316,
   "metadata": {},
   "outputs": [
    {
     "name": "stdout",
     "output_type": "stream",
     "text": [
      "17.0\n",
      "[4, 5, 5, 6, 7, 5, 6, 7, 4, 4]\n"
     ]
    }
   ],
   "source": [
    "val = sorted([(i, interTW[i]) for i in interTW], key=lambda x: len(x[1]), reverse=True)[0][1]\n",
    "quantile95 = np.percentile(val, 95)\n",
    "print(quantile95)\n",
    "val = [x for x in val if x < 95]\n",
    "print(val[:10])"
   ]
  },
  {
   "cell_type": "code",
   "execution_count": 308,
   "metadata": {},
   "outputs": [],
   "source": [
    "def fct_rep_emp(X):\n",
    "    result = list()\n",
    "    for x in X:\n",
    "        numerator = 0\n",
    "        for v in val:\n",
    "            if v <= x:\n",
    "                numerator += 1\n",
    "        result.append(numerator / len(val))\n",
    "    return np.array(result)\n",
    "\n",
    "def fct_rep_theo(X, param):\n",
    "    return np.array([1 - np.exp(-param*x) for x in X])"
   ]
  },
  {
   "cell_type": "code",
   "execution_count": 319,
   "metadata": {},
   "outputs": [
    {
     "data": {
      "image/png": "[encoded data removed]",
      "text/plain": [
       "<Figure size 432x288 with 1 Axes>"
      ]
     },
     "metadata": {
      "needs_background": "light"
     },
     "output_type": "display_data"
    }
   ],
   "source": [
    "param = np.log(2) / np.median(val)\n",
    "param = 1 / np.mean(val)\n",
    "X = np.linspace(0, 30, 1000)\n",
    "plt.plot(X, fct_rep_emp(X), color='blue')\n",
    "plt.plot(X, fct_rep_theo(X, param), color='red')\n",
    "plt.show()"
   ]
  },
  {
   "cell_type": "code",
   "execution_count": 310,
   "metadata": {},
   "outputs": [
    {
     "data": {
      "text/plain": [
       "KstestResult(statistic=0.7499998874648253, pvalue=3.6239769122919314e-05)"
      ]
     },
     "execution_count": 310,
     "metadata": {},
     "output_type": "execute_result"
    }
   ],
   "source": [
    "kstest(val, 'expon')"
   ]
  },
  {
   "cell_type": "code",
   "execution_count": 318,
   "metadata": {},
   "outputs": [
    {
     "data": {
      "text/plain": [
       "<matplotlib.collections.PathCollection at 0x158a1baa898>"
      ]
     },
     "execution_count": 318,
     "metadata": {},
     "output_type": "execute_result"
    },
    {
     "data": {
      "image/png": "[encoded data removed]",
      "text/plain": [
       "<Figure size 432x288 with 1 Axes>"
      ]
     },
     "metadata": {
      "needs_background": "light"
     },
     "output_type": "display_data"
    }
   ],
   "source": [
    "fig, ax = plt.subplots()\n",
    "# ax.set_xscale('log')\n",
    "ax.set_yscale('log')\n",
    "ax.scatter(sorted(set(val)), [val.count(x) for x in sorted(set(val))])"
   ]
  },
  {
   "cell_type": "code",
   "execution_count": null,
   "metadata": {},
   "outputs": [],
   "source": []
  },
  {
   "cell_type": "code",
   "execution_count": null,
   "metadata": {},
   "outputs": [],
   "source": []
  },
  {
   "cell_type": "code",
   "execution_count": null,
   "metadata": {},
   "outputs": [],
   "source": []
  },
  {
   "cell_type": "code",
   "execution_count": 9,
   "metadata": {},
   "outputs": [
    {
     "name": "stdout",
     "output_type": "stream",
     "text": [
      "4177\n",
      "4281\n",
      "4417\n",
      "4425\n",
      "4488\n",
      "4528\n",
      "4655\n",
      "4708\n",
      "4773\n",
      "5164\n",
      "5354\n",
      "5470\n",
      "5816\n",
      "5896\n",
      "6020\n",
      "6220\n",
      "6302\n",
      "6304\n",
      "6352\n",
      "6359\n",
      "6530\n",
      "6537\n",
      "6622\n",
      "6633\n",
      "7236\n",
      "7266\n",
      "7337\n",
      "7556\n",
      "7745\n",
      "7930\n",
      "7938\n",
      "7989\n",
      "7999\n",
      "8131\n",
      "8167\n",
      "8319\n",
      "8357\n",
      "8404\n",
      "8435\n",
      "8456\n",
      "8918\n",
      "9113\n",
      "9541\n",
      "9647\n",
      "9781\n",
      "9888\n",
      "9960\n",
      "10029\n",
      "10337\n",
      "10569\n",
      "10648\n",
      "11514\n",
      "11829\n",
      "11885\n",
      "12158\n",
      "12273\n",
      "12506\n",
      "12639\n",
      "12830\n",
      "13009\n",
      "13065\n",
      "13145\n",
      "13374\n",
      "13389\n",
      "13448\n",
      "13593\n",
      "13627\n",
      "13730\n",
      "14682\n",
      "14830\n",
      "15100\n",
      "15107\n",
      "15122\n",
      "15681\n",
      "15739\n",
      "15810\n",
      "15889\n",
      "15992\n",
      "16079\n",
      "16258\n",
      "16905\n",
      "17382\n",
      "17962\n",
      "18033\n",
      "18192\n",
      "18244\n",
      "18363\n",
      "18641\n",
      "18662\n",
      "19105\n",
      "19594\n",
      "19938\n",
      "20044\n",
      "20209\n",
      "21133\n",
      "22144\n",
      "22531\n",
      "22540\n",
      "22650\n",
      "22851\n",
      "22952\n",
      "23321\n",
      "24143\n",
      "24220\n",
      "24278\n",
      "25170\n",
      "25823\n",
      "26303\n",
      "27783\n",
      "28151\n",
      "29039\n",
      "29395\n",
      "29438\n",
      "29455\n",
      "29760\n",
      "29961\n",
      "30170\n",
      "30932\n",
      "31008\n",
      "31156\n",
      "31160\n",
      "31647\n",
      "31731\n",
      "31912\n",
      "32108\n",
      "32331\n",
      "32712\n",
      "32739\n",
      "33461\n",
      "33503\n",
      "34561\n",
      "34605\n",
      "35328\n",
      "36194\n",
      "36500\n",
      "37031\n",
      "37601\n",
      "37758\n",
      "39228\n",
      "39981\n",
      "41287\n",
      "41453\n",
      "41526\n",
      "42912\n",
      "45839\n",
      "45896\n",
      "46137\n",
      "46374\n",
      "47117\n",
      "47689\n",
      "48199\n",
      "48259\n",
      "48935\n",
      "49198\n",
      "49213\n",
      "49553\n",
      "49876\n",
      "50596\n",
      "51317\n",
      "51320\n",
      "51908\n",
      "51913\n",
      "51982\n",
      "52168\n",
      "53079\n",
      "53699\n",
      "53809\n",
      "54393\n",
      "54498\n",
      "54504\n",
      "54651\n",
      "54898\n",
      "55156\n",
      "55420\n",
      "55551\n",
      "55796\n",
      "56079\n",
      "57971\n",
      "59344\n",
      "60026\n",
      "60096\n",
      "60165\n",
      "60510\n",
      "60536\n",
      "61416\n",
      "64578\n",
      "64630\n",
      "65127\n",
      "65327\n",
      "69271\n",
      "69315\n",
      "70180\n",
      "70514\n",
      "70584\n",
      "71823\n",
      "73445\n",
      "73846\n",
      "73901\n",
      "75124\n",
      "75573\n",
      "76268\n",
      "76437\n",
      "76520\n",
      "77632\n",
      "77817\n",
      "77998\n",
      "78466\n",
      "79427\n",
      "79622\n",
      "80374\n",
      "81932\n",
      "82995\n",
      "84759\n",
      "84836\n",
      "85265\n",
      "85396\n",
      "85968\n",
      "86094\n",
      "87562\n",
      "88077\n",
      "88162\n",
      "88646\n",
      "88871\n",
      "89474\n",
      "90658\n",
      "90959\n",
      "92152\n",
      "92239\n",
      "92431\n",
      "92674\n",
      "92677\n",
      "93090\n",
      "93423\n",
      "94688\n",
      "95045\n",
      "95869\n",
      "96140\n",
      "98963\n",
      "102052\n",
      "105827\n",
      "106198\n",
      "107600\n",
      "111020\n",
      "112450\n",
      "112711\n",
      "113812\n",
      "114010\n",
      "117458\n",
      "119003\n",
      "120979\n",
      "124198\n",
      "124340\n",
      "124379\n",
      "125101\n",
      "126468\n",
      "127295\n",
      "127459\n",
      "127573\n",
      "127931\n",
      "128165\n",
      "128200\n",
      "128698\n",
      "129202\n",
      "129502\n",
      "129730\n",
      "130185\n",
      "149292\n",
      "155990\n",
      "157714\n",
      "160212\n",
      "165136\n",
      "166118\n",
      "175335\n",
      "176632\n",
      "177997\n",
      "178104\n",
      "178422\n",
      "179085\n",
      "179135\n",
      "183542\n",
      "187709\n",
      "188660\n",
      "188671\n",
      "190450\n",
      "190556\n",
      "194265\n",
      "194895\n",
      "195852\n",
      "198259\n",
      "198339\n",
      "199471\n",
      "201399\n",
      "202880\n",
      "206546\n",
      "207102\n",
      "208937\n",
      "212803\n",
      "217670\n",
      "218024\n",
      "218672\n",
      "219145\n",
      "220218\n",
      "220357\n",
      "220636\n",
      "220678\n",
      "220715\n",
      "220780\n",
      "220870\n",
      "221459\n",
      "221700\n",
      "222162\n",
      "222392\n",
      "222785\n",
      "223144\n",
      "223307\n",
      "223925\n",
      "224136\n",
      "224503\n",
      "225037\n",
      "225594\n",
      "226172\n",
      "227665\n",
      "228150\n",
      "231040\n",
      "231938\n",
      "233908\n",
      "234607\n",
      "235969\n",
      "239281\n",
      "239304\n",
      "239519\n",
      "240025\n",
      "241236\n",
      "241439\n",
      "241848\n",
      "244276\n",
      "244928\n",
      "245853\n",
      "246048\n",
      "246275\n",
      "247658\n",
      "248675\n",
      "249957\n",
      "251097\n",
      "252830\n",
      "253220\n",
      "253904\n",
      "255640\n",
      "256874\n",
      "258513\n",
      "259189\n",
      "259460\n",
      "262885\n",
      "264235\n",
      "265250\n",
      "272655\n",
      "274029\n",
      "277802\n",
      "278735\n",
      "281596\n",
      "281621\n",
      "282982\n",
      "283723\n",
      "284862\n",
      "285796\n",
      "286394\n",
      "286932\n",
      "287502\n",
      "288271\n",
      "291585\n",
      "293721\n",
      "294046\n",
      "294104\n",
      "295381\n",
      "295933\n",
      "297505\n",
      "298131\n",
      "299670\n",
      "299889\n",
      "300382\n",
      "300457\n",
      "302661\n",
      "303264\n",
      "304847\n",
      "306867\n",
      "308755\n",
      "313765\n",
      "314067\n",
      "316897\n",
      "318742\n",
      "319278\n",
      "319474\n",
      "320025\n",
      "320085\n",
      "320258\n",
      "321508\n",
      "322053\n",
      "322726\n",
      "323584\n",
      "323627\n",
      "324382\n",
      "325830\n",
      "326458\n",
      "328677\n",
      "330909\n",
      "331013\n",
      "338385\n",
      "338633\n",
      "341153\n",
      "350365\n",
      "353408\n",
      "354433\n",
      "357623\n",
      "368089\n",
      "368454\n",
      "370524\n",
      "371774\n",
      "377535\n",
      "380979\n",
      "385080\n",
      "390159\n",
      "392232\n",
      "394185\n",
      "396889\n",
      "397010\n",
      "397319\n",
      "398195\n",
      "399408\n",
      "403293\n",
      "403901\n",
      "404199\n",
      "404952\n"
     ]
    }
   ],
   "source": [
    "for i,line in enumerate(open(\"../PsiResults/Psis/wcano_emul.txt\")):\n",
    "    line = line.split()\n",
    "    user, psi = int(line[0]), float(line[1])\n",
    "    if psi > 0 and user in model:\n",
    "        print(i)"
   ]
  },
  {
   "cell_type": "code",
   "execution_count": 7,
   "metadata": {},
   "outputs": [],
   "source": [
    "model = set()\n",
    "for line in open(\"../PsiResults/Psis/wcano_model_oursin_15iter.txt\"):\n",
    "    line = line.split()\n",
    "    user, psi = int(line[0]), float(line[1])\n",
    "    model.add(user)"
   ]
  },
  {
   "cell_type": "code",
   "execution_count": 5,
   "metadata": {},
   "outputs": [
    {
     "data": {
      "text/plain": [
       "2348"
      ]
     },
     "execution_count": 5,
     "metadata": {},
     "output_type": "execute_result"
    }
   ],
   "source": [
    "len(model)"
   ]
  },
  {
   "cell_type": "code",
   "execution_count": null,
   "metadata": {},
   "outputs": [],
   "source": []
  },
  {
   "cell_type": "code",
   "execution_count": 1,
   "metadata": {},
   "outputs": [],
   "source": [
    "emul = set()\n",
    "for line in open(\"../PsiResults/Psis/russian_emul.txt\"):\n",
    "    line = line.split()\n",
    "    user, psi = int(line[0]), float(line[1])\n",
    "    if psi > 0:\n",
    "        emul.add(user)"
   ]
  },
  {
   "cell_type": "code",
   "execution_count": 2,
   "metadata": {},
   "outputs": [],
   "source": [
    "cascade = set()\n",
    "for line in open(\"../PsiResults/Psis/russian_model_cascade.txt\"):\n",
    "    line = line.split()\n",
    "    user, psi = int(line[0]), float(line[1])\n",
    "    if psi > 0:\n",
    "        cascade.add(user)"
   ]
  },
  {
   "cell_type": "code",
   "execution_count": 6,
   "metadata": {},
   "outputs": [
    {
     "data": {
      "text/plain": [
       "13551"
      ]
     },
     "execution_count": 6,
     "metadata": {},
     "output_type": "execute_result"
    }
   ],
   "source": [
    "len(emul.intersection(cascade))"
   ]
  },
  {
   "cell_type": "code",
   "execution_count": null,
   "metadata": {},
   "outputs": [],
   "source": []
  },
  {
   "cell_type": "code",
   "execution_count": 2,
   "metadata": {},
   "outputs": [
    {
     "data": {
      "text/plain": [
       "2.8391163321978295e-08"
      ]
     },
     "execution_count": 2,
     "metadata": {},
     "output_type": "execute_result"
    }
   ],
   "source": [
    "float('2.8391163321978295e-08')"
   ]
  },
  {
   "cell_type": "code",
   "execution_count": 13,
   "metadata": {},
   "outputs": [],
   "source": [
    "ecart_abs = list()\n",
    "ecart_rel = list()\n",
    "for line in open(\"../PsiResults/Psis/russian_distrib1415_distrib14-15iter.txt\"):\n",
    "    line = line.split()\n",
    "    num = abs(float(line[0]) - float(line[1]))\n",
    "    ecart_abs.append(num)\n",
    "    ecart_rel.append(num / float(line[0]))"
   ]
  },
  {
   "cell_type": "code",
   "execution_count": 14,
   "metadata": {},
   "outputs": [
    {
     "data": {
      "image/png": "[encoded data removed]",
      "text/plain": [
       "<Figure size 432x288 with 1 Axes>"
      ]
     },
     "metadata": {
      "needs_background": "light"
     },
     "output_type": "display_data"
    }
   ],
   "source": [
    "fig, ax = plt.subplots()\n",
    "plt.yscale('log')    \n",
    "plt.xscale('log')\n",
    "logbins = np.logspace(np.log10(np.min(ecart_abs)+0.000000000000000000001), np.log10(np.max(ecart_abs)), 50)\n",
    "plt.hist(ecart_abs, bins=logbins, edgecolor='red', facecolor='yellow')\n",
    "plt.title(\"ecart absolu\")\n",
    "plt.savefig(\"../PsiResults/ecart_abs_russian14-15.pdf\")\n",
    "plt.show()\n",
    "plt.close()"
   ]
  },
  {
   "cell_type": "code",
   "execution_count": 15,
   "metadata": {},
   "outputs": [
    {
     "data": {
      "image/png": "[encoded data removed]",
      "text/plain": [
       "<Figure size 432x288 with 1 Axes>"
      ]
     },
     "metadata": {
      "needs_background": "light"
     },
     "output_type": "display_data"
    }
   ],
   "source": [
    "fig, ax = plt.subplots()\n",
    "plt.yscale('log')    \n",
    "plt.xscale('log')\n",
    "logbins = np.logspace(np.log10(np.min(ecart_rel)+0.000000000000000000001), np.log10(np.max(ecart_rel)), 50)\n",
    "plt.hist(ecart_rel, bins=logbins, edgecolor='red', facecolor='yellow')\n",
    "plt.title(\"ecart relatif\")\n",
    "plt.savefig(\"../PsiResults/ecart_rel_russian14-15.pdf\")\n",
    "plt.show()\n",
    "plt.close()"
   ]
  },
  {
   "cell_type": "code",
   "execution_count": null,
   "metadata": {},
   "outputs": [],
   "source": []
  }
 ],
 "metadata": {
  "kernelspec": {
   "display_name": "Python 3",
   "language": "python",
   "name": "python3"
  },
  "language_info": {
   "codemirror_mode": {
    "name": "ipython",
    "version": 3
   },
   "file_extension": ".py",
   "mimetype": "text/x-python",
   "name": "python",
   "nbconvert_exporter": "python",
   "pygments_lexer": "ipython3",
   "version": "3.7.2"
  }
 },
 "nbformat": 4,
 "nbformat_minor": 2
}
