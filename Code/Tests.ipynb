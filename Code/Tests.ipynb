{
 "cells": [
  {
   "cell_type": "code",
   "execution_count": 1,
   "metadata": {},
   "outputs": [],
   "source": [
    "import util\n",
    "import matplotlib.pyplot as plt\n",
    "import math\n",
    "import numpy as np\n",
    "import networkx as nx\n",
    "from operator import itemgetter"
   ]
  },
  {
   "cell_type": "code",
   "execution_count": 2,
   "metadata": {},
   "outputs": [],
   "source": [
    "model = dict()\n",
    "for line in open(\"../PsiResults/Psis/weibo_model_truegraph_top6500emul.txt\"):\n",
    "    line = line.split()\n",
    "    model[int(line[0])] = float(line[1])"
   ]
  },
  {
   "cell_type": "code",
   "execution_count": 3,
   "metadata": {},
   "outputs": [],
   "source": [
    "for line in open(\"../PsiResults/Psis/weibo32_next_Psi_model_0_1340610.txt\"):\n",
    "    line = line.split()\n",
    "    model[int(line[0])] = float(line[1])"
   ]
  },
  {
   "cell_type": "code",
   "execution_count": 5,
   "metadata": {},
   "outputs": [],
   "source": [
    "for line in open(\"PsiResults/Psis/weibo_model_truegraph_4500-4546emul.txt\"):\n",
    "    line = line.split()\n",
    "    model[int(line[0])] = float(line[1])"
   ]
  },
  {
   "cell_type": "code",
   "execution_count": 5,
   "metadata": {},
   "outputs": [],
   "source": [
    "from operator import itemgetter\n",
    "with open(\"../PsiResults/Psis/weibo_model_truegraph_top8002emul.txt\", \"w\") as out:\n",
    "    for user,psi in sorted(model.items(), key=itemgetter(1), reverse=True):\n",
    "        out.write(\"{} {}\\n\".format(user,psi))"
   ]
  },
  {
   "cell_type": "code",
   "execution_count": 4,
   "metadata": {},
   "outputs": [
    {
     "data": {
      "text/plain": [
       "8002"
      ]
     },
     "execution_count": 4,
     "metadata": {},
     "output_type": "execute_result"
    }
   ],
   "source": [
    "len(model)"
   ]
  },
  {
   "cell_type": "code",
   "execution_count": null,
   "metadata": {},
   "outputs": [],
   "source": []
  },
  {
   "cell_type": "code",
   "execution_count": 11,
   "metadata": {},
   "outputs": [],
   "source": [
    "import sympy as sp\n",
    "from sympy.stats import Normal, sample\n",
    "x, mu, eps = sp.symbols('x mu eps')\n",
    "X = Normal('X', x-mu, x-mu+eps)"
   ]
  },
  {
   "cell_type": "code",
   "execution_count": 12,
   "metadata": {},
   "outputs": [],
   "source": [
    "n = 1000\n",
    "samples = list()\n",
    "for i in range(n):\n",
    "    samples.append(np.exp-(sample(X))**)\n",
    "print(sum(samples)/n)"
   ]
  },
  {
   "cell_type": "code",
   "execution_count": null,
   "metadata": {},
   "outputs": [],
   "source": []
  },
  {
   "cell_type": "code",
   "execution_count": 3,
   "metadata": {},
   "outputs": [],
   "source": [
    "N, T = list(), list()\n",
    "for line in open(\"Datasets/Newman/scalability_times.txt\"):\n",
    "    line = line.split()\n",
    "    N.append(int(line[0]))\n",
    "    T.append(float(line[1]))"
   ]
  },
  {
   "cell_type": "code",
   "execution_count": 11,
   "metadata": {},
   "outputs": [
    {
     "data": {
      "text/plain": [
       "([<matplotlib.axis.YTick at 0x179b3402160>,\n",
       "  <matplotlib.axis.YTick at 0x179b33fca58>,\n",
       "  <matplotlib.axis.YTick at 0x179b3393a58>,\n",
       "  <matplotlib.axis.YTick at 0x179b341aeb8>],\n",
       " <a list of 4 Text yticklabel objects>)"
      ]
     },
     "execution_count": 11,
     "metadata": {},
     "output_type": "execute_result"
    },
    {
     "data": {
      "image/png": "[encoded data removed]",
      "text/plain": [
       "<Figure size 432x288 with 1 Axes>"
      ]
     },
     "metadata": {
      "needs_background": "light"
     },
     "output_type": "display_data"
    }
   ],
   "source": [
    "plt.plot(N[1:], T[1:], color='blue', marker='o', ls=':')\n",
    "plt.xticks(N[1:])\n",
    "plt.yticks(T[1:])"
   ]
  },
  {
   "cell_type": "code",
   "execution_count": null,
   "metadata": {},
   "outputs": [],
   "source": []
  },
  {
   "cell_type": "code",
   "execution_count": null,
   "metadata": {},
   "outputs": [],
   "source": []
  },
  {
   "cell_type": "code",
   "execution_count": null,
   "metadata": {},
   "outputs": [],
   "source": []
  },
  {
   "cell_type": "code",
   "execution_count": 31,
   "metadata": {},
   "outputs": [],
   "source": [
    "G = nx.DiGraph()\n",
    "G.add_edges_from([('Anastasios', 'Bruno'), ('Bruno', 'Clémence'), ('Clémence', 'Antoine')])"
   ]
  },
  {
   "cell_type": "code",
   "execution_count": 32,
   "metadata": {},
   "outputs": [
    {
     "data": {
      "image/png": "[encoded data removed]",
      "text/plain": [
       "<Figure size 432x288 with 1 Axes>"
      ]
     },
     "metadata": {},
     "output_type": "display_data"
    }
   ],
   "source": [
    "nx.draw(G, with_labels=True, node_color='white', node_size=2000, font_size=15)\n",
    "plt.savefig(\"graph_star.pdf\")"
   ]
  },
  {
   "cell_type": "code",
   "execution_count": 5,
   "metadata": {},
   "outputs": [],
   "source": [
    "authors = util.get_authors(\"../Datasets/russian_rtid.txt\")"
   ]
  },
  {
   "cell_type": "code",
   "execution_count": 7,
   "metadata": {},
   "outputs": [
    {
     "data": {
      "text/plain": [
       "181621"
      ]
     },
     "execution_count": 7,
     "metadata": {},
     "output_type": "execute_result"
    }
   ],
   "source": [
    "len(set([*authors.values()]))"
   ]
  },
  {
   "cell_type": "code",
   "execution_count": 1,
   "metadata": {},
   "outputs": [],
   "source": [
    "model32 = dict()\n",
    "for line in open(\"PsiResults/Psis/weibo32_model_truegraph_4500-4550emul.txt\"):\n",
    "    line = line.split()\n",
    "    model32[int(line[0])] = float(line[1])"
   ]
  },
  {
   "cell_type": "code",
   "execution_count": 50,
   "metadata": {},
   "outputs": [],
   "source": [
    "index_emul = dict()\n",
    "for i,line in enumerate(open(\"PsiResults/Psis/weibo_emul.txt\")):\n",
    "    index_emul[int(line.split()[0])] = i"
   ]
  },
  {
   "cell_type": "code",
   "execution_count": 8,
   "metadata": {},
   "outputs": [],
   "source": [
    "model = dict()\n",
    "for line in open(\"PsiResults/Psis/weibo_model_truegraph_top4547emul.txt\"):\n",
    "    line = line.split()\n",
    "    model[int(line[0])] = float(line[1])"
   ]
  },
  {
   "cell_type": "code",
   "execution_count": 5,
   "metadata": {},
   "outputs": [],
   "source": [
    "out = open(\"PsiResults/Psis/weibo_model_truegraph_top6000emul.txt\", \"w\")\n",
    "for user,psi in sorted(model.items(), key=itemgetter(1), reverse=True):\n",
    "    out.write(\"{} {}\\n\".format(user, model[user]))\n",
    "out.close()"
   ]
  },
  {
   "cell_type": "code",
   "execution_count": 73,
   "metadata": {},
   "outputs": [
    {
     "data": {
      "text/plain": [
       "5001"
      ]
     },
     "execution_count": 73,
     "metadata": {},
     "output_type": "execute_result"
    }
   ],
   "source": [
    "len(model)"
   ]
  },
  {
   "cell_type": "code",
   "execution_count": 53,
   "metadata": {},
   "outputs": [],
   "source": [
    "model_index = set()\n",
    "for i,line in enumerate(open(\"PsiResults/Psis/weibo32_model_truegraph_4500-4550emul.txt\")):\n",
    "    model_index.add(index_emul[int(line.split()[0])])"
   ]
  },
  {
   "cell_type": "code",
   "execution_count": null,
   "metadata": {},
   "outputs": [],
   "source": []
  },
  {
   "cell_type": "code",
   "execution_count": null,
   "metadata": {},
   "outputs": [],
   "source": []
  },
  {
   "cell_type": "code",
   "execution_count": 66,
   "metadata": {},
   "outputs": [],
   "source": [
    "model = dict()\n",
    "for line in open(\"PsiResults/Psis/weibo64_model_truegraph_top4501emul.txt\"):\n",
    "    line = line.split()\n",
    "    model[int(line[0])] = float(line[1])"
   ]
  },
  {
   "cell_type": "code",
   "execution_count": 68,
   "metadata": {},
   "outputs": [],
   "source": [
    "for line in open(\"PsiResults/Psis/weibo32_model_truegraph_4500-4550emul.txt\"):\n",
    "    line = line.split()\n",
    "    model[int(line[0])] = float(line[1])"
   ]
  },
  {
   "cell_type": "code",
   "execution_count": 69,
   "metadata": {},
   "outputs": [],
   "source": [
    "model_index = set()\n",
    "for user in model:\n",
    "    model_index.add(index_emul[user])"
   ]
  },
  {
   "cell_type": "code",
   "execution_count": 71,
   "metadata": {},
   "outputs": [
    {
     "data": {
      "text/plain": [
       "True"
      ]
     },
     "execution_count": 71,
     "metadata": {},
     "output_type": "execute_result"
    }
   ],
   "source": [
    "sorted(model_index) == list(range(5001))"
   ]
  },
  {
   "cell_type": "code",
   "execution_count": 4,
   "metadata": {},
   "outputs": [
    {
     "data": {
      "text/plain": [
       "0.3962431740741877"
      ]
     },
     "execution_count": 4,
     "metadata": {},
     "output_type": "execute_result"
    }
   ],
   "source": [
    "503654 / (767419 + 503654)"
   ]
  },
  {
   "cell_type": "code",
   "execution_count": null,
   "metadata": {},
   "outputs": [],
   "source": []
  },
  {
   "cell_type": "code",
   "execution_count": null,
   "metadata": {},
   "outputs": [],
   "source": []
  },
  {
   "cell_type": "code",
   "execution_count": 2,
   "metadata": {},
   "outputs": [
    {
     "name": "stdout",
     "output_type": "stream",
     "text": [
      "../Datasets/wcano_rtid.txt 11339937 3909825\n",
      "../Datasets/weibo_rtid.txt 33307189 0\n",
      "../Datasets/russian_rtid.txt 767419 503654\n"
     ]
    }
   ],
   "source": [
    "for data in ['../Datasets/wcano_rtid.txt', '../Datasets/russian_rtid.txt']:\n",
    "    nb_known = 0\n",
    "    nb_unknown = 0\n",
    "    author = util.get_authors(data)\n",
    "    for line in open(data):\n",
    "        rtid = int(line.split()[-1])\n",
    "        if rtid != -1:\n",
    "            if rtid in author:\n",
    "                nb_known += 1\n",
    "            else:\n",
    "                nb_unknown += 1\n",
    "    print(data, nb_known, nb_unknown)"
   ]
  },
  {
   "cell_type": "code",
   "execution_count": null,
   "metadata": {},
   "outputs": [],
   "source": []
  },
  {
   "cell_type": "code",
   "execution_count": null,
   "metadata": {},
   "outputs": [],
   "source": []
  },
  {
   "cell_type": "code",
   "execution_count": 15,
   "metadata": {
    "scrolled": true
   },
   "outputs": [
    {
     "name": "stdout",
     "output_type": "stream",
     "text": [
      "init Getting leaders and followers...\n",
      " Done in 884.075s.\n",
      " -1\n",
      "\n",
      "init Searching for common users...\n",
      " Done in 3.675s.\n",
      " -1\n",
      "\n",
      "init Filtering common users...\n",
      " Done in 1251.759s.\n",
      " -1\n",
      "\n",
      "init Computing Som...\n",
      " Done in 669.619s.\n",
      " -1\n",
      "\n",
      "init Computing A...\n",
      " Done in 1929.147s.\n",
      " -1\n",
      "\n",
      "init Computing A_trans...\n",
      " Done in 2475.098s.\n",
      " -1\n",
      "\n",
      "init Computing C...\n",
      " Done in 3.300s.\n",
      " -1\n",
      "\n",
      "n iter 1\n",
      "iteration #1...\n",
      " Done in 0.000s.\n",
      " Done in 73.545s.\n",
      " 5.30891e-08\n",
      "\n",
      "iteration #1...\n",
      " for userj in pNews[user]...\n",
      " Done in 1.214s.\n",
      " 5.30891e-08\n",
      "\n",
      "n iter 1\n",
      "iteration #1...\n",
      " Done in 0.000s.\n",
      " Done in 19.857s.\n",
      " 4.53209e-08\n",
      "\n",
      "n iter 1\n",
      "iteration #1...\n",
      " mlines...\n",
      " Done in 1.801s.\n",
      " 1.77847e-06\n",
      "\n",
      "iteration #2...\n",
      " mlines...\n",
      " Done in 146.507s.\n",
      " 1.77847e-06\n",
      "\n",
      "iteration #3...\n",
      " mlines...\n",
      " Done in 251.867s.\n",
      " 1.77847e-06\n",
      "\n",
      "iteration #3...\n",
      " Done in 0.000s.\n",
      " Done in 1778.256s.\n",
      " 1.77847e-06\n",
      "\n",
      "iteration #3...\n",
      " for userj in pNews[user]...\n",
      " Done in 3.495s.\n",
      " 1.77847e-06\n",
      "\n",
      "n iter 3\n",
      "iteration #1...\n",
      " mlines...\n",
      " Done in 1.521s.\n",
      " 2.80942e-05\n",
      "\n",
      "iteration #1...\n",
      " for userj in pNews[user]...\n",
      " Done in 2.030s.\n",
      " 2.80942e-05\n",
      "\n",
      "n iter 1\n",
      "iteration #1...\n",
      " for userj in pNews[user]...\n",
      " Done in 1.153s.\n",
      " 2.05009e-06\n",
      "\n",
      "n iter 1\n",
      "iteration #1...\n",
      " Done in 0.000s.\n",
      " Done in 38.701s.\n",
      " 6.23394e-06\n",
      "\n",
      "n iter 1\n",
      "iteration #1...\n",
      " Done in 0.000s.\n",
      " Done in 34.571s.\n",
      " 9.37646e-08\n",
      "\n",
      "n iter 1\n",
      "iteration #2...\n",
      " mlines...\n",
      " Done in 101.307s.\n",
      " 1.41478e-07\n",
      "\n",
      "iteration #2...\n",
      " Done in 0.000s.\n",
      " Done in 589.347s.\n",
      " 1.41478e-07\n",
      "\n",
      "iteration #2...\n",
      " for userj in pNews[user]...\n",
      " Done in 3.327s.\n",
      " 1.41478e-07\n",
      "\n",
      "n iter 2\n",
      "n iter 1\n",
      "iteration #1...\n",
      " Done in 0.000s.\n",
      " Done in 14.337s.\n",
      " 1.53425e-07\n",
      "\n",
      "n iter 1\n",
      "iteration #1...\n",
      " Done in 0.000s.\n",
      " Done in 4.321s.\n",
      " 5.08805e-08\n",
      "\n"
     ]
    }
   ],
   "source": [
    "iteration = \"init\"\n",
    "psi_counter = -1\n",
    "current_psi = -1\n",
    "n_iter = 0\n",
    "for line in open(\"../Datasets/debugging_weibo.txt\"):\n",
    "    if \"iteration\" in line:\n",
    "        iteration = line\n",
    "        n_iter += 1\n",
    "        if \"#1\" in line:\n",
    "            print(\"n iter\", n_iter)\n",
    "            n_iter = 0\n",
    "            psi_counter += 1\n",
    "            current_psi = psi_list[psi_counter]\n",
    "    elif line.startswith(\"Done in \") and \"0.\" not in line:\n",
    "        print(iteration, old_line, line, current_psi)\n",
    "        print()\n",
    "    old_line = line"
   ]
  },
  {
   "cell_type": "code",
   "execution_count": null,
   "metadata": {},
   "outputs": [],
   "source": []
  },
  {
   "cell_type": "code",
   "execution_count": 10,
   "metadata": {},
   "outputs": [],
   "source": [
    "import numpy as np"
   ]
  },
  {
   "cell_type": "code",
   "execution_count": 2,
   "metadata": {},
   "outputs": [],
   "source": [
    "psi = dict()\n",
    "for line in open(\"../PsiResults/Psis/weibo32_next_Psi_model_0_1340610.txt\"):\n",
    "    psi[int(line.split()[0])] = float(line.split()[1])"
   ]
  },
  {
   "cell_type": "code",
   "execution_count": 5,
   "metadata": {},
   "outputs": [],
   "source": [
    "psi_list = list()\n",
    "psi_list_emul = list()\n",
    "for i,line in enumerate(open(\"../PsiResults/Psis/weibo_emul.txt\")):\n",
    "    user = int(line.split()[0])\n",
    "    if user in psi:\n",
    "        psi_list.append(psi[user])\n",
    "        psi_list_emul.append(float(line.split()[1]))"
   ]
  },
  {
   "cell_type": "code",
   "execution_count": 12,
   "metadata": {},
   "outputs": [
    {
     "data": {
      "text/plain": [
       "[5.30891e-08,\n",
       " 4.53209e-08,\n",
       " 1.77847e-06,\n",
       " 2.80942e-05,\n",
       " 2.05009e-06,\n",
       " 6.23394e-06,\n",
       " 9.37646e-08,\n",
       " 1.41478e-07,\n",
       " 3.80309e-08,\n",
       " 1.53425e-07,\n",
       " 5.08805e-08]"
      ]
     },
     "execution_count": 12,
     "metadata": {},
     "output_type": "execute_result"
    }
   ],
   "source": [
    "psi_list"
   ]
  },
  {
   "cell_type": "code",
   "execution_count": null,
   "metadata": {},
   "outputs": [],
   "source": []
  },
  {
   "cell_type": "code",
   "execution_count": null,
   "metadata": {},
   "outputs": [],
   "source": []
  },
  {
   "cell_type": "markdown",
   "metadata": {},
   "source": [
    "test powerlaw"
   ]
  },
  {
   "cell_type": "code",
   "execution_count": 19,
   "metadata": {},
   "outputs": [],
   "source": [
    "from scipy.stats import powerlaw\n",
    "import matplotlib.pyplot as plt"
   ]
  },
  {
   "cell_type": "code",
   "execution_count": 17,
   "metadata": {},
   "outputs": [],
   "source": [
    "sample = powerlaw.rvs(a=3.5, size=1000)"
   ]
  },
  {
   "cell_type": "code",
   "execution_count": 20,
   "metadata": {},
   "outputs": [
    {
     "data": {
      "text/plain": [
       "(array([  8.,   8.,  25.,  43.,  60.,  83., 118., 164., 223., 268.]),\n",
       " array([0.15532973, 0.23972573, 0.32412173, 0.40851773, 0.49291373,\n",
       "        0.57730973, 0.66170573, 0.74610173, 0.83049774, 0.91489374,\n",
       "        0.99928974]),\n",
       " <a list of 10 Patch objects>)"
      ]
     },
     "execution_count": 20,
     "metadata": {},
     "output_type": "execute_result"
    },
    {
     "data": {
      "image/png": "[encoded data removed]",
      "text/plain": [
       "<Figure size 432x288 with 1 Axes>"
      ]
     },
     "metadata": {
      "needs_background": "light"
     },
     "output_type": "display_data"
    }
   ],
   "source": [
    "plt.hist(sample)"
   ]
  }
 ],
 "metadata": {
  "kernelspec": {
   "display_name": "Python 3",
   "language": "python",
   "name": "python3"
  },
  "language_info": {
   "codemirror_mode": {
    "name": "ipython",
    "version": 3
   },
   "file_extension": ".py",
   "mimetype": "text/x-python",
   "name": "python",
   "nbconvert_exporter": "python",
   "pygments_lexer": "ipython3",
   "version": "3.7.2"
  }
 },
 "nbformat": 4,
 "nbformat_minor": 2
}
