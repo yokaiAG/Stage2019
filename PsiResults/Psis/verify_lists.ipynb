{
 "cells": [
  {
   "cell_type": "code",
   "execution_count": 18,
   "metadata": {},
   "outputs": [],
   "source": [
    "import numpy as np\n",
    "import networkx as nx\n",
    "import gzip as gz"
   ]
  },
  {
   "cell_type": "markdown",
   "metadata": {},
   "source": [
    "## Create Psis lists"
   ]
  },
  {
   "cell_type": "code",
   "execution_count": 6,
   "metadata": {},
   "outputs": [
    {
     "name": "stdout",
     "output_type": "stream",
     "text": [
      "Nb entrées pour model :  5804715\n"
     ]
    }
   ],
   "source": [
    "psi_model = dict()\n",
    "i=0\n",
    "for line in open(\"Psi_model.txt\"):\n",
    "    line = line.split()\n",
    "    psi_model[int(line[0])] = float(line[1])\n",
    "    i+=1\n",
    "print(\"Nb entrées pour model : \", i)"
   ]
  },
  {
   "cell_type": "code",
   "execution_count": 7,
   "metadata": {},
   "outputs": [
    {
     "name": "stdout",
     "output_type": "stream",
     "text": [
      "Nb entrées pour emul :  3754043\n"
     ]
    }
   ],
   "source": [
    "psi_emul = dict()\n",
    "i = 0\n",
    "for line in open(\"Psi_emul.txt\"):\n",
    "    line = line.split()\n",
    "    psi_emul[int(line[0])] = float(line[1])\n",
    "    i += 1\n",
    "print(\"Nb entrées pour emul : \", i)"
   ]
  },
  {
   "cell_type": "markdown",
   "metadata": {},
   "source": [
    "Are users with psi>0 the same in the 2 lists ?"
   ]
  },
  {
   "cell_type": "code",
   "execution_count": 4,
   "metadata": {},
   "outputs": [
    {
     "data": {
      "text/plain": [
       "True"
      ]
     },
     "execution_count": 4,
     "metadata": {},
     "output_type": "execute_result"
    }
   ],
   "source": [
    "set([u for u in psi_model if psi_model[u]>0]) == set([u for u in psi_emul if psi_emul[u]>0])"
   ]
  },
  {
   "cell_type": "markdown",
   "metadata": {},
   "source": [
    "## Create graph and activity"
   ]
  },
  {
   "cell_type": "markdown",
   "metadata": {},
   "source": [
    "Graph"
   ]
  },
  {
   "cell_type": "code",
   "execution_count": 7,
   "metadata": {},
   "outputs": [],
   "source": [
    "G = nx.DiGraph()\n",
    "\n",
    "# get data\n",
    "tweets = open(\"../wcano_tronc.txt\", 'r')\n",
    "\n",
    "# author dict\n",
    "Author = dict()\n",
    "for tweet in tweets:\n",
    "    tweet = tweet.split()\n",
    "    twid, uid = int(tweet[0]), int(tweet[2])\n",
    "    Author[twid] = uid\n",
    "        \n",
    "# create edges\n",
    "tweets.seek(0)\n",
    "for tweet in tweets:\n",
    "    tweet = tweet.split()\n",
    "    twid, uid, rtid = int(tweet[0]), int(tweet[2]), int(tweet[-1])\n",
    "    if rtid != -1:\n",
    "        if rtid in Author.keys():\n",
    "            G.add_edge(Author[rtid], uid)\n",
    "\n",
    "# close\n",
    "tweets.close()"
   ]
  },
  {
   "cell_type": "markdown",
   "metadata": {},
   "source": [
    "Activity"
   ]
  },
  {
   "cell_type": "code",
   "execution_count": 19,
   "metadata": {},
   "outputs": [
    {
     "ename": "NameError",
     "evalue": "name 'Author' is not defined",
     "output_type": "error",
     "traceback": [
      "\u001b[1;31m---------------------------------------------------------------------------\u001b[0m",
      "\u001b[1;31mNameError\u001b[0m                                 Traceback (most recent call last)",
      "\u001b[1;32m<ipython-input-19-1a0fb85a6d57>\u001b[0m in \u001b[0;36m<module>\u001b[1;34m\u001b[0m\n\u001b[0;32m     10\u001b[0m     \u001b[0muid\u001b[0m\u001b[1;33m,\u001b[0m \u001b[0mrtid\u001b[0m \u001b[1;33m=\u001b[0m \u001b[0mint\u001b[0m\u001b[1;33m(\u001b[0m\u001b[0mtweet\u001b[0m\u001b[1;33m[\u001b[0m\u001b[1;36m2\u001b[0m\u001b[1;33m]\u001b[0m\u001b[1;33m)\u001b[0m\u001b[1;33m,\u001b[0m \u001b[0mint\u001b[0m\u001b[1;33m(\u001b[0m\u001b[0mtweet\u001b[0m\u001b[1;33m[\u001b[0m\u001b[1;33m-\u001b[0m\u001b[1;36m1\u001b[0m\u001b[1;33m]\u001b[0m\u001b[1;33m)\u001b[0m\u001b[1;33m\u001b[0m\u001b[1;33m\u001b[0m\u001b[0m\n\u001b[0;32m     11\u001b[0m \u001b[1;33m\u001b[0m\u001b[0m\n\u001b[1;32m---> 12\u001b[1;33m     \u001b[1;32mif\u001b[0m \u001b[0muid\u001b[0m \u001b[1;33m==\u001b[0m \u001b[1;36m1000001\u001b[0m \u001b[1;32mand\u001b[0m \u001b[0mrtid\u001b[0m \u001b[1;32min\u001b[0m \u001b[0mAuthor\u001b[0m\u001b[1;33m:\u001b[0m\u001b[1;33m\u001b[0m\u001b[1;33m\u001b[0m\u001b[0m\n\u001b[0m\u001b[0;32m     13\u001b[0m         \u001b[0mrt101\u001b[0m\u001b[1;33m.\u001b[0m\u001b[0mappend\u001b[0m\u001b[1;33m(\u001b[0m\u001b[0mAuthor\u001b[0m\u001b[1;33m[\u001b[0m\u001b[0mrtid\u001b[0m\u001b[1;33m]\u001b[0m\u001b[1;33m)\u001b[0m\u001b[1;33m\u001b[0m\u001b[1;33m\u001b[0m\u001b[0m\n\u001b[0;32m     14\u001b[0m     \u001b[1;32melse\u001b[0m\u001b[1;33m:\u001b[0m\u001b[1;33m\u001b[0m\u001b[1;33m\u001b[0m\u001b[0m\n",
      "\u001b[1;31mNameError\u001b[0m: name 'Author' is not defined"
     ]
    }
   ],
   "source": [
    "users = set()\n",
    "count = {'tweets':dict(), 'retweets':dict(), 'retweeted':dict()}\n",
    "tweets = gz.open(\"../tweets.tronques.sorted22n.txt.gz\", 'r')\n",
    "    \n",
    "# parcourt tweets\n",
    "for i,tweet in enumerate(tweets):\n",
    "    tweet = tweet.split()\n",
    "    uid, rtid = int(tweet[2]), int(tweet[-1])\n",
    "\n",
    "    # si user non connu on crée des nouvelles entrées de dictionnaire\n",
    "    if uid not in users:\n",
    "        users.add(uid)\n",
    "        count['tweets'][uid] = 0\n",
    "        count['retweets'][uid] = 0\n",
    "        count['retweeted'][uid] = 0\n",
    "\n",
    "    # si tweet original update nb_tweets\n",
    "    if rtid == -1:\n",
    "        count['tweets'][uid] += 1\n",
    "        \n",
    "    # si retweet\n",
    "    else:\n",
    "        if rtid in Author.keys():\n",
    "            count['retweets'][uid] += 1\n",
    "            rtu = Author[rtid]\n",
    "            if rtu in users:\n",
    "                count['retweeted'][rtu] += 1\n",
    "            else:\n",
    "                count['tweets'][rtu], count['retweets'][rtu], count['retweeted'][rtu] = 0, 0, 1\n",
    "        else:\n",
    "            count['tweets'][uid] += 1\n",
    "\n",
    "    # on enregistre le ts du 1er tweet et celui du dernier tweet (update à chaque étape car tweets pas forcément pas ordre chrono)\n",
    "    ts = int(tweet[1])\n",
    "    if i==0:\n",
    "        first_ts = ts\n",
    "        last_ts = ts\n",
    "    elif ts < first_ts:\n",
    "        first_ts = ts\n",
    "    elif ts > last_ts:\n",
    "        last_ts = ts\n",
    "            \n",
    "\n",
    "total_time = last_ts - first_ts\n",
    "tweets.close()"
   ]
  },
  {
   "cell_type": "markdown",
   "metadata": {},
   "source": [
    "Look at graph stats and activity for users that are not in common between the 2 lists"
   ]
  },
  {
   "cell_type": "code",
   "execution_count": 16,
   "metadata": {},
   "outputs": [],
   "source": [
    "model_not_emul = {'tweets':list(), 'retweets':list(), 'retweeted':list(), 'outdeg':list(), 'indeg':list()}\n",
    "emul_not_model = {'tweets':list(), 'retweets':list(), 'retweeted':list(), 'outdeg':list(), 'indeg':list()}\n",
    "\n",
    "# model not emul\n",
    "for u in psi_model:\n",
    "    if u not in psi_emul:\n",
    "        model_not_emul['tweets'].append(count['tweets'][u])\n",
    "        model_not_emul['retweets'].append(count['retweets'][u])\n",
    "        model_not_emul['retweeted'].append(count['retweeted'][u])\n",
    "        model_not_emul['outdeg'].append(G.out_degree(u))\n",
    "        model_not_emul['indeg'].append(G.in_degree(u))\n",
    "    \n",
    "# emul not model\n",
    "for u in psi_emul:\n",
    "    if u not in psi_model:\n",
    "        emul_not_model['tweets'].append(count['tweets'][u])\n",
    "        emul_not_model['retweets'].append(count['retweets'][u])\n",
    "        emul_not_model['retweeted'].append(count['retweeted'][u])\n",
    "        emul_not_model['outdeg'].append(G.out_degree(u))\n",
    "        emul_not_model['indeg'].append(G.in_degree(u))"
   ]
  },
  {
   "cell_type": "code",
   "execution_count": 20,
   "metadata": {},
   "outputs": [
    {
     "name": "stdout",
     "output_type": "stream",
     "text": [
      "Emul not model :  {'tweets': [], 'retweets': [], 'retweeted': [], 'outdeg': [], 'indeg': []}\n"
     ]
    }
   ],
   "source": [
    "print(\"Emul not model : \", emul_not_model)"
   ]
  },
  {
   "cell_type": "markdown",
   "metadata": {},
   "source": [
    "All erros are entries of model that are not in emul. Stats on them :"
   ]
  },
  {
   "cell_type": "code",
   "execution_count": 23,
   "metadata": {},
   "outputs": [
    {
     "name": "stdout",
     "output_type": "stream",
     "text": [
      "tweets --- Mean 0.0 --- Med 0.0 --- Min 0 --- Max 0\n",
      "retweets --- Mean 1.4520469387595871 --- Med 1.0 --- Min 1 --- Max 219\n",
      "retweeted --- Mean 0.0 --- Med 0.0 --- Min 0 --- Max 0\n",
      "outdeg --- Mean 0.0 --- Med 0.0 --- Min 0 --- Max 0\n",
      "indeg --- Mean 1.2927323335960115 --- Med 1.0 --- Min 1 --- Max 78\n"
     ]
    }
   ],
   "source": [
    "for key in model_not_emul:\n",
    "    print(\"{} --- Mean {} --- Med {} --- Min {} --- Max {}\"\n",
    "          .format(key, np.mean(model_not_emul[key]), np.median(model_not_emul[key]),\n",
    "                 np.min(model_not_emul[key]), np.max(model_not_emul[key])))"
   ]
  },
  {
   "cell_type": "markdown",
   "metadata": {},
   "source": [
    "We see that these problematic users are retweeters only that are never retweeted. Now we check if there are others retweeters-only-never-retweeted users that are in psi_model AND in psi_emul."
   ]
  },
  {
   "cell_type": "code",
   "execution_count": 22,
   "metadata": {},
   "outputs": [
    {
     "name": "stdout",
     "output_type": "stream",
     "text": [
      "There are 0 such users\n"
     ]
    }
   ],
   "source": [
    "i = 0\n",
    "for u in psi_model:\n",
    "    if u not in model_not_emul:\n",
    "        if count['tweets'][u]==0:\n",
    "            if count['retweets'][u]>0:\n",
    "                if count['retweeted'][u]==0:\n",
    "                    if G.out_degree(u)==0:\n",
    "                        if G.in_degree(u)==0:\n",
    "                            i += 1\n",
    "print(\"There are {} such users\".format(i))"
   ]
  },
  {
   "cell_type": "markdown",
   "metadata": {},
   "source": [
    "## Check q for problematic users"
   ]
  },
  {
   "cell_type": "code",
   "execution_count": 20,
   "metadata": {},
   "outputs": [
    {
     "name": "stdout",
     "output_type": "stream",
     "text": [
      "1000001 0.0\n",
      "True\n"
     ]
    },
    {
     "ename": "KeyboardInterrupt",
     "evalue": "",
     "output_type": "error",
     "traceback": [
      "\u001b[1;31m---------------------------------------------------------------------------\u001b[0m",
      "\u001b[1;31mKeyboardInterrupt\u001b[0m                         Traceback (most recent call last)",
      "\u001b[1;32m<ipython-input-20-c58101c508f8>\u001b[0m in \u001b[0;36m<module>\u001b[1;34m\u001b[0m\n\u001b[0;32m      3\u001b[0m         \u001b[0mprint\u001b[0m\u001b[1;33m(\u001b[0m\u001b[0mu\u001b[0m\u001b[1;33m,\u001b[0m \u001b[0mpsi_model\u001b[0m\u001b[1;33m[\u001b[0m\u001b[0mu\u001b[0m\u001b[1;33m]\u001b[0m\u001b[1;33m)\u001b[0m\u001b[1;33m\u001b[0m\u001b[1;33m\u001b[0m\u001b[0m\n\u001b[0;32m      4\u001b[0m \u001b[1;33m\u001b[0m\u001b[0m\n\u001b[1;32m----> 5\u001b[1;33m         \u001b[1;32mfor\u001b[0m \u001b[0minfluence_of\u001b[0m \u001b[1;32min\u001b[0m \u001b[0mopen\u001b[0m\u001b[1;33m(\u001b[0m\u001b[1;34m\"Wcano.qWall.0.5804715\"\u001b[0m\u001b[1;33m)\u001b[0m\u001b[1;33m:\u001b[0m\u001b[1;33m\u001b[0m\u001b[1;33m\u001b[0m\u001b[0m\n\u001b[0m\u001b[0;32m      6\u001b[0m             \u001b[1;32mfor\u001b[0m \u001b[0mitem\u001b[0m \u001b[1;32min\u001b[0m \u001b[0miter\u001b[0m\u001b[1;33m(\u001b[0m\u001b[0minfluence_of\u001b[0m\u001b[1;33m.\u001b[0m\u001b[0msplit\u001b[0m\u001b[1;33m(\u001b[0m\u001b[1;33m)\u001b[0m\u001b[1;33m)\u001b[0m\u001b[1;33m:\u001b[0m\u001b[1;33m\u001b[0m\u001b[1;33m\u001b[0m\u001b[0m\n\u001b[0;32m      7\u001b[0m                 \u001b[1;32mif\u001b[0m \u001b[0mstr\u001b[0m\u001b[1;33m(\u001b[0m\u001b[0mu\u001b[0m\u001b[1;33m)\u001b[0m\u001b[1;33m==\u001b[0m\u001b[0mitem\u001b[0m\u001b[1;33m:\u001b[0m\u001b[1;33m\u001b[0m\u001b[1;33m\u001b[0m\u001b[0m\n",
      "\u001b[1;32mD:\\Anaconda\\lib\\encodings\\cp1252.py\u001b[0m in \u001b[0;36mdecode\u001b[1;34m(self, input, final)\u001b[0m\n\u001b[0;32m     20\u001b[0m \u001b[1;33m\u001b[0m\u001b[0m\n\u001b[0;32m     21\u001b[0m \u001b[1;32mclass\u001b[0m \u001b[0mIncrementalDecoder\u001b[0m\u001b[1;33m(\u001b[0m\u001b[0mcodecs\u001b[0m\u001b[1;33m.\u001b[0m\u001b[0mIncrementalDecoder\u001b[0m\u001b[1;33m)\u001b[0m\u001b[1;33m:\u001b[0m\u001b[1;33m\u001b[0m\u001b[1;33m\u001b[0m\u001b[0m\n\u001b[1;32m---> 22\u001b[1;33m     \u001b[1;32mdef\u001b[0m \u001b[0mdecode\u001b[0m\u001b[1;33m(\u001b[0m\u001b[0mself\u001b[0m\u001b[1;33m,\u001b[0m \u001b[0minput\u001b[0m\u001b[1;33m,\u001b[0m \u001b[0mfinal\u001b[0m\u001b[1;33m=\u001b[0m\u001b[1;32mFalse\u001b[0m\u001b[1;33m)\u001b[0m\u001b[1;33m:\u001b[0m\u001b[1;33m\u001b[0m\u001b[1;33m\u001b[0m\u001b[0m\n\u001b[0m\u001b[0;32m     23\u001b[0m         \u001b[1;32mreturn\u001b[0m \u001b[0mcodecs\u001b[0m\u001b[1;33m.\u001b[0m\u001b[0mcharmap_decode\u001b[0m\u001b[1;33m(\u001b[0m\u001b[0minput\u001b[0m\u001b[1;33m,\u001b[0m\u001b[0mself\u001b[0m\u001b[1;33m.\u001b[0m\u001b[0merrors\u001b[0m\u001b[1;33m,\u001b[0m\u001b[0mdecoding_table\u001b[0m\u001b[1;33m)\u001b[0m\u001b[1;33m[\u001b[0m\u001b[1;36m0\u001b[0m\u001b[1;33m]\u001b[0m\u001b[1;33m\u001b[0m\u001b[1;33m\u001b[0m\u001b[0m\n\u001b[0;32m     24\u001b[0m \u001b[1;33m\u001b[0m\u001b[0m\n",
      "\u001b[1;31mKeyboardInterrupt\u001b[0m: "
     ]
    }
   ],
   "source": [
    "for u in psi_model:\n",
    "    if u not in psi_emul:\n",
    "        print(u, psi_model[u])\n",
    "        \n",
    "        for influence_of in open(\"Wcano.qWall.0.5804715\"):\n",
    "            for item in iter(influence_of.split()):\n",
    "                if str(u)==item:\n",
    "                    print(True)\n",
    "                    break"
   ]
  },
  {
   "cell_type": "markdown",
   "metadata": {},
   "source": [
    "## Compare lists"
   ]
  },
  {
   "cell_type": "code",
   "execution_count": 4,
   "metadata": {},
   "outputs": [],
   "source": [
    "myPsi = list()\n",
    "for line in open(\"Wcano.Psi.0.5804715\", \"r\"):\n",
    "    line = line.split()\n",
    "    myPsi.append((int(line[0]), float(line[1])))"
   ]
  },
  {
   "cell_type": "code",
   "execution_count": 5,
   "metadata": {},
   "outputs": [],
   "source": [
    "myPsi = sorted(myPsi, key=lambda x:x[1], reverse=True)"
   ]
  },
  {
   "cell_type": "code",
   "execution_count": 6,
   "metadata": {},
   "outputs": [
    {
     "data": {
      "text/plain": [
       "[(11604, 0.0354614),\n",
       " (92737, 0.0103674),\n",
       " (11374, 0.00788391),\n",
       " (131389, 0.00677407),\n",
       " (5597, 0.0062115),\n",
       " (17447, 0.00497693),\n",
       " (49933, 0.00495309),\n",
       " (51522, 0.00465352),\n",
       " (22694, 0.00429894),\n",
       " (119142, 0.0042815)]"
      ]
     },
     "execution_count": 6,
     "metadata": {},
     "output_type": "execute_result"
    }
   ],
   "source": [
    "myPsi[:10]"
   ]
  },
  {
   "cell_type": "code",
   "execution_count": 7,
   "metadata": {},
   "outputs": [],
   "source": [
    "oldPsi = list()\n",
    "for line in open(\"Psi_model.txt\", \"r\"):\n",
    "    line = line.split()\n",
    "    oldPsi.append((int(line[0]), float(line[1])))"
   ]
  },
  {
   "cell_type": "code",
   "execution_count": 8,
   "metadata": {},
   "outputs": [],
   "source": [
    "oldPsi = sorted(oldPsi, key=lambda x:x[1], reverse=True)"
   ]
  },
  {
   "cell_type": "code",
   "execution_count": 13,
   "metadata": {},
   "outputs": [
    {
     "data": {
      "text/plain": [
       "5804715"
      ]
     },
     "execution_count": 13,
     "metadata": {},
     "output_type": "execute_result"
    }
   ],
   "source": [
    "len(myPsi)"
   ]
  },
  {
   "cell_type": "code",
   "execution_count": 15,
   "metadata": {},
   "outputs": [],
   "source": [
    "for i,item in enumerate(oldPsi):\n",
    "    monpsi = myPsi[i]\n",
    "    if item != monpsi and item[1] != monpsi[1]:\n",
    "        print(item, monpsi)"
   ]
  },
  {
   "cell_type": "code",
   "execution_count": null,
   "metadata": {},
   "outputs": [],
   "source": []
  }
 ],
 "metadata": {
  "kernelspec": {
   "display_name": "Python 3",
   "language": "python",
   "name": "python3"
  },
  "language_info": {
   "codemirror_mode": {
    "name": "ipython",
    "version": 3
   },
   "file_extension": ".py",
   "mimetype": "text/x-python",
   "name": "python",
   "nbconvert_exporter": "python",
   "pygments_lexer": "ipython3",
   "version": "3.7.2"
  }
 },
 "nbformat": 4,
 "nbformat_minor": 2
}
